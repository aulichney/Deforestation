{
 "cells": [
  {
   "cell_type": "markdown",
   "id": "ba5f3dad",
   "metadata": {},
   "source": [
    "## Notes and Questions\n",
    "- NAs in some cols (especially that data being added) in some areas, confirm this manually\n",
    "- The metrics they use to select their model parameters are metrics for classification, will have to look more into the analogs in regression beyond the standard ones I've done in class\n",
    "- how strictly to follow paper e.g. number trees in random forest\n",
    "\n",
    "- when splitting into test/train noticed that there are different numbers of entries in each municipality, should I split based on data points of number of municipalities-- addressed "
   ]
  },
  {
   "cell_type": "markdown",
   "id": "3cb69bea",
   "metadata": {},
   "source": [
    "## ToDo\n",
    "- merge data from Kathryn\n",
    "- implement neural nets\n",
    "- try running with normalization, standardization, and nothing-- one article I read said that normalization/standardization can actually harm variable importance analysis bc there is some assumption made along the way that features are of the same importance\n",
    "- use gridsearch instead of random grid search eventually\n",
    "- look into computing externally\n"
   ]
  },
  {
   "cell_type": "markdown",
   "id": "867c7b45",
   "metadata": {},
   "source": [
    "## Covariates in Corruption paper \n",
    "1. private sector includes different measures of economic activity and sectoral distributions\n",
    "\n",
    "- Average business establishments size based on employment, number of business establishments, payroll per employee, average business establishments payroll, share of business establishments entering, share of business establishments exiting, business establishments churning, share of private sector workers over population, Hirschman-Herfindahl index based on business establishments size, average growth in business establishments and in employment in past 3 years, share of business establishments below 5 employees, share of business establishments between 5 and 25 employees, share of business establishments above 25 employees, share of business establishments in construction, share of business establishments in retail, share of business establishments in services.\n",
    "\n",
    "2. public sector features include the size, relative importance, and wages of public officials\n",
    "\n",
    "- Share of public sector employees over population, average wage of public sector employees, share of public institutions opening,share of public institutions closing, public institutions churning, share of workers by position within the institution, average growth in public employment and public institutions in past 3 years, share of public sector employees from municipal institutions, number of public institutions, average public institution size based on employment.\n",
    "\n",
    "3. financial development includes measures of credit-related variables from public and private banks\n",
    "\n",
    "- Share of business establishments receiving public loans, number of public loans per business establishment, total public credit per business establishment, average interest rate in public lending, bank branches per capita, banks per capita, total private credit per capita, total deposits per capita, and Hirschman-Herfindahl index based on private banks total assets and based on private banks credit.\n",
    "\n",
    "4. human capital includes measures of education and access to it\n",
    "\n",
    "- Literacy rate, the share of population between 15 and 24 years old that finished, the first, second, and third cycle of primary education (Census), illiteracy rate (Census), average test scores in Portuguese and maths for nationwide tests at 4th and 8th grade, average private sector employees education, average private sector employees education by worker position within the firm, share of unqualified public employees based on job requirements, share of unqualified public employees by position within the institution, average public employees education, average public employees education by position within the institution, number of higher public education institutions per capita, number of higher private education institutions per capita.\n",
    "\n",
    "5. public spending includes different types of spending as well as local procurement variables\n",
    "\n",
    "- Total expenditures per capita, personnel expenditures per capita, budget surplus per capita, total revenue per capita, federal transfers of capital per capita, federal current transfers per capita, transfers from the national tax fund per capita, share of business establishments in the municipality with public procurement, number of contracts per business establishments, federal procurement expenditure over population, share of discretionary contracts, and share of competitive contracts.\n",
    "\n",
    "6. local politics includes variables of political competition and alignment with the central government\n",
    "\n",
    "- Number of candidates, Hirschman-Herfindahl index based on the vote shares, margin of victory between the winner and the runner-up, an indicator for whether the mayor is in his second term, an indicator for whether the mayor’s party is the same as the one of the governor, an indicator for whether the mayor’s party is from the same party as the one of the president, an indicator if the mayor is from right-wing party, an indicator if the mayor is from left-wing party, average candidate campaign donations and expenditures for firms and individuals, and per capita campaign donations and expenditures for firms and individuals.\n",
    "\n",
    "7. local demographics\n",
    "\n",
    "- Population density, GDP per capita, share of population living in rural areas (Census), deaths by aggression, GINI coefficient for income distribution (Census), average night light intensity coverage performing deblurring, inter-calibration, and geometric corrections, local radio, local newspapers, infant mortality rate, child mortality rate, average number of prenatal visits, share of abnormal births, share of underweight births, share of births with more than seven prenatal visits, and share of births with more than four prenatal visits.\n",
    "\n",
    "8. natural resources’ dependency includes the relevance of different natural resources, and finally \n",
    "- Share of business establishments in agriculture and mining sector, share of production of each of the top-7 crops in the country multiplied by the the log change in international prices and share of value of production over GDP (as constructed in Bernstein et al., 2018). The crops included are sugar cane, oranges, soybeans, maize, rice, rice, banana, and wheat, covering more than 98% of total agricultural production."
   ]
  },
  {
   "cell_type": "markdown",
   "id": "101a83ae",
   "metadata": {},
   "source": [
    "## Covariates in Deforestation\n",
    "1. federal politics\n",
    "- \"lula\": Lula government years (2003-2010),\n",
    "- \"dilma\": Dilma government yeras (2011-2016),\n",
    "- \"temer\": Temer interim government (2017-2018),\n",
    "- \"bolsonaro\": Bolsonaro government (2019-2020),\n",
    "- \"fed_election_year\": Years where there was a Federal Election \n",
    "- \"new_forest_code\": years after new forest code (post 2012), --? is this one sorted correctly\n",
    "\n",
    "2. local politics includes variables of political competition and alignment with the central government\n",
    "- \"mun_election_year\": municipal election year,\n",
    "\n",
    "\n",
    "3. local demographics\n",
    "\n",
    "- \"populacao\": Population (I think this is census data so 2000 and 2010),\n",
    "- \"pib_pc\": GDP per capita,\n",
    "- \"indigenous_homol\": pixel is inside an indigenous, homologated territory\n",
    "\n",
    "4. natural resources and economy\n",
    "\n",
    "- \"ironore\": whether the municipality produces ironore,\n",
    "- \"silver\": whether the municipality produces silver,\n",
    "- \"copper\": whether the municipality produces copper,\n",
    "- \"gold\": whether the municipality produces gold,\n",
    "\n",
    "- \"soy_price\": whether the municipality produces soy,\n",
    "- \"beef_price\": whether the municipality produces beef,\n",
    "\n",
    "- \"ag_jobs\": total employment in the agricultural sector,\n",
    "- \"mining_jobs\": total employment in the mining sector,\n",
    "- \"public_jobs\": total employment in the public sector,\n",
    "- \"construction_jobs\": total employment in the construction sector\n",
    "\n",
    "\n",
    "5. non-human related geographic variables\n",
    "- \"rain1\": rainfall,\n",
    "- \"elevation\": elevation (meters above sea level),\n",
    "- \"slope\": slope,\n",
    "- \"aspect\": aspect,\n",
    "- \"near_mines\": distance to nearest mine,\n",
    "- \"near_roads\": distance to nearest road,\n",
    "- \"near_hidrovia\": distance to nearest hydroeletric\n",
    "\n",
    "\n",
    "Adding to be sorted: \n",
    "- illegal mining variables"
   ]
  },
  {
   "cell_type": "markdown",
   "id": "3e45c0d6",
   "metadata": {},
   "source": [
    "## Models\n",
    "- Random Forests-- Implemented\n",
    "    - Corruption Paper: In this application, we keep fixed the number of fitted trees (500) and use cross-validation to determine the optimal number of features available in every node\n",
    "    - Deforestation: will also fit constant number of fitted trees (500) and use cross validation to determine ...\n",
    "- Gradient Boosting -- Implemented\n",
    "    - we keep fixed the learning rate (shrinkage parameter) and the minimum number of observations in the terminal nodes to avoid overfitting, and use cross-validation to determine the optimal number of trees and the interaction depth\n",
    "- Neural Networks \n",
    "    - we keep fixed a logistic activation function and use cross-validation to determine the optimal number of units in the hidden layer (size) and the regularization parameter (decay)\n",
    "- LASSO\n",
    "    - The tuning parameter in the cross-validation is the weight of the penalization term in the objective function (λ), which is optimized over a grid of potential values\n",
    "- Super Learner Ensemble\n",
    "    - we use the Super Learner ensemble method developed by Polley et al. (2011), which finds an optimal combination of individual prediction models by minimizing the cross-validated out-of-bag risk of these predic- tions"
   ]
  },
  {
   "cell_type": "markdown",
   "id": "7e335012",
   "metadata": {},
   "source": [
    "## Protocol\n",
    "- We divide our dataset into 70% as our training set and 30% as our testing set\n",
    "- In our training set, we perform a 5-fold cross-validation procedure in order to train our models and choose the optimal combination of parameters\n",
    "- The previous step is repeated 10 times with different random partitions. Hence, we obtain 10 “optimal parameters” and we use as our optimal parameter the average of them. For the case of integer parameters, we round it to the closest integer\n",
    "- Using these optimal parameters, we assess the performance of our models in the testing set that has never been used for training purposes\n",
    "- We standardize the data by the mean and standard deviation of the training set"
   ]
  },
  {
   "cell_type": "markdown",
   "id": "da8ffde0",
   "metadata": {},
   "source": [
    "## Assessing Models’ Performance\n",
    "- Corruption paper uses as a first performance measure of interest the area under the ROC (Receiver Operating Characteristic) curve (AUC)\n",
    "- Since Deforestation uses regression, will use MSE and R^2\n",
    "- Corruption paper also presents each model’s level of accuracy, which corresponds to the proportion of municipalities correctly predicted as corrupt; models’ precision, which is the proportion of positive identifications that are correct (or true positives over true positives plus false positives); models’ recall, which is the proportion of actual positives identified correctly (true positives over true positives plus false negatives), and models’ F1, which is the harmonic mean of precision and recall"
   ]
  },
  {
   "cell_type": "code",
   "execution_count": 245,
   "id": "10c662d1",
   "metadata": {},
   "outputs": [],
   "source": [
    "#general\n",
    "import pyreadr\n",
    "import pandas as pd\n",
    "import sklearn\n",
    "import numpy as np\n",
    "import random\n",
    "\n",
    "\n",
    "from sklearn.preprocessing import StandardScaler\n",
    "from sklearn.model_selection import train_test_split\n",
    "from sklearn import metrics\n",
    "from sklearn.model_selection import cross_val_score\n",
    "from sklearn.model_selection import RepeatedKFold\n",
    "from sklearn.model_selection import RandomizedSearchCV\n",
    "\n",
    "#random forests\n",
    "from sklearn.datasets import make_regression\n",
    "from sklearn.ensemble import RandomForestRegressor\n",
    "\n",
    "#gradient boosting\n",
    "from sklearn.pipeline import make_pipeline\n",
    "from sklearn.ensemble import GradientBoostingRegressor\n",
    "from sklearn.decomposition import PCA\n",
    "from sklearn.metrics import mean_squared_error\n",
    "\n",
    "#plotting\n",
    "import matplotlib.pyplot as plt\n",
    "from mpl_toolkits.mplot3d import Axes3D\n",
    "import seaborn as sns"
   ]
  },
  {
   "cell_type": "markdown",
   "id": "4e412c4f",
   "metadata": {},
   "source": [
    "## Get Data"
   ]
  },
  {
   "cell_type": "code",
   "execution_count": 246,
   "id": "6f27ac2a",
   "metadata": {},
   "outputs": [],
   "source": [
    "result = pyreadr.read_r('/Users/annieulichney/Desktop/Deforestation/analysis.Rdata') #read R dataframe into Python\n",
    "df1 = pd.DataFrame(result['forest_full'])\n",
    "df = df1.sample(10000) #trim because this frame is quite large, test that all runs before doing entire dataset!"
   ]
  },
  {
   "cell_type": "code",
   "execution_count": 247,
   "id": "2894d6a5",
   "metadata": {},
   "outputs": [],
   "source": [
    "df = df1.sample(10000)"
   ]
  },
  {
   "cell_type": "code",
   "execution_count": 248,
   "id": "00a6dc71",
   "metadata": {},
   "outputs": [],
   "source": [
    "#drop these variables since they are the source of information leakage, forest difference and nearest neighbor interpolation\n",
    "df = df.drop(['nn_forest.l', 'forest.diff', 'FID', 'x', 'y'], axis = 1)"
   ]
  },
  {
   "cell_type": "code",
   "execution_count": 249,
   "id": "9de7ef96",
   "metadata": {},
   "outputs": [
    {
     "data": {
      "text/html": [
       "<div>\n",
       "<style scoped>\n",
       "    .dataframe tbody tr th:only-of-type {\n",
       "        vertical-align: middle;\n",
       "    }\n",
       "\n",
       "    .dataframe tbody tr th {\n",
       "        vertical-align: top;\n",
       "    }\n",
       "\n",
       "    .dataframe thead th {\n",
       "        text-align: right;\n",
       "    }\n",
       "</style>\n",
       "<table border=\"1\" class=\"dataframe\">\n",
       "  <thead>\n",
       "    <tr style=\"text-align: right;\">\n",
       "      <th></th>\n",
       "      <th>ID</th>\n",
       "      <th>year</th>\n",
       "      <th>forest.l</th>\n",
       "      <th>rain1</th>\n",
       "      <th>elevation</th>\n",
       "      <th>slope</th>\n",
       "      <th>aspect</th>\n",
       "      <th>near_mines</th>\n",
       "      <th>near_roads</th>\n",
       "      <th>near_hidrovia</th>\n",
       "      <th>...</th>\n",
       "      <th>ironore</th>\n",
       "      <th>silver</th>\n",
       "      <th>copper</th>\n",
       "      <th>gold</th>\n",
       "      <th>soy_price</th>\n",
       "      <th>beef_price</th>\n",
       "      <th>ag_jobs</th>\n",
       "      <th>mining_jobs</th>\n",
       "      <th>public_jobs</th>\n",
       "      <th>construction_jobs</th>\n",
       "    </tr>\n",
       "  </thead>\n",
       "  <tbody>\n",
       "    <tr>\n",
       "      <th>974004</th>\n",
       "      <td>1100122</td>\n",
       "      <td>2008</td>\n",
       "      <td>46.0</td>\n",
       "      <td>24.96527</td>\n",
       "      <td>145.0</td>\n",
       "      <td>1.0</td>\n",
       "      <td>282.0</td>\n",
       "      <td>130845.20</td>\n",
       "      <td>18616.81</td>\n",
       "      <td>2197.978</td>\n",
       "      <td>...</td>\n",
       "      <td>155.990005</td>\n",
       "      <td>4.822650e+05</td>\n",
       "      <td>6955.879883</td>\n",
       "      <td>28026348.0</td>\n",
       "      <td>452.942519</td>\n",
       "      <td>121.103472</td>\n",
       "      <td>5.729911</td>\n",
       "      <td>2.591516</td>\n",
       "      <td>13.332020</td>\n",
       "      <td>4.291275</td>\n",
       "    </tr>\n",
       "    <tr>\n",
       "      <th>1755809</th>\n",
       "      <td>5101407</td>\n",
       "      <td>2012</td>\n",
       "      <td>72.0</td>\n",
       "      <td>27.43566</td>\n",
       "      <td>390.0</td>\n",
       "      <td>1.0</td>\n",
       "      <td>50.0</td>\n",
       "      <td>54799.12</td>\n",
       "      <td>77950.45</td>\n",
       "      <td>158878.800</td>\n",
       "      <td>...</td>\n",
       "      <td>128.500000</td>\n",
       "      <td>1.001182e+06</td>\n",
       "      <td>7962.350098</td>\n",
       "      <td>53676740.0</td>\n",
       "      <td>537.761837</td>\n",
       "      <td>187.942903</td>\n",
       "      <td>46.477924</td>\n",
       "      <td>0.438153</td>\n",
       "      <td>21.199865</td>\n",
       "      <td>1.584092</td>\n",
       "    </tr>\n",
       "    <tr>\n",
       "      <th>492142</th>\n",
       "      <td>1101468</td>\n",
       "      <td>2005</td>\n",
       "      <td>70.0</td>\n",
       "      <td>23.10492</td>\n",
       "      <td>177.0</td>\n",
       "      <td>0.0</td>\n",
       "      <td>257.0</td>\n",
       "      <td>104464.90</td>\n",
       "      <td>68369.68</td>\n",
       "      <td>58380.090</td>\n",
       "      <td>...</td>\n",
       "      <td>65.000000</td>\n",
       "      <td>2.350238e+05</td>\n",
       "      <td>3678.879883</td>\n",
       "      <td>14302051.0</td>\n",
       "      <td>223.150343</td>\n",
       "      <td>118.729167</td>\n",
       "      <td>43.111111</td>\n",
       "      <td>0.000000</td>\n",
       "      <td>50.666667</td>\n",
       "      <td>0.000000</td>\n",
       "    </tr>\n",
       "    <tr>\n",
       "      <th>1982392</th>\n",
       "      <td>1302207</td>\n",
       "      <td>2014</td>\n",
       "      <td>97.0</td>\n",
       "      <td>42.75696</td>\n",
       "      <td>98.0</td>\n",
       "      <td>0.0</td>\n",
       "      <td>34.0</td>\n",
       "      <td>171337.00</td>\n",
       "      <td>236514.60</td>\n",
       "      <td>39122.070</td>\n",
       "      <td>...</td>\n",
       "      <td>96.949997</td>\n",
       "      <td>6.131196e+05</td>\n",
       "      <td>6863.399902</td>\n",
       "      <td>40689660.0</td>\n",
       "      <td>457.813519</td>\n",
       "      <td>224.058434</td>\n",
       "      <td>0.330033</td>\n",
       "      <td>0.000000</td>\n",
       "      <td>98.184818</td>\n",
       "      <td>0.000000</td>\n",
       "    </tr>\n",
       "    <tr>\n",
       "      <th>2417922</th>\n",
       "      <td>5106422</td>\n",
       "      <td>2016</td>\n",
       "      <td>82.0</td>\n",
       "      <td>28.38340</td>\n",
       "      <td>339.0</td>\n",
       "      <td>1.0</td>\n",
       "      <td>228.0</td>\n",
       "      <td>78506.34</td>\n",
       "      <td>135284.60</td>\n",
       "      <td>76513.370</td>\n",
       "      <td>...</td>\n",
       "      <td>58.419998</td>\n",
       "      <td>5.513896e+05</td>\n",
       "      <td>4867.899902</td>\n",
       "      <td>40156276.0</td>\n",
       "      <td>362.706821</td>\n",
       "      <td>178.208263</td>\n",
       "      <td>11.656672</td>\n",
       "      <td>3.073463</td>\n",
       "      <td>32.271364</td>\n",
       "      <td>2.736132</td>\n",
       "    </tr>\n",
       "  </tbody>\n",
       "</table>\n",
       "<p>5 rows × 30 columns</p>\n",
       "</div>"
      ],
      "text/plain": [
       "              ID  year  forest.l     rain1  elevation  slope  aspect  \\\n",
       "974004   1100122  2008      46.0  24.96527      145.0    1.0   282.0   \n",
       "1755809  5101407  2012      72.0  27.43566      390.0    1.0    50.0   \n",
       "492142   1101468  2005      70.0  23.10492      177.0    0.0   257.0   \n",
       "1982392  1302207  2014      97.0  42.75696       98.0    0.0    34.0   \n",
       "2417922  5106422  2016      82.0  28.38340      339.0    1.0   228.0   \n",
       "\n",
       "         near_mines  near_roads  near_hidrovia  ...     ironore        silver  \\\n",
       "974004    130845.20    18616.81       2197.978  ...  155.990005  4.822650e+05   \n",
       "1755809    54799.12    77950.45     158878.800  ...  128.500000  1.001182e+06   \n",
       "492142    104464.90    68369.68      58380.090  ...   65.000000  2.350238e+05   \n",
       "1982392   171337.00   236514.60      39122.070  ...   96.949997  6.131196e+05   \n",
       "2417922    78506.34   135284.60      76513.370  ...   58.419998  5.513896e+05   \n",
       "\n",
       "              copper        gold   soy_price  beef_price    ag_jobs  \\\n",
       "974004   6955.879883  28026348.0  452.942519  121.103472   5.729911   \n",
       "1755809  7962.350098  53676740.0  537.761837  187.942903  46.477924   \n",
       "492142   3678.879883  14302051.0  223.150343  118.729167  43.111111   \n",
       "1982392  6863.399902  40689660.0  457.813519  224.058434   0.330033   \n",
       "2417922  4867.899902  40156276.0  362.706821  178.208263  11.656672   \n",
       "\n",
       "         mining_jobs  public_jobs  construction_jobs  \n",
       "974004      2.591516    13.332020           4.291275  \n",
       "1755809     0.438153    21.199865           1.584092  \n",
       "492142      0.000000    50.666667           0.000000  \n",
       "1982392     0.000000    98.184818           0.000000  \n",
       "2417922     3.073463    32.271364           2.736132  \n",
       "\n",
       "[5 rows x 30 columns]"
      ]
     },
     "execution_count": 249,
     "metadata": {},
     "output_type": "execute_result"
    }
   ],
   "source": [
    "df.head()"
   ]
  },
  {
   "cell_type": "markdown",
   "id": "58303015",
   "metadata": {},
   "source": [
    "### Add illegal mining data by municipality"
   ]
  },
  {
   "cell_type": "code",
   "execution_count": 320,
   "id": "64dcada2",
   "metadata": {},
   "outputs": [
    {
     "data": {
      "text/html": [
       "<div>\n",
       "<style scoped>\n",
       "    .dataframe tbody tr th:only-of-type {\n",
       "        vertical-align: middle;\n",
       "    }\n",
       "\n",
       "    .dataframe tbody tr th {\n",
       "        vertical-align: top;\n",
       "    }\n",
       "\n",
       "    .dataframe thead th {\n",
       "        text-align: right;\n",
       "    }\n",
       "</style>\n",
       "<table border=\"1\" class=\"dataframe\">\n",
       "  <thead>\n",
       "    <tr style=\"text-align: right;\">\n",
       "      <th></th>\n",
       "      <th>year</th>\n",
       "      <th>state</th>\n",
       "      <th>city</th>\n",
       "      <th>munic_id</th>\n",
       "      <th>term</th>\n",
       "      <th>illegal_mining</th>\n",
       "      <th>illegal_other</th>\n",
       "      <th>illegal_industry</th>\n",
       "      <th>matchlabel</th>\n",
       "    </tr>\n",
       "  </thead>\n",
       "  <tbody>\n",
       "  </tbody>\n",
       "</table>\n",
       "</div>"
      ],
      "text/plain": [
       "Empty DataFrame\n",
       "Columns: [year, state, city, munic_id, term, illegal_mining, illegal_other, illegal_industry, matchlabel]\n",
       "Index: []"
      ]
     },
     "execution_count": 320,
     "metadata": {},
     "output_type": "execute_result"
    }
   ],
   "source": [
    "illegal_mine[(illegal_mine.year==2012) & (illegal_mine.munic_id == 5101407)]"
   ]
  },
  {
   "cell_type": "code",
   "execution_count": 314,
   "id": "5f5be4ba",
   "metadata": {},
   "outputs": [
    {
     "data": {
      "text/html": [
       "<div>\n",
       "<style scoped>\n",
       "    .dataframe tbody tr th:only-of-type {\n",
       "        vertical-align: middle;\n",
       "    }\n",
       "\n",
       "    .dataframe tbody tr th {\n",
       "        vertical-align: top;\n",
       "    }\n",
       "\n",
       "    .dataframe thead th {\n",
       "        text-align: right;\n",
       "    }\n",
       "</style>\n",
       "<table border=\"1\" class=\"dataframe\">\n",
       "  <thead>\n",
       "    <tr style=\"text-align: right;\">\n",
       "      <th></th>\n",
       "      <th>ID</th>\n",
       "      <th>year</th>\n",
       "      <th>forest.l</th>\n",
       "      <th>rain1</th>\n",
       "      <th>elevation</th>\n",
       "      <th>slope</th>\n",
       "      <th>aspect</th>\n",
       "      <th>near_mines</th>\n",
       "      <th>near_roads</th>\n",
       "      <th>near_hidrovia</th>\n",
       "      <th>...</th>\n",
       "      <th>soy_price</th>\n",
       "      <th>beef_price</th>\n",
       "      <th>ag_jobs</th>\n",
       "      <th>mining_jobs</th>\n",
       "      <th>public_jobs</th>\n",
       "      <th>construction_jobs</th>\n",
       "      <th>illegal_mining</th>\n",
       "      <th>illegal_other</th>\n",
       "      <th>illegal_industry</th>\n",
       "      <th>matchlabel</th>\n",
       "    </tr>\n",
       "  </thead>\n",
       "  <tbody>\n",
       "    <tr>\n",
       "      <th>0</th>\n",
       "      <td>1100122</td>\n",
       "      <td>2008</td>\n",
       "      <td>46.0</td>\n",
       "      <td>24.96527</td>\n",
       "      <td>145.0</td>\n",
       "      <td>1.0</td>\n",
       "      <td>282.0</td>\n",
       "      <td>130845.20</td>\n",
       "      <td>18616.81</td>\n",
       "      <td>2197.978</td>\n",
       "      <td>...</td>\n",
       "      <td>452.942519</td>\n",
       "      <td>121.103472</td>\n",
       "      <td>5.729911</td>\n",
       "      <td>2.591516</td>\n",
       "      <td>13.332020</td>\n",
       "      <td>4.291275</td>\n",
       "      <td>NaN</td>\n",
       "      <td>NaN</td>\n",
       "      <td>NaN</td>\n",
       "      <td>20081100122</td>\n",
       "    </tr>\n",
       "    <tr>\n",
       "      <th>1</th>\n",
       "      <td>5101407</td>\n",
       "      <td>2012</td>\n",
       "      <td>72.0</td>\n",
       "      <td>27.43566</td>\n",
       "      <td>390.0</td>\n",
       "      <td>1.0</td>\n",
       "      <td>50.0</td>\n",
       "      <td>54799.12</td>\n",
       "      <td>77950.45</td>\n",
       "      <td>158878.800</td>\n",
       "      <td>...</td>\n",
       "      <td>537.761837</td>\n",
       "      <td>187.942903</td>\n",
       "      <td>46.477924</td>\n",
       "      <td>0.438153</td>\n",
       "      <td>21.199865</td>\n",
       "      <td>1.584092</td>\n",
       "      <td>NaN</td>\n",
       "      <td>NaN</td>\n",
       "      <td>NaN</td>\n",
       "      <td>20125101407</td>\n",
       "    </tr>\n",
       "    <tr>\n",
       "      <th>2</th>\n",
       "      <td>1101468</td>\n",
       "      <td>2005</td>\n",
       "      <td>70.0</td>\n",
       "      <td>23.10492</td>\n",
       "      <td>177.0</td>\n",
       "      <td>0.0</td>\n",
       "      <td>257.0</td>\n",
       "      <td>104464.90</td>\n",
       "      <td>68369.68</td>\n",
       "      <td>58380.090</td>\n",
       "      <td>...</td>\n",
       "      <td>223.150343</td>\n",
       "      <td>118.729167</td>\n",
       "      <td>43.111111</td>\n",
       "      <td>0.000000</td>\n",
       "      <td>50.666667</td>\n",
       "      <td>0.000000</td>\n",
       "      <td>NaN</td>\n",
       "      <td>NaN</td>\n",
       "      <td>NaN</td>\n",
       "      <td>20051101468</td>\n",
       "    </tr>\n",
       "    <tr>\n",
       "      <th>3</th>\n",
       "      <td>1302207</td>\n",
       "      <td>2014</td>\n",
       "      <td>97.0</td>\n",
       "      <td>42.75696</td>\n",
       "      <td>98.0</td>\n",
       "      <td>0.0</td>\n",
       "      <td>34.0</td>\n",
       "      <td>171337.00</td>\n",
       "      <td>236514.60</td>\n",
       "      <td>39122.070</td>\n",
       "      <td>...</td>\n",
       "      <td>457.813519</td>\n",
       "      <td>224.058434</td>\n",
       "      <td>0.330033</td>\n",
       "      <td>0.000000</td>\n",
       "      <td>98.184818</td>\n",
       "      <td>0.000000</td>\n",
       "      <td>NaN</td>\n",
       "      <td>NaN</td>\n",
       "      <td>NaN</td>\n",
       "      <td>20141302207</td>\n",
       "    </tr>\n",
       "    <tr>\n",
       "      <th>4</th>\n",
       "      <td>5106422</td>\n",
       "      <td>2016</td>\n",
       "      <td>82.0</td>\n",
       "      <td>28.38340</td>\n",
       "      <td>339.0</td>\n",
       "      <td>1.0</td>\n",
       "      <td>228.0</td>\n",
       "      <td>78506.34</td>\n",
       "      <td>135284.60</td>\n",
       "      <td>76513.370</td>\n",
       "      <td>...</td>\n",
       "      <td>362.706821</td>\n",
       "      <td>178.208263</td>\n",
       "      <td>11.656672</td>\n",
       "      <td>3.073463</td>\n",
       "      <td>32.271364</td>\n",
       "      <td>2.736132</td>\n",
       "      <td>4576.040427</td>\n",
       "      <td>0.0</td>\n",
       "      <td>0.0</td>\n",
       "      <td>20165106422</td>\n",
       "    </tr>\n",
       "  </tbody>\n",
       "</table>\n",
       "<p>5 rows × 34 columns</p>\n",
       "</div>"
      ],
      "text/plain": [
       "        ID  year  forest.l     rain1  elevation  slope  aspect  near_mines  \\\n",
       "0  1100122  2008      46.0  24.96527      145.0    1.0   282.0   130845.20   \n",
       "1  5101407  2012      72.0  27.43566      390.0    1.0    50.0    54799.12   \n",
       "2  1101468  2005      70.0  23.10492      177.0    0.0   257.0   104464.90   \n",
       "3  1302207  2014      97.0  42.75696       98.0    0.0    34.0   171337.00   \n",
       "4  5106422  2016      82.0  28.38340      339.0    1.0   228.0    78506.34   \n",
       "\n",
       "   near_roads  near_hidrovia  ...   soy_price  beef_price    ag_jobs  \\\n",
       "0    18616.81       2197.978  ...  452.942519  121.103472   5.729911   \n",
       "1    77950.45     158878.800  ...  537.761837  187.942903  46.477924   \n",
       "2    68369.68      58380.090  ...  223.150343  118.729167  43.111111   \n",
       "3   236514.60      39122.070  ...  457.813519  224.058434   0.330033   \n",
       "4   135284.60      76513.370  ...  362.706821  178.208263  11.656672   \n",
       "\n",
       "   mining_jobs  public_jobs  construction_jobs  illegal_mining  illegal_other  \\\n",
       "0     2.591516    13.332020           4.291275             NaN            NaN   \n",
       "1     0.438153    21.199865           1.584092             NaN            NaN   \n",
       "2     0.000000    50.666667           0.000000             NaN            NaN   \n",
       "3     0.000000    98.184818           0.000000             NaN            NaN   \n",
       "4     3.073463    32.271364           2.736132     4576.040427            0.0   \n",
       "\n",
       "   illegal_industry   matchlabel  \n",
       "0               NaN  20081100122  \n",
       "1               NaN  20125101407  \n",
       "2               NaN  20051101468  \n",
       "3               NaN  20141302207  \n",
       "4               0.0  20165106422  \n",
       "\n",
       "[5 rows x 34 columns]"
      ]
     },
     "execution_count": 314,
     "metadata": {},
     "output_type": "execute_result"
    }
   ],
   "source": [
    "df.head()"
   ]
  },
  {
   "cell_type": "code",
   "execution_count": 313,
   "id": "264e59a8",
   "metadata": {},
   "outputs": [],
   "source": [
    "illegal_mine = pd.read_csv('/Users/annieulichney/Library/CloudStorage/Box-Box/Deforestation_MachineLearning/Data/CSV/illegal_mining.csv')\n",
    "\n",
    "#create cols to merge on that are year+munic\n",
    "df['matchlabel'] = [i + j for i, j in zip(df.year.values.astype(str), df.ID.values.astype(str))]\n",
    "illegal_mine['matchlabel'] = [i + j for i, j in zip(illegal_mine.year.values.astype(str), illegal_mine.munic_id.values.astype(str))]"
   ]
  },
  {
   "cell_type": "code",
   "execution_count": 308,
   "id": "9ac1478a",
   "metadata": {},
   "outputs": [],
   "source": [
    "df = df.merge(illegal_mine, on = 'matchlabel', how='left')"
   ]
  },
  {
   "cell_type": "code",
   "execution_count": 309,
   "id": "41ea9f4a",
   "metadata": {},
   "outputs": [
    {
     "data": {
      "text/plain": [
       "0.2334"
      ]
     },
     "execution_count": 309,
     "metadata": {},
     "output_type": "execute_result"
    }
   ],
   "source": [
    "cols_to_drop = ['matchlabel', 'year_y', 'state', 'city','munic_id', 'term']\n",
    "df = df.drop(cols_to_drop, axis = 1)\n",
    "\n",
    "#print percent that we could actually fill in with this data\n",
    "np.sum(df.illegal_mining.notna())/df.shape[0]"
   ]
  },
  {
   "cell_type": "code",
   "execution_count": 310,
   "id": "52274e8c",
   "metadata": {},
   "outputs": [],
   "source": [
    "#this loop checks that there is some matching being done\n",
    "#check = []\n",
    "#list_dfid = list(df.matchlabel)\n",
    "#for element in list(illegal_mine.matchlabel):\n",
    "#    check.append(element in list_dfid)"
   ]
  },
  {
   "cell_type": "code",
   "execution_count": 311,
   "id": "02774024",
   "metadata": {},
   "outputs": [],
   "source": [
    "#rename columns\n",
    "df.columns = ['ID','year', 'forest.l', 'rain1', 'elevation',\n",
    "       'slope', 'aspect', 'near_mines', 'near_roads', 'near_hidrovia',\n",
    "       'indigenous_homol', 'mun_election_year', 'new_forest_code', 'lula',\n",
    "       'dilma', 'temer', 'bolsonaro', 'fed_election_year', 'populacao',\n",
    "       'pib_pc', 'ironore', 'silver', 'copper', 'gold', 'soy_price',\n",
    "       'beef_price', 'ag_jobs', 'mining_jobs', 'public_jobs',\n",
    "       'construction_jobs', 'illegal_mining', 'illegal_other',\n",
    "       'illegal_industry']"
   ]
  },
  {
   "cell_type": "code",
   "execution_count": 255,
   "id": "badb93b6",
   "metadata": {},
   "outputs": [],
   "source": [
    "#for now, need to do more cleaning before adding to models below\n",
    "#later this part will be deleted\n",
    "df = df[['ID','year', 'forest.l', 'rain1', 'elevation',\n",
    "       'slope', 'aspect', 'near_mines', 'near_roads', 'near_hidrovia',\n",
    "       'indigenous_homol', 'mun_election_year', 'new_forest_code', 'lula',\n",
    "       'dilma', 'temer', 'bolsonaro', 'fed_election_year', 'populacao',\n",
    "       'pib_pc', 'ironore', 'silver', 'copper', 'gold', 'soy_price',\n",
    "       'beef_price', 'ag_jobs', 'mining_jobs', 'public_jobs',\n",
    "       'construction_jobs']]"
   ]
  },
  {
   "cell_type": "markdown",
   "id": "d8c7a354",
   "metadata": {},
   "source": [
    "## Test Train Split Based on Municipalities"
   ]
  },
  {
   "cell_type": "code",
   "execution_count": 256,
   "id": "b50e8544",
   "metadata": {},
   "outputs": [
    {
     "data": {
      "text/plain": [
       "ID\n",
       "1100015    3480\n",
       "1100023    2085\n",
       "1100031     704\n",
       "1100049    1815\n",
       "1100056    1425\n",
       "           ... \n",
       "5108808     540\n",
       "5108857     930\n",
       "5108907    5760\n",
       "5108956    2535\n",
       "5204904      15\n",
       "Length: 770, dtype: int64"
      ]
     },
     "execution_count": 256,
     "metadata": {},
     "output_type": "execute_result"
    }
   ],
   "source": [
    "#observe that there are diff numbers of entries in each mun, will get 30% of rows instead of 30% of muns\n",
    "df1.groupby(['ID']).size()"
   ]
  },
  {
   "cell_type": "code",
   "execution_count": 257,
   "id": "3f353dcb",
   "metadata": {},
   "outputs": [],
   "source": [
    "#there are 770 municipalities included in the whole set \n",
    "all_muns = np.unique(df['ID'])\n",
    "num_mun = len(all_muns)"
   ]
  },
  {
   "cell_type": "code",
   "execution_count": 258,
   "id": "c9133b0b",
   "metadata": {},
   "outputs": [],
   "source": [
    "#30% of the municipalities will be used to test, others for train\n",
    "\n",
    "num_test = int(round(0.3*num_mun, 0))\n",
    "num_train = num_mun - num_test\n",
    "\n",
    "test_split_threshold = int(round(0.3*df.shape[0], 0))"
   ]
  },
  {
   "cell_type": "code",
   "execution_count": 259,
   "id": "4dd381ee",
   "metadata": {},
   "outputs": [],
   "source": [
    "#randomly select num_test muns to test on, the rest are for training\n",
    "\n",
    "train_mun = list(all_muns)\n",
    "test_mun = []\n",
    "\n",
    "num_rows_test = 0\n",
    "\n",
    "while num_rows_test < test_split_threshold:\n",
    "\n",
    "    this_mun = np.random.choice(np.array(train_mun))\n",
    "    train_mun.remove(this_mun)\n",
    "    test_mun.append(this_mun)\n",
    "    \n",
    "    df_test = df[df['ID'].isin(test_mun)]\n",
    "    \n",
    "    num_rows_test = df_test.shape[0]\n",
    "    \n",
    "    "
   ]
  },
  {
   "cell_type": "code",
   "execution_count": 260,
   "id": "296d8935",
   "metadata": {},
   "outputs": [],
   "source": [
    "#get the complementary train set \n",
    "df_train = df[df['ID'].isin(train_mun)]"
   ]
  },
  {
   "cell_type": "code",
   "execution_count": 261,
   "id": "23523579",
   "metadata": {},
   "outputs": [
    {
     "data": {
      "text/plain": [
       "0.3001"
      ]
     },
     "execution_count": 261,
     "metadata": {},
     "output_type": "execute_result"
    }
   ],
   "source": [
    "#check to see how much of the data is in the test set\n",
    "df_test.shape[0]/(df_test.shape[0] + df_train.shape[0])"
   ]
  },
  {
   "cell_type": "code",
   "execution_count": 262,
   "id": "3dbf18ef",
   "metadata": {},
   "outputs": [
    {
     "data": {
      "text/plain": [
       "10000"
      ]
     },
     "execution_count": 262,
     "metadata": {},
     "output_type": "execute_result"
    }
   ],
   "source": [
    "df_test.shape[0] + df_train.shape[0]"
   ]
  },
  {
   "cell_type": "code",
   "execution_count": 263,
   "id": "bfabd43f",
   "metadata": {},
   "outputs": [],
   "source": [
    "#make sure we correctly split into disjoint sets\n",
    "for mun in train_mun: \n",
    "    if mun in test_mun:\n",
    "        print('Fail')\n",
    "        \n",
    "for mun in test_mun: \n",
    "    if mun in train_mun:\n",
    "        print('Fail')"
   ]
  },
  {
   "cell_type": "code",
   "execution_count": 264,
   "id": "4452c058",
   "metadata": {},
   "outputs": [
    {
     "data": {
      "text/plain": [
       "True"
      ]
     },
     "execution_count": 264,
     "metadata": {},
     "output_type": "execute_result"
    }
   ],
   "source": [
    "#make sure have same cols\n",
    "df_train.shape[1] == df_test.shape[1]"
   ]
  },
  {
   "cell_type": "code",
   "execution_count": 265,
   "id": "f01c5742",
   "metadata": {},
   "outputs": [],
   "source": [
    "#let's visualize the split to make sure they're completely disjoin\n",
    "\n",
    "df_train_copy = df_train.copy()\n",
    "df_test_copy = df_test.copy()\n",
    "\n",
    "df_train_copy['test.train'] = 'train'\n",
    "df_test_copy['test.train'] = 'test'\n"
   ]
  },
  {
   "cell_type": "code",
   "execution_count": 266,
   "id": "24aa0ad0",
   "metadata": {},
   "outputs": [],
   "source": [
    "#make sure they have all the same columns then merge\n",
    "sum(df_train_copy.columns == df_test_copy.columns) == df_test_copy.shape[1]\n",
    "merged_df = pd.concat([df_train_copy, df_test_copy], axis=0)\n",
    "\n"
   ]
  },
  {
   "cell_type": "code",
   "execution_count": 267,
   "id": "e915f044",
   "metadata": {},
   "outputs": [
    {
     "data": {
      "text/plain": [
       "Index(['ID', 'year', 'forest.l', 'rain1', 'elevation', 'slope', 'aspect',\n",
       "       'near_mines', 'near_roads', 'near_hidrovia', 'indigenous_homol',\n",
       "       'mun_election_year', 'new_forest_code', 'lula', 'dilma', 'temer',\n",
       "       'bolsonaro', 'fed_election_year', 'populacao', 'pib_pc', 'ironore',\n",
       "       'silver', 'copper', 'gold', 'soy_price', 'beef_price', 'ag_jobs',\n",
       "       'mining_jobs', 'public_jobs', 'construction_jobs', 'test.train'],\n",
       "      dtype='object')"
      ]
     },
     "execution_count": 267,
     "metadata": {},
     "output_type": "execute_result"
    }
   ],
   "source": [
    "merged_df.columns"
   ]
  },
  {
   "cell_type": "code",
   "execution_count": 268,
   "id": "327ee097",
   "metadata": {},
   "outputs": [
    {
     "data": {
      "text/html": [
       "<div>\n",
       "<style scoped>\n",
       "    .dataframe tbody tr th:only-of-type {\n",
       "        vertical-align: middle;\n",
       "    }\n",
       "\n",
       "    .dataframe tbody tr th {\n",
       "        vertical-align: top;\n",
       "    }\n",
       "\n",
       "    .dataframe thead th {\n",
       "        text-align: right;\n",
       "    }\n",
       "</style>\n",
       "<table border=\"1\" class=\"dataframe\">\n",
       "  <thead>\n",
       "    <tr style=\"text-align: right;\">\n",
       "      <th></th>\n",
       "      <th>ID</th>\n",
       "      <th>year</th>\n",
       "      <th>forest.l</th>\n",
       "      <th>rain1</th>\n",
       "      <th>elevation</th>\n",
       "      <th>slope</th>\n",
       "      <th>aspect</th>\n",
       "      <th>near_mines</th>\n",
       "      <th>near_roads</th>\n",
       "      <th>near_hidrovia</th>\n",
       "      <th>...</th>\n",
       "      <th>silver</th>\n",
       "      <th>copper</th>\n",
       "      <th>gold</th>\n",
       "      <th>soy_price</th>\n",
       "      <th>beef_price</th>\n",
       "      <th>ag_jobs</th>\n",
       "      <th>mining_jobs</th>\n",
       "      <th>public_jobs</th>\n",
       "      <th>construction_jobs</th>\n",
       "      <th>test.train</th>\n",
       "    </tr>\n",
       "  </thead>\n",
       "  <tbody>\n",
       "    <tr>\n",
       "      <th>34</th>\n",
       "      <td>1100205</td>\n",
       "      <td>2015</td>\n",
       "      <td>97.0</td>\n",
       "      <td>25.89348</td>\n",
       "      <td>176.0</td>\n",
       "      <td>1.0</td>\n",
       "      <td>93.0</td>\n",
       "      <td>144390.10</td>\n",
       "      <td>27651.47</td>\n",
       "      <td>35334.530</td>\n",
       "      <td>...</td>\n",
       "      <td>505413.71875</td>\n",
       "      <td>5510.459961</td>\n",
       "      <td>37316380.0</td>\n",
       "      <td>347.355564</td>\n",
       "      <td>200.494371</td>\n",
       "      <td>1.160772</td>\n",
       "      <td>0.782633</td>\n",
       "      <td>46.061912</td>\n",
       "      <td>9.153255</td>\n",
       "      <td>train</td>\n",
       "    </tr>\n",
       "    <tr>\n",
       "      <th>38</th>\n",
       "      <td>1300805</td>\n",
       "      <td>2015</td>\n",
       "      <td>97.0</td>\n",
       "      <td>29.91657</td>\n",
       "      <td>49.0</td>\n",
       "      <td>0.0</td>\n",
       "      <td>288.0</td>\n",
       "      <td>60938.58</td>\n",
       "      <td>71147.01</td>\n",
       "      <td>31604.750</td>\n",
       "      <td>...</td>\n",
       "      <td>505413.71875</td>\n",
       "      <td>5510.459961</td>\n",
       "      <td>37316380.0</td>\n",
       "      <td>347.355564</td>\n",
       "      <td>200.494371</td>\n",
       "      <td>0.400534</td>\n",
       "      <td>0.000000</td>\n",
       "      <td>85.914553</td>\n",
       "      <td>0.000000</td>\n",
       "      <td>train</td>\n",
       "    </tr>\n",
       "    <tr>\n",
       "      <th>45</th>\n",
       "      <td>1500602</td>\n",
       "      <td>2015</td>\n",
       "      <td>88.0</td>\n",
       "      <td>28.94487</td>\n",
       "      <td>229.0</td>\n",
       "      <td>0.0</td>\n",
       "      <td>333.0</td>\n",
       "      <td>60727.19</td>\n",
       "      <td>190610.00</td>\n",
       "      <td>23958.100</td>\n",
       "      <td>...</td>\n",
       "      <td>505413.71875</td>\n",
       "      <td>5510.459961</td>\n",
       "      <td>37316380.0</td>\n",
       "      <td>347.355564</td>\n",
       "      <td>200.494371</td>\n",
       "      <td>2.131996</td>\n",
       "      <td>0.462633</td>\n",
       "      <td>12.494338</td>\n",
       "      <td>46.700097</td>\n",
       "      <td>train</td>\n",
       "    </tr>\n",
       "    <tr>\n",
       "      <th>79</th>\n",
       "      <td>1505106</td>\n",
       "      <td>2015</td>\n",
       "      <td>97.0</td>\n",
       "      <td>32.13737</td>\n",
       "      <td>277.0</td>\n",
       "      <td>1.0</td>\n",
       "      <td>77.0</td>\n",
       "      <td>183585.20</td>\n",
       "      <td>64818.71</td>\n",
       "      <td>84525.680</td>\n",
       "      <td>...</td>\n",
       "      <td>505413.71875</td>\n",
       "      <td>5510.459961</td>\n",
       "      <td>37316380.0</td>\n",
       "      <td>347.355564</td>\n",
       "      <td>200.494371</td>\n",
       "      <td>3.306498</td>\n",
       "      <td>0.086256</td>\n",
       "      <td>63.341001</td>\n",
       "      <td>0.115009</td>\n",
       "      <td>train</td>\n",
       "    </tr>\n",
       "    <tr>\n",
       "      <th>101</th>\n",
       "      <td>1600709</td>\n",
       "      <td>2015</td>\n",
       "      <td>93.0</td>\n",
       "      <td>31.73877</td>\n",
       "      <td>122.0</td>\n",
       "      <td>1.0</td>\n",
       "      <td>146.0</td>\n",
       "      <td>24788.61</td>\n",
       "      <td>30480.20</td>\n",
       "      <td>25636.920</td>\n",
       "      <td>...</td>\n",
       "      <td>505413.71875</td>\n",
       "      <td>5510.459961</td>\n",
       "      <td>37316380.0</td>\n",
       "      <td>347.355564</td>\n",
       "      <td>200.494371</td>\n",
       "      <td>11.795544</td>\n",
       "      <td>0.000000</td>\n",
       "      <td>67.103539</td>\n",
       "      <td>0.262123</td>\n",
       "      <td>train</td>\n",
       "    </tr>\n",
       "    <tr>\n",
       "      <th>...</th>\n",
       "      <td>...</td>\n",
       "      <td>...</td>\n",
       "      <td>...</td>\n",
       "      <td>...</td>\n",
       "      <td>...</td>\n",
       "      <td>...</td>\n",
       "      <td>...</td>\n",
       "      <td>...</td>\n",
       "      <td>...</td>\n",
       "      <td>...</td>\n",
       "      <td>...</td>\n",
       "      <td>...</td>\n",
       "      <td>...</td>\n",
       "      <td>...</td>\n",
       "      <td>...</td>\n",
       "      <td>...</td>\n",
       "      <td>...</td>\n",
       "      <td>...</td>\n",
       "      <td>...</td>\n",
       "      <td>...</td>\n",
       "      <td>...</td>\n",
       "    </tr>\n",
       "    <tr>\n",
       "      <th>9835</th>\n",
       "      <td>1506005</td>\n",
       "      <td>2015</td>\n",
       "      <td>78.0</td>\n",
       "      <td>22.66798</td>\n",
       "      <td>111.0</td>\n",
       "      <td>1.0</td>\n",
       "      <td>121.0</td>\n",
       "      <td>73458.36</td>\n",
       "      <td>132652.30</td>\n",
       "      <td>55185.330</td>\n",
       "      <td>...</td>\n",
       "      <td>505413.71875</td>\n",
       "      <td>5510.459961</td>\n",
       "      <td>37316380.0</td>\n",
       "      <td>347.355564</td>\n",
       "      <td>200.494371</td>\n",
       "      <td>16.374269</td>\n",
       "      <td>0.000000</td>\n",
       "      <td>75.877193</td>\n",
       "      <td>0.000000</td>\n",
       "      <td>test</td>\n",
       "    </tr>\n",
       "    <tr>\n",
       "      <th>9842</th>\n",
       "      <td>5106216</td>\n",
       "      <td>2015</td>\n",
       "      <td>70.0</td>\n",
       "      <td>26.95008</td>\n",
       "      <td>258.0</td>\n",
       "      <td>1.0</td>\n",
       "      <td>67.0</td>\n",
       "      <td>38606.77</td>\n",
       "      <td>89934.98</td>\n",
       "      <td>1777.977</td>\n",
       "      <td>...</td>\n",
       "      <td>505413.71875</td>\n",
       "      <td>5510.459961</td>\n",
       "      <td>37316380.0</td>\n",
       "      <td>347.355564</td>\n",
       "      <td>200.494371</td>\n",
       "      <td>24.089307</td>\n",
       "      <td>0.705053</td>\n",
       "      <td>20.720721</td>\n",
       "      <td>13.004309</td>\n",
       "      <td>test</td>\n",
       "    </tr>\n",
       "    <tr>\n",
       "      <th>9848</th>\n",
       "      <td>5102694</td>\n",
       "      <td>2015</td>\n",
       "      <td>39.0</td>\n",
       "      <td>19.58711</td>\n",
       "      <td>217.0</td>\n",
       "      <td>0.0</td>\n",
       "      <td>0.0</td>\n",
       "      <td>72079.85</td>\n",
       "      <td>17885.21</td>\n",
       "      <td>90223.710</td>\n",
       "      <td>...</td>\n",
       "      <td>505413.71875</td>\n",
       "      <td>5510.459961</td>\n",
       "      <td>37316380.0</td>\n",
       "      <td>347.355564</td>\n",
       "      <td>200.494371</td>\n",
       "      <td>23.094170</td>\n",
       "      <td>0.672646</td>\n",
       "      <td>50.224215</td>\n",
       "      <td>0.672646</td>\n",
       "      <td>test</td>\n",
       "    </tr>\n",
       "    <tr>\n",
       "      <th>9924</th>\n",
       "      <td>5103700</td>\n",
       "      <td>2015</td>\n",
       "      <td>87.0</td>\n",
       "      <td>24.85481</td>\n",
       "      <td>317.0</td>\n",
       "      <td>1.0</td>\n",
       "      <td>166.0</td>\n",
       "      <td>155148.40</td>\n",
       "      <td>146763.90</td>\n",
       "      <td>120754.200</td>\n",
       "      <td>...</td>\n",
       "      <td>505413.71875</td>\n",
       "      <td>5510.459961</td>\n",
       "      <td>37316380.0</td>\n",
       "      <td>347.355564</td>\n",
       "      <td>200.494371</td>\n",
       "      <td>48.454131</td>\n",
       "      <td>0.304105</td>\n",
       "      <td>24.227065</td>\n",
       "      <td>1.013685</td>\n",
       "      <td>test</td>\n",
       "    </tr>\n",
       "    <tr>\n",
       "      <th>9973</th>\n",
       "      <td>1300201</td>\n",
       "      <td>2015</td>\n",
       "      <td>97.0</td>\n",
       "      <td>34.68896</td>\n",
       "      <td>152.0</td>\n",
       "      <td>0.0</td>\n",
       "      <td>288.0</td>\n",
       "      <td>746722.80</td>\n",
       "      <td>36276.84</td>\n",
       "      <td>99973.610</td>\n",
       "      <td>...</td>\n",
       "      <td>505413.71875</td>\n",
       "      <td>5510.459961</td>\n",
       "      <td>37316380.0</td>\n",
       "      <td>347.355564</td>\n",
       "      <td>200.494371</td>\n",
       "      <td>0.000000</td>\n",
       "      <td>0.000000</td>\n",
       "      <td>96.800000</td>\n",
       "      <td>0.000000</td>\n",
       "      <td>test</td>\n",
       "    </tr>\n",
       "  </tbody>\n",
       "</table>\n",
       "<p>657 rows × 31 columns</p>\n",
       "</div>"
      ],
      "text/plain": [
       "           ID  year  forest.l     rain1  elevation  slope  aspect  near_mines  \\\n",
       "34    1100205  2015      97.0  25.89348      176.0    1.0    93.0   144390.10   \n",
       "38    1300805  2015      97.0  29.91657       49.0    0.0   288.0    60938.58   \n",
       "45    1500602  2015      88.0  28.94487      229.0    0.0   333.0    60727.19   \n",
       "79    1505106  2015      97.0  32.13737      277.0    1.0    77.0   183585.20   \n",
       "101   1600709  2015      93.0  31.73877      122.0    1.0   146.0    24788.61   \n",
       "...       ...   ...       ...       ...        ...    ...     ...         ...   \n",
       "9835  1506005  2015      78.0  22.66798      111.0    1.0   121.0    73458.36   \n",
       "9842  5106216  2015      70.0  26.95008      258.0    1.0    67.0    38606.77   \n",
       "9848  5102694  2015      39.0  19.58711      217.0    0.0     0.0    72079.85   \n",
       "9924  5103700  2015      87.0  24.85481      317.0    1.0   166.0   155148.40   \n",
       "9973  1300201  2015      97.0  34.68896      152.0    0.0   288.0   746722.80   \n",
       "\n",
       "      near_roads  near_hidrovia  ...        silver       copper        gold  \\\n",
       "34      27651.47      35334.530  ...  505413.71875  5510.459961  37316380.0   \n",
       "38      71147.01      31604.750  ...  505413.71875  5510.459961  37316380.0   \n",
       "45     190610.00      23958.100  ...  505413.71875  5510.459961  37316380.0   \n",
       "79      64818.71      84525.680  ...  505413.71875  5510.459961  37316380.0   \n",
       "101     30480.20      25636.920  ...  505413.71875  5510.459961  37316380.0   \n",
       "...          ...            ...  ...           ...          ...         ...   \n",
       "9835   132652.30      55185.330  ...  505413.71875  5510.459961  37316380.0   \n",
       "9842    89934.98       1777.977  ...  505413.71875  5510.459961  37316380.0   \n",
       "9848    17885.21      90223.710  ...  505413.71875  5510.459961  37316380.0   \n",
       "9924   146763.90     120754.200  ...  505413.71875  5510.459961  37316380.0   \n",
       "9973    36276.84      99973.610  ...  505413.71875  5510.459961  37316380.0   \n",
       "\n",
       "       soy_price  beef_price    ag_jobs  mining_jobs  public_jobs  \\\n",
       "34    347.355564  200.494371   1.160772     0.782633    46.061912   \n",
       "38    347.355564  200.494371   0.400534     0.000000    85.914553   \n",
       "45    347.355564  200.494371   2.131996     0.462633    12.494338   \n",
       "79    347.355564  200.494371   3.306498     0.086256    63.341001   \n",
       "101   347.355564  200.494371  11.795544     0.000000    67.103539   \n",
       "...          ...         ...        ...          ...          ...   \n",
       "9835  347.355564  200.494371  16.374269     0.000000    75.877193   \n",
       "9842  347.355564  200.494371  24.089307     0.705053    20.720721   \n",
       "9848  347.355564  200.494371  23.094170     0.672646    50.224215   \n",
       "9924  347.355564  200.494371  48.454131     0.304105    24.227065   \n",
       "9973  347.355564  200.494371   0.000000     0.000000    96.800000   \n",
       "\n",
       "      construction_jobs  test.train  \n",
       "34             9.153255       train  \n",
       "38             0.000000       train  \n",
       "45            46.700097       train  \n",
       "79             0.115009       train  \n",
       "101            0.262123       train  \n",
       "...                 ...         ...  \n",
       "9835           0.000000        test  \n",
       "9842          13.004309        test  \n",
       "9848           0.672646        test  \n",
       "9924           1.013685        test  \n",
       "9973           0.000000        test  \n",
       "\n",
       "[657 rows x 31 columns]"
      ]
     },
     "execution_count": 268,
     "metadata": {},
     "output_type": "execute_result"
    }
   ],
   "source": [
    "year = 2015\n",
    "merged_df[merged_df['year'] == year]"
   ]
  },
  {
   "cell_type": "code",
   "execution_count": 269,
   "id": "a28a8f95",
   "metadata": {},
   "outputs": [
    {
     "ename": "KeyError",
     "evalue": "'y'",
     "output_type": "error",
     "traceback": [
      "\u001b[0;31m---------------------------------------------------------------------------\u001b[0m",
      "\u001b[0;31mKeyError\u001b[0m                                  Traceback (most recent call last)",
      "\u001b[0;32m~/opt/anaconda3/lib/python3.8/site-packages/pandas/core/indexes/base.py\u001b[0m in \u001b[0;36mget_loc\u001b[0;34m(self, key, method, tolerance)\u001b[0m\n\u001b[1;32m   3079\u001b[0m             \u001b[0;32mtry\u001b[0m\u001b[0;34m:\u001b[0m\u001b[0;34m\u001b[0m\u001b[0;34m\u001b[0m\u001b[0m\n\u001b[0;32m-> 3080\u001b[0;31m                 \u001b[0;32mreturn\u001b[0m \u001b[0mself\u001b[0m\u001b[0;34m.\u001b[0m\u001b[0m_engine\u001b[0m\u001b[0;34m.\u001b[0m\u001b[0mget_loc\u001b[0m\u001b[0;34m(\u001b[0m\u001b[0mcasted_key\u001b[0m\u001b[0;34m)\u001b[0m\u001b[0;34m\u001b[0m\u001b[0;34m\u001b[0m\u001b[0m\n\u001b[0m\u001b[1;32m   3081\u001b[0m             \u001b[0;32mexcept\u001b[0m \u001b[0mKeyError\u001b[0m \u001b[0;32mas\u001b[0m \u001b[0merr\u001b[0m\u001b[0;34m:\u001b[0m\u001b[0;34m\u001b[0m\u001b[0;34m\u001b[0m\u001b[0m\n",
      "\u001b[0;32mpandas/_libs/index.pyx\u001b[0m in \u001b[0;36mpandas._libs.index.IndexEngine.get_loc\u001b[0;34m()\u001b[0m\n",
      "\u001b[0;32mpandas/_libs/index.pyx\u001b[0m in \u001b[0;36mpandas._libs.index.IndexEngine.get_loc\u001b[0;34m()\u001b[0m\n",
      "\u001b[0;32mpandas/_libs/hashtable_class_helper.pxi\u001b[0m in \u001b[0;36mpandas._libs.hashtable.PyObjectHashTable.get_item\u001b[0;34m()\u001b[0m\n",
      "\u001b[0;32mpandas/_libs/hashtable_class_helper.pxi\u001b[0m in \u001b[0;36mpandas._libs.hashtable.PyObjectHashTable.get_item\u001b[0;34m()\u001b[0m\n",
      "\u001b[0;31mKeyError\u001b[0m: 'y'",
      "\nThe above exception was the direct cause of the following exception:\n",
      "\u001b[0;31mKeyError\u001b[0m                                  Traceback (most recent call last)",
      "\u001b[0;32m<ipython-input-269-02642a78b22a>\u001b[0m in \u001b[0;36m<module>\u001b[0;34m\u001b[0m\n\u001b[1;32m      9\u001b[0m \u001b[0;34m\u001b[0m\u001b[0m\n\u001b[1;32m     10\u001b[0m     \u001b[0max\u001b[0m \u001b[0;34m=\u001b[0m \u001b[0mfig\u001b[0m\u001b[0;34m.\u001b[0m\u001b[0madd_subplot\u001b[0m\u001b[0;34m(\u001b[0m\u001b[0;36m5\u001b[0m\u001b[0;34m,\u001b[0m\u001b[0;36m3\u001b[0m\u001b[0;34m,\u001b[0m\u001b[0mnum\u001b[0m\u001b[0;34m)\u001b[0m\u001b[0;34m\u001b[0m\u001b[0;34m\u001b[0m\u001b[0m\n\u001b[0;32m---> 11\u001b[0;31m     \u001b[0max\u001b[0m\u001b[0;34m.\u001b[0m\u001b[0mscatter\u001b[0m\u001b[0;34m(\u001b[0m\u001b[0mthis_df\u001b[0m\u001b[0;34m[\u001b[0m\u001b[0;34m'y'\u001b[0m\u001b[0;34m]\u001b[0m\u001b[0;34m,\u001b[0m \u001b[0mthis_df\u001b[0m\u001b[0;34m[\u001b[0m\u001b[0;34m'x'\u001b[0m\u001b[0;34m]\u001b[0m\u001b[0;34m,\u001b[0m \u001b[0;36m10\u001b[0m\u001b[0;34m,\u001b[0m \u001b[0mc\u001b[0m\u001b[0;34m=\u001b[0m\u001b[0mthis_df\u001b[0m\u001b[0;34m[\u001b[0m\u001b[0;34m'test.train'\u001b[0m\u001b[0;34m]\u001b[0m\u001b[0;34m.\u001b[0m\u001b[0mmap\u001b[0m\u001b[0;34m(\u001b[0m\u001b[0mcolors\u001b[0m\u001b[0;34m)\u001b[0m\u001b[0;34m)\u001b[0m\u001b[0;34m\u001b[0m\u001b[0;34m\u001b[0m\u001b[0m\n\u001b[0m\u001b[1;32m     12\u001b[0m     \u001b[0max\u001b[0m\u001b[0;34m.\u001b[0m\u001b[0mset_title\u001b[0m\u001b[0;34m(\u001b[0m\u001b[0myear\u001b[0m\u001b[0;34m)\u001b[0m\u001b[0;34m\u001b[0m\u001b[0;34m\u001b[0m\u001b[0m\n\u001b[1;32m     13\u001b[0m \u001b[0;34m\u001b[0m\u001b[0m\n",
      "\u001b[0;32m~/opt/anaconda3/lib/python3.8/site-packages/pandas/core/frame.py\u001b[0m in \u001b[0;36m__getitem__\u001b[0;34m(self, key)\u001b[0m\n\u001b[1;32m   3022\u001b[0m             \u001b[0;32mif\u001b[0m \u001b[0mself\u001b[0m\u001b[0;34m.\u001b[0m\u001b[0mcolumns\u001b[0m\u001b[0;34m.\u001b[0m\u001b[0mnlevels\u001b[0m \u001b[0;34m>\u001b[0m \u001b[0;36m1\u001b[0m\u001b[0;34m:\u001b[0m\u001b[0;34m\u001b[0m\u001b[0;34m\u001b[0m\u001b[0m\n\u001b[1;32m   3023\u001b[0m                 \u001b[0;32mreturn\u001b[0m \u001b[0mself\u001b[0m\u001b[0;34m.\u001b[0m\u001b[0m_getitem_multilevel\u001b[0m\u001b[0;34m(\u001b[0m\u001b[0mkey\u001b[0m\u001b[0;34m)\u001b[0m\u001b[0;34m\u001b[0m\u001b[0;34m\u001b[0m\u001b[0m\n\u001b[0;32m-> 3024\u001b[0;31m             \u001b[0mindexer\u001b[0m \u001b[0;34m=\u001b[0m \u001b[0mself\u001b[0m\u001b[0;34m.\u001b[0m\u001b[0mcolumns\u001b[0m\u001b[0;34m.\u001b[0m\u001b[0mget_loc\u001b[0m\u001b[0;34m(\u001b[0m\u001b[0mkey\u001b[0m\u001b[0;34m)\u001b[0m\u001b[0;34m\u001b[0m\u001b[0;34m\u001b[0m\u001b[0m\n\u001b[0m\u001b[1;32m   3025\u001b[0m             \u001b[0;32mif\u001b[0m \u001b[0mis_integer\u001b[0m\u001b[0;34m(\u001b[0m\u001b[0mindexer\u001b[0m\u001b[0;34m)\u001b[0m\u001b[0;34m:\u001b[0m\u001b[0;34m\u001b[0m\u001b[0;34m\u001b[0m\u001b[0m\n\u001b[1;32m   3026\u001b[0m                 \u001b[0mindexer\u001b[0m \u001b[0;34m=\u001b[0m \u001b[0;34m[\u001b[0m\u001b[0mindexer\u001b[0m\u001b[0;34m]\u001b[0m\u001b[0;34m\u001b[0m\u001b[0;34m\u001b[0m\u001b[0m\n",
      "\u001b[0;32m~/opt/anaconda3/lib/python3.8/site-packages/pandas/core/indexes/base.py\u001b[0m in \u001b[0;36mget_loc\u001b[0;34m(self, key, method, tolerance)\u001b[0m\n\u001b[1;32m   3080\u001b[0m                 \u001b[0;32mreturn\u001b[0m \u001b[0mself\u001b[0m\u001b[0;34m.\u001b[0m\u001b[0m_engine\u001b[0m\u001b[0;34m.\u001b[0m\u001b[0mget_loc\u001b[0m\u001b[0;34m(\u001b[0m\u001b[0mcasted_key\u001b[0m\u001b[0;34m)\u001b[0m\u001b[0;34m\u001b[0m\u001b[0;34m\u001b[0m\u001b[0m\n\u001b[1;32m   3081\u001b[0m             \u001b[0;32mexcept\u001b[0m \u001b[0mKeyError\u001b[0m \u001b[0;32mas\u001b[0m \u001b[0merr\u001b[0m\u001b[0;34m:\u001b[0m\u001b[0;34m\u001b[0m\u001b[0;34m\u001b[0m\u001b[0m\n\u001b[0;32m-> 3082\u001b[0;31m                 \u001b[0;32mraise\u001b[0m \u001b[0mKeyError\u001b[0m\u001b[0;34m(\u001b[0m\u001b[0mkey\u001b[0m\u001b[0;34m)\u001b[0m \u001b[0;32mfrom\u001b[0m \u001b[0merr\u001b[0m\u001b[0;34m\u001b[0m\u001b[0;34m\u001b[0m\u001b[0m\n\u001b[0m\u001b[1;32m   3083\u001b[0m \u001b[0;34m\u001b[0m\u001b[0m\n\u001b[1;32m   3084\u001b[0m         \u001b[0;32mif\u001b[0m \u001b[0mtolerance\u001b[0m \u001b[0;32mis\u001b[0m \u001b[0;32mnot\u001b[0m \u001b[0;32mNone\u001b[0m\u001b[0;34m:\u001b[0m\u001b[0;34m\u001b[0m\u001b[0;34m\u001b[0m\u001b[0m\n",
      "\u001b[0;31mKeyError\u001b[0m: 'y'"
     ]
    },
    {
     "data": {
      "image/png": "[encoded data removed]",
      "text/plain": [
       "<Figure size 980x1190 with 1 Axes>"
      ]
     },
     "metadata": {
      "needs_background": "light"
     },
     "output_type": "display_data"
    }
   ],
   "source": [
    "fig = plt.figure(figsize = (14, 17), dpi = 70)\n",
    "\n",
    "years = np.unique(merged_df['year'])\n",
    "colors = {'test':'red', 'train':'green'}\n",
    "\n",
    "for year,num in zip(years, range(1,len(np.unique(merged_df['year'])))):\n",
    "    \n",
    "    this_df = merged_df[merged_df['year'] == year]\n",
    "    \n",
    "    ax = fig.add_subplot(5,3,num)\n",
    "    ax.scatter(this_df['y'], this_df['x'], 10, c=this_df['test.train'].map(colors))\n",
    "    ax.set_title(year)\n",
    "\n",
    "plt.tight_layout()\n",
    "plt.show()"
   ]
  },
  {
   "cell_type": "code",
   "execution_count": 270,
   "id": "1a05fc29",
   "metadata": {},
   "outputs": [
    {
     "ename": "KeyError",
     "evalue": "'y'",
     "output_type": "error",
     "traceback": [
      "\u001b[0;31m---------------------------------------------------------------------------\u001b[0m",
      "\u001b[0;31mKeyError\u001b[0m                                  Traceback (most recent call last)",
      "\u001b[0;32m~/opt/anaconda3/lib/python3.8/site-packages/pandas/core/indexes/base.py\u001b[0m in \u001b[0;36mget_loc\u001b[0;34m(self, key, method, tolerance)\u001b[0m\n\u001b[1;32m   3079\u001b[0m             \u001b[0;32mtry\u001b[0m\u001b[0;34m:\u001b[0m\u001b[0;34m\u001b[0m\u001b[0;34m\u001b[0m\u001b[0m\n\u001b[0;32m-> 3080\u001b[0;31m                 \u001b[0;32mreturn\u001b[0m \u001b[0mself\u001b[0m\u001b[0;34m.\u001b[0m\u001b[0m_engine\u001b[0m\u001b[0;34m.\u001b[0m\u001b[0mget_loc\u001b[0m\u001b[0;34m(\u001b[0m\u001b[0mcasted_key\u001b[0m\u001b[0;34m)\u001b[0m\u001b[0;34m\u001b[0m\u001b[0;34m\u001b[0m\u001b[0m\n\u001b[0m\u001b[1;32m   3081\u001b[0m             \u001b[0;32mexcept\u001b[0m \u001b[0mKeyError\u001b[0m \u001b[0;32mas\u001b[0m \u001b[0merr\u001b[0m\u001b[0;34m:\u001b[0m\u001b[0;34m\u001b[0m\u001b[0;34m\u001b[0m\u001b[0m\n",
      "\u001b[0;32mpandas/_libs/index.pyx\u001b[0m in \u001b[0;36mpandas._libs.index.IndexEngine.get_loc\u001b[0;34m()\u001b[0m\n",
      "\u001b[0;32mpandas/_libs/index.pyx\u001b[0m in \u001b[0;36mpandas._libs.index.IndexEngine.get_loc\u001b[0;34m()\u001b[0m\n",
      "\u001b[0;32mpandas/_libs/hashtable_class_helper.pxi\u001b[0m in \u001b[0;36mpandas._libs.hashtable.PyObjectHashTable.get_item\u001b[0;34m()\u001b[0m\n",
      "\u001b[0;32mpandas/_libs/hashtable_class_helper.pxi\u001b[0m in \u001b[0;36mpandas._libs.hashtable.PyObjectHashTable.get_item\u001b[0;34m()\u001b[0m\n",
      "\u001b[0;31mKeyError\u001b[0m: 'y'",
      "\nThe above exception was the direct cause of the following exception:\n",
      "\u001b[0;31mKeyError\u001b[0m                                  Traceback (most recent call last)",
      "\u001b[0;32m<ipython-input-270-9748cca08354>\u001b[0m in \u001b[0;36m<module>\u001b[0;34m\u001b[0m\n\u001b[1;32m      2\u001b[0m \u001b[0;34m\u001b[0m\u001b[0m\n\u001b[1;32m      3\u001b[0m \u001b[0mcolors\u001b[0m \u001b[0;34m=\u001b[0m \u001b[0;34m{\u001b[0m\u001b[0;34m'test'\u001b[0m\u001b[0;34m:\u001b[0m\u001b[0;34m'red'\u001b[0m\u001b[0;34m,\u001b[0m \u001b[0;34m'train'\u001b[0m\u001b[0;34m:\u001b[0m\u001b[0;34m'green'\u001b[0m\u001b[0;34m}\u001b[0m\u001b[0;34m\u001b[0m\u001b[0;34m\u001b[0m\u001b[0m\n\u001b[0;32m----> 4\u001b[0;31m \u001b[0mplt\u001b[0m\u001b[0;34m.\u001b[0m\u001b[0mscatter\u001b[0m\u001b[0;34m(\u001b[0m\u001b[0mmerged_df\u001b[0m\u001b[0;34m[\u001b[0m\u001b[0;34m'y'\u001b[0m\u001b[0;34m]\u001b[0m\u001b[0;34m,\u001b[0m \u001b[0mmerged_df\u001b[0m\u001b[0;34m[\u001b[0m\u001b[0;34m'x'\u001b[0m\u001b[0;34m]\u001b[0m\u001b[0;34m,\u001b[0m \u001b[0;36m10\u001b[0m\u001b[0;34m,\u001b[0m \u001b[0mc\u001b[0m\u001b[0;34m=\u001b[0m\u001b[0mmerged_df\u001b[0m\u001b[0;34m[\u001b[0m\u001b[0;34m'test.train'\u001b[0m\u001b[0;34m]\u001b[0m\u001b[0;34m.\u001b[0m\u001b[0mmap\u001b[0m\u001b[0;34m(\u001b[0m\u001b[0mcolors\u001b[0m\u001b[0;34m)\u001b[0m\u001b[0;34m)\u001b[0m\u001b[0;34m\u001b[0m\u001b[0;34m\u001b[0m\u001b[0m\n\u001b[0m\u001b[1;32m      5\u001b[0m \u001b[0mplt\u001b[0m\u001b[0;34m.\u001b[0m\u001b[0mxlabel\u001b[0m\u001b[0;34m(\u001b[0m\u001b[0;34m'Longitude [°]'\u001b[0m\u001b[0;34m)\u001b[0m\u001b[0;34m\u001b[0m\u001b[0;34m\u001b[0m\u001b[0m\n\u001b[1;32m      6\u001b[0m \u001b[0mplt\u001b[0m\u001b[0;34m.\u001b[0m\u001b[0mylabel\u001b[0m\u001b[0;34m(\u001b[0m\u001b[0;34m'Latitude [°]'\u001b[0m\u001b[0;34m)\u001b[0m\u001b[0;34m\u001b[0m\u001b[0;34m\u001b[0m\u001b[0m\n",
      "\u001b[0;32m~/opt/anaconda3/lib/python3.8/site-packages/pandas/core/frame.py\u001b[0m in \u001b[0;36m__getitem__\u001b[0;34m(self, key)\u001b[0m\n\u001b[1;32m   3022\u001b[0m             \u001b[0;32mif\u001b[0m \u001b[0mself\u001b[0m\u001b[0;34m.\u001b[0m\u001b[0mcolumns\u001b[0m\u001b[0;34m.\u001b[0m\u001b[0mnlevels\u001b[0m \u001b[0;34m>\u001b[0m \u001b[0;36m1\u001b[0m\u001b[0;34m:\u001b[0m\u001b[0;34m\u001b[0m\u001b[0;34m\u001b[0m\u001b[0m\n\u001b[1;32m   3023\u001b[0m                 \u001b[0;32mreturn\u001b[0m \u001b[0mself\u001b[0m\u001b[0;34m.\u001b[0m\u001b[0m_getitem_multilevel\u001b[0m\u001b[0;34m(\u001b[0m\u001b[0mkey\u001b[0m\u001b[0;34m)\u001b[0m\u001b[0;34m\u001b[0m\u001b[0;34m\u001b[0m\u001b[0m\n\u001b[0;32m-> 3024\u001b[0;31m             \u001b[0mindexer\u001b[0m \u001b[0;34m=\u001b[0m \u001b[0mself\u001b[0m\u001b[0;34m.\u001b[0m\u001b[0mcolumns\u001b[0m\u001b[0;34m.\u001b[0m\u001b[0mget_loc\u001b[0m\u001b[0;34m(\u001b[0m\u001b[0mkey\u001b[0m\u001b[0;34m)\u001b[0m\u001b[0;34m\u001b[0m\u001b[0;34m\u001b[0m\u001b[0m\n\u001b[0m\u001b[1;32m   3025\u001b[0m             \u001b[0;32mif\u001b[0m \u001b[0mis_integer\u001b[0m\u001b[0;34m(\u001b[0m\u001b[0mindexer\u001b[0m\u001b[0;34m)\u001b[0m\u001b[0;34m:\u001b[0m\u001b[0;34m\u001b[0m\u001b[0;34m\u001b[0m\u001b[0m\n\u001b[1;32m   3026\u001b[0m                 \u001b[0mindexer\u001b[0m \u001b[0;34m=\u001b[0m \u001b[0;34m[\u001b[0m\u001b[0mindexer\u001b[0m\u001b[0;34m]\u001b[0m\u001b[0;34m\u001b[0m\u001b[0;34m\u001b[0m\u001b[0m\n",
      "\u001b[0;32m~/opt/anaconda3/lib/python3.8/site-packages/pandas/core/indexes/base.py\u001b[0m in \u001b[0;36mget_loc\u001b[0;34m(self, key, method, tolerance)\u001b[0m\n\u001b[1;32m   3080\u001b[0m                 \u001b[0;32mreturn\u001b[0m \u001b[0mself\u001b[0m\u001b[0;34m.\u001b[0m\u001b[0m_engine\u001b[0m\u001b[0;34m.\u001b[0m\u001b[0mget_loc\u001b[0m\u001b[0;34m(\u001b[0m\u001b[0mcasted_key\u001b[0m\u001b[0;34m)\u001b[0m\u001b[0;34m\u001b[0m\u001b[0;34m\u001b[0m\u001b[0m\n\u001b[1;32m   3081\u001b[0m             \u001b[0;32mexcept\u001b[0m \u001b[0mKeyError\u001b[0m \u001b[0;32mas\u001b[0m \u001b[0merr\u001b[0m\u001b[0;34m:\u001b[0m\u001b[0;34m\u001b[0m\u001b[0;34m\u001b[0m\u001b[0m\n\u001b[0;32m-> 3082\u001b[0;31m                 \u001b[0;32mraise\u001b[0m \u001b[0mKeyError\u001b[0m\u001b[0;34m(\u001b[0m\u001b[0mkey\u001b[0m\u001b[0;34m)\u001b[0m \u001b[0;32mfrom\u001b[0m \u001b[0merr\u001b[0m\u001b[0;34m\u001b[0m\u001b[0;34m\u001b[0m\u001b[0m\n\u001b[0m\u001b[1;32m   3083\u001b[0m \u001b[0;34m\u001b[0m\u001b[0m\n\u001b[1;32m   3084\u001b[0m         \u001b[0;32mif\u001b[0m \u001b[0mtolerance\u001b[0m \u001b[0;32mis\u001b[0m \u001b[0;32mnot\u001b[0m \u001b[0;32mNone\u001b[0m\u001b[0;34m:\u001b[0m\u001b[0;34m\u001b[0m\u001b[0;34m\u001b[0m\u001b[0m\n",
      "\u001b[0;31mKeyError\u001b[0m: 'y'"
     ]
    },
    {
     "data": {
      "text/plain": [
       "<Figure size 700x560 with 0 Axes>"
      ]
     },
     "metadata": {},
     "output_type": "display_data"
    }
   ],
   "source": [
    "fig = plt.figure(figsize = (10, 8), dpi = 70)\n",
    "\n",
    "colors = {'test':'red', 'train':'green'}\n",
    "plt.scatter(merged_df['y'], merged_df['x'], 10, c=merged_df['test.train'].map(colors))\n",
    "plt.xlabel('Longitude [°]')\n",
    "plt.ylabel('Latitude [°]')\n",
    "plt.title('Test/Train separation')"
   ]
  },
  {
   "cell_type": "code",
   "execution_count": 271,
   "id": "62541aec",
   "metadata": {},
   "outputs": [
    {
     "data": {
      "text/plain": [
       "680"
      ]
     },
     "execution_count": 271,
     "metadata": {},
     "output_type": "execute_result"
    }
   ],
   "source": [
    "len(np.unique(df.ID))"
   ]
  },
  {
   "cell_type": "markdown",
   "id": "9ec14d90",
   "metadata": {},
   "source": [
    "![map.jpeg](https://pbs.twimg.com/media/FGLxxFjXIAoKEgN?format=jpg&name=4096x4096)"
   ]
  },
  {
   "cell_type": "code",
   "execution_count": 272,
   "id": "085883e1",
   "metadata": {},
   "outputs": [
    {
     "data": {
      "text/plain": [
       "array([2002, 2003, 2004, 2005, 2006, 2007, 2008, 2009, 2010, 2011, 2012,\n",
       "       2013, 2014, 2015, 2016], dtype=int32)"
      ]
     },
     "execution_count": 272,
     "metadata": {},
     "output_type": "execute_result"
    }
   ],
   "source": [
    "np.unique(merged_df['year'])\n"
   ]
  },
  {
   "cell_type": "code",
   "execution_count": 273,
   "id": "e7bf57d8",
   "metadata": {},
   "outputs": [
    {
     "data": {
      "text/plain": [
       "Text(0.5, 1.0, 'Year Histogram')"
      ]
     },
     "execution_count": 273,
     "metadata": {},
     "output_type": "execute_result"
    },
    {
     "data": {
      "image/png": "[encoded data removed]",
      "text/plain": [
       "<Figure size 432x288 with 1 Axes>"
      ]
     },
     "metadata": {
      "needs_background": "light"
     },
     "output_type": "display_data"
    }
   ],
   "source": [
    "#check distribution of observations by year\n",
    "plt.hist(x = merged_df['year'], bins = len(np.unique(merged_df['year'])), color = 'forestgreen', rwidth = 0.8)\n",
    "plt.grid(axis = 'y', alpha = 0.75)\n",
    "plt.xticks(np.unique(df['year']))\n",
    "plt.xlabel('Year')\n",
    "plt.ylabel('Frequency')\n",
    "plt.title('Year Histogram')"
   ]
  },
  {
   "cell_type": "code",
   "execution_count": 276,
   "id": "56076c84",
   "metadata": {},
   "outputs": [],
   "source": [
    "#create unscaled test and train vars\n",
    "\n",
    "y_train = df_train['forest.l']\n",
    "y_test = df_test['forest.l']\n",
    "\n",
    "X_train_unscaled = df_train.drop('forest.l', axis =1)\n",
    "X_test_unscaled = df_test.drop('forest.l', axis =1)\n",
    "#X_train_unscaled = X_train_unscaled.drop('FID', axis = 1)\n",
    "#X_test_unscaled = X_test_unscaled.drop('FID', axis = 1)\n",
    "\n",
    "#scale them\n",
    "sc = StandardScaler()\n",
    "X_train = sc.fit_transform(X_train_unscaled)\n",
    "X_test = sc.transform(X_test_unscaled)"
   ]
  },
  {
   "cell_type": "code",
   "execution_count": 277,
   "id": "92e64c9f",
   "metadata": {},
   "outputs": [
    {
     "data": {
      "text/html": [
       "<div>\n",
       "<style scoped>\n",
       "    .dataframe tbody tr th:only-of-type {\n",
       "        vertical-align: middle;\n",
       "    }\n",
       "\n",
       "    .dataframe tbody tr th {\n",
       "        vertical-align: top;\n",
       "    }\n",
       "\n",
       "    .dataframe thead th {\n",
       "        text-align: right;\n",
       "    }\n",
       "</style>\n",
       "<table border=\"1\" class=\"dataframe\">\n",
       "  <thead>\n",
       "    <tr style=\"text-align: right;\">\n",
       "      <th></th>\n",
       "      <th>mean</th>\n",
       "      <th>std</th>\n",
       "    </tr>\n",
       "  </thead>\n",
       "  <tbody>\n",
       "    <tr>\n",
       "      <th>ID</th>\n",
       "      <td>1.284553e-16</td>\n",
       "      <td>1.000071</td>\n",
       "    </tr>\n",
       "    <tr>\n",
       "      <th>year</th>\n",
       "      <td>7.934145e-15</td>\n",
       "      <td>1.000071</td>\n",
       "    </tr>\n",
       "    <tr>\n",
       "      <th>rain1</th>\n",
       "      <td>-2.424756e-16</td>\n",
       "      <td>1.000071</td>\n",
       "    </tr>\n",
       "    <tr>\n",
       "      <th>elevation</th>\n",
       "      <td>4.546220e-17</td>\n",
       "      <td>1.000071</td>\n",
       "    </tr>\n",
       "    <tr>\n",
       "      <th>slope</th>\n",
       "      <td>-1.492987e-16</td>\n",
       "      <td>1.000071</td>\n",
       "    </tr>\n",
       "    <tr>\n",
       "      <th>aspect</th>\n",
       "      <td>-1.262028e-16</td>\n",
       "      <td>1.000071</td>\n",
       "    </tr>\n",
       "    <tr>\n",
       "      <th>near_mines</th>\n",
       "      <td>-1.267555e-16</td>\n",
       "      <td>1.000071</td>\n",
       "    </tr>\n",
       "    <tr>\n",
       "      <th>near_roads</th>\n",
       "      <td>1.585546e-16</td>\n",
       "      <td>1.000071</td>\n",
       "    </tr>\n",
       "    <tr>\n",
       "      <th>near_hidrovia</th>\n",
       "      <td>-1.430013e-16</td>\n",
       "      <td>1.000071</td>\n",
       "    </tr>\n",
       "    <tr>\n",
       "      <th>indigenous_homol</th>\n",
       "      <td>1.146072e-16</td>\n",
       "      <td>1.000071</td>\n",
       "    </tr>\n",
       "    <tr>\n",
       "      <th>mun_election_year</th>\n",
       "      <td>-2.359244e-16</td>\n",
       "      <td>1.000071</td>\n",
       "    </tr>\n",
       "    <tr>\n",
       "      <th>new_forest_code</th>\n",
       "      <td>0.000000e+00</td>\n",
       "      <td>0.000000</td>\n",
       "    </tr>\n",
       "    <tr>\n",
       "      <th>lula</th>\n",
       "      <td>4.974510e-17</td>\n",
       "      <td>1.000071</td>\n",
       "    </tr>\n",
       "    <tr>\n",
       "      <th>dilma</th>\n",
       "      <td>5.735280e-16</td>\n",
       "      <td>1.000071</td>\n",
       "    </tr>\n",
       "    <tr>\n",
       "      <th>temer</th>\n",
       "      <td>0.000000e+00</td>\n",
       "      <td>0.000000</td>\n",
       "    </tr>\n",
       "    <tr>\n",
       "      <th>bolsonaro</th>\n",
       "      <td>0.000000e+00</td>\n",
       "      <td>0.000000</td>\n",
       "    </tr>\n",
       "    <tr>\n",
       "      <th>fed_election_year</th>\n",
       "      <td>-2.359244e-16</td>\n",
       "      <td>1.000071</td>\n",
       "    </tr>\n",
       "    <tr>\n",
       "      <th>populacao</th>\n",
       "      <td>4.086601e-17</td>\n",
       "      <td>1.000071</td>\n",
       "    </tr>\n",
       "    <tr>\n",
       "      <th>pib_pc</th>\n",
       "      <td>-1.374970e-16</td>\n",
       "      <td>1.000071</td>\n",
       "    </tr>\n",
       "    <tr>\n",
       "      <th>ironore</th>\n",
       "      <td>9.612733e-17</td>\n",
       "      <td>1.000071</td>\n",
       "    </tr>\n",
       "    <tr>\n",
       "      <th>silver</th>\n",
       "      <td>-4.785745e-17</td>\n",
       "      <td>1.000071</td>\n",
       "    </tr>\n",
       "    <tr>\n",
       "      <th>copper</th>\n",
       "      <td>1.366087e-16</td>\n",
       "      <td>1.000071</td>\n",
       "    </tr>\n",
       "    <tr>\n",
       "      <th>gold</th>\n",
       "      <td>-7.233343e-17</td>\n",
       "      <td>1.000071</td>\n",
       "    </tr>\n",
       "    <tr>\n",
       "      <th>soy_price</th>\n",
       "      <td>5.540011e-17</td>\n",
       "      <td>1.000071</td>\n",
       "    </tr>\n",
       "    <tr>\n",
       "      <th>beef_price</th>\n",
       "      <td>2.614037e-16</td>\n",
       "      <td>1.000071</td>\n",
       "    </tr>\n",
       "    <tr>\n",
       "      <th>ag_jobs</th>\n",
       "      <td>6.674980e-17</td>\n",
       "      <td>1.000071</td>\n",
       "    </tr>\n",
       "    <tr>\n",
       "      <th>mining_jobs</th>\n",
       "      <td>3.549097e-16</td>\n",
       "      <td>1.000071</td>\n",
       "    </tr>\n",
       "    <tr>\n",
       "      <th>public_jobs</th>\n",
       "      <td>-3.416803e-17</td>\n",
       "      <td>1.000071</td>\n",
       "    </tr>\n",
       "    <tr>\n",
       "      <th>construction_jobs</th>\n",
       "      <td>-2.663012e-16</td>\n",
       "      <td>1.000071</td>\n",
       "    </tr>\n",
       "  </tbody>\n",
       "</table>\n",
       "</div>"
      ],
      "text/plain": [
       "                           mean       std\n",
       "ID                 1.284553e-16  1.000071\n",
       "year               7.934145e-15  1.000071\n",
       "rain1             -2.424756e-16  1.000071\n",
       "elevation          4.546220e-17  1.000071\n",
       "slope             -1.492987e-16  1.000071\n",
       "aspect            -1.262028e-16  1.000071\n",
       "near_mines        -1.267555e-16  1.000071\n",
       "near_roads         1.585546e-16  1.000071\n",
       "near_hidrovia     -1.430013e-16  1.000071\n",
       "indigenous_homol   1.146072e-16  1.000071\n",
       "mun_election_year -2.359244e-16  1.000071\n",
       "new_forest_code    0.000000e+00  0.000000\n",
       "lula               4.974510e-17  1.000071\n",
       "dilma              5.735280e-16  1.000071\n",
       "temer              0.000000e+00  0.000000\n",
       "bolsonaro          0.000000e+00  0.000000\n",
       "fed_election_year -2.359244e-16  1.000071\n",
       "populacao          4.086601e-17  1.000071\n",
       "pib_pc            -1.374970e-16  1.000071\n",
       "ironore            9.612733e-17  1.000071\n",
       "silver            -4.785745e-17  1.000071\n",
       "copper             1.366087e-16  1.000071\n",
       "gold              -7.233343e-17  1.000071\n",
       "soy_price          5.540011e-17  1.000071\n",
       "beef_price         2.614037e-16  1.000071\n",
       "ag_jobs            6.674980e-17  1.000071\n",
       "mining_jobs        3.549097e-16  1.000071\n",
       "public_jobs       -3.416803e-17  1.000071\n",
       "construction_jobs -2.663012e-16  1.000071"
      ]
     },
     "execution_count": 277,
     "metadata": {},
     "output_type": "execute_result"
    }
   ],
   "source": [
    "#let's make sure the normalization works\n",
    "X_train_df = pd.DataFrame(X_train, index = X_train_unscaled.index, columns = X_train_unscaled.columns)\n",
    "X_train_df.describe().transpose()[['mean', 'std']]"
   ]
  },
  {
   "cell_type": "code",
   "execution_count": 278,
   "id": "a3edecec",
   "metadata": {},
   "outputs": [],
   "source": [
    "#notes from Kathryn:\n",
    "\n",
    "#if information leakage persists block by time period too \n",
    "#same pixels being repeated multiple times, FID \n",
    "#try filtering to keep each pixel only once-- identify source of leakage\n",
    "#can then use element of prediction \n",
    "#consider adding time as variable, later use more sophisticated tools to get around this\n",
    "#nearest neighbor variable, try without this variable, this variable absorbs a lot of the variation potentially\n",
    "#explanatory abilities vs. variable importance\n",
    "#commodity prices vary by year "
   ]
  },
  {
   "cell_type": "markdown",
   "id": "4990f390",
   "metadata": {},
   "source": [
    "## Random Forests"
   ]
  },
  {
   "cell_type": "code",
   "execution_count": 279,
   "id": "9d9d6cef",
   "metadata": {},
   "outputs": [
    {
     "data": {
      "text/plain": [
       "Index(['ID', 'year', 'forest.l', 'rain1', 'elevation', 'slope', 'aspect',\n",
       "       'near_mines', 'near_roads', 'near_hidrovia', 'indigenous_homol',\n",
       "       'mun_election_year', 'new_forest_code', 'lula', 'dilma', 'temer',\n",
       "       'bolsonaro', 'fed_election_year', 'populacao', 'pib_pc', 'ironore',\n",
       "       'silver', 'copper', 'gold', 'soy_price', 'beef_price', 'ag_jobs',\n",
       "       'mining_jobs', 'public_jobs', 'construction_jobs'],\n",
       "      dtype='object')"
      ]
     },
     "execution_count": 279,
     "metadata": {},
     "output_type": "execute_result"
    }
   ],
   "source": [
    "df.columns"
   ]
  },
  {
   "cell_type": "code",
   "execution_count": 280,
   "id": "8fa7f3c1",
   "metadata": {},
   "outputs": [],
   "source": [
    "#use random search cross validation to tune model hyperparameters\n",
    "\n",
    "# number of trees in random forest\n",
    "n_estimators = [int(x) for x in np.linspace(start = 10, stop = 20, num = 3)]\n",
    "\n",
    "# number of features to consider at every split\n",
    "max_features = ['auto', 'sqrt']\n",
    "\n",
    "# maximum number of levels in tree\n",
    "max_depth = [int(x) for x in np.linspace(10, 110, num = 10)]\n",
    "max_depth.append(None)\n",
    "\n",
    "# minimum number of samples required to split a node\n",
    "min_samples_split = [2, 5, 10]\n",
    "\n",
    "# minimum number of samples required at each leaf node\n",
    "min_samples_leaf = [1, 2, 4]\n",
    "\n",
    "# method of selecting samples for training each tree\n",
    "bootstrap = [True, False]\n",
    "\n",
    "#create random grid, all poss combos of these variables\n",
    "random_grid = {'n_estimators': n_estimators,\n",
    "               'max_features': max_features,\n",
    "               'max_depth': max_depth,\n",
    "               'min_samples_split': min_samples_split,\n",
    "               'min_samples_leaf': min_samples_leaf,\n",
    "               'bootstrap': bootstrap}\n",
    "\n"
   ]
  },
  {
   "cell_type": "code",
   "execution_count": 281,
   "id": "31d363fd",
   "metadata": {},
   "outputs": [
    {
     "name": "stdout",
     "output_type": "stream",
     "text": [
      "Fitting 5 folds for each of 10 candidates, totalling 50 fits\n"
     ]
    },
    {
     "data": {
      "text/plain": [
       "RandomizedSearchCV(cv=5, estimator=RandomForestRegressor(), n_jobs=-1,\n",
       "                   param_distributions={'bootstrap': [True, False],\n",
       "                                        'max_depth': [10, 21, 32, 43, 54, 65,\n",
       "                                                      76, 87, 98, 110, None],\n",
       "                                        'max_features': ['auto', 'sqrt'],\n",
       "                                        'min_samples_leaf': [1, 2, 4],\n",
       "                                        'min_samples_split': [2, 5, 10],\n",
       "                                        'n_estimators': [10, 15, 20]},\n",
       "                   random_state=42, scoring='neg_mean_squared_error',\n",
       "                   verbose=2)"
      ]
     },
     "execution_count": 281,
     "metadata": {},
     "output_type": "execute_result"
    }
   ],
   "source": [
    "# Use the random grid to search for best hyperparameters\n",
    "\n",
    "#create initial model to tune\n",
    "rf = RandomForestRegressor()\n",
    "\n",
    "# Random search of parameters, using 5 fold cross validation, \n",
    "# search across 1000 different combinations\n",
    "#note that we're using r2 scoring here since the goal of the project is to explain deforestation\n",
    "#todo: research additional scoring methods \n",
    "\n",
    "#scoring might also be r2 depending on what our priorities are\n",
    "rf_random = RandomizedSearchCV(estimator = rf, param_distributions = random_grid, n_iter = 10, scoring = 'neg_mean_squared_error', cv = 5, verbose = 2, random_state = 42, n_jobs = -1)\n",
    "\n",
    "# Fit the random search model\n",
    "rf_random.fit(X_train, y_train)"
   ]
  },
  {
   "cell_type": "code",
   "execution_count": 282,
   "id": "6c67d566",
   "metadata": {},
   "outputs": [
    {
     "data": {
      "text/plain": [
       "{'n_estimators': 15,\n",
       " 'min_samples_split': 5,\n",
       " 'min_samples_leaf': 2,\n",
       " 'max_features': 'auto',\n",
       " 'max_depth': 32,\n",
       " 'bootstrap': True}"
      ]
     },
     "execution_count": 282,
     "metadata": {},
     "output_type": "execute_result"
    }
   ],
   "source": [
    "#let's see what the best parameters are\n",
    "rf_random.best_params_"
   ]
  },
  {
   "cell_type": "code",
   "execution_count": 283,
   "id": "6ef4e84f",
   "metadata": {},
   "outputs": [
    {
     "data": {
      "text/plain": [
       "-239.80364751821784"
      ]
     },
     "execution_count": 283,
     "metadata": {},
     "output_type": "execute_result"
    }
   ],
   "source": [
    "#check how our best score did-- 93% best_score\n",
    "rf_random.best_score_"
   ]
  },
  {
   "cell_type": "code",
   "execution_count": 284,
   "id": "aaea3785",
   "metadata": {},
   "outputs": [],
   "source": [
    "def eval_model(model, test_features, test_labels):\n",
    "    predictions = model.predict(test_features)\n",
    "    \n",
    "    #print('Mean Absolute Error (MAE):', metrics.mean_absolute_error(test_labels, predictions))\n",
    "    print('Mean Squared Error (MSE):', metrics.mean_squared_error(test_labels, predictions))\n",
    "    #print('Root Mean Squared Error (RMSE):', metrics.mean_squared_error(test_labels, predictions, squared=False))\n",
    "    #print('Mean Absolute Percentage Error (MAPE):', metrics.mean_absolute_percentage_error(test_labels, predictions))\n",
    "    #print('Explained Variance Score:', metrics.explained_variance_score(test_labels, predictions))\n",
    "    #print('Max Error:', metrics.max_error(test_labels, predictions))\n",
    "    #print('Mean Squared Log Error:', metrics.mean_squared_log_error(test_labels, predictions))\n",
    "    #print('Median Absolute Error:', metrics.median_absolute_error(test_labels, predictions))\n",
    "    print('R^2:', metrics.r2_score(test_labels, predictions))\n",
    "    #print('Mean Poisson Deviance:', metrics.mean_poisson_deviance(test_labels, predictions))\n",
    "    #print('Mean Gamma Deviance:', metrics.mean_gamma_deviance(test_labels, predictions))"
   ]
  },
  {
   "cell_type": "code",
   "execution_count": 285,
   "id": "5b6b1746",
   "metadata": {},
   "outputs": [],
   "source": [
    "def diff(previous, current):\n",
    "    return ((float(current)-previous)/previous)*100"
   ]
  },
  {
   "cell_type": "code",
   "execution_count": 286,
   "id": "2e6f3a1e",
   "metadata": {},
   "outputs": [],
   "source": [
    "def eval_2_models(model1, model2, test_features, test_labels):\n",
    "    \n",
    "    predictions1 = model1.predict(test_features)\n",
    "    predictions2 = model2.predict(test_features)\n",
    "    \n",
    "    print('% Diff Mean Absolute Error (MAE):', diff(metrics.mean_absolute_error(test_labels, predictions1), metrics.mean_absolute_error(test_labels, predictions2)))\n",
    "    print('% Diff Mean Squared Error (MSE):', diff(metrics.mean_squared_error(test_labels, predictions1), metrics.mean_squared_error(test_labels, predictions2)))\n",
    "    print('% Diff Root Mean Squared Error (RMSE):', diff(metrics.mean_squared_error(test_labels, predictions1, squared=False), metrics.mean_squared_error(test_labels, predictions2, squared=False)))\n",
    "    print('% Diff Mean Absolute Percentage Error (MAPE):', diff(metrics.mean_absolute_percentage_error(test_labels, predictions1), metrics.mean_absolute_percentage_error(test_labels, predictions2)))\n",
    "    print('% Diff Explained Variance Score:', diff(metrics.explained_variance_score(test_labels, predictions1), metrics.explained_variance_score(test_labels, predictions2)))\n",
    "    print('% Diff Max Error:', diff(metrics.max_error(test_labels, predictions1), metrics.max_error(test_labels, predictions2)))\n",
    "    print('% Diff Mean Squared Log Error:', diff(metrics.mean_squared_log_error(test_labels, predictions1), metrics.mean_squared_log_error(test_labels, predictions2)))\n",
    "    print('% Diff Median Absolute Error:', diff(metrics.median_absolute_error(test_labels, predictions1), metrics.median_absolute_error(test_labels, predictions2)))\n",
    "    print('% Diff R^2:', diff(metrics.r2_score(test_labels, predictions1), metrics.r2_score(test_labels, predictions2)))\n",
    "    print('% Diff Mean Poisson Deviance:', diff(metrics.mean_poisson_deviance(test_labels, predictions1), metrics.mean_poisson_deviance(test_labels, predictions2)))\n",
    "    #print('% Diff Mean Gamma Deviance:', diff(metrics.mean_gamma_deviance(test_labels, predictions1), metrics.mean_gamma_deviance(test_labels, predictions2)))\n",
    "    "
   ]
  },
  {
   "cell_type": "code",
   "execution_count": 287,
   "id": "fb172747",
   "metadata": {},
   "outputs": [],
   "source": [
    "#compare arbitrarily selected base model to our cv searched model \n",
    "base_model = RandomForestRegressor(n_estimators = 10, random_state = 42)\n",
    "base_model.fit(X_train, y_train)\n",
    "best_random = rf_random.best_estimator_\n"
   ]
  },
  {
   "cell_type": "code",
   "execution_count": 288,
   "id": "15585c28",
   "metadata": {
    "scrolled": false
   },
   "outputs": [
    {
     "name": "stdout",
     "output_type": "stream",
     "text": [
      "Mean Squared Error (MSE): 314.4678173942019\n",
      "R^2: 0.578614281927433\n"
     ]
    }
   ],
   "source": [
    "eval_model(base_model, X_test, y_test)"
   ]
  },
  {
   "cell_type": "code",
   "execution_count": 289,
   "id": "22d24d8b",
   "metadata": {
    "scrolled": false
   },
   "outputs": [
    {
     "name": "stdout",
     "output_type": "stream",
     "text": [
      "Mean Squared Error (MSE): 309.2415290491872\n",
      "R^2: 0.5856174890771098\n"
     ]
    }
   ],
   "source": [
    "eval_model(best_random, X_test, y_test)"
   ]
  },
  {
   "cell_type": "code",
   "execution_count": 290,
   "id": "41b24c1d",
   "metadata": {},
   "outputs": [
    {
     "name": "stdout",
     "output_type": "stream",
     "text": [
      "% Diff Mean Absolute Error (MAE): -1.9554707353460203\n",
      "% Diff Mean Squared Error (MSE): -1.6619469643417584\n",
      "% Diff Root Mean Squared Error (RMSE): -0.8344550583932702\n",
      "% Diff Mean Absolute Percentage Error (MAPE): -25.736220786471964\n",
      "% Diff Explained Variance Score: 1.0219027047347597\n",
      "% Diff Max Error: -4.831698173406693\n",
      "% Diff Mean Squared Log Error: 0.7945317006669764\n",
      "% Diff Median Absolute Error: -3.9805269186713383\n",
      "% Diff R^2: 1.2103412183930562\n",
      "% Diff Mean Poisson Deviance: -1.3950492639505936\n"
     ]
    }
   ],
   "source": [
    "#compare the above\n",
    "eval_2_models(base_model, best_random, X_test, y_test)"
   ]
  },
  {
   "cell_type": "code",
   "execution_count": null,
   "id": "c26694c8",
   "metadata": {},
   "outputs": [],
   "source": []
  },
  {
   "cell_type": "code",
   "execution_count": 291,
   "id": "4b5501dd",
   "metadata": {},
   "outputs": [],
   "source": [
    "#n_estimators should be 500 as in the paper? "
   ]
  },
  {
   "cell_type": "code",
   "execution_count": 292,
   "id": "6add199b",
   "metadata": {},
   "outputs": [
    {
     "data": {
      "text/plain": [
       "{'cv': 5,\n",
       " 'error_score': nan,\n",
       " 'estimator__bootstrap': True,\n",
       " 'estimator__ccp_alpha': 0.0,\n",
       " 'estimator__criterion': 'mse',\n",
       " 'estimator__max_depth': None,\n",
       " 'estimator__max_features': 'auto',\n",
       " 'estimator__max_leaf_nodes': None,\n",
       " 'estimator__max_samples': None,\n",
       " 'estimator__min_impurity_decrease': 0.0,\n",
       " 'estimator__min_impurity_split': None,\n",
       " 'estimator__min_samples_leaf': 1,\n",
       " 'estimator__min_samples_split': 2,\n",
       " 'estimator__min_weight_fraction_leaf': 0.0,\n",
       " 'estimator__n_estimators': 100,\n",
       " 'estimator__n_jobs': None,\n",
       " 'estimator__oob_score': False,\n",
       " 'estimator__random_state': None,\n",
       " 'estimator__verbose': 0,\n",
       " 'estimator__warm_start': False,\n",
       " 'estimator': RandomForestRegressor(),\n",
       " 'n_iter': 10,\n",
       " 'n_jobs': -1,\n",
       " 'param_distributions': {'n_estimators': [10, 15, 20],\n",
       "  'max_features': ['auto', 'sqrt'],\n",
       "  'max_depth': [10, 21, 32, 43, 54, 65, 76, 87, 98, 110, None],\n",
       "  'min_samples_split': [2, 5, 10],\n",
       "  'min_samples_leaf': [1, 2, 4],\n",
       "  'bootstrap': [True, False]},\n",
       " 'pre_dispatch': '2*n_jobs',\n",
       " 'random_state': 42,\n",
       " 'refit': True,\n",
       " 'return_train_score': False,\n",
       " 'scoring': 'neg_mean_squared_error',\n",
       " 'verbose': 2}"
      ]
     },
     "execution_count": 292,
     "metadata": {},
     "output_type": "execute_result"
    }
   ],
   "source": [
    "rf_random.get_params()"
   ]
  },
  {
   "cell_type": "code",
   "execution_count": null,
   "id": "8cc1fb13",
   "metadata": {},
   "outputs": [],
   "source": []
  },
  {
   "cell_type": "markdown",
   "id": "0b4cf0a2",
   "metadata": {},
   "source": [
    "## Gradient Boosting"
   ]
  },
  {
   "cell_type": "code",
   "execution_count": 293,
   "id": "88ddfd40",
   "metadata": {},
   "outputs": [],
   "source": [
    "from sklearn import datasets\n",
    "from sklearn.preprocessing import StandardScaler\n",
    "\n",
    "from sklearn.pipeline import make_pipeline\n",
    "from sklearn.ensemble import GradientBoostingRegressor\n",
    "from sklearn.decomposition import PCA\n",
    "from sklearn.metrics import mean_squared_error"
   ]
  },
  {
   "cell_type": "code",
   "execution_count": 294,
   "id": "4e57d8e6",
   "metadata": {},
   "outputs": [],
   "source": [
    "#use random search cross validation to tune model hyperparameters\n",
    "\n",
    "# trade-off between learning_rate and n_estimators\n",
    "learning_rate = [0.1, 0.2, 0.3]\n",
    "\n",
    "# \n",
    "n_estimators = [80, 100, 200]\n",
    "\n",
    "# maximum number of levels in tree\n",
    "criterion = ['friedman_mse', 'squared_error', 'mse', 'mae']\n",
    "\n",
    "# minimum number of samples required to split a node\n",
    "min_samples_split = [2, 5, 10]\n",
    "\n",
    "# minimum number of samples required at each leaf node\n",
    "min_samples_leaf = [1, 2, 4]\n",
    "\n",
    "\n",
    "#create random grid, all poss combos of these variables\n",
    "random_grid = {'n_estimators': n_estimators,\n",
    "               'criterion': criterion,\n",
    "               'min_samples_split': min_samples_split,\n",
    "               'min_samples_leaf': min_samples_leaf,}\n"
   ]
  },
  {
   "cell_type": "code",
   "execution_count": 295,
   "id": "7901858b",
   "metadata": {},
   "outputs": [
    {
     "name": "stdout",
     "output_type": "stream",
     "text": [
      "Fitting 3 folds for each of 2 candidates, totalling 6 fits\n"
     ]
    },
    {
     "data": {
      "text/plain": [
       "RandomizedSearchCV(cv=3, estimator=GradientBoostingRegressor(), n_iter=2,\n",
       "                   n_jobs=-1,\n",
       "                   param_distributions={'criterion': ['friedman_mse',\n",
       "                                                      'squared_error', 'mse',\n",
       "                                                      'mae'],\n",
       "                                        'min_samples_leaf': [1, 2, 4],\n",
       "                                        'min_samples_split': [2, 5, 10],\n",
       "                                        'n_estimators': [80, 100, 200]},\n",
       "                   random_state=42, scoring='r2', verbose=2)"
      ]
     },
     "execution_count": 295,
     "metadata": {},
     "output_type": "execute_result"
    }
   ],
   "source": [
    "# Use the random grid to search for best hyperparameters\n",
    "\n",
    "#create initial model to tune\n",
    "gbr = GradientBoostingRegressor()\n",
    "\n",
    "# Random search of parameters, using 5 fold cross validation, \n",
    "# search across 1000 different combinations\n",
    "#note that we're using r2 scoring here since the goal of the project is to explain deforestation\n",
    "#todo: research additional scoring methods \n",
    "\n",
    "gbr_random = RandomizedSearchCV(estimator = gbr, param_distributions = random_grid, n_iter = 2, scoring = 'r2', cv = 3, verbose=2, random_state=42, n_jobs = -1)\n",
    "\n",
    "# Fit the random search model\n",
    "gbr_random.fit(X_train, y_train)"
   ]
  },
  {
   "cell_type": "code",
   "execution_count": 296,
   "id": "2232ef0d",
   "metadata": {},
   "outputs": [
    {
     "data": {
      "text/plain": [
       "0.6883716258226057"
      ]
     },
     "execution_count": 296,
     "metadata": {},
     "output_type": "execute_result"
    }
   ],
   "source": [
    "#let's see what the best parameters are\n",
    "gbr_random.best_params_\n",
    "\n",
    "#check how our best score did-- 93% best_score but unreasonable\n",
    "gbr_random.best_score_"
   ]
  },
  {
   "cell_type": "code",
   "execution_count": 297,
   "id": "d4081374",
   "metadata": {},
   "outputs": [],
   "source": [
    "#compare arbitrarily selected base model to our cv searched model \n",
    "base_model = GradientBoostingRegressor(n_estimators = 10, random_state = 42)\n",
    "base_model.fit(X_train, y_train)\n",
    "best_random = gbr_random.best_estimator_"
   ]
  },
  {
   "cell_type": "code",
   "execution_count": 298,
   "id": "83287be5",
   "metadata": {},
   "outputs": [
    {
     "name": "stdout",
     "output_type": "stream",
     "text": [
      "Mean Squared Error (MSE): 409.2015277699017\n",
      "R^2: 0.45167145864227076\n"
     ]
    }
   ],
   "source": [
    "eval_model(base_model, X_test, y_test)"
   ]
  },
  {
   "cell_type": "code",
   "execution_count": 299,
   "id": "089df2b8",
   "metadata": {},
   "outputs": [
    {
     "name": "stdout",
     "output_type": "stream",
     "text": [
      "Mean Squared Error (MSE): 277.80808857101835\n",
      "R^2: 0.6277381836433852\n"
     ]
    }
   ],
   "source": [
    "eval_model(best_random, X_test, y_test)"
   ]
  },
  {
   "cell_type": "code",
   "execution_count": 300,
   "id": "188d1161",
   "metadata": {},
   "outputs": [
    {
     "name": "stdout",
     "output_type": "stream",
     "text": [
      "% Diff Mean Absolute Error (MAE): -26.674393384090557\n",
      "% Diff Mean Squared Error (MSE): -32.1097137429964\n",
      "% Diff Root Mean Squared Error (RMSE): -17.60443807036474\n",
      "% Diff Mean Absolute Percentage Error (MAPE): -21.105027055088858\n",
      "% Diff Explained Variance Score: 38.84465726849778\n",
      "% Diff Max Error: 2.2165204359643034\n",
      "% Diff Mean Squared Log Error: -34.71154767285287\n",
      "% Diff Median Absolute Error: -36.50514700058367\n",
      "% Diff R^2: 38.981149158809565\n",
      "% Diff Mean Poisson Deviance: -31.173516872279393\n"
     ]
    }
   ],
   "source": [
    "eval_2_models(base_model, best_random, X_test, y_test)"
   ]
  },
  {
   "cell_type": "code",
   "execution_count": 301,
   "id": "04f0268b",
   "metadata": {},
   "outputs": [],
   "source": [
    "#great changes on this one, much better effects of using cross validation with GBR than RF\n",
    "#Is this excpected? compare my results here to other findings. How much do these metrics usually change? \n",
    "#What metrics do we care most about given our applications? \n",
    "#How can each model translate to variable importance estimates?\n",
    "#How do the important variables change when we use Machine learning vs. Simple Linear Regression? Why? "
   ]
  },
  {
   "cell_type": "code",
   "execution_count": null,
   "id": "fd1493d0",
   "metadata": {},
   "outputs": [],
   "source": []
  },
  {
   "cell_type": "markdown",
   "id": "8d897b6b",
   "metadata": {},
   "source": [
    "## Neural Network"
   ]
  },
  {
   "cell_type": "code",
   "execution_count": 302,
   "id": "8cbb138b",
   "metadata": {},
   "outputs": [],
   "source": [
    "from keras.models import Sequential\n",
    "from keras.layers import Dense"
   ]
  },
  {
   "cell_type": "markdown",
   "id": "80c7f033",
   "metadata": {},
   "source": [
    "corruption paper uses logistic activation function, uses cross-validation to determine the optimal number of units in the hidden layer (size) and the regularization parameter (decay)\n",
    "\n"
   ]
  },
  {
   "cell_type": "code",
   "execution_count": 303,
   "id": "5d651a04",
   "metadata": {},
   "outputs": [
    {
     "data": {
      "text/plain": [
       "True"
      ]
     },
     "execution_count": 303,
     "metadata": {},
     "output_type": "execute_result"
    }
   ],
   "source": [
    "X_train.shape[0] == y_train.shape[0]"
   ]
  },
  {
   "cell_type": "code",
   "execution_count": 304,
   "id": "71ec3ef0",
   "metadata": {},
   "outputs": [
    {
     "name": "stdout",
     "output_type": "stream",
     "text": [
      "Epoch 1/10\n",
      "350/350 [==============================] - 1s 865us/step - loss: 5853.5522\n",
      "Epoch 2/10\n",
      "350/350 [==============================] - 0s 855us/step - loss: 5431.9351\n",
      "Epoch 3/10\n",
      "350/350 [==============================] - 0s 881us/step - loss: 5127.6670\n",
      "Epoch 4/10\n",
      "350/350 [==============================] - 0s 769us/step - loss: 4853.5420\n",
      "Epoch 5/10\n",
      "350/350 [==============================] - 0s 752us/step - loss: 4596.9282\n",
      "Epoch 6/10\n",
      "350/350 [==============================] - 0s 769us/step - loss: 4354.0493\n",
      "Epoch 7/10\n",
      "350/350 [==============================] - 0s 781us/step - loss: 4123.0381\n",
      "Epoch 8/10\n",
      "350/350 [==============================] - 0s 853us/step - loss: 3902.4204\n",
      "Epoch 9/10\n",
      "350/350 [==============================] - 0s 760us/step - loss: 3691.6467\n",
      "Epoch 10/10\n",
      "350/350 [==============================] - 0s 761us/step - loss: 3490.1360\n"
     ]
    },
    {
     "data": {
      "text/plain": [
       "<keras.callbacks.History at 0x7fa8413ecf10>"
      ]
     },
     "execution_count": 304,
     "metadata": {},
     "output_type": "execute_result"
    }
   ],
   "source": [
    "# create ANN model\n",
    "model = Sequential()\n",
    " \n",
    "# Defining the Input layer and FIRST hidden layer, both are same!\n",
    "model.add(Dense(units = 5, input_dim = X_train.shape[1], kernel_initializer = 'normal', activation = 'relu'))\n",
    " \n",
    "# Defining the Second layer of the model\n",
    "# after the first layer we don't have to specify input_dim as keras configure it automatically\n",
    "model.add(Dense(units = 5, kernel_initializer = 'normal', activation = 'tanh'))\n",
    "  \n",
    "# The output neuron is a single fully connected node \n",
    "# Since we will be predicting a single number\n",
    "model.add(Dense(1, kernel_initializer = 'normal'))\n",
    " \n",
    "# Compiling the model\n",
    "model.compile(loss = 'mean_squared_error', optimizer = 'adam')\n",
    " \n",
    "# Fitting the ANN to the Training set\n",
    "model.fit(X_train, y_train ,batch_size = 20, epochs = 10, verbose=1)"
   ]
  },
  {
   "cell_type": "code",
   "execution_count": 305,
   "id": "c2bfca48",
   "metadata": {},
   "outputs": [
    {
     "name": "stdout",
     "output_type": "stream",
     "text": [
      "Mean Squared Error (MSE): 3499.0463411619753\n",
      "R^2: -3.6887092207322096\n"
     ]
    }
   ],
   "source": [
    "eval_model(model, X_test, y_test)"
   ]
  },
  {
   "cell_type": "code",
   "execution_count": null,
   "id": "488320c3",
   "metadata": {},
   "outputs": [],
   "source": []
  },
  {
   "cell_type": "markdown",
   "id": "ef470ef1",
   "metadata": {},
   "source": [
    "## Feature Importance Tests"
   ]
  },
  {
   "cell_type": "code",
   "execution_count": null,
   "id": "bd7484e2",
   "metadata": {},
   "outputs": [],
   "source": [
    "#https://machinelearningmastery.com/calculate-feature-importance-with-python/"
   ]
  },
  {
   "cell_type": "code",
   "execution_count": 150,
   "id": "95ec8147",
   "metadata": {},
   "outputs": [],
   "source": [
    "from sklearn.datasets import make_regression\n",
    "from sklearn.linear_model import LinearRegression\n",
    "from matplotlib import pyplot"
   ]
  },
  {
   "cell_type": "code",
   "execution_count": 166,
   "id": "fe99aefc",
   "metadata": {},
   "outputs": [
    {
     "data": {
      "text/plain": [
       "Index(['ID', 'FID', 'x', 'y', 'year', 'rain1', 'elevation', 'slope', 'aspect',\n",
       "       'near_mines', 'near_roads', 'near_hidrovia', 'indigenous_homol',\n",
       "       'mun_election_year', 'new_forest_code', 'lula', 'dilma', 'temer',\n",
       "       'bolsonaro', 'fed_election_year', 'populacao', 'pib_pc', 'ironore',\n",
       "       'silver', 'copper', 'gold', 'soy_price', 'beef_price', 'ag_jobs',\n",
       "       'mining_jobs', 'public_jobs', 'construction_jobs'],\n",
       "      dtype='object')"
      ]
     },
     "execution_count": 166,
     "metadata": {},
     "output_type": "execute_result"
    }
   ],
   "source": [
    "df_train.drop('forest.l', axis = 1).columns\n"
   ]
  },
  {
   "cell_type": "code",
   "execution_count": 158,
   "id": "da49bdf9",
   "metadata": {},
   "outputs": [
    {
     "name": "stdout",
     "output_type": "stream",
     "text": [
      "Feature: 0, Score: -2.12814\n",
      "Feature: 1, Score: 41257.59469\n",
      "Feature: 2, Score: -41268.35994\n",
      "Feature: 3, Score: -6.18811\n",
      "Feature: 4, Score: -2.79473\n",
      "Feature: 5, Score: 6.85079\n",
      "Feature: 6, Score: -6.32647\n",
      "Feature: 7, Score: 2.51115\n",
      "Feature: 8, Score: 0.25949\n",
      "Feature: 9, Score: -0.20730\n",
      "Feature: 10, Score: 3.84496\n",
      "Feature: 11, Score: 3.58649\n",
      "Feature: 12, Score: 1.73757\n",
      "Feature: 13, Score: 0.00757\n",
      "Feature: 14, Score: -0.00000\n",
      "Feature: 15, Score: -0.30702\n",
      "Feature: 16, Score: 1.25929\n",
      "Feature: 17, Score: -0.00000\n",
      "Feature: 18, Score: -0.00000\n",
      "Feature: 19, Score: 0.00757\n",
      "Feature: 20, Score: 0.94895\n",
      "Feature: 21, Score: -3.83835\n",
      "Feature: 22, Score: 0.93002\n",
      "Feature: 23, Score: -7.79615\n",
      "Feature: 24, Score: 0.52127\n",
      "Feature: 25, Score: 10.63118\n",
      "Feature: 26, Score: -3.43115\n",
      "Feature: 27, Score: 0.39458\n",
      "Feature: 28, Score: 4.16089\n",
      "Feature: 29, Score: 2.55787\n",
      "Feature: 30, Score: 1.42926\n",
      "Feature: 31, Score: 0.55943\n"
     ]
    },
    {
     "data": {
      "image/png": "[encoded data removed]",
      "text/plain": [
       "<Figure size 432x288 with 1 Axes>"
      ]
     },
     "metadata": {
      "needs_background": "light"
     },
     "output_type": "display_data"
    }
   ],
   "source": [
    "X_train_unscaled = df_train.drop('forest.l', axis = 1)\n",
    "#X_train_unscaled = X_train_unscaled.drop('FID', axis = 1)\n",
    "X_train = sc.fit_transform(X_train_unscaled)\n",
    "\n",
    "# define  model\n",
    "model = LinearRegression()\n",
    "\n",
    "# fit the model\n",
    "model.fit(X_train, y_train)\n",
    "\n",
    "# get importance\n",
    "importance = model.coef_\n",
    "\n",
    "# summarize feature importance\n",
    "for i,v in enumerate(importance):\n",
    "    print('Feature: %0d, Score: %.5f' % (i,v))\n",
    "    \n",
    "# plot feature importance\n",
    "pyplot.bar([x for x in range(len(importance))], importance)\n",
    "pyplot.show()"
   ]
  },
  {
   "cell_type": "code",
   "execution_count": 154,
   "id": "38d158fd",
   "metadata": {},
   "outputs": [
    {
     "name": "stdout",
     "output_type": "stream",
     "text": [
      "Feature: 0, Score: -1.76128\n",
      "Feature: 1, Score: -10.22626\n",
      "Feature: 2, Score: 1.64240\n",
      "Feature: 3, Score: -3.00494\n",
      "Feature: 4, Score: 7.20672\n",
      "Feature: 5, Score: -6.22725\n",
      "Feature: 6, Score: 2.44147\n",
      "Feature: 7, Score: 0.20707\n",
      "Feature: 8, Score: -1.26887\n",
      "Feature: 9, Score: 3.96111\n",
      "Feature: 10, Score: 3.70199\n",
      "Feature: 11, Score: 1.84566\n",
      "Feature: 12, Score: 0.02775\n",
      "Feature: 13, Score: -0.00000\n",
      "Feature: 14, Score: -0.23458\n",
      "Feature: 15, Score: 1.34905\n",
      "Feature: 16, Score: 0.00000\n",
      "Feature: 17, Score: 0.00000\n",
      "Feature: 18, Score: 0.02775\n",
      "Feature: 19, Score: 0.94777\n",
      "Feature: 20, Score: -3.76171\n",
      "Feature: 21, Score: 1.06571\n",
      "Feature: 22, Score: -8.11139\n",
      "Feature: 23, Score: 0.44116\n",
      "Feature: 24, Score: 11.08237\n",
      "Feature: 25, Score: -3.60427\n",
      "Feature: 26, Score: 0.50557\n",
      "Feature: 27, Score: 4.35568\n",
      "Feature: 28, Score: 2.65902\n",
      "Feature: 29, Score: 1.49057\n",
      "Feature: 30, Score: 0.53700\n"
     ]
    },
    {
     "data": {
      "image/png": "[encoded data removed]",
      "text/plain": [
       "<Figure size 432x288 with 1 Axes>"
      ]
     },
     "metadata": {
      "needs_background": "light"
     },
     "output_type": "display_data"
    }
   ],
   "source": [
    "X_train_unscaled = df_train.drop('forest.l', axis = 1)\n",
    "X_train_unscaled = X_train_unscaled.drop('FID', axis = 1)\n",
    "X_train = sc.fit_transform(X_train_unscaled)\n",
    "\n",
    "# define  model\n",
    "model = LinearRegression()\n",
    "\n",
    "# fit the model\n",
    "model.fit(X_train, y_train)\n",
    "\n",
    "# get importance\n",
    "importance = model.coef_\n",
    "\n",
    "# summarize feature importance\n",
    "for i,v in enumerate(importance):\n",
    "    print('Feature: %0d, Score: %.5f' % (i,v))\n",
    "    \n",
    "# plot feature importance\n",
    "pyplot.bar([x for x in range(len(importance))], importance)\n",
    "pyplot.show()"
   ]
  },
  {
   "cell_type": "code",
   "execution_count": 156,
   "id": "8bf10d83",
   "metadata": {},
   "outputs": [],
   "source": [
    "from sklearn.datasets import make_regression\n",
    "from sklearn.tree import DecisionTreeRegressor\n",
    "from matplotlib import pyplot"
   ]
  },
  {
   "cell_type": "code",
   "execution_count": 157,
   "id": "e137abc6",
   "metadata": {},
   "outputs": [
    {
     "name": "stdout",
     "output_type": "stream",
     "text": [
      "Feature: 0, Score: 0.02503\n",
      "Feature: 1, Score: 0.16902\n",
      "Feature: 2, Score: 0.11305\n",
      "Feature: 3, Score: 0.00282\n",
      "Feature: 4, Score: 0.35073\n",
      "Feature: 5, Score: 0.04944\n",
      "Feature: 6, Score: 0.00289\n",
      "Feature: 7, Score: 0.01471\n",
      "Feature: 8, Score: 0.02811\n",
      "Feature: 9, Score: 0.06013\n",
      "Feature: 10, Score: 0.02486\n",
      "Feature: 11, Score: 0.00960\n",
      "Feature: 12, Score: 0.00069\n",
      "Feature: 13, Score: 0.00000\n",
      "Feature: 14, Score: 0.00029\n",
      "Feature: 15, Score: 0.00011\n",
      "Feature: 16, Score: 0.00000\n",
      "Feature: 17, Score: 0.00000\n",
      "Feature: 18, Score: 0.00029\n",
      "Feature: 19, Score: 0.00930\n",
      "Feature: 20, Score: 0.01319\n",
      "Feature: 21, Score: 0.00275\n",
      "Feature: 22, Score: 0.00211\n",
      "Feature: 23, Score: 0.00643\n",
      "Feature: 24, Score: 0.00126\n",
      "Feature: 25, Score: 0.00764\n",
      "Feature: 26, Score: 0.00268\n",
      "Feature: 27, Score: 0.07828\n",
      "Feature: 28, Score: 0.01030\n",
      "Feature: 29, Score: 0.00882\n",
      "Feature: 30, Score: 0.00546\n"
     ]
    },
    {
     "data": {
      "image/png": "[encoded data removed]",
      "text/plain": [
       "<Figure size 432x288 with 1 Axes>"
      ]
     },
     "metadata": {
      "needs_background": "light"
     },
     "output_type": "display_data"
    }
   ],
   "source": [
    "model = DecisionTreeRegressor()\n",
    "\n",
    "# fit the model\n",
    "model.fit(X_train, y_train)\n",
    "\n",
    "# get importance\n",
    "importance = model.feature_importances_\n",
    "\n",
    "# summarize feature importance\n",
    "for i,v in enumerate(importance):\n",
    "    print('Feature: %0d, Score: %.5f' % (i,v))\n",
    "    \n",
    "# plot feature importance\n",
    "pyplot.bar([x for x in range(len(importance))], importance)\n",
    "pyplot.show()"
   ]
  },
  {
   "cell_type": "markdown",
   "id": "8ffe7ff4",
   "metadata": {},
   "source": [
    "## Variable Importance Things to look into: \n",
    "https://mljar.com/blog/feature-importance-in-random-forest/\n",
    "\n",
    "https://arxiv.org/pdf/1407.7502.pdf"
   ]
  },
  {
   "cell_type": "code",
   "execution_count": null,
   "id": "a9f97565",
   "metadata": {},
   "outputs": [],
   "source": []
  }
 ],
 "metadata": {
  "kernelspec": {
   "display_name": "Python 3",
   "language": "python",
   "name": "python3"
  },
  "language_info": {
   "codemirror_mode": {
    "name": "ipython",
    "version": 3
   },
   "file_extension": ".py",
   "mimetype": "text/x-python",
   "name": "python",
   "nbconvert_exporter": "python",
   "pygments_lexer": "ipython3",
   "version": "3.8.8"
  }
 },
 "nbformat": 4,
 "nbformat_minor": 5
}
