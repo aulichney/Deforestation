{
 "cells": [
  {
   "cell_type": "markdown",
   "id": "ba5f3dad",
   "metadata": {},
   "source": [
    "## Notes and Questions\n",
    "- The metrics they use to select their model parameters are metrics for classification, will have to look more into the analogs in regression beyond the standard ones I've done in class\n",
    "- how strictly to follow paper e.g. number trees in random forest\n",
    "\n",
    "- when splitting into test/train noticed that there are different numbers of entries in each municipality, should I split based on data points of number of municipalities"
   ]
  },
  {
   "cell_type": "markdown",
   "id": "3cb69bea",
   "metadata": {},
   "source": [
    "## ToDo\n",
    "- use gridsearch instead of random grid search eventually\n",
    "- look into computing externally\n",
    "- try running with normalization, standardization, and nothing\n",
    "- one article I read said that normalization/standardization can actually harm variable importance analysis bc there is some assumption made along the way that features are of the same importance\n"
   ]
  },
  {
   "cell_type": "markdown",
   "id": "867c7b45",
   "metadata": {},
   "source": [
    "### Covariates in corruption paper \n",
    "1. private sector includes different measures of economic activity and sectoral distributions\n",
    "\n",
    "- Average business establishments size based on employment, number of business establishments, payroll per employee, average business establishments payroll, share of business establishments entering, share of business establishments exiting, business establishments churning, share of private sector workers over population, Hirschman-Herfindahl index based on business establishments size, average growth in business establishments and in employment in past 3 years, share of business establishments below 5 employees, share of business establishments between 5 and 25 employees, share of business establishments above 25 employees, share of business establishments in construction, share of business establishments in retail, share of business establishments in services.\n",
    "\n",
    "2. public sector features include the size, relative importance, and wages of public officials\n",
    "\n",
    "- Share of public sector employees over population, average wage of public sector employees, share of public institutions opening,share of public institutions closing, public institutions churning, share of workers by position within the institution, average growth in public employment and public institutions in past 3 years, share of public sector employees from municipal institutions, number of public institutions, average public institution size based on employment.\n",
    "\n",
    "3. financial development includes measures of credit-related variables from public and private banks\n",
    "\n",
    "- Share of business establishments receiving public loans, number of public loans per business establishment, total public credit per business establishment, average interest rate in public lending, bank branches per capita, banks per capita, total private credit per capita, total deposits per capita, and Hirschman-Herfindahl index based on private banks total assets and based on private banks credit.\n",
    "\n",
    "4. human capital includes measures of education and access to it\n",
    "\n",
    "- Literacy rate, the share of population between 15 and 24 years old that finished, the first, second, and third cycle of primary education (Census), illiteracy rate (Census), average test scores in Portuguese and maths for nationwide tests at 4th and 8th grade, average private sector employees education, average private sector employees education by worker position within the firm, share of unqualified public employees based on job requirements, share of unqualified public employees by position within the institution, average public employees education, average public employees education by position within the institution, number of higher public education institutions per capita, number of higher private education institutions per capita.\n",
    "\n",
    "5. public spending includes different types of spending as well as local procurement variables\n",
    "\n",
    "- Total expenditures per capita, personnel expenditures per capita, budget surplus per capita, total revenue per capita, federal transfers of capital per capita, federal current transfers per capita, transfers from the national tax fund per capita, share of business establishments in the municipality with public procurement, number of contracts per business establishments, federal procurement expenditure over population, share of discretionary contracts, and share of competitive contracts.\n",
    "\n",
    "6. local politics includes variables of political competition and alignment with the central government\n",
    "\n",
    "- Number of candidates, Hirschman-Herfindahl index based on the vote shares, margin of victory between the winner and the runner-up, an indicator for whether the mayor is in his second term, an indicator for whether the mayor’s party is the same as the one of the governor, an indicator for whether the mayor’s party is from the same party as the one of the president, an indicator if the mayor is from right-wing party, an indicator if the mayor is from left-wing party, average candidate campaign donations and expenditures for firms and individuals, and per capita campaign donations and expenditures for firms and individuals.\n",
    "\n",
    "7. local demographics\n",
    "\n",
    "- Population density, GDP per capita, share of population living in rural areas (Census), deaths by aggression, GINI coefficient for income distribution (Census), average night light intensity coverage performing deblurring, inter-calibration, and geometric corrections, local radio, local newspapers, infant mortality rate, child mortality rate, average number of prenatal visits, share of abnormal births, share of underweight births, share of births with more than seven prenatal visits, and share of births with more than four prenatal visits.\n",
    "\n",
    "8. natural resources’ dependency includes the relevance of different natural resources, and finally \n",
    "- Share of business establishments in agriculture and mining sector, share of production of each of the top-7 crops in the country multiplied by the the log change in international prices and share of value of production over GDP (as constructed in Bernstein et al., 2018). The crops included are sugar cane, oranges, soybeans, maize, rice, rice, banana, and wheat, covering more than 98% of total agricultural production."
   ]
  },
  {
   "cell_type": "markdown",
   "id": "101a83ae",
   "metadata": {},
   "source": [
    "### Covariates in deforestation\n",
    "1. federal politics\n",
    "- \"lula\": Lula government years (2003-2010),\n",
    "- \"dilma\": Dilma government yeras (2011-2016),\n",
    "- \"temer\": Temer interim government (2017-2018),\n",
    "- \"bolsonaro\": Bolsonaro government (2019-2020),\n",
    "- \"fed_election_year\": Years where there was a Federal Election \n",
    "- \"new_forest_code\": years after new forest code (post 2012), --? is this one sorted correctly\n",
    "\n",
    "2. local politics includes variables of political competition and alignment with the central government\n",
    "- \"mun_election_year\": municipal election year,\n",
    "\n",
    "\n",
    "3. local demographics\n",
    "\n",
    "- \"populacao\": Population (I think this is census data so 2000 and 2010),\n",
    "- \"pib_pc\": GDP per capita,\n",
    "- \"indigenous_homol\": pixel is inside an indigenous, homologated territory\n",
    "\n",
    "4. natural resources and economy\n",
    "\n",
    "- \"ironore\": whether the municipality produces ironore,\n",
    "- \"silver\": whether the municipality produces silver,\n",
    "- \"copper\": whether the municipality produces copper,\n",
    "- \"gold\": whether the municipality produces gold,\n",
    "\n",
    "- \"soy_price\": whether the municipality produces soy,\n",
    "- \"beef_price\": whether the municipality produces beef,\n",
    "\n",
    "- \"ag_jobs\": total employment in the agricultural sector,\n",
    "- \"mining_jobs\": total employment in the mining sector,\n",
    "- \"public_jobs\": total employment in the public sector,\n",
    "- \"construction_jobs\": total employment in the construction sector\n",
    "\n",
    "\n",
    "5. non-human related geographic variables\n",
    "- \"rain1\": rainfall,\n",
    "- \"elevation\": elevation (meters above sea level),\n",
    "- \"slope\": slope,\n",
    "- \"aspect\": aspect,\n",
    "- \"near_mines\": distance to nearest mine,\n",
    "- \"near_roads\": distance to nearest road,\n",
    "- \"near_hidrovia\": distance to nearest hydroeletric,"
   ]
  },
  {
   "cell_type": "markdown",
   "id": "3e45c0d6",
   "metadata": {},
   "source": [
    "## Models\n",
    "- Random Forests\n",
    "    - In this application, we keep fixed the number of fitted trees (500) and use cross-validation to determine the optimal number of features available in every node\n",
    "- Gradient Boosting \n",
    "    - we keep fixed the learning rate (shrinkage parameter) and the minimum number of observations in the terminal nodes to avoid overfitting, and use cross-validation to determine the optimal number of trees and the interaction depth\n",
    "- Neural Networks \n",
    "    - we keep fixed a logistic activation function and use cross-validation to determine the optimal number of units in the hidden layer (size) and the regularization parameter (decay)\n",
    "- LASSO\n",
    "    - The tuning parameter in the cross-validation is the weight of the penalization term in the objective function (λ), which is optimized over a grid of potential values\n",
    "- Super Learner Ensemble\n",
    "    - we use the Super Learner ensemble method developed by Polley et al. (2011), which finds an optimal combination of individual prediction models by minimizing the cross-validated out-of-bag risk of these predic- tions"
   ]
  },
  {
   "cell_type": "markdown",
   "id": "7e335012",
   "metadata": {},
   "source": [
    "## Protocol\n",
    "- We divide our dataset into 70% as our training set and 30% as our testing set\n",
    "- In our training set, we perform a 5-fold cross-validation procedure in order to train our models and choose the optimal combination of parameters\n",
    "- The previous step is repeated 10 times with different random partitions. Hence, we obtain 10 “optimal parameters” and we use as our optimal parameter the average of them. For the case of integer parameters, we round it to the closest integer\n",
    "- Using these optimal parameters, we assess the performance of our models in the testing set that has never been used for training purposes\n",
    "- We standardize the data by the mean and standard deviation of the training set"
   ]
  },
  {
   "cell_type": "markdown",
   "id": "da8ffde0",
   "metadata": {},
   "source": [
    "## Assessing Models’ Performance\n",
    "- We use as a first performance measure of interest the area under the ROC (Receiver Operating Characteristic) curve (AUC)\n",
    "- We also present each model’s level of accuracy, which corresponds to the proportion of municipalities correctly predicted as corrupt; models’ precision, which is the proportion of positive identifications that are correct (or true positives over true positives plus false positives); models’ recall, which is the proportion of actual positives identified correctly (true positives over true positives plus false negatives), and models’ F1, which is the harmonic mean of precision and recall"
   ]
  },
  {
   "cell_type": "code",
   "execution_count": 167,
   "id": "10c662d1",
   "metadata": {},
   "outputs": [],
   "source": [
    "#general\n",
    "import pyreadr\n",
    "import pandas as pd\n",
    "import sklearn\n",
    "import numpy as np\n",
    "import random\n",
    "\n",
    "\n",
    "from sklearn.preprocessing import StandardScaler\n",
    "from sklearn.model_selection import train_test_split\n",
    "from sklearn import metrics\n",
    "from sklearn.model_selection import cross_val_score\n",
    "from sklearn.model_selection import RepeatedKFold\n",
    "from sklearn.model_selection import RandomizedSearchCV\n",
    "\n",
    "#random forests\n",
    "from sklearn.datasets import make_regression\n",
    "from sklearn.ensemble import RandomForestRegressor\n",
    "\n",
    "#gradient boosting\n",
    "from sklearn.pipeline import make_pipeline\n",
    "from sklearn.ensemble import GradientBoostingRegressor\n",
    "from sklearn.decomposition import PCA\n",
    "from sklearn.metrics import mean_squared_error\n",
    "\n",
    "#plotting\n",
    "import matplotlib.pyplot as plt\n",
    "from mpl_toolkits.mplot3d import Axes3D\n",
    "import seaborn as sns"
   ]
  },
  {
   "cell_type": "markdown",
   "id": "4e412c4f",
   "metadata": {},
   "source": [
    "## Get Data"
   ]
  },
  {
   "cell_type": "code",
   "execution_count": 168,
   "id": "6f27ac2a",
   "metadata": {},
   "outputs": [],
   "source": [
    "result = pyreadr.read_r('/Users/annieulichney/Desktop/Deforestation/analysis.Rdata') #read R dataframe into Python\n",
    "df1 = pd.DataFrame(result['forest_full'])\n",
    "df = df1.sample(10000) #trim because this frame is quite large, test that all runs before doing entire dataset!"
   ]
  },
  {
   "cell_type": "code",
   "execution_count": 169,
   "id": "00a6dc71",
   "metadata": {},
   "outputs": [],
   "source": [
    "df = df.drop(['nn_forest.l', 'forest.diff'], axis = 1)"
   ]
  },
  {
   "cell_type": "markdown",
   "id": "d8c7a354",
   "metadata": {},
   "source": [
    "## Test Train Split Based on Municipalities"
   ]
  },
  {
   "cell_type": "code",
   "execution_count": 170,
   "id": "b50e8544",
   "metadata": {},
   "outputs": [
    {
     "data": {
      "text/plain": [
       "ID\n",
       "1100015    3480\n",
       "1100023    2085\n",
       "1100031     704\n",
       "1100049    1815\n",
       "1100056    1425\n",
       "           ... \n",
       "5108808     540\n",
       "5108857     930\n",
       "5108907    5760\n",
       "5108956    2535\n",
       "5204904      15\n",
       "Length: 770, dtype: int64"
      ]
     },
     "execution_count": 170,
     "metadata": {},
     "output_type": "execute_result"
    }
   ],
   "source": [
    "#observe that there are diff numbers of entries in each mun, will get 30% of rows instead of 30% of muns\n",
    "df1.groupby(['ID']).size()"
   ]
  },
  {
   "cell_type": "code",
   "execution_count": 171,
   "id": "3f353dcb",
   "metadata": {},
   "outputs": [],
   "source": [
    "#there are 770 municipalities included in the whole set \n",
    "all_muns = np.unique(df['ID'])\n",
    "num_mun = len(all_muns)"
   ]
  },
  {
   "cell_type": "code",
   "execution_count": 172,
   "id": "c9133b0b",
   "metadata": {},
   "outputs": [],
   "source": [
    "#30% of the municipalities will be used to test, others for train\n",
    "\n",
    "num_test = int(round(0.3*num_mun, 0))\n",
    "num_train = num_mun - num_test\n",
    "\n",
    "test_split_threshold = int(round(0.3*df.shape[0], 0))"
   ]
  },
  {
   "cell_type": "code",
   "execution_count": 173,
   "id": "4dd381ee",
   "metadata": {},
   "outputs": [],
   "source": [
    "#randomly select num_test muns to test on, the rest are for training\n",
    "\n",
    "train_mun = list(all_muns)\n",
    "test_mun = []\n",
    "\n",
    "num_rows_test = 0\n",
    "\n",
    "while num_rows_test < test_split_threshold:\n",
    "\n",
    "    this_mun = np.random.choice(np.array(train_mun))\n",
    "    train_mun.remove(this_mun)\n",
    "    test_mun.append(this_mun)\n",
    "    \n",
    "    df_test = df[df['ID'].isin(test_mun)]\n",
    "    \n",
    "    num_rows_test = df_test.shape[0]\n",
    "    \n",
    "    "
   ]
  },
  {
   "cell_type": "code",
   "execution_count": 174,
   "id": "296d8935",
   "metadata": {},
   "outputs": [],
   "source": [
    "#get the complementary train set \n",
    "df_train = df[df['ID'].isin(train_mun)]"
   ]
  },
  {
   "cell_type": "code",
   "execution_count": 175,
   "id": "23523579",
   "metadata": {},
   "outputs": [
    {
     "data": {
      "text/plain": [
       "0.3001"
      ]
     },
     "execution_count": 175,
     "metadata": {},
     "output_type": "execute_result"
    }
   ],
   "source": [
    "#check to see how much of the data is in the test set\n",
    "df_test.shape[0]/(df_test.shape[0] + df_train.shape[0])"
   ]
  },
  {
   "cell_type": "code",
   "execution_count": 176,
   "id": "287441bc",
   "metadata": {},
   "outputs": [
    {
     "data": {
      "text/plain": [
       "10000"
      ]
     },
     "execution_count": 176,
     "metadata": {},
     "output_type": "execute_result"
    }
   ],
   "source": [
    "df_test.shape[0] + df_train.shape[0]"
   ]
  },
  {
   "cell_type": "code",
   "execution_count": 177,
   "id": "bfabd43f",
   "metadata": {},
   "outputs": [],
   "source": [
    "#make sure we correctly split into disjoint sets\n",
    "for mun in train_mun: \n",
    "    if mun in test_mun:\n",
    "        print('Fail')\n",
    "        \n",
    "for mun in test_mun: \n",
    "    if mun in train_mun:\n",
    "        print('Fail')"
   ]
  },
  {
   "cell_type": "code",
   "execution_count": 178,
   "id": "56076c84",
   "metadata": {},
   "outputs": [],
   "source": [
    "#create unscaled test and train vars\n",
    "\n",
    "y_train = df_train['forest.l']\n",
    "y_test = df_test['forest.l']\n",
    "\n",
    "X_train_unscaled = df_train.drop('forest.l', axis =1)\n",
    "X_test_unscaled = df_test.drop('forest.l', axis =1)\n",
    "X_train_unscaled = X_train_unscaled.drop('FID', axis = 1)\n",
    "X_test_unscaled = X_test_unscaled.drop('FID', axis = 1)\n",
    "\n",
    "#scale them\n",
    "sc = StandardScaler()\n",
    "X_train = sc.fit_transform(X_train_unscaled)\n",
    "X_test = sc.transform(X_test_unscaled)"
   ]
  },
  {
   "cell_type": "code",
   "execution_count": 179,
   "id": "7959893e",
   "metadata": {},
   "outputs": [
    {
     "data": {
      "text/html": [
       "<div>\n",
       "<style scoped>\n",
       "    .dataframe tbody tr th:only-of-type {\n",
       "        vertical-align: middle;\n",
       "    }\n",
       "\n",
       "    .dataframe tbody tr th {\n",
       "        vertical-align: top;\n",
       "    }\n",
       "\n",
       "    .dataframe thead th {\n",
       "        text-align: right;\n",
       "    }\n",
       "</style>\n",
       "<table border=\"1\" class=\"dataframe\">\n",
       "  <thead>\n",
       "    <tr style=\"text-align: right;\">\n",
       "      <th></th>\n",
       "      <th>mean</th>\n",
       "      <th>std</th>\n",
       "    </tr>\n",
       "  </thead>\n",
       "  <tbody>\n",
       "    <tr>\n",
       "      <th>ID</th>\n",
       "      <td>-2.660157e-17</td>\n",
       "      <td>1.000071</td>\n",
       "    </tr>\n",
       "    <tr>\n",
       "      <th>x</th>\n",
       "      <td>1.638606e-16</td>\n",
       "      <td>1.000071</td>\n",
       "    </tr>\n",
       "    <tr>\n",
       "      <th>y</th>\n",
       "      <td>-2.929821e-17</td>\n",
       "      <td>1.000071</td>\n",
       "    </tr>\n",
       "    <tr>\n",
       "      <th>year</th>\n",
       "      <td>-8.375403e-15</td>\n",
       "      <td>1.000071</td>\n",
       "    </tr>\n",
       "    <tr>\n",
       "      <th>rain1</th>\n",
       "      <td>-7.357072e-17</td>\n",
       "      <td>1.000071</td>\n",
       "    </tr>\n",
       "    <tr>\n",
       "      <th>elevation</th>\n",
       "      <td>-3.773711e-17</td>\n",
       "      <td>1.000071</td>\n",
       "    </tr>\n",
       "    <tr>\n",
       "      <th>slope</th>\n",
       "      <td>-5.970681e-17</td>\n",
       "      <td>1.000071</td>\n",
       "    </tr>\n",
       "    <tr>\n",
       "      <th>aspect</th>\n",
       "      <td>-1.070180e-16</td>\n",
       "      <td>1.000071</td>\n",
       "    </tr>\n",
       "    <tr>\n",
       "      <th>near_mines</th>\n",
       "      <td>-6.319658e-17</td>\n",
       "      <td>1.000071</td>\n",
       "    </tr>\n",
       "    <tr>\n",
       "      <th>near_roads</th>\n",
       "      <td>1.413357e-17</td>\n",
       "      <td>1.000071</td>\n",
       "    </tr>\n",
       "    <tr>\n",
       "      <th>near_hidrovia</th>\n",
       "      <td>-1.960379e-16</td>\n",
       "      <td>1.000071</td>\n",
       "    </tr>\n",
       "    <tr>\n",
       "      <th>indigenous_homol</th>\n",
       "      <td>-6.080450e-16</td>\n",
       "      <td>1.000071</td>\n",
       "    </tr>\n",
       "    <tr>\n",
       "      <th>mun_election_year</th>\n",
       "      <td>-2.605748e-16</td>\n",
       "      <td>1.000071</td>\n",
       "    </tr>\n",
       "    <tr>\n",
       "      <th>new_forest_code</th>\n",
       "      <td>0.000000e+00</td>\n",
       "      <td>0.000000</td>\n",
       "    </tr>\n",
       "    <tr>\n",
       "      <th>lula</th>\n",
       "      <td>-2.189990e-16</td>\n",
       "      <td>1.000071</td>\n",
       "    </tr>\n",
       "    <tr>\n",
       "      <th>dilma</th>\n",
       "      <td>-2.173493e-16</td>\n",
       "      <td>1.000071</td>\n",
       "    </tr>\n",
       "    <tr>\n",
       "      <th>temer</th>\n",
       "      <td>0.000000e+00</td>\n",
       "      <td>0.000000</td>\n",
       "    </tr>\n",
       "    <tr>\n",
       "      <th>bolsonaro</th>\n",
       "      <td>0.000000e+00</td>\n",
       "      <td>0.000000</td>\n",
       "    </tr>\n",
       "    <tr>\n",
       "      <th>fed_election_year</th>\n",
       "      <td>-2.605748e-16</td>\n",
       "      <td>1.000071</td>\n",
       "    </tr>\n",
       "    <tr>\n",
       "      <th>populacao</th>\n",
       "      <td>-1.110064e-16</td>\n",
       "      <td>1.000071</td>\n",
       "    </tr>\n",
       "    <tr>\n",
       "      <th>pib_pc</th>\n",
       "      <td>5.260037e-17</td>\n",
       "      <td>1.000071</td>\n",
       "    </tr>\n",
       "    <tr>\n",
       "      <th>ironore</th>\n",
       "      <td>2.694579e-16</td>\n",
       "      <td>1.000071</td>\n",
       "    </tr>\n",
       "    <tr>\n",
       "      <th>silver</th>\n",
       "      <td>1.205557e-18</td>\n",
       "      <td>1.000071</td>\n",
       "    </tr>\n",
       "    <tr>\n",
       "      <th>copper</th>\n",
       "      <td>5.107756e-17</td>\n",
       "      <td>1.000071</td>\n",
       "    </tr>\n",
       "    <tr>\n",
       "      <th>gold</th>\n",
       "      <td>-1.158604e-16</td>\n",
       "      <td>1.000071</td>\n",
       "    </tr>\n",
       "    <tr>\n",
       "      <th>soy_price</th>\n",
       "      <td>-3.062115e-16</td>\n",
       "      <td>1.000071</td>\n",
       "    </tr>\n",
       "    <tr>\n",
       "      <th>beef_price</th>\n",
       "      <td>-5.001476e-17</td>\n",
       "      <td>1.000071</td>\n",
       "    </tr>\n",
       "    <tr>\n",
       "      <th>ag_jobs</th>\n",
       "      <td>-8.653046e-17</td>\n",
       "      <td>1.000071</td>\n",
       "    </tr>\n",
       "    <tr>\n",
       "      <th>mining_jobs</th>\n",
       "      <td>-1.403681e-16</td>\n",
       "      <td>1.000071</td>\n",
       "    </tr>\n",
       "    <tr>\n",
       "      <th>public_jobs</th>\n",
       "      <td>-7.194480e-17</td>\n",
       "      <td>1.000071</td>\n",
       "    </tr>\n",
       "    <tr>\n",
       "      <th>construction_jobs</th>\n",
       "      <td>6.002406e-17</td>\n",
       "      <td>1.000071</td>\n",
       "    </tr>\n",
       "  </tbody>\n",
       "</table>\n",
       "</div>"
      ],
      "text/plain": [
       "                           mean       std\n",
       "ID                -2.660157e-17  1.000071\n",
       "x                  1.638606e-16  1.000071\n",
       "y                 -2.929821e-17  1.000071\n",
       "year              -8.375403e-15  1.000071\n",
       "rain1             -7.357072e-17  1.000071\n",
       "elevation         -3.773711e-17  1.000071\n",
       "slope             -5.970681e-17  1.000071\n",
       "aspect            -1.070180e-16  1.000071\n",
       "near_mines        -6.319658e-17  1.000071\n",
       "near_roads         1.413357e-17  1.000071\n",
       "near_hidrovia     -1.960379e-16  1.000071\n",
       "indigenous_homol  -6.080450e-16  1.000071\n",
       "mun_election_year -2.605748e-16  1.000071\n",
       "new_forest_code    0.000000e+00  0.000000\n",
       "lula              -2.189990e-16  1.000071\n",
       "dilma             -2.173493e-16  1.000071\n",
       "temer              0.000000e+00  0.000000\n",
       "bolsonaro          0.000000e+00  0.000000\n",
       "fed_election_year -2.605748e-16  1.000071\n",
       "populacao         -1.110064e-16  1.000071\n",
       "pib_pc             5.260037e-17  1.000071\n",
       "ironore            2.694579e-16  1.000071\n",
       "silver             1.205557e-18  1.000071\n",
       "copper             5.107756e-17  1.000071\n",
       "gold              -1.158604e-16  1.000071\n",
       "soy_price         -3.062115e-16  1.000071\n",
       "beef_price        -5.001476e-17  1.000071\n",
       "ag_jobs           -8.653046e-17  1.000071\n",
       "mining_jobs       -1.403681e-16  1.000071\n",
       "public_jobs       -7.194480e-17  1.000071\n",
       "construction_jobs  6.002406e-17  1.000071"
      ]
     },
     "execution_count": 179,
     "metadata": {},
     "output_type": "execute_result"
    }
   ],
   "source": [
    "#let's make sure the normalization works\n",
    "X_train_df = pd.DataFrame(X_train, index=X_train_unscaled.index, columns = X_train_unscaled.columns)\n",
    "X_train_df.describe().transpose()[['mean', 'std']]"
   ]
  },
  {
   "cell_type": "code",
   "execution_count": 180,
   "id": "a3edecec",
   "metadata": {},
   "outputs": [],
   "source": [
    "#notes from Kathryn:\n",
    "\n",
    "#if information leakage persists block by time period too \n",
    "#same pixels being repeated multiple times, FID \n",
    "#try filtering to keep each pixel only once-- identify source of leakage\n",
    "#can then use element of prediction \n",
    "#consider adding time as variable, later use more sophisticated tools to get around this\n",
    "#nearest neighbor variable, try without this variable, this variable absorbs a lot of the variation potentially\n",
    "#explanatory abilities vs. variable importance\n",
    "#commodity prices vary by year "
   ]
  },
  {
   "cell_type": "markdown",
   "id": "4990f390",
   "metadata": {},
   "source": [
    "## Random Forests"
   ]
  },
  {
   "cell_type": "code",
   "execution_count": 181,
   "id": "8fa7f3c1",
   "metadata": {},
   "outputs": [],
   "source": [
    "#use random search cross validation to tune model hyperparameters\n",
    "\n",
    "# number of trees in random forest\n",
    "n_estimators = [int(x) for x in np.linspace(start = 10, stop = 20, num = 3)]\n",
    "\n",
    "# number of features to consider at every split\n",
    "max_features = ['auto', 'sqrt']\n",
    "\n",
    "# maximum number of levels in tree\n",
    "max_depth = [int(x) for x in np.linspace(10, 110, num = 10)]\n",
    "max_depth.append(None)\n",
    "\n",
    "# minimum number of samples required to split a node\n",
    "min_samples_split = [2, 5, 10]\n",
    "\n",
    "# minimum number of samples required at each leaf node\n",
    "min_samples_leaf = [1, 2, 4]\n",
    "\n",
    "# method of selecting samples for training each tree\n",
    "bootstrap = [True, False]\n",
    "\n",
    "#create random grid, all poss combos of these variables\n",
    "random_grid = {'n_estimators': n_estimators,\n",
    "               'max_features': max_features,\n",
    "               'max_depth': max_depth,\n",
    "               'min_samples_split': min_samples_split,\n",
    "               'min_samples_leaf': min_samples_leaf,\n",
    "               'bootstrap': bootstrap}\n",
    "\n"
   ]
  },
  {
   "cell_type": "code",
   "execution_count": 182,
   "id": "31d363fd",
   "metadata": {},
   "outputs": [
    {
     "name": "stdout",
     "output_type": "stream",
     "text": [
      "Fitting 3 folds for each of 3 candidates, totalling 9 fits\n"
     ]
    },
    {
     "data": {
      "text/plain": [
       "RandomizedSearchCV(cv=3, estimator=RandomForestRegressor(), n_iter=3, n_jobs=-1,\n",
       "                   param_distributions={'bootstrap': [True, False],\n",
       "                                        'max_depth': [10, 21, 32, 43, 54, 65,\n",
       "                                                      76, 87, 98, 110, None],\n",
       "                                        'max_features': ['auto', 'sqrt'],\n",
       "                                        'min_samples_leaf': [1, 2, 4],\n",
       "                                        'min_samples_split': [2, 5, 10],\n",
       "                                        'n_estimators': [10, 15, 20]},\n",
       "                   random_state=42, scoring='r2', verbose=2)"
      ]
     },
     "execution_count": 182,
     "metadata": {},
     "output_type": "execute_result"
    }
   ],
   "source": [
    "# Use the random grid to search for best hyperparameters\n",
    "\n",
    "#create initial model to tune\n",
    "rf = RandomForestRegressor()\n",
    "\n",
    "# Random search of parameters, using 5 fold cross validation, \n",
    "# search across 1000 different combinations\n",
    "#note that we're using r2 scoring here since the goal of the project is to explain deforestation\n",
    "#todo: research additional scoring methods \n",
    "\n",
    "rf_random = RandomizedSearchCV(estimator = rf, param_distributions = random_grid, n_iter = 3, scoring = 'r2', cv = 3, verbose = 2, random_state = 42, n_jobs = -1)\n",
    "\n",
    "# Fit the random search model\n",
    "rf_random.fit(X_train, y_train)"
   ]
  },
  {
   "cell_type": "code",
   "execution_count": 183,
   "id": "6c67d566",
   "metadata": {},
   "outputs": [
    {
     "data": {
      "text/plain": [
       "{'n_estimators': 20,\n",
       " 'min_samples_split': 5,\n",
       " 'min_samples_leaf': 4,\n",
       " 'max_features': 'sqrt',\n",
       " 'max_depth': 54,\n",
       " 'bootstrap': False}"
      ]
     },
     "execution_count": 183,
     "metadata": {},
     "output_type": "execute_result"
    }
   ],
   "source": [
    "#let's see what the best parameters are\n",
    "rf_random.best_params_"
   ]
  },
  {
   "cell_type": "code",
   "execution_count": 184,
   "id": "6ef4e84f",
   "metadata": {},
   "outputs": [
    {
     "data": {
      "text/plain": [
       "0.7532581304196695"
      ]
     },
     "execution_count": 184,
     "metadata": {},
     "output_type": "execute_result"
    }
   ],
   "source": [
    "#check how our best score did-- 93% best_score\n",
    "rf_random.best_score_"
   ]
  },
  {
   "cell_type": "code",
   "execution_count": 185,
   "id": "aaea3785",
   "metadata": {},
   "outputs": [],
   "source": [
    "def eval_model(model, test_features, test_labels):\n",
    "    predictions = model.predict(test_features)\n",
    "    \n",
    "    print('Mean Absolute Error (MAE):', metrics.mean_absolute_error(test_labels, predictions))\n",
    "    print('Mean Squared Error (MSE):', metrics.mean_squared_error(test_labels, predictions))\n",
    "    print('Root Mean Squared Error (RMSE):', metrics.mean_squared_error(test_labels, predictions, squared=False))\n",
    "    print('Mean Absolute Percentage Error (MAPE):', metrics.mean_absolute_percentage_error(test_labels, predictions))\n",
    "    print('Explained Variance Score:', metrics.explained_variance_score(test_labels, predictions))\n",
    "    print('Max Error:', metrics.max_error(test_labels, predictions))\n",
    "    print('Mean Squared Log Error:', metrics.mean_squared_log_error(test_labels, predictions))\n",
    "    print('Median Absolute Error:', metrics.median_absolute_error(test_labels, predictions))\n",
    "    print('R^2:', metrics.r2_score(test_labels, predictions))\n",
    "    print('Mean Poisson Deviance:', metrics.mean_poisson_deviance(test_labels, predictions))\n",
    "    #print('Mean Gamma Deviance:', metrics.mean_gamma_deviance(test_labels, predictions))"
   ]
  },
  {
   "cell_type": "code",
   "execution_count": 186,
   "id": "5b6b1746",
   "metadata": {},
   "outputs": [],
   "source": [
    "def diff(previous, current):\n",
    "    return ((float(current)-previous)/previous)*100"
   ]
  },
  {
   "cell_type": "code",
   "execution_count": 187,
   "id": "2e6f3a1e",
   "metadata": {},
   "outputs": [],
   "source": [
    "def eval_2_models(model1, model2, test_features, test_labels):\n",
    "    \n",
    "    predictions1 = model1.predict(test_features)\n",
    "    predictions2 = model2.predict(test_features)\n",
    "    \n",
    "    print('% Diff Mean Absolute Error (MAE):', diff(metrics.mean_absolute_error(test_labels, predictions1), metrics.mean_absolute_error(test_labels, predictions2)))\n",
    "    print('% Diff Mean Squared Error (MSE):', diff(metrics.mean_squared_error(test_labels, predictions1), metrics.mean_squared_error(test_labels, predictions2)))\n",
    "    print('% Diff Root Mean Squared Error (RMSE):', diff(metrics.mean_squared_error(test_labels, predictions1, squared=False), metrics.mean_squared_error(test_labels, predictions2, squared=False)))\n",
    "    print('% Diff Mean Absolute Percentage Error (MAPE):', diff(metrics.mean_absolute_percentage_error(test_labels, predictions1), metrics.mean_absolute_percentage_error(test_labels, predictions2)))\n",
    "    print('% Diff Explained Variance Score:', diff(metrics.explained_variance_score(test_labels, predictions1), metrics.explained_variance_score(test_labels, predictions2)))\n",
    "    print('% Diff Max Error:', diff(metrics.max_error(test_labels, predictions1), metrics.max_error(test_labels, predictions2)))\n",
    "    print('% Diff Mean Squared Log Error:', diff(metrics.mean_squared_log_error(test_labels, predictions1), metrics.mean_squared_log_error(test_labels, predictions2)))\n",
    "    print('% Diff Median Absolute Error:', diff(metrics.median_absolute_error(test_labels, predictions1), metrics.median_absolute_error(test_labels, predictions2)))\n",
    "    print('% Diff R^2:', diff(metrics.r2_score(test_labels, predictions1), metrics.r2_score(test_labels, predictions2)))\n",
    "    print('% Diff Mean Poisson Deviance:', diff(metrics.mean_poisson_deviance(test_labels, predictions1), metrics.mean_poisson_deviance(test_labels, predictions2)))\n",
    "    #print('% Diff Mean Gamma Deviance:', diff(metrics.mean_gamma_deviance(test_labels, predictions1), metrics.mean_gamma_deviance(test_labels, predictions2)))\n",
    "    "
   ]
  },
  {
   "cell_type": "code",
   "execution_count": 188,
   "id": "fb172747",
   "metadata": {},
   "outputs": [],
   "source": [
    "#compare arbitrarily selected base model to our cv searched model \n",
    "base_model = RandomForestRegressor(n_estimators = 10, random_state = 42)\n",
    "base_model.fit(X_train, y_train)\n",
    "best_random = rf_random.best_estimator_\n"
   ]
  },
  {
   "cell_type": "code",
   "execution_count": 189,
   "id": "15585c28",
   "metadata": {
    "scrolled": false
   },
   "outputs": [
    {
     "name": "stdout",
     "output_type": "stream",
     "text": [
      "Mean Absolute Error (MAE): 10.697167610796402\n",
      "Mean Squared Error (MSE): 234.51222259246916\n",
      "Root Mean Squared Error (RMSE): 15.313791907704282\n",
      "Mean Absolute Percentage Error (MAPE): 0.38702822361748124\n",
      "Explained Variance Score: 0.6977280279668594\n",
      "Max Error: 79.4\n",
      "Mean Squared Log Error: 0.1506735011860671\n",
      "Median Absolute Error: 7.099999999999994\n",
      "R^2: 0.6974571992290077\n",
      "Mean Poisson Deviance: 4.52913358193549\n"
     ]
    }
   ],
   "source": [
    "eval_model(base_model, X_test, y_test)"
   ]
  },
  {
   "cell_type": "code",
   "execution_count": 190,
   "id": "22d24d8b",
   "metadata": {
    "scrolled": false
   },
   "outputs": [
    {
     "name": "stdout",
     "output_type": "stream",
     "text": [
      "Mean Absolute Error (MAE): 11.345426756339062\n",
      "Mean Squared Error (MSE): 240.55234390073412\n",
      "Root Mean Squared Error (RMSE): 15.50974996254724\n",
      "Mean Absolute Percentage Error (MAPE): 0.3866218377693323\n",
      "Explained Variance Score: 0.6903703846281548\n",
      "Max Error: 75.50321428571428\n",
      "Mean Squared Log Error: 0.15253533117672413\n",
      "Median Absolute Error: 7.778095238095233\n",
      "R^2: 0.6896648752409543\n",
      "Mean Poisson Deviance: 4.621295610284477\n"
     ]
    }
   ],
   "source": [
    "eval_model(best_random, X_test, y_test)"
   ]
  },
  {
   "cell_type": "code",
   "execution_count": 191,
   "id": "41b24c1d",
   "metadata": {},
   "outputs": [
    {
     "name": "stdout",
     "output_type": "stream",
     "text": [
      "% Diff Mean Absolute Error (MAE): 6.060100852195559\n",
      "% Diff Mean Squared Error (MSE): 2.5756104485698232\n",
      "% Diff Root Mean Squared Error (RMSE): 1.2796181117256298\n",
      "% Diff Mean Absolute Percentage Error (MAPE): -0.1050016053998687\n",
      "% Diff Explained Variance Score: -1.0545145162283867\n",
      "% Diff Max Error: -4.90779057214827\n",
      "% Diff Mean Squared Log Error: 1.235671817540006\n",
      "% Diff Median Absolute Error: 9.550637156270973\n",
      "% Diff R^2: -1.1172476241792757\n",
      "% Diff Mean Poisson Deviance: 2.0348710560575367\n"
     ]
    }
   ],
   "source": [
    "#compare the above\n",
    "eval_2_models(base_model, best_random, X_test, y_test)"
   ]
  },
  {
   "cell_type": "code",
   "execution_count": null,
   "id": "c26694c8",
   "metadata": {},
   "outputs": [],
   "source": []
  },
  {
   "cell_type": "code",
   "execution_count": 192,
   "id": "4b5501dd",
   "metadata": {},
   "outputs": [],
   "source": [
    "#n_estimators should be 500 as in the paper? "
   ]
  },
  {
   "cell_type": "code",
   "execution_count": 193,
   "id": "6add199b",
   "metadata": {},
   "outputs": [
    {
     "data": {
      "text/plain": [
       "{'cv': 3,\n",
       " 'error_score': nan,\n",
       " 'estimator__bootstrap': True,\n",
       " 'estimator__ccp_alpha': 0.0,\n",
       " 'estimator__criterion': 'mse',\n",
       " 'estimator__max_depth': None,\n",
       " 'estimator__max_features': 'auto',\n",
       " 'estimator__max_leaf_nodes': None,\n",
       " 'estimator__max_samples': None,\n",
       " 'estimator__min_impurity_decrease': 0.0,\n",
       " 'estimator__min_impurity_split': None,\n",
       " 'estimator__min_samples_leaf': 1,\n",
       " 'estimator__min_samples_split': 2,\n",
       " 'estimator__min_weight_fraction_leaf': 0.0,\n",
       " 'estimator__n_estimators': 100,\n",
       " 'estimator__n_jobs': None,\n",
       " 'estimator__oob_score': False,\n",
       " 'estimator__random_state': None,\n",
       " 'estimator__verbose': 0,\n",
       " 'estimator__warm_start': False,\n",
       " 'estimator': RandomForestRegressor(),\n",
       " 'n_iter': 3,\n",
       " 'n_jobs': -1,\n",
       " 'param_distributions': {'n_estimators': [10, 15, 20],\n",
       "  'max_features': ['auto', 'sqrt'],\n",
       "  'max_depth': [10, 21, 32, 43, 54, 65, 76, 87, 98, 110, None],\n",
       "  'min_samples_split': [2, 5, 10],\n",
       "  'min_samples_leaf': [1, 2, 4],\n",
       "  'bootstrap': [True, False]},\n",
       " 'pre_dispatch': '2*n_jobs',\n",
       " 'random_state': 42,\n",
       " 'refit': True,\n",
       " 'return_train_score': False,\n",
       " 'scoring': 'r2',\n",
       " 'verbose': 2}"
      ]
     },
     "execution_count": 193,
     "metadata": {},
     "output_type": "execute_result"
    }
   ],
   "source": [
    "rf_random.get_params()"
   ]
  },
  {
   "cell_type": "code",
   "execution_count": null,
   "id": "8cc1fb13",
   "metadata": {},
   "outputs": [],
   "source": []
  },
  {
   "cell_type": "markdown",
   "id": "0b4cf0a2",
   "metadata": {},
   "source": [
    "## Gradient Boosting"
   ]
  },
  {
   "cell_type": "code",
   "execution_count": 194,
   "id": "88ddfd40",
   "metadata": {},
   "outputs": [],
   "source": [
    "from sklearn import datasets\n",
    "from sklearn.preprocessing import StandardScaler\n",
    "\n",
    "from sklearn.pipeline import make_pipeline\n",
    "from sklearn.ensemble import GradientBoostingRegressor\n",
    "from sklearn.decomposition import PCA\n",
    "from sklearn.metrics import mean_squared_error"
   ]
  },
  {
   "cell_type": "code",
   "execution_count": 195,
   "id": "4e57d8e6",
   "metadata": {},
   "outputs": [],
   "source": [
    "#use random search cross validation to tune model hyperparameters\n",
    "\n",
    "# trade-off between learning_rate and n_estimators\n",
    "learning_rate = [0.1, 0.2, 0.3]\n",
    "\n",
    "# \n",
    "n_estimators = [80, 100, 200]\n",
    "\n",
    "# maximum number of levels in tree\n",
    "criterion = ['friedman_mse', 'squared_error', 'mse', 'mae']\n",
    "\n",
    "# minimum number of samples required to split a node\n",
    "min_samples_split = [2, 5, 10]\n",
    "\n",
    "# minimum number of samples required at each leaf node\n",
    "min_samples_leaf = [1, 2, 4]\n",
    "\n",
    "\n",
    "#create random grid, all poss combos of these variables\n",
    "random_grid = {'n_estimators': n_estimators,\n",
    "               'criterion': criterion,\n",
    "               'min_samples_split': min_samples_split,\n",
    "               'min_samples_leaf': min_samples_leaf,}\n"
   ]
  },
  {
   "cell_type": "code",
   "execution_count": 196,
   "id": "7901858b",
   "metadata": {},
   "outputs": [
    {
     "name": "stdout",
     "output_type": "stream",
     "text": [
      "Fitting 3 folds for each of 2 candidates, totalling 6 fits\n"
     ]
    },
    {
     "data": {
      "text/plain": [
       "RandomizedSearchCV(cv=3, estimator=GradientBoostingRegressor(), n_iter=2,\n",
       "                   n_jobs=-1,\n",
       "                   param_distributions={'criterion': ['friedman_mse',\n",
       "                                                      'squared_error', 'mse',\n",
       "                                                      'mae'],\n",
       "                                        'min_samples_leaf': [1, 2, 4],\n",
       "                                        'min_samples_split': [2, 5, 10],\n",
       "                                        'n_estimators': [80, 100, 200]},\n",
       "                   random_state=42, scoring='r2', verbose=2)"
      ]
     },
     "execution_count": 196,
     "metadata": {},
     "output_type": "execute_result"
    }
   ],
   "source": [
    "# Use the random grid to search for best hyperparameters\n",
    "\n",
    "#create initial model to tune\n",
    "gbr = GradientBoostingRegressor()\n",
    "\n",
    "# Random search of parameters, using 5 fold cross validation, \n",
    "# search across 1000 different combinations\n",
    "#note that we're using r2 scoring here since the goal of the project is to explain deforestation\n",
    "#todo: research additional scoring methods \n",
    "\n",
    "gbr_random = RandomizedSearchCV(estimator = gbr, param_distributions = random_grid, n_iter = 2, scoring = 'r2', cv = 3, verbose=2, random_state=42, n_jobs = -1)\n",
    "\n",
    "# Fit the random search model\n",
    "gbr_random.fit(X_train, y_train)"
   ]
  },
  {
   "cell_type": "code",
   "execution_count": 197,
   "id": "2232ef0d",
   "metadata": {},
   "outputs": [
    {
     "data": {
      "text/plain": [
       "0.749367002686426"
      ]
     },
     "execution_count": 197,
     "metadata": {},
     "output_type": "execute_result"
    }
   ],
   "source": [
    "#let's see what the best parameters are\n",
    "gbr_random.best_params_\n",
    "\n",
    "#check how our best score did-- 93% best_score but unreasonable\n",
    "gbr_random.best_score_"
   ]
  },
  {
   "cell_type": "code",
   "execution_count": 198,
   "id": "d4081374",
   "metadata": {},
   "outputs": [],
   "source": [
    "#compare arbitrarily selected base model to our cv searched model \n",
    "base_model = GradientBoostingRegressor(n_estimators = 10, random_state = 42)\n",
    "base_model.fit(X_train, y_train)\n",
    "best_random = gbr_random.best_estimator_"
   ]
  },
  {
   "cell_type": "code",
   "execution_count": 199,
   "id": "83287be5",
   "metadata": {},
   "outputs": [
    {
     "name": "stdout",
     "output_type": "stream",
     "text": [
      "Mean Absolute Error (MAE): 16.517364409822733\n",
      "Mean Squared Error (MSE): 390.5758684130428\n",
      "Root Mean Squared Error (RMSE): 19.76299239520784\n",
      "Mean Absolute Percentage Error (MAPE): 0.5655412745801477\n",
      "Explained Variance Score: 0.49836478235116255\n",
      "Max Error: 76.92405530016632\n",
      "Mean Squared Log Error: 0.23395018366052484\n",
      "Median Absolute Error: 14.075944699833684\n",
      "R^2: 0.4961204331401057\n",
      "Mean Poisson Deviance: 7.365226233121251\n"
     ]
    }
   ],
   "source": [
    "eval_model(base_model, X_test, y_test)"
   ]
  },
  {
   "cell_type": "code",
   "execution_count": 200,
   "id": "089df2b8",
   "metadata": {},
   "outputs": [
    {
     "name": "stdout",
     "output_type": "stream",
     "text": [
      "Mean Absolute Error (MAE): 10.30689840529315\n",
      "Mean Squared Error (MSE): 212.28339074195318\n",
      "Root Mean Squared Error (RMSE): 14.56994820656385\n",
      "Mean Absolute Percentage Error (MAPE): 0.3214658427829619\n",
      "Explained Variance Score: 0.7261496281684335\n",
      "Max Error: 87.22045585053684\n",
      "Mean Squared Log Error: 0.12758134530424126\n",
      "Median Absolute Error: 6.952866008082637\n",
      "R^2: 0.7261344808289925\n",
      "Mean Poisson Deviance: 4.03150221823454\n"
     ]
    }
   ],
   "source": [
    "eval_model(best_random, X_test, y_test)"
   ]
  },
  {
   "cell_type": "code",
   "execution_count": 201,
   "id": "188d1161",
   "metadata": {},
   "outputs": [
    {
     "name": "stdout",
     "output_type": "stream",
     "text": [
      "% Diff Mean Absolute Error (MAE): -37.59961850109859\n",
      "% Diff Mean Squared Error (MSE): -45.64861582347973\n",
      "% Diff Root Mean Squared Error (RMSE): -26.276608748294645\n",
      "% Diff Mean Absolute Percentage Error (MAPE): -43.15784590229687\n",
      "% Diff Explained Variance Score: 45.70644914807946\n",
      "% Diff Max Error: 13.38515047106241\n",
      "% Diff Mean Squared Log Error: -45.46644789586097\n",
      "% Diff Median Absolute Error: -50.60462259300586\n",
      "% Diff R^2: 46.36254270622436\n",
      "% Diff Mean Poisson Deviance: -45.263022606081414\n"
     ]
    }
   ],
   "source": [
    "eval_2_models(base_model, best_random, X_test, y_test)"
   ]
  },
  {
   "cell_type": "code",
   "execution_count": 56,
   "id": "04f0268b",
   "metadata": {},
   "outputs": [],
   "source": [
    "#great changes on this one, much better effects of using cross validation with GBR than RF\n",
    "#Is this excpected? compare my results here to other findings. How much do these metrics usually change? \n",
    "#What metrics do we care most about given our applications? \n",
    "#How can each model translate to variable importance estimates?\n",
    "#How do the important variables change when we use Machine learning vs. Simple Linear Regression? Why? "
   ]
  },
  {
   "cell_type": "code",
   "execution_count": null,
   "id": "fd1493d0",
   "metadata": {},
   "outputs": [],
   "source": []
  },
  {
   "cell_type": "markdown",
   "id": "8d897b6b",
   "metadata": {},
   "source": [
    "## Neural Network"
   ]
  },
  {
   "cell_type": "code",
   "execution_count": 86,
   "id": "8cbb138b",
   "metadata": {},
   "outputs": [],
   "source": [
    "from keras.models import Sequential\n",
    "from keras.layers import Dense"
   ]
  },
  {
   "cell_type": "markdown",
   "id": "80c7f033",
   "metadata": {},
   "source": [
    "corruption paper uses logistic activation function, uses cross-validation to determine the optimal number of units in the hidden layer (size) and the regularization parameter (decay)\n",
    "\n"
   ]
  },
  {
   "cell_type": "code",
   "execution_count": 87,
   "id": "5d651a04",
   "metadata": {},
   "outputs": [
    {
     "data": {
      "text/plain": [
       "True"
      ]
     },
     "execution_count": 87,
     "metadata": {},
     "output_type": "execute_result"
    }
   ],
   "source": [
    "X_train.shape[0] == y_train.shape[0]"
   ]
  },
  {
   "cell_type": "code",
   "execution_count": 88,
   "id": "71ec3ef0",
   "metadata": {},
   "outputs": [
    {
     "name": "stdout",
     "output_type": "stream",
     "text": [
      "Epoch 1/10\n",
      "350/350 [==============================] - 1s 995us/step - loss: 5873.6309\n",
      "Epoch 2/10\n",
      "350/350 [==============================] - 0s 985us/step - loss: 5476.5059\n",
      "Epoch 3/10\n",
      "350/350 [==============================] - 0s 1ms/step - loss: 5175.7515\n",
      "Epoch 4/10\n",
      "350/350 [==============================] - 0s 1ms/step - loss: 4902.2139\n",
      "Epoch 5/10\n",
      "350/350 [==============================] - 0s 834us/step - loss: 4645.2236\n",
      "Epoch 6/10\n",
      "350/350 [==============================] - 0s 762us/step - loss: 4401.2959\n",
      "Epoch 7/10\n",
      "350/350 [==============================] - 0s 809us/step - loss: 4168.9102\n",
      "Epoch 8/10\n",
      "350/350 [==============================] - 0s 791us/step - loss: 3947.2600\n",
      "Epoch 9/10\n",
      "350/350 [==============================] - 0s 827us/step - loss: 3734.8445\n",
      "Epoch 10/10\n",
      "350/350 [==============================] - 0s 772us/step - loss: 3531.5869\n"
     ]
    },
    {
     "data": {
      "text/plain": [
       "<keras.callbacks.History at 0x7fde8e684df0>"
      ]
     },
     "execution_count": 88,
     "metadata": {},
     "output_type": "execute_result"
    }
   ],
   "source": [
    "# create ANN model\n",
    "model = Sequential()\n",
    " \n",
    "# Defining the Input layer and FIRST hidden layer, both are same!\n",
    "model.add(Dense(units = 5, input_dim = X_train.shape[1], kernel_initializer = 'normal', activation = 'relu'))\n",
    " \n",
    "# Defining the Second layer of the model\n",
    "# after the first layer we don't have to specify input_dim as keras configure it automatically\n",
    "model.add(Dense(units = 5, kernel_initializer = 'normal', activation = 'tanh'))\n",
    "  \n",
    "# The output neuron is a single fully connected node \n",
    "# Since we will be predicting a single number\n",
    "model.add(Dense(1, kernel_initializer = 'normal'))\n",
    " \n",
    "# Compiling the model\n",
    "model.compile(loss = 'mean_squared_error', optimizer = 'adam')\n",
    " \n",
    "# Fitting the ANN to the Training set\n",
    "model.fit(X_train, y_train ,batch_size = 20, epochs = 10, verbose=1)"
   ]
  },
  {
   "cell_type": "code",
   "execution_count": 89,
   "id": "c2bfca48",
   "metadata": {},
   "outputs": [
    {
     "name": "stdout",
     "output_type": "stream",
     "text": [
      "Mean Absolute Error (MAE): 53.87565686682959\n",
      "Mean Squared Error (MSE): 3539.588426436904\n",
      "Root Mean Squared Error (RMSE): 59.494440298543054\n",
      "Mean Absolute Percentage Error (MAPE): 0.7583206213905992\n",
      "Explained Variance Score: 5.3251957193856114e-06\n",
      "Max Error: 75.67470169067383\n",
      "Mean Squared Log Error: 1.5511030539263446\n",
      "Median Absolute Error: 65.66682434082031\n",
      "R^2: -3.720909043576267\n",
      "Mean Poisson Deviance: 91.81962842361649\n"
     ]
    }
   ],
   "source": [
    "eval_model(model, X_test, y_test)"
   ]
  },
  {
   "cell_type": "code",
   "execution_count": null,
   "id": "8469c975",
   "metadata": {},
   "outputs": [],
   "source": []
  },
  {
   "cell_type": "markdown",
   "id": "0e182399",
   "metadata": {},
   "source": [
    "## Feature Importance Tests"
   ]
  },
  {
   "cell_type": "code",
   "execution_count": null,
   "id": "1b2ae7b5",
   "metadata": {},
   "outputs": [],
   "source": [
    "#https://machinelearningmastery.com/calculate-feature-importance-with-python/"
   ]
  },
  {
   "cell_type": "code",
   "execution_count": 150,
   "id": "ad3cc36c",
   "metadata": {},
   "outputs": [],
   "source": [
    "from sklearn.datasets import make_regression\n",
    "from sklearn.linear_model import LinearRegression\n",
    "from matplotlib import pyplot"
   ]
  },
  {
   "cell_type": "code",
   "execution_count": 166,
   "id": "7b1dbfe7",
   "metadata": {},
   "outputs": [
    {
     "data": {
      "text/plain": [
       "Index(['ID', 'FID', 'x', 'y', 'year', 'rain1', 'elevation', 'slope', 'aspect',\n",
       "       'near_mines', 'near_roads', 'near_hidrovia', 'indigenous_homol',\n",
       "       'mun_election_year', 'new_forest_code', 'lula', 'dilma', 'temer',\n",
       "       'bolsonaro', 'fed_election_year', 'populacao', 'pib_pc', 'ironore',\n",
       "       'silver', 'copper', 'gold', 'soy_price', 'beef_price', 'ag_jobs',\n",
       "       'mining_jobs', 'public_jobs', 'construction_jobs'],\n",
       "      dtype='object')"
      ]
     },
     "execution_count": 166,
     "metadata": {},
     "output_type": "execute_result"
    }
   ],
   "source": [
    "df_train.drop('forest.l', axis = 1).columns\n"
   ]
  },
  {
   "cell_type": "code",
   "execution_count": 158,
   "id": "e73d278c",
   "metadata": {},
   "outputs": [
    {
     "name": "stdout",
     "output_type": "stream",
     "text": [
      "Feature: 0, Score: -2.12814\n",
      "Feature: 1, Score: 41257.59469\n",
      "Feature: 2, Score: -41268.35994\n",
      "Feature: 3, Score: -6.18811\n",
      "Feature: 4, Score: -2.79473\n",
      "Feature: 5, Score: 6.85079\n",
      "Feature: 6, Score: -6.32647\n",
      "Feature: 7, Score: 2.51115\n",
      "Feature: 8, Score: 0.25949\n",
      "Feature: 9, Score: -0.20730\n",
      "Feature: 10, Score: 3.84496\n",
      "Feature: 11, Score: 3.58649\n",
      "Feature: 12, Score: 1.73757\n",
      "Feature: 13, Score: 0.00757\n",
      "Feature: 14, Score: -0.00000\n",
      "Feature: 15, Score: -0.30702\n",
      "Feature: 16, Score: 1.25929\n",
      "Feature: 17, Score: -0.00000\n",
      "Feature: 18, Score: -0.00000\n",
      "Feature: 19, Score: 0.00757\n",
      "Feature: 20, Score: 0.94895\n",
      "Feature: 21, Score: -3.83835\n",
      "Feature: 22, Score: 0.93002\n",
      "Feature: 23, Score: -7.79615\n",
      "Feature: 24, Score: 0.52127\n",
      "Feature: 25, Score: 10.63118\n",
      "Feature: 26, Score: -3.43115\n",
      "Feature: 27, Score: 0.39458\n",
      "Feature: 28, Score: 4.16089\n",
      "Feature: 29, Score: 2.55787\n",
      "Feature: 30, Score: 1.42926\n",
      "Feature: 31, Score: 0.55943\n"
     ]
    },
    {
     "data": {
      "image/png": "[encoded data removed]",
      "text/plain": [
       "<Figure size 432x288 with 1 Axes>"
      ]
     },
     "metadata": {
      "needs_background": "light"
     },
     "output_type": "display_data"
    }
   ],
   "source": [
    "X_train_unscaled = df_train.drop('forest.l', axis = 1)\n",
    "#X_train_unscaled = X_train_unscaled.drop('FID', axis = 1)\n",
    "X_train = sc.fit_transform(X_train_unscaled)\n",
    "\n",
    "# define  model\n",
    "model = LinearRegression()\n",
    "\n",
    "# fit the model\n",
    "model.fit(X_train, y_train)\n",
    "\n",
    "# get importance\n",
    "importance = model.coef_\n",
    "\n",
    "# summarize feature importance\n",
    "for i,v in enumerate(importance):\n",
    "    print('Feature: %0d, Score: %.5f' % (i,v))\n",
    "    \n",
    "# plot feature importance\n",
    "pyplot.bar([x for x in range(len(importance))], importance)\n",
    "pyplot.show()"
   ]
  },
  {
   "cell_type": "code",
   "execution_count": 154,
   "id": "ec4e533e",
   "metadata": {},
   "outputs": [
    {
     "name": "stdout",
     "output_type": "stream",
     "text": [
      "Feature: 0, Score: -1.76128\n",
      "Feature: 1, Score: -10.22626\n",
      "Feature: 2, Score: 1.64240\n",
      "Feature: 3, Score: -3.00494\n",
      "Feature: 4, Score: 7.20672\n",
      "Feature: 5, Score: -6.22725\n",
      "Feature: 6, Score: 2.44147\n",
      "Feature: 7, Score: 0.20707\n",
      "Feature: 8, Score: -1.26887\n",
      "Feature: 9, Score: 3.96111\n",
      "Feature: 10, Score: 3.70199\n",
      "Feature: 11, Score: 1.84566\n",
      "Feature: 12, Score: 0.02775\n",
      "Feature: 13, Score: -0.00000\n",
      "Feature: 14, Score: -0.23458\n",
      "Feature: 15, Score: 1.34905\n",
      "Feature: 16, Score: 0.00000\n",
      "Feature: 17, Score: 0.00000\n",
      "Feature: 18, Score: 0.02775\n",
      "Feature: 19, Score: 0.94777\n",
      "Feature: 20, Score: -3.76171\n",
      "Feature: 21, Score: 1.06571\n",
      "Feature: 22, Score: -8.11139\n",
      "Feature: 23, Score: 0.44116\n",
      "Feature: 24, Score: 11.08237\n",
      "Feature: 25, Score: -3.60427\n",
      "Feature: 26, Score: 0.50557\n",
      "Feature: 27, Score: 4.35568\n",
      "Feature: 28, Score: 2.65902\n",
      "Feature: 29, Score: 1.49057\n",
      "Feature: 30, Score: 0.53700\n"
     ]
    },
    {
     "data": {
      "image/png": "[encoded data removed]",
      "text/plain": [
       "<Figure size 432x288 with 1 Axes>"
      ]
     },
     "metadata": {
      "needs_background": "light"
     },
     "output_type": "display_data"
    }
   ],
   "source": [
    "X_train_unscaled = df_train.drop('forest.l', axis = 1)\n",
    "X_train_unscaled = X_train_unscaled.drop('FID', axis = 1)\n",
    "X_train = sc.fit_transform(X_train_unscaled)\n",
    "\n",
    "# define  model\n",
    "model = LinearRegression()\n",
    "\n",
    "# fit the model\n",
    "model.fit(X_train, y_train)\n",
    "\n",
    "# get importance\n",
    "importance = model.coef_\n",
    "\n",
    "# summarize feature importance\n",
    "for i,v in enumerate(importance):\n",
    "    print('Feature: %0d, Score: %.5f' % (i,v))\n",
    "    \n",
    "# plot feature importance\n",
    "pyplot.bar([x for x in range(len(importance))], importance)\n",
    "pyplot.show()"
   ]
  },
  {
   "cell_type": "code",
   "execution_count": 156,
   "id": "d08883ee",
   "metadata": {},
   "outputs": [],
   "source": [
    "from sklearn.datasets import make_regression\n",
    "from sklearn.tree import DecisionTreeRegressor\n",
    "from matplotlib import pyplot"
   ]
  },
  {
   "cell_type": "code",
   "execution_count": 157,
   "id": "4e1a3832",
   "metadata": {},
   "outputs": [
    {
     "name": "stdout",
     "output_type": "stream",
     "text": [
      "Feature: 0, Score: 0.02503\n",
      "Feature: 1, Score: 0.16902\n",
      "Feature: 2, Score: 0.11305\n",
      "Feature: 3, Score: 0.00282\n",
      "Feature: 4, Score: 0.35073\n",
      "Feature: 5, Score: 0.04944\n",
      "Feature: 6, Score: 0.00289\n",
      "Feature: 7, Score: 0.01471\n",
      "Feature: 8, Score: 0.02811\n",
      "Feature: 9, Score: 0.06013\n",
      "Feature: 10, Score: 0.02486\n",
      "Feature: 11, Score: 0.00960\n",
      "Feature: 12, Score: 0.00069\n",
      "Feature: 13, Score: 0.00000\n",
      "Feature: 14, Score: 0.00029\n",
      "Feature: 15, Score: 0.00011\n",
      "Feature: 16, Score: 0.00000\n",
      "Feature: 17, Score: 0.00000\n",
      "Feature: 18, Score: 0.00029\n",
      "Feature: 19, Score: 0.00930\n",
      "Feature: 20, Score: 0.01319\n",
      "Feature: 21, Score: 0.00275\n",
      "Feature: 22, Score: 0.00211\n",
      "Feature: 23, Score: 0.00643\n",
      "Feature: 24, Score: 0.00126\n",
      "Feature: 25, Score: 0.00764\n",
      "Feature: 26, Score: 0.00268\n",
      "Feature: 27, Score: 0.07828\n",
      "Feature: 28, Score: 0.01030\n",
      "Feature: 29, Score: 0.00882\n",
      "Feature: 30, Score: 0.00546\n"
     ]
    },
    {
     "data": {
      "image/png": "[encoded data removed]",
      "text/plain": [
       "<Figure size 432x288 with 1 Axes>"
      ]
     },
     "metadata": {
      "needs_background": "light"
     },
     "output_type": "display_data"
    }
   ],
   "source": [
    "model = DecisionTreeRegressor()\n",
    "\n",
    "# fit the model\n",
    "model.fit(X_train, y_train)\n",
    "\n",
    "# get importance\n",
    "importance = model.feature_importances_\n",
    "\n",
    "# summarize feature importance\n",
    "for i,v in enumerate(importance):\n",
    "    print('Feature: %0d, Score: %.5f' % (i,v))\n",
    "    \n",
    "# plot feature importance\n",
    "pyplot.bar([x for x in range(len(importance))], importance)\n",
    "pyplot.show()"
   ]
  },
  {
   "cell_type": "markdown",
   "id": "8ffe7ff4",
   "metadata": {},
   "source": [
    "## Variable Importance Things to look into: \n",
    "https://mljar.com/blog/feature-importance-in-random-forest/\n",
    "\n",
    "https://arxiv.org/pdf/1407.7502.pdf"
   ]
  },
  {
   "cell_type": "code",
   "execution_count": null,
   "id": "a9f97565",
   "metadata": {},
   "outputs": [],
   "source": []
  }
 ],
 "metadata": {
  "kernelspec": {
   "display_name": "Python 3",
   "language": "python",
   "name": "python3"
  },
  "language_info": {
   "codemirror_mode": {
    "name": "ipython",
    "version": 3
   },
   "file_extension": ".py",
   "mimetype": "text/x-python",
   "name": "python",
   "nbconvert_exporter": "python",
   "pygments_lexer": "ipython3",
   "version": "3.8.8"
  }
 },
 "nbformat": 4,
 "nbformat_minor": 5
}
