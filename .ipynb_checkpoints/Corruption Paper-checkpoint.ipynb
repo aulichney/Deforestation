{
 "cells": [
  {
   "cell_type": "markdown",
   "id": "10c038fa",
   "metadata": {},
   "source": [
    "## Notes and Questions\n",
    "- The metrics they use to select their model parameters are metrics for classification, will have to look more into the analogs in regression beyond the standard ones I've done in class\n",
    "- how strictly to follow paper e.g. number trees in random forest"
   ]
  },
  {
   "cell_type": "markdown",
   "id": "63ace451",
   "metadata": {},
   "source": [
    "### Covariates in corruption paper \n",
    "1. private sector includes different measures of economic activity and sectoral distributions\n",
    "\n",
    "- Average business establishments size based on employment, number of business establishments, payroll per employee, average business establishments payroll, share of business establishments entering, share of business establishments exiting, business establishments churning, share of private sector workers over population, Hirschman-Herfindahl index based on business establishments size, average growth in business establishments and in employment in past 3 years, share of business establishments below 5 employees, share of business establishments between 5 and 25 employees, share of business establishments above 25 employees, share of business establishments in construction, share of business establishments in retail, share of business establishments in services.\n",
    "\n",
    "2. public sector features include the size, relative importance, and wages of public officials\n",
    "\n",
    "- Share of public sector employees over population, average wage of public sector employees, share of public institutions opening,share of public institutions closing, public institutions churning, share of workers by position within the institution, average growth in public employment and public institutions in past 3 years, share of public sector employees from municipal institutions, number of public institutions, average public institution size based on employment.\n",
    "\n",
    "3. financial development includes measures of credit-related variables from public and private banks\n",
    "\n",
    "- Share of business establishments receiving public loans, number of public loans per business establishment, total public credit per business establishment, average interest rate in public lending, bank branches per capita, banks per capita, total private credit per capita, total deposits per capita, and Hirschman-Herfindahl index based on private banks total assets and based on private banks credit.\n",
    "\n",
    "4. human capital includes measures of education and access to it\n",
    "\n",
    "- Literacy rate, the share of population between 15 and 24 years old that finished, the first, second, and third cycle of primary education (Census), illiteracy rate (Census), average test scores in Portuguese and maths for nationwide tests at 4th and 8th grade, average private sector employees education, average private sector employees education by worker position within the firm, share of unqualified public employees based on job requirements, share of unqualified public employees by position within the institution, average public employees education, average public employees education by position within the institution, number of higher public education institutions per capita, number of higher private education institutions per capita.\n",
    "\n",
    "5. public spending includes different types of spending as well as local procurement variables\n",
    "\n",
    "- Total expenditures per capita, personnel expenditures per capita, budget surplus per capita, total revenue per capita, federal transfers of capital per capita, federal current transfers per capita, transfers from the national tax fund per capita, share of business establishments in the municipality with public procurement, number of contracts per business establishments, federal procurement expenditure over population, share of discretionary contracts, and share of competitive contracts.\n",
    "\n",
    "6. local politics includes variables of political competition and alignment with the central government\n",
    "\n",
    "- Number of candidates, Hirschman-Herfindahl index based on the vote shares, margin of victory between the winner and the runner-up, an indicator for whether the mayor is in his second term, an indicator for whether the mayor’s party is the same as the one of the governor, an indicator for whether the mayor’s party is from the same party as the one of the president, an indicator if the mayor is from right-wing party, an indicator if the mayor is from left-wing party, average candidate campaign donations and expenditures for firms and individuals, and per capita campaign donations and expenditures for firms and individuals.\n",
    "\n",
    "7. local demographics\n",
    "\n",
    "- Population density, GDP per capita, share of population living in rural areas (Census), deaths by aggression, GINI coefficient for income distribution (Census), average night light intensity coverage performing deblurring, inter-calibration, and geometric corrections, local radio, local newspapers, infant mortality rate, child mortality rate, average number of prenatal visits, share of abnormal births, share of underweight births, share of births with more than seven prenatal visits, and share of births with more than four prenatal visits.\n",
    "\n",
    "8. natural resources’ dependency includes the relevance of different natural resources, and finally \n",
    "- Share of business establishments in agriculture and mining sector, share of production of each of the top-7 crops in the country multiplied by the the log change in international prices and share of value of production over GDP (as constructed in Bernstein et al., 2018). The crops included are sugar cane, oranges, soybeans, maize, rice, rice, banana, and wheat, covering more than 98% of total agricultural production."
   ]
  },
  {
   "cell_type": "markdown",
   "id": "57da6e2e",
   "metadata": {},
   "source": [
    "### Covariates in deforestation\n",
    "1. federal politics\n",
    "- \"lula\": Lula government years (2003-2010),\n",
    "- \"dilma\": Dilma government yeras (2011-2016),\n",
    "- \"temer\": Temer interim government (2017-2018),\n",
    "- \"bolsonaro\": Bolsonaro government (2019-2020),\n",
    "- \"fed_election_year\": Years where there was a Federal Election \n",
    "- \"new_forest_code\": years after new forest code (post 2012), --? is this one sorted correctly\n",
    "\n",
    "2. local politics includes variables of political competition and alignment with the central government\n",
    "- \"mun_election_year\": municipal election year,\n",
    "\n",
    "\n",
    "3. local demographics\n",
    "\n",
    "- \"populacao\": Population (I think this is census data so 2000 and 2010),\n",
    "- \"pib_pc\": GDP per capita,\n",
    "- \"indigenous_homol\": pixel is inside an indigenous, homologated territory\n",
    "\n",
    "4. natural resources and economy\n",
    "\n",
    "- \"ironore\": whether the municipality produces ironore,\n",
    "- \"silver\": whether the municipality produces silver,\n",
    "- \"copper\": whether the municipality produces copper,\n",
    "- \"gold\": whether the municipality produces gold,\n",
    "\n",
    "- \"soy_price\": whether the municipality produces soy,\n",
    "- \"beef_price\": whether the municipality produces beef,\n",
    "\n",
    "- \"ag_jobs\": total employment in the agricultural sector,\n",
    "- \"mining_jobs\": total employment in the mining sector,\n",
    "- \"public_jobs\": total employment in the public sector,\n",
    "- \"construction_jobs\": total employment in the construction sector\n",
    "\n",
    "\n",
    "5. non-human related geographic variables\n",
    "- \"rain1\": rainfall,\n",
    "- \"elevation\": elevation (meters above sea level),\n",
    "- \"slope\": slope,\n",
    "- \"aspect\": aspect,\n",
    "- \"near_mines\": distance to nearest mine,\n",
    "- \"near_roads\": distance to nearest road,\n",
    "- \"near_hidrovia\": distance to nearest hydroeletric,"
   ]
  },
  {
   "cell_type": "markdown",
   "id": "b5b9b61a",
   "metadata": {},
   "source": [
    "## Models\n",
    "- Random Forests\n",
    "    - In this application, we keep fixed the number of fitted trees (500) and use cross-validation to determine the optimal number of features available in every node\n",
    "- Gradient Boosting \n",
    "    - we keep fixed the learning rate (shrinkage parameter) and the minimum number of observations in the terminal nodes to avoid overfitting, and use cross-validation to determine the optimal number of trees and the interaction depth\n",
    "- Neural Networks \n",
    "    - we keep fixed a logistic activation function and use cross-validation to determine the optimal number of units in the hidden layer (size) and the regularization parameter (decay)\n",
    "- LASSO\n",
    "    - The tuning parameter in the cross-validation is the weight of the pe- nalization term in the objective function (λ), which is optimized over a grid of potential values\n",
    "- Super Learner Ensemble\n",
    "    - we use the Super Learner ensemble method developed by Polley et al. (2011), which finds an optimal combination of individual prediction models by minimizing the cross-validated out-of-bag risk of these predic- tions"
   ]
  },
  {
   "cell_type": "markdown",
   "id": "91a72348",
   "metadata": {},
   "source": [
    "## Protocol\n",
    "- We divide our dataset into 70% as our training set and 30% as our testing set\n",
    "- In our training set, we perform a 5-fold cross-validation procedure in order to train our models and choose the optimal combination of parameters\n",
    "- The previous step is repeated 10 times with different random partitions. Hence, we obtain 10 “optimal parameters” and we use as our optimal parameter the average of them. For the case of integer parameters, we round it to the closest integer\n",
    "- Using these optimal parameters, we assess the performance of our models in the testing set that has never been used for training purposes\n",
    "- We standardize the data by the mean and standard deviation of the training set"
   ]
  },
  {
   "cell_type": "markdown",
   "id": "894d6616",
   "metadata": {},
   "source": [
    "## Assessing Models’ Performance\n",
    "- We use as a first performance measure of interest the area under the ROC (Receiver Operating Characteristic) curve (AUC)\n",
    "- We also present each model’s level of accuracy, which corresponds to the proportion of municipalities correctly predicted as corrupt; models’ precision, which is the proportion of positive identifications that are correct (or true positives over true positives plus false positives); models’ recall, which is the proportion of actual positives identified correctly (true positives over true positives plus false negatives), and models’ F1, which is the harmonic mean of precision and recall"
   ]
  },
  {
   "cell_type": "markdown",
   "id": "63e29ad2",
   "metadata": {},
   "source": [
    "## Random Forests"
   ]
  },
  {
   "cell_type": "code",
   "execution_count": 63,
   "id": "3b11a15b",
   "metadata": {},
   "outputs": [],
   "source": [
    "import pyreadr\n",
    "import pandas as pd\n",
    "import sklearn\n",
    "import numpy as np\n",
    "\n",
    "from sklearn.datasets import make_regression\n",
    "from sklearn.model_selection import cross_val_score\n",
    "from sklearn.model_selection import RepeatedKFold\n",
    "from sklearn.model_selection import train_test_split\n",
    "from sklearn.ensemble import RandomForestRegressor"
   ]
  },
  {
   "cell_type": "code",
   "execution_count": 25,
   "id": "e5a5b31e",
   "metadata": {},
   "outputs": [],
   "source": [
    "result = pyreadr.read_r('/Users/annieulichney/Desktop/Deforestation/analysis.Rdata')"
   ]
  },
  {
   "cell_type": "code",
   "execution_count": 64,
   "id": "5cab8325",
   "metadata": {},
   "outputs": [],
   "source": [
    "df = pd.DataFrame(result['forest_full'])"
   ]
  },
  {
   "cell_type": "code",
   "execution_count": 65,
   "id": "b03df27b",
   "metadata": {},
   "outputs": [],
   "source": [
    "df2 = df[0:1000]\n",
    "y = df2['forest.l']\n",
    "df1 = df2.copy()\n",
    "X = df2.drop('forest.l', axis =1)"
   ]
  },
  {
   "cell_type": "code",
   "execution_count": 66,
   "id": "5091ae31",
   "metadata": {},
   "outputs": [],
   "source": [
    "X_train, X_test, y_train, y_test = train_test_split(X, y, test_size = 0.3)"
   ]
  },
  {
   "cell_type": "code",
   "execution_count": 57,
   "id": "1858adbb",
   "metadata": {},
   "outputs": [],
   "source": [
    "model = RandomForestRegressor()\n",
    "\n",
    "#5-fold cross validation as specified by the paper\n",
    "#remove random state later\n",
    "cv = RepeatedKFold(n_splits = 5, n_repeats = 10, random_state = 1)\n"
   ]
  },
  {
   "cell_type": "code",
   "execution_count": 60,
   "id": "1952e360",
   "metadata": {},
   "outputs": [],
   "source": [
    "from sklearn.model_selection import RandomizedSearchCV\n",
    "\n",
    "\n",
    "# Number of trees in random forest\n",
    "n_estimators = [int(x) for x in np.linspace(start = 200, stop = 2000, num = 10)]\n",
    "\n",
    "# Number of features to consider at every split\n",
    "max_features = ['auto', 'sqrt']\n",
    "\n",
    "# Maximum number of levels in tree\n",
    "max_depth = [int(x) for x in np.linspace(10, 110, num = 11)]\n",
    "max_depth.append(None)\n",
    "\n",
    "# Minimum number of samples required to split a node\n",
    "min_samples_split = [2, 5, 10]\n",
    "\n",
    "# Minimum number of samples required at each leaf node\n",
    "min_samples_leaf = [1, 2, 4]\n",
    "\n",
    "# Method of selecting samples for training each tree\n",
    "bootstrap = [True, False]\n",
    "\n",
    "# Create the random grid\n",
    "random_grid = {'n_estimators': n_estimators,\n",
    "               'max_features': max_features,\n",
    "               'max_depth': max_depth,\n",
    "               'min_samples_split': min_samples_split,\n",
    "               'min_samples_leaf': min_samples_leaf,\n",
    "               'bootstrap': bootstrap}\n",
    "\n"
   ]
  },
  {
   "cell_type": "code",
   "execution_count": null,
   "id": "4f31aac7",
   "metadata": {},
   "outputs": [
    {
     "name": "stdout",
     "output_type": "stream",
     "text": [
      "Fitting 3 folds for each of 100 candidates, totalling 300 fits\n"
     ]
    }
   ],
   "source": [
    "# Use the random grid to search for best hyperparameters\n",
    "# First create the base model to tune\n",
    "rf = RandomForestRegressor()\n",
    "\n",
    "# Random search of parameters, using 3 fold cross validation, \n",
    "# search across 100 different combinations, and use all available cores\n",
    "rf_random = RandomizedSearchCV(estimator = rf, param_distributions = random_grid, n_iter = 100, cv = 5, verbose=2, random_state=42, n_jobs = -1)\n",
    "\n",
    "# Fit the random search model\n",
    "rf_random.fit(X_train, y_train)"
   ]
  },
  {
   "cell_type": "code",
   "execution_count": null,
   "id": "96a57f9d",
   "metadata": {},
   "outputs": [],
   "source": [
    "rf_random.best_params_"
   ]
  },
  {
   "cell_type": "code",
   "execution_count": null,
   "id": "cec2aba9",
   "metadata": {},
   "outputs": [],
   "source": [
    "#Evaluate\n",
    "def evaluate(model, test_features, test_labels):\n",
    "    predictions = model.predict(test_features)\n",
    "    errors = abs(predictions - test_labels)\n",
    "    mape = 100 * np.mean(errors / test_labels)\n",
    "    accuracy = 100 - mape\n",
    "    print('Model Performance')\n",
    "    print('Average Error: {:0.4f} degrees.'.format(np.mean(errors)))\n",
    "    print('Accuracy = {:0.2f}%.'.format(accuracy))\n",
    "    \n",
    "    return accuracy"
   ]
  },
  {
   "cell_type": "code",
   "execution_count": null,
   "id": "9b2d6231",
   "metadata": {},
   "outputs": [],
   "source": [
    "base_model = RandomForestRegressor(n_estimators = 10, random_state = 42)\n",
    "base_model.fit(train_features, train_labels)\n",
    "base_accuracy = evaluate(base_model, test_features, test_labels)\n",
    "Model Performance\n",
    "Average Error: 3.9199 degrees.\n",
    "Accuracy = 93.36%.\n",
    "best_random = rf_random.best_estimator_\n",
    "random_accuracy = evaluate(best_random, test_features, test_labels)\n",
    "Model Performance\n",
    "Average Error: 3.7152 degrees.\n",
    "Accuracy = 93.73%.\n",
    "print('Improvement of {:0.2f}%.'.format( 100 * (random_accuracy - base_accuracy) / base_accuracy))\n",
    "Improvement of 0.40%."
   ]
  },
  {
   "cell_type": "code",
   "execution_count": null,
   "id": "eba2adb8",
   "metadata": {},
   "outputs": [],
   "source": []
  },
  {
   "cell_type": "code",
   "execution_count": 54,
   "id": "c838bfb9",
   "metadata": {},
   "outputs": [],
   "source": [
    "#n_estimators should be 500 as in the paper? "
   ]
  },
  {
   "cell_type": "code",
   "execution_count": 55,
   "id": "86faa284",
   "metadata": {},
   "outputs": [
    {
     "data": {
      "text/plain": [
       "{'bootstrap': True,\n",
       " 'ccp_alpha': 0.0,\n",
       " 'criterion': 'mse',\n",
       " 'max_depth': None,\n",
       " 'max_features': 'auto',\n",
       " 'max_leaf_nodes': None,\n",
       " 'max_samples': None,\n",
       " 'min_impurity_decrease': 0.0,\n",
       " 'min_impurity_split': None,\n",
       " 'min_samples_leaf': 1,\n",
       " 'min_samples_split': 2,\n",
       " 'min_weight_fraction_leaf': 0.0,\n",
       " 'n_estimators': 500,\n",
       " 'n_jobs': None,\n",
       " 'oob_score': False,\n",
       " 'random_state': None,\n",
       " 'verbose': 0,\n",
       " 'warm_start': False}"
      ]
     },
     "execution_count": 55,
     "metadata": {},
     "output_type": "execute_result"
    }
   ],
   "source": [
    "model.get_params()"
   ]
  },
  {
   "cell_type": "code",
   "execution_count": 51,
   "id": "0ee688b7",
   "metadata": {},
   "outputs": [
    {
     "name": "stdout",
     "output_type": "stream",
     "text": [
      "MAE: -5.816 (0.339)\n",
      "MSE: -61.162 (8.537)\n",
      "R2: 0.893 (0.015)\n"
     ]
    }
   ],
   "source": [
    "#Model performance \n",
    "\n",
    "#MAE\n",
    "mae_n_scores = cross_val_score(model, X, y, scoring='neg_mean_absolute_error', cv=cv, n_jobs=-1)\n",
    "print('MAE: %.3f (%.3f)' % (np.mean(mae_n_scores), np.std(mae_n_scores)))\n",
    "\n",
    "#MSE\n",
    "mse_n_scores = cross_val_score(model, X, y, scoring='neg_mean_squared_error', cv=cv, n_jobs=-1)\n",
    "print('MSE: %.3f (%.3f)' % (np.mean(mse_n_scores), np.std(mse_n_scores)))\n",
    "\n",
    "#R2\n",
    "r2_n_scores = cross_val_score(model, X, y, scoring='r2', cv=cv, n_jobs=-1)\n",
    "print('R2: %.3f (%.3f)' % (np.mean(r2_n_scores), np.std(r2_n_scores)))\n"
   ]
  },
  {
   "cell_type": "markdown",
   "id": "329fe635",
   "metadata": {},
   "source": [
    "## Varaiable Importance Things to look into: \n",
    "https://mljar.com/blog/feature-importance-in-random-forest/\n",
    "\n",
    "https://arxiv.org/pdf/1407.7502.pdf"
   ]
  },
  {
   "cell_type": "code",
   "execution_count": null,
   "id": "285d2881",
   "metadata": {},
   "outputs": [],
   "source": []
  }
 ],
 "metadata": {
  "kernelspec": {
   "display_name": "Python 3",
   "language": "python",
   "name": "python3"
  },
  "language_info": {
   "codemirror_mode": {
    "name": "ipython",
    "version": 3
   },
   "file_extension": ".py",
   "mimetype": "text/x-python",
   "name": "python",
   "nbconvert_exporter": "python",
   "pygments_lexer": "ipython3",
   "version": "3.8.8"
  }
 },
 "nbformat": 4,
 "nbformat_minor": 5
}
