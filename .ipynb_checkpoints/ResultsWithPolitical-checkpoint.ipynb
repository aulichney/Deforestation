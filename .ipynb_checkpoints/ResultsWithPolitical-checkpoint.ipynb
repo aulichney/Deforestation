{
 "cells": [
  {
   "cell_type": "code",
   "execution_count": 121,
   "metadata": {},
   "outputs": [],
   "source": [
    "import pandas as pd\n",
    "import numpy as np\n",
    "import pyreadr\n",
    "from scipy.spatial import distance\n",
    "from tqdm import tqdm\n",
    "\n",
    "import shapefile as shp  # Requires the pyshp package\n",
    "import matplotlib.pyplot as plt\n",
    "import os\n",
    "\n",
    "from sklearn.neural_network import MLPRegressor\n",
    "import shap"
   ]
  },
  {
   "cell_type": "code",
   "execution_count": null,
   "metadata": {},
   "outputs": [],
   "source": []
  },
  {
   "cell_type": "code",
   "execution_count": 122,
   "metadata": {},
   "outputs": [],
   "source": [
    "#Global Variables\n",
    "\n",
    "SUBSET = True\n",
    "SUBSET_SIZE = 100\n",
    "\n",
    "NEW_INDICES = True\n",
    "\n",
    "NEW_CV_INDICES = True\n",
    "\n",
    "PLOT_ENTIRE_AREA = True\n",
    "PLOT_FOLDS = False\n",
    "\n",
    "START_YEAR_TRAIN = 2004\n",
    "NUMBER_YEARS_TRAIN = 3\n",
    "YEARS_TO_TRAIN = [START_YEAR_TRAIN + i  for i in range(NUMBER_YEARS_TRAIN + 1)]\n",
    "\n",
    "PREDICT_YEAR = START_YEAR_TRAIN + NUMBER_YEARS_TRAIN\n",
    "\n",
    "FOLDER_NAME = ''.join([f'{START_YEAR_TRAIN + i}_' for i in list(range(NUMBER_YEARS_TRAIN))]) + f'PREDICT_{PREDICT_YEAR}'\n",
    "\n",
    "\n",
    "FILE_PATH = f'FeatureImportanceResults/{FOLDER_NAME}/'\n",
    "\n",
    "if not os.path.exists(f'FeatureImportanceResults/{FOLDER_NAME}'):\n",
    "    os.makedirs(f'FeatureImportanceResults/{FOLDER_NAME}')"
   ]
  },
  {
   "cell_type": "code",
   "execution_count": 123,
   "metadata": {},
   "outputs": [
    {
     "name": "stdout",
     "output_type": "stream",
     "text": [
      "[2004 2005 2006 2007]\n",
      "(665048, 216)\n"
     ]
    }
   ],
   "source": [
    "df_full = pd.read_csv(f'FinalData/FinalData{START_YEAR_TRAIN}_1.csv')\n",
    "df_full = pd.concat([df_full, pd.read_csv(f'FinalData/FinalData{START_YEAR_TRAIN}_2.csv')])\n",
    "df_full = pd.concat([df_full, pd.read_csv(f'FinalData/FinalData{START_YEAR_TRAIN}_3.csv')])\n",
    "df_full = pd.concat([df_full, pd.read_csv(f'FinalData/FinalData{START_YEAR_TRAIN}_4.csv')])\n",
    "\n",
    "\n",
    "for year in YEARS_TO_TRAIN[1:]:\n",
    "    filename = f'FinalData/FinalData{str(year)}_1.csv'\n",
    "    df_full = pd.concat([df_full, pd.read_csv(filename)])\n",
    "    filename = f'FinalData/FinalData{str(year)}_2.csv'\n",
    "    df_full = pd.concat([df_full, pd.read_csv(filename)])\n",
    "    filename = f'FinalData/FinalData{str(year)}_3.csv'\n",
    "    df_full = pd.concat([df_full, pd.read_csv(filename)])\n",
    "    filename = f'FinalData/FinalData{str(year)}_4.csv'\n",
    "    df_full = pd.concat([df_full, pd.read_csv(filename)])\n",
    "\n",
    "print(np.unique(df_full.year))\n",
    "print(df_full.shape)"
   ]
  },
  {
   "cell_type": "code",
   "execution_count": 124,
   "metadata": {},
   "outputs": [
    {
     "data": {
      "text/html": [
       "<div>\n",
       "<style scoped>\n",
       "    .dataframe tbody tr th:only-of-type {\n",
       "        vertical-align: middle;\n",
       "    }\n",
       "\n",
       "    .dataframe tbody tr th {\n",
       "        vertical-align: top;\n",
       "    }\n",
       "\n",
       "    .dataframe thead th {\n",
       "        text-align: right;\n",
       "    }\n",
       "</style>\n",
       "<table border=\"1\" class=\"dataframe\">\n",
       "  <thead>\n",
       "    <tr style=\"text-align: right;\">\n",
       "      <th></th>\n",
       "      <th>Unnamed: 0</th>\n",
       "      <th>ID</th>\n",
       "      <th>forest.diff</th>\n",
       "      <th>FID</th>\n",
       "      <th>x</th>\n",
       "      <th>y</th>\n",
       "      <th>year</th>\n",
       "      <th>forest.l</th>\n",
       "      <th>nn_forest.l</th>\n",
       "      <th>rain1</th>\n",
       "      <th>...</th>\n",
       "      <th>water</th>\n",
       "      <th>soybean</th>\n",
       "      <th>rice</th>\n",
       "      <th>other_crop</th>\n",
       "      <th>coffee</th>\n",
       "      <th>citrus</th>\n",
       "      <th>other_perennial</th>\n",
       "      <th>forest_lag</th>\n",
       "      <th>forest_diff</th>\n",
       "      <th>def</th>\n",
       "    </tr>\n",
       "  </thead>\n",
       "  <tbody>\n",
       "    <tr>\n",
       "      <th>0</th>\n",
       "      <td>0</td>\n",
       "      <td>1100015.0</td>\n",
       "      <td>8.0</td>\n",
       "      <td>8436645</td>\n",
       "      <td>-62.825</td>\n",
       "      <td>-12.925</td>\n",
       "      <td>2004</td>\n",
       "      <td>84.0</td>\n",
       "      <td>70.75</td>\n",
       "      <td>23.39269</td>\n",
       "      <td>...</td>\n",
       "      <td>0.241447</td>\n",
       "      <td>0.0</td>\n",
       "      <td>0.0</td>\n",
       "      <td>0.0</td>\n",
       "      <td>0</td>\n",
       "      <td>0</td>\n",
       "      <td>0.0</td>\n",
       "      <td>2.740301</td>\n",
       "      <td>0.003488</td>\n",
       "      <td>0.0</td>\n",
       "    </tr>\n",
       "    <tr>\n",
       "      <th>1</th>\n",
       "      <td>1</td>\n",
       "      <td>1100015.0</td>\n",
       "      <td>21.0</td>\n",
       "      <td>8436646</td>\n",
       "      <td>-62.825</td>\n",
       "      <td>-12.875</td>\n",
       "      <td>2004</td>\n",
       "      <td>48.0</td>\n",
       "      <td>62.75</td>\n",
       "      <td>24.21399</td>\n",
       "      <td>...</td>\n",
       "      <td>0.000000</td>\n",
       "      <td>0.0</td>\n",
       "      <td>0.0</td>\n",
       "      <td>0.0</td>\n",
       "      <td>0</td>\n",
       "      <td>0</td>\n",
       "      <td>0.0</td>\n",
       "      <td>0.998124</td>\n",
       "      <td>0.014282</td>\n",
       "      <td>0.0</td>\n",
       "    </tr>\n",
       "    <tr>\n",
       "      <th>2</th>\n",
       "      <td>2</td>\n",
       "      <td>1100015.0</td>\n",
       "      <td>-19.0</td>\n",
       "      <td>8440244</td>\n",
       "      <td>-62.775</td>\n",
       "      <td>-12.975</td>\n",
       "      <td>2004</td>\n",
       "      <td>92.0</td>\n",
       "      <td>83.50</td>\n",
       "      <td>23.46420</td>\n",
       "      <td>...</td>\n",
       "      <td>0.000000</td>\n",
       "      <td>0.0</td>\n",
       "      <td>0.0</td>\n",
       "      <td>0.0</td>\n",
       "      <td>0</td>\n",
       "      <td>0</td>\n",
       "      <td>0.0</td>\n",
       "      <td>2.973196</td>\n",
       "      <td>0.000000</td>\n",
       "      <td>0.0</td>\n",
       "    </tr>\n",
       "    <tr>\n",
       "      <th>3</th>\n",
       "      <td>3</td>\n",
       "      <td>1100015.0</td>\n",
       "      <td>12.0</td>\n",
       "      <td>8440245</td>\n",
       "      <td>-62.775</td>\n",
       "      <td>-12.925</td>\n",
       "      <td>2004</td>\n",
       "      <td>78.0</td>\n",
       "      <td>68.50</td>\n",
       "      <td>23.58431</td>\n",
       "      <td>...</td>\n",
       "      <td>0.038767</td>\n",
       "      <td>0.0</td>\n",
       "      <td>0.0</td>\n",
       "      <td>0.0</td>\n",
       "      <td>0</td>\n",
       "      <td>0</td>\n",
       "      <td>0.0</td>\n",
       "      <td>2.923839</td>\n",
       "      <td>0.000872</td>\n",
       "      <td>0.0</td>\n",
       "    </tr>\n",
       "    <tr>\n",
       "      <th>4</th>\n",
       "      <td>4</td>\n",
       "      <td>1100015.0</td>\n",
       "      <td>0.0</td>\n",
       "      <td>8443844</td>\n",
       "      <td>-62.725</td>\n",
       "      <td>-12.975</td>\n",
       "      <td>2004</td>\n",
       "      <td>77.0</td>\n",
       "      <td>76.50</td>\n",
       "      <td>23.37501</td>\n",
       "      <td>...</td>\n",
       "      <td>0.076749</td>\n",
       "      <td>0.0</td>\n",
       "      <td>0.0</td>\n",
       "      <td>0.0</td>\n",
       "      <td>0</td>\n",
       "      <td>0</td>\n",
       "      <td>0.0</td>\n",
       "      <td>2.894867</td>\n",
       "      <td>0.003138</td>\n",
       "      <td>0.0</td>\n",
       "    </tr>\n",
       "  </tbody>\n",
       "</table>\n",
       "<p>5 rows × 216 columns</p>\n",
       "</div>"
      ],
      "text/plain": [
       "   Unnamed: 0         ID  forest.diff      FID       x       y  year  \\\n",
       "0           0  1100015.0          8.0  8436645 -62.825 -12.925  2004   \n",
       "1           1  1100015.0         21.0  8436646 -62.825 -12.875  2004   \n",
       "2           2  1100015.0        -19.0  8440244 -62.775 -12.975  2004   \n",
       "3           3  1100015.0         12.0  8440245 -62.775 -12.925  2004   \n",
       "4           4  1100015.0          0.0  8443844 -62.725 -12.975  2004   \n",
       "\n",
       "   forest.l  nn_forest.l     rain1  ...     water  soybean  rice  other_crop  \\\n",
       "0      84.0        70.75  23.39269  ...  0.241447      0.0   0.0         0.0   \n",
       "1      48.0        62.75  24.21399  ...  0.000000      0.0   0.0         0.0   \n",
       "2      92.0        83.50  23.46420  ...  0.000000      0.0   0.0         0.0   \n",
       "3      78.0        68.50  23.58431  ...  0.038767      0.0   0.0         0.0   \n",
       "4      77.0        76.50  23.37501  ...  0.076749      0.0   0.0         0.0   \n",
       "\n",
       "   coffee  citrus  other_perennial  forest_lag  forest_diff  def  \n",
       "0       0       0              0.0    2.740301     0.003488  0.0  \n",
       "1       0       0              0.0    0.998124     0.014282  0.0  \n",
       "2       0       0              0.0    2.973196     0.000000  0.0  \n",
       "3       0       0              0.0    2.923839     0.000872  0.0  \n",
       "4       0       0              0.0    2.894867     0.003138  0.0  \n",
       "\n",
       "[5 rows x 216 columns]"
      ]
     },
     "execution_count": 124,
     "metadata": {},
     "output_type": "execute_result"
    }
   ],
   "source": [
    "df_full.head()"
   ]
  },
  {
   "cell_type": "code",
   "execution_count": 125,
   "metadata": {},
   "outputs": [],
   "source": [
    "#should year be in it? "
   ]
  },
  {
   "cell_type": "code",
   "execution_count": 126,
   "metadata": {},
   "outputs": [],
   "source": [
    "X_cols  = ['year', 'rain1', 'elevation', 'slope', 'aspect', 'near_mines',\n",
    "       'near_roads', 'near_hidrovia', 'indigenous_homol',\n",
    "       'mun_election_year', 'new_forest_code', 'lula', 'dilma', 'temer',\n",
    "       'bolsonaro', 'fed_election_year', 'populacao', 'pib_pc', 'ironore',\n",
    "       'silver', 'copper', 'gold', 'soy_price', 'beef_price', 'ag_jobs',\n",
    "       'mining_jobs', 'public_jobs', 'construction_jobs', 'PIB',\n",
    "       'n_companies_PUBLIC ADMIN', 'n_companies_AGRICULTURE',\n",
    "       'n_companies_FOOD AND DRINKS', 'n_companies_ACCOMODATION AND FOOD',\n",
    "       'n_companies_EQUIPMENT RENTAL', 'n_companies_WHOLESALE',\n",
    "       'n_companies_ASSOCIATIVE ACTIVITIES',\n",
    "       'n_companies_AUTOMOBILES AND TRANSPORT',\n",
    "       'n_companies_FINANCIAL ASSISTANCE',\n",
    "       'n_companies_TRADE REP VEHICLES', 'n_companies_CONSTRUCTION',\n",
    "       'n_companies_MAIL AND TELECOM', 'n_companies_CULTURE AND SPORT',\n",
    "       'n_companies_EDITING AND PRINTING', 'n_companies_EDUCATION',\n",
    "       'n_companies_ELECTRICITY AND GAS', 'n_companies_FINANCES',\n",
    "       'n_companies_CLEANING AND SEWAGE', 'n_companies_MACHINERY',\n",
    "       'n_companies_BASIC METALLURGY', 'n_companies_MINING',\n",
    "       'n_companies_WOOD PROD',\n",
    "       'n_companies_NON-METALLIC MINERAL PRODUCTS', 'n_companies_HEALTH',\n",
    "       'n_companies_SERVICES FOR COMPANIES',\n",
    "       'n_companies_PERSONAL SERVICES', 'n_companies_TRANSPORTATION',\n",
    "       'n_companies_GROUND TRANSPORT',\n",
    "       'n_companies_WATER TREATMENT AND DISTRIBUTION',\n",
    "       'n_companies_RETAIL', 'n_companies_COMPUTING',\n",
    "       'n_companies_INSURANCE AND SOCIAL SECURITY',\n",
    "       'n_companies_METALLIC PRODUCTS', 'n_companies_DOMESTIC SERVICES',\n",
    "       'n_companies_FORESTRY', 'n_companies_CLOTHING',\n",
    "       'n_companies_PAPER', 'n_companies_INTERNATIONAL BODIES',\n",
    "       'n_companies_OIL AND GAS', 'n_companies_FISHING AND AQUACULTURE',\n",
    "       'n_companies_CHEMICALS', 'n_companies_WATER-BASED TRANSPORTATION',\n",
    "       'n_companies_REAL ESTATE', 'n_companies_RECYCLING',\n",
    "       'n_companies_LEATHERS AND FOOTWEAR',\n",
    "       'n_companies_RUBBER AND PLASTIC', 'n_companies_TEXTILES',\n",
    "       'n_companies_RESEARCH AND DEVELOPMENT',\n",
    "       'n_companies_AERO TRANSPORT', 'n_companies_SMOKE',\n",
    "       'n_companies_PETROLEUM REFINING', 'n_companies_',\n",
    "       'n_jobs_PUBLIC ADMIN', 'n_jobs_AGRICULTURE',\n",
    "       'n_jobs_FOOD AND DRINKS', 'n_jobs_ACCOMODATION AND FOOD',\n",
    "       'n_jobs_EQUIPMENT RENTAL', 'n_jobs_WHOLESALE',\n",
    "       'n_jobs_ASSOCIATIVE ACTIVITIES',\n",
    "       'n_jobs_AUTOMOBILES AND TRANSPORT', 'n_jobs_FINANCIAL ASSISTANCE',\n",
    "       'n_jobs_TRADE REP VEHICLES', 'n_jobs_CONSTRUCTION',\n",
    "       'n_jobs_MAIL AND TELECOM', 'n_jobs_CULTURE AND SPORT',\n",
    "       'n_jobs_EDITING AND PRINTING', 'n_jobs_EDUCATION',\n",
    "       'n_jobs_ELECTRICITY AND GAS', 'n_jobs_FINANCES',\n",
    "       'n_jobs_CLEANING AND SEWAGE', 'n_jobs_MACHINERY',\n",
    "       'n_jobs_BASIC METALLURGY', 'n_jobs_MINING', 'n_jobs_WOOD PROD',\n",
    "       'n_jobs_NON-METALLIC MINERAL PRODUCTS', 'n_jobs_HEALTH',\n",
    "       'n_jobs_SERVICES FOR COMPANIES', 'n_jobs_PERSONAL SERVICES',\n",
    "       'n_jobs_TRANSPORTATION', 'n_jobs_GROUND TRANSPORT',\n",
    "       'n_jobs_WATER TREATMENT AND DISTRIBUTION', 'n_jobs_RETAIL',\n",
    "       'n_jobs_COMPUTING', 'n_jobs_INSURANCE AND SOCIAL SECURITY',\n",
    "       'n_jobs_METALLIC PRODUCTS', 'n_jobs_DOMESTIC SERVICES',\n",
    "       'n_jobs_FORESTRY', 'n_jobs_CLOTHING', 'n_jobs_PAPER',\n",
    "       'n_jobs_INTERNATIONAL BODIES', 'n_jobs_OIL AND GAS',\n",
    "       'n_jobs_FISHING AND AQUACULTURE', 'n_jobs_CHEMICALS',\n",
    "       'n_jobs_WATER-BASED TRANSPORTATION', 'n_jobs_REAL ESTATE',\n",
    "       'n_jobs_RECYCLING', 'n_jobs_LEATHERS AND FOOTWEAR',\n",
    "       'n_jobs_RUBBER AND PLASTIC', 'n_jobs_TEXTILES',\n",
    "       'n_jobs_RESEARCH AND DEVELOPMENT', 'n_jobs_AERO TRANSPORT',\n",
    "       'n_jobs_SMOKE', 'n_jobs_PETROLEUM REFINING', 'n_jobs_',\n",
    "       'n_jobs_TOTAL INDUSTRIAL', 'n_jobs_TOTAL SERVICE',\n",
    "       'n_companies_TOTAL INDUSTRIAL', 'n_companies_TOTAL SERVICE',\n",
    "       'n_companies_TOTAL', 'n_jobs_TOTAL', 'murder_threats',\n",
    "       'assassination', 'assassination_attempt', 'f_emitted_count',\n",
    "       'expen_agri', 'expen_env_man', 'expen_agr_org', 'expen_mining',\n",
    "       'expen_petrol', 'expen_prom_ani_pro', 'expen_prom_veg_pro',\n",
    "       'expen_other_agr', 'expen_agr_defense', 'expen_min_fuel',\n",
    "       'illegal_mining', 'illegal_other', 'illegal_industry', 'audits',\n",
    "       'emiss_pec_full', 'emiss_agr_full', 'emiss_agropec_full',\n",
    "       'incumbant', 'term_limited_seat', 'special',\n",
    "       'overall_winner_complete_college', \n",
    "       'overall_winner_feminino', 'overall_winner_agriculture_job',\n",
    "       'overall_winner_public_service_job', 'overall_winner_health_job',\n",
    "       'overall_winner_corporate_job', 'overall_winner_law_job',\n",
    "       'overall_winner_technical_job', 'overall_winner_professional_job',\n",
    "       'overall_winner_mining_job', 'overall_winner_partido_PT',\n",
    "       'overall_winner_partido_PMDB_MDB', 'overall_winner_partido_PSDB',\n",
    "       'overall_winner_partido_DEM', 'overall_winner_partido_PL',\n",
    "       'overall_winner_partido_other', 'runnerup_partido_PT',\n",
    "       'runnerup_partido_PMDB_MDB', 'runnerup_partido_PSDB',\n",
    "       'runnerup_partido_DEM', 'runnerup_partido_PL',\n",
    "       'runnerup_partido_other', 'winner_votes_proportion',\n",
    "       'vote_participation_proportion',\n",
    "       'forest_formation', 'savanna', 'mangrove', 'silvicultura',\n",
    "       'pasture', 'sugarcane', 'mosaic_ag', 'urban', 'mining', 'water',\n",
    "       'soybean', 'rice', 'other_crop', 'coffee', 'citrus',\n",
    "       'other_perennial', 'forest_lag']\n",
    "\n",
    "\n",
    "#'runnerup_votes_proportion', \n",
    "#'overall_winner_idade',"
   ]
  },
  {
   "cell_type": "code",
   "execution_count": null,
   "metadata": {},
   "outputs": [],
   "source": []
  },
  {
   "cell_type": "markdown",
   "metadata": {},
   "source": [
    "## Test Train Split"
   ]
  },
  {
   "cell_type": "code",
   "execution_count": 127,
   "metadata": {},
   "outputs": [],
   "source": [
    "from sklearn.model_selection import GroupKFold, cross_val_predict\n",
    "import geopandas as gpd"
   ]
  },
  {
   "cell_type": "code",
   "execution_count": 128,
   "metadata": {},
   "outputs": [
    {
     "name": "stdout",
     "output_type": "stream",
     "text": [
      "Test set pct of data: 30.0\n",
      "New test/train indices generated and read in\n"
     ]
    }
   ],
   "source": [
    "#split into two groups where no muni in train set is tested\n",
    "#then do a second split by year so that the train years are year n, n+1, n+2 and the test set uses n+3.\n",
    "if SUBSET:\n",
    "    df_full = df_full.sample(SUBSET_SIZE).reset_index(drop=True)\n",
    "\n",
    "\n",
    "Y = df_full['forest_diff']\n",
    "X = df_full[X_cols]\n",
    "# gdf = gpd.GeoDataFrame(X, geometry = gpd.points_from_xy(df_full.x, df_full.y))\n",
    "# XYs = gdf['geometry']\n",
    "\n",
    "\n",
    "if NEW_INDICES:\n",
    "\n",
    "    #Select Test/Train Indices\n",
    "    n_folds = 10 \n",
    "    munis = df_full['ID'].values\n",
    "    group_kfold = GroupKFold(n_splits = n_folds)\n",
    "    muni_kfold = group_kfold.split(X, Y, munis) \n",
    "    train_indices, test_indices = [list(traintest) for traintest in zip(*muni_kfold)]\n",
    "    city_cv = [*zip(train_indices,test_indices)]\n",
    "\n",
    "    test_inds = []\n",
    "    for i in range(3):\n",
    "        test_inds.extend(city_cv[i][1])\n",
    "\n",
    "    train_inds = []\n",
    "    for i in range(3, 10):\n",
    "        train_inds.extend(city_cv[i][1])\n",
    "\n",
    "    print(f'Test set pct of data: {len(test_inds)/(len(train_inds) + len(test_inds)) * 100}')\n",
    "\n",
    "\n",
    "    np.save('FeatureImportanceResults/test_inds.npy', test_inds)\n",
    "    np.save('FeatureImportanceResults/train_inds.npy', train_inds)\n",
    "    print('New test/train indices generated and read in')\n",
    "\n",
    "if not NEW_INDICES:\n",
    "    test_inds = np.load('test_inds.npy')\n",
    "    train_inds = np.load('train_inds.npy')\n",
    "    print('Existing test/train indices read in from previous iteration')"
   ]
  },
  {
   "cell_type": "code",
   "execution_count": 129,
   "metadata": {},
   "outputs": [
    {
     "data": {
      "image/png": "[encoded data removed]",
      "text/plain": [
       "<Figure size 1080x864 with 1 Axes>"
      ]
     },
     "metadata": {
      "needs_background": "light"
     },
     "output_type": "display_data"
    }
   ],
   "source": [
    "\n",
    "#Split data into test/train sets\n",
    "\n",
    "df_full_test = df_full.iloc[test_inds].reset_index(drop=True)\n",
    "df_full_train = df_full.iloc[train_inds].reset_index(drop=True)\n",
    "\n",
    "#test data has only the last year with unseen spatial samples\n",
    "df_full_test = df_full_test[df_full_test.year == PREDICT_YEAR]\n",
    "\n",
    "#train data has only the 3 train years \n",
    "df_full_train = df_full_train[df_full_train.year < PREDICT_YEAR]\n",
    "\n",
    "Y_test = df_full_test['forest_diff']\n",
    "Y_train = df_full_train['forest_diff']\n",
    "\n",
    "X_test = df_full_test[X_cols]\n",
    "X_train = df_full_train[X_cols]\n",
    "\n",
    "gdf_test = gpd.GeoDataFrame(X_test, geometry = gpd.points_from_xy(df_full_test.x, df_full_test.y))\n",
    "gdf_train = gpd.GeoDataFrame(X_train, geometry = gpd.points_from_xy(df_full_train.x, df_full_train.y))\n",
    "\n",
    "XYs_test = gdf_test['geometry']\n",
    "XYs_train = gdf_train['geometry']\n",
    "\n",
    "if PLOT_ENTIRE_AREA and NEW_INDICES:\n",
    "    fig, axs = plt.subplots(1, 1, figsize=(15, 12))\n",
    "    marker_size = 0.1\n",
    "    marker_size = 1\n",
    "    XYs_test.plot(ax=axs, color = 'red', markersize=marker_size, label = 'Test')\n",
    "    XYs_train.plot(ax=axs, color = 'black', markersize=marker_size, label = 'Train')\n",
    "\n",
    "    plt.legend(markerscale=1)\n",
    "    plt.tight_layout()\n",
    "\n",
    "    # Save the figure\n",
    "    plt.savefig(FILE_PATH + 'EntirePlot')\n",
    "\n",
    "    plt.show()"
   ]
  },
  {
   "cell_type": "code",
   "execution_count": 130,
   "metadata": {},
   "outputs": [
    {
     "name": "stdout",
     "output_type": "stream",
     "text": [
      "[2007]\n",
      "[2004 2005 2006]\n"
     ]
    }
   ],
   "source": [
    "print(np.unique(df_full_test.year))\n",
    "print(np.unique(df_full_train.year))"
   ]
  },
  {
   "cell_type": "code",
   "execution_count": 131,
   "metadata": {},
   "outputs": [
    {
     "name": "stdout",
     "output_type": "stream",
     "text": [
      "New test/train indices generated and read in\n"
     ]
    },
    {
     "name": "stderr",
     "output_type": "stream",
     "text": [
      "Creating an ndarray from ragged nested sequences (which is a list-or-tuple of lists-or-tuples-or ndarrays with different lengths or shapes) is deprecated. If you meant to do this, you must specify 'dtype=object' when creating the ndarray.\n"
     ]
    }
   ],
   "source": [
    "NEW_CV_INDICES = True\n",
    "\n",
    "if NEW_CV_INDICES:\n",
    "    #Select Cross Validation Fold Indices: \n",
    "\n",
    "    n_folds = 5\n",
    "    munis = df_full_train['ID'].values\n",
    "    group_kfold = GroupKFold(n_splits = n_folds)\n",
    "\n",
    "    # Generator for the train/test indices\n",
    "    muni_kfold = group_kfold.split(X_train, Y_train, munis) \n",
    "\n",
    "    # Create a nested list of train and test indices for each fold\n",
    "    train_indices, test_indices = [list(traintest) for traintest in zip(*muni_kfold)]\n",
    "    muni_cv = [*zip(train_indices,test_indices)]\n",
    "\n",
    "    np.save('FeatureImportanceResults/muni_cv.npy', muni_cv)\n",
    "    print('New test/train indices generated and read in')\n",
    "\n",
    "if not NEW_CV_INDICES:\n",
    "    muni_cv = np.load('muni_cv.npy')\n",
    "    print('Existing test/train cross validation indices read in from previous iteration')\n",
    "\n",
    "\n",
    "if PLOT_FOLDS and NEW_CV_INDICES: \n",
    "    fig, axs = plt.subplots(1, n_folds, figsize=(25, 16))\n",
    "    marker_size = 0.01\n",
    "\n",
    "    for i in range(n_folds):\n",
    "        ax = axs[i]\n",
    "\n",
    "        this_train_inds = muni_cv[i][0]\n",
    "        this_test_inds = muni_cv[i][1]\n",
    "        XYs_train[this_test_inds].plot(ax=ax, color = 'red', markersize=marker_size, label = 'Test')\n",
    "        XYs_train[this_train_inds].plot(ax=ax, color = 'black', markersize=marker_size, label = 'Train')\n",
    "        ax.set_title(f\"Fold {i+1}\")\n",
    "\n",
    "    #plt.suptitle(f'{n_folds}-Fold Spatial Cross Validation ') \n",
    "    # handles, labels = ax.get_legend_handles_labels()\n",
    "    # fig.legend(handles, labels)   \n",
    "\n",
    "    for ax in axs.flat:\n",
    "        ax.set_axis_off()\n",
    "\n",
    "\n",
    "    plt.legend(markerscale=100)\n",
    "    plt.tight_layout()\n",
    "    plt.savefig(FILE_PATH + 'FoldPlot')\n",
    "    plt.show()\n",
    "\n",
    "\n"
   ]
  },
  {
   "cell_type": "code",
   "execution_count": 132,
   "metadata": {},
   "outputs": [
    {
     "data": {
      "text/plain": [
       "[(array([ 2,  3,  4,  6,  7,  8,  9, 10, 11, 12, 13, 14, 15, 18, 21, 22, 23,\n",
       "         24, 26, 27, 30, 31, 32, 33, 34, 35, 36, 37, 38, 39, 40, 42, 43, 44,\n",
       "         45, 46, 47, 48, 49, 50, 51, 52, 53]),\n",
       "  array([ 0,  1,  5, 16, 17, 19, 20, 25, 28, 29, 41])),\n",
       " (array([ 0,  1,  5,  6,  7,  8,  9, 10, 11, 12, 14, 15, 16, 17, 18, 19, 20,\n",
       "         21, 22, 23, 24, 25, 27, 28, 29, 30, 31, 33, 34, 35, 37, 38, 39, 41,\n",
       "         42, 43, 45, 47, 49, 50, 51, 52, 53]),\n",
       "  array([ 2,  3,  4, 13, 26, 32, 36, 40, 44, 46, 48])),\n",
       " (array([ 0,  1,  2,  3,  4,  5,  7,  9, 13, 15, 16, 17, 19, 20, 21, 22, 23,\n",
       "         24, 25, 26, 28, 29, 31, 32, 33, 34, 35, 36, 37, 38, 39, 40, 41, 42,\n",
       "         43, 44, 45, 46, 47, 48, 49, 51, 52]),\n",
       "  array([ 6,  8, 10, 11, 12, 14, 18, 27, 30, 50, 53])),\n",
       " (array([ 0,  1,  2,  3,  4,  5,  6,  8,  9, 10, 11, 12, 13, 14, 15, 16, 17,\n",
       "         18, 19, 20, 21, 23, 24, 25, 26, 27, 28, 29, 30, 32, 36, 37, 38, 40,\n",
       "         41, 43, 44, 46, 48, 49, 50, 51, 53]),\n",
       "  array([ 7, 22, 31, 33, 34, 35, 39, 42, 45, 47, 52])),\n",
       " (array([ 0,  1,  2,  3,  4,  5,  6,  7,  8, 10, 11, 12, 13, 14, 16, 17, 18,\n",
       "         19, 20, 22, 25, 26, 27, 28, 29, 30, 31, 32, 33, 34, 35, 36, 39, 40,\n",
       "         41, 42, 44, 45, 46, 47, 48, 50, 52, 53]),\n",
       "  array([ 9, 15, 21, 23, 24, 37, 38, 43, 49, 51]))]"
      ]
     },
     "execution_count": 132,
     "metadata": {},
     "output_type": "execute_result"
    }
   ],
   "source": [
    "muni_cv"
   ]
  },
  {
   "cell_type": "code",
   "execution_count": 133,
   "metadata": {},
   "outputs": [
    {
     "data": {
      "text/html": [
       "<div>\n",
       "<style scoped>\n",
       "    .dataframe tbody tr th:only-of-type {\n",
       "        vertical-align: middle;\n",
       "    }\n",
       "\n",
       "    .dataframe tbody tr th {\n",
       "        vertical-align: top;\n",
       "    }\n",
       "\n",
       "    .dataframe thead th {\n",
       "        text-align: right;\n",
       "    }\n",
       "</style>\n",
       "<table border=\"1\" class=\"dataframe\">\n",
       "  <thead>\n",
       "    <tr style=\"text-align: right;\">\n",
       "      <th></th>\n",
       "      <th>year</th>\n",
       "      <th>rain1</th>\n",
       "      <th>elevation</th>\n",
       "      <th>slope</th>\n",
       "      <th>aspect</th>\n",
       "      <th>near_mines</th>\n",
       "      <th>near_roads</th>\n",
       "      <th>near_hidrovia</th>\n",
       "      <th>indigenous_homol</th>\n",
       "      <th>mun_election_year</th>\n",
       "      <th>...</th>\n",
       "      <th>mining</th>\n",
       "      <th>water</th>\n",
       "      <th>soybean</th>\n",
       "      <th>rice</th>\n",
       "      <th>other_crop</th>\n",
       "      <th>coffee</th>\n",
       "      <th>citrus</th>\n",
       "      <th>other_perennial</th>\n",
       "      <th>forest_lag</th>\n",
       "      <th>geometry</th>\n",
       "    </tr>\n",
       "  </thead>\n",
       "  <tbody>\n",
       "    <tr>\n",
       "      <th>0</th>\n",
       "      <td>2005</td>\n",
       "      <td>34.08863</td>\n",
       "      <td>137.0</td>\n",
       "      <td>0.0</td>\n",
       "      <td>244.0</td>\n",
       "      <td>362163.0</td>\n",
       "      <td>74994.87</td>\n",
       "      <td>69136.25</td>\n",
       "      <td>0.0</td>\n",
       "      <td>0.0</td>\n",
       "      <td>...</td>\n",
       "      <td>0.0</td>\n",
       "      <td>0.0</td>\n",
       "      <td>0.000000</td>\n",
       "      <td>0.0</td>\n",
       "      <td>0.000000</td>\n",
       "      <td>0</td>\n",
       "      <td>0</td>\n",
       "      <td>0.0</td>\n",
       "      <td>3.126914</td>\n",
       "      <td>POINT (-68.67500 -4.32500)</td>\n",
       "    </tr>\n",
       "    <tr>\n",
       "      <th>1</th>\n",
       "      <td>2005</td>\n",
       "      <td>33.95884</td>\n",
       "      <td>129.0</td>\n",
       "      <td>1.0</td>\n",
       "      <td>186.0</td>\n",
       "      <td>349869.5</td>\n",
       "      <td>102521.60</td>\n",
       "      <td>63320.89</td>\n",
       "      <td>0.0</td>\n",
       "      <td>0.0</td>\n",
       "      <td>...</td>\n",
       "      <td>0.0</td>\n",
       "      <td>0.0</td>\n",
       "      <td>0.000000</td>\n",
       "      <td>0.0</td>\n",
       "      <td>0.000000</td>\n",
       "      <td>0</td>\n",
       "      <td>0</td>\n",
       "      <td>0.0</td>\n",
       "      <td>3.129666</td>\n",
       "      <td>POINT (-68.52500 -3.97500)</td>\n",
       "    </tr>\n",
       "    <tr>\n",
       "      <th>2</th>\n",
       "      <td>2004</td>\n",
       "      <td>35.50789</td>\n",
       "      <td>206.0</td>\n",
       "      <td>0.0</td>\n",
       "      <td>108.0</td>\n",
       "      <td>630333.3</td>\n",
       "      <td>120928.90</td>\n",
       "      <td>28164.49</td>\n",
       "      <td>1.0</td>\n",
       "      <td>1.0</td>\n",
       "      <td>...</td>\n",
       "      <td>0.0</td>\n",
       "      <td>0.0</td>\n",
       "      <td>0.000000</td>\n",
       "      <td>0.0</td>\n",
       "      <td>0.000000</td>\n",
       "      <td>0</td>\n",
       "      <td>0</td>\n",
       "      <td>0.0</td>\n",
       "      <td>3.097131</td>\n",
       "      <td>POINT (-70.47500 -7.07500)</td>\n",
       "    </tr>\n",
       "    <tr>\n",
       "      <th>3</th>\n",
       "      <td>2006</td>\n",
       "      <td>27.97478</td>\n",
       "      <td>552.0</td>\n",
       "      <td>1.0</td>\n",
       "      <td>120.0</td>\n",
       "      <td>165920.5</td>\n",
       "      <td>37509.81</td>\n",
       "      <td>193953.50</td>\n",
       "      <td>0.0</td>\n",
       "      <td>0.0</td>\n",
       "      <td>...</td>\n",
       "      <td>0.0</td>\n",
       "      <td>0.0</td>\n",
       "      <td>2.006592</td>\n",
       "      <td>0.0</td>\n",
       "      <td>0.157236</td>\n",
       "      <td>0</td>\n",
       "      <td>0</td>\n",
       "      <td>0.0</td>\n",
       "      <td>0.009090</td>\n",
       "      <td>POINT (-58.52500 -13.72500)</td>\n",
       "    </tr>\n",
       "    <tr>\n",
       "      <th>4</th>\n",
       "      <td>2006</td>\n",
       "      <td>25.79170</td>\n",
       "      <td>536.0</td>\n",
       "      <td>1.0</td>\n",
       "      <td>272.0</td>\n",
       "      <td>152916.0</td>\n",
       "      <td>25518.23</td>\n",
       "      <td>178864.40</td>\n",
       "      <td>0.0</td>\n",
       "      <td>0.0</td>\n",
       "      <td>...</td>\n",
       "      <td>0.0</td>\n",
       "      <td>0.0</td>\n",
       "      <td>0.000000</td>\n",
       "      <td>0.0</td>\n",
       "      <td>0.000000</td>\n",
       "      <td>0</td>\n",
       "      <td>0</td>\n",
       "      <td>0.0</td>\n",
       "      <td>0.000000</td>\n",
       "      <td>POINT (-58.67500 -13.72500)</td>\n",
       "    </tr>\n",
       "  </tbody>\n",
       "</table>\n",
       "<p>5 rows × 205 columns</p>\n",
       "</div>"
      ],
      "text/plain": [
       "   year     rain1  elevation  slope  aspect  near_mines  near_roads  \\\n",
       "0  2005  34.08863      137.0    0.0   244.0    362163.0    74994.87   \n",
       "1  2005  33.95884      129.0    1.0   186.0    349869.5   102521.60   \n",
       "2  2004  35.50789      206.0    0.0   108.0    630333.3   120928.90   \n",
       "3  2006  27.97478      552.0    1.0   120.0    165920.5    37509.81   \n",
       "4  2006  25.79170      536.0    1.0   272.0    152916.0    25518.23   \n",
       "\n",
       "   near_hidrovia  indigenous_homol  mun_election_year  ...  mining  water  \\\n",
       "0       69136.25               0.0                0.0  ...     0.0    0.0   \n",
       "1       63320.89               0.0                0.0  ...     0.0    0.0   \n",
       "2       28164.49               1.0                1.0  ...     0.0    0.0   \n",
       "3      193953.50               0.0                0.0  ...     0.0    0.0   \n",
       "4      178864.40               0.0                0.0  ...     0.0    0.0   \n",
       "\n",
       "    soybean  rice  other_crop  coffee  citrus  other_perennial  forest_lag  \\\n",
       "0  0.000000   0.0    0.000000       0       0              0.0    3.126914   \n",
       "1  0.000000   0.0    0.000000       0       0              0.0    3.129666   \n",
       "2  0.000000   0.0    0.000000       0       0              0.0    3.097131   \n",
       "3  2.006592   0.0    0.157236       0       0              0.0    0.009090   \n",
       "4  0.000000   0.0    0.000000       0       0              0.0    0.000000   \n",
       "\n",
       "                      geometry  \n",
       "0   POINT (-68.67500 -4.32500)  \n",
       "1   POINT (-68.52500 -3.97500)  \n",
       "2   POINT (-70.47500 -7.07500)  \n",
       "3  POINT (-58.52500 -13.72500)  \n",
       "4  POINT (-58.67500 -13.72500)  \n",
       "\n",
       "[5 rows x 205 columns]"
      ]
     },
     "execution_count": 133,
     "metadata": {},
     "output_type": "execute_result"
    }
   ],
   "source": [
    "X_train.head()"
   ]
  },
  {
   "cell_type": "code",
   "execution_count": 134,
   "metadata": {},
   "outputs": [
    {
     "name": "stdout",
     "output_type": "stream",
     "text": [
      "{'year': 0, 'rain1': 0, 'elevation': 0, 'slope': 0, 'aspect': 0, 'near_mines': 0, 'near_roads': 0, 'near_hidrovia': 0, 'indigenous_homol': 0, 'mun_election_year': 0, 'new_forest_code': 0, 'lula': 0, 'dilma': 0, 'temer': 0, 'bolsonaro': 0, 'fed_election_year': 0, 'populacao': 0, 'pib_pc': 0, 'ironore': 0, 'silver': 0, 'copper': 0, 'gold': 0, 'soy_price': 0, 'beef_price': 0, 'ag_jobs': 0, 'mining_jobs': 0, 'public_jobs': 0, 'construction_jobs': 0, 'PIB': 0, 'n_companies_PUBLIC ADMIN': 0, 'n_companies_AGRICULTURE': 0, 'n_companies_FOOD AND DRINKS': 0, 'n_companies_ACCOMODATION AND FOOD': 0, 'n_companies_EQUIPMENT RENTAL': 0, 'n_companies_WHOLESALE': 0, 'n_companies_ASSOCIATIVE ACTIVITIES': 0, 'n_companies_AUTOMOBILES AND TRANSPORT': 0, 'n_companies_FINANCIAL ASSISTANCE': 0, 'n_companies_TRADE REP VEHICLES': 0, 'n_companies_CONSTRUCTION': 0, 'n_companies_MAIL AND TELECOM': 0, 'n_companies_CULTURE AND SPORT': 0, 'n_companies_EDITING AND PRINTING': 0, 'n_companies_EDUCATION': 0, 'n_companies_ELECTRICITY AND GAS': 0, 'n_companies_FINANCES': 0, 'n_companies_CLEANING AND SEWAGE': 0, 'n_companies_MACHINERY': 0, 'n_companies_BASIC METALLURGY': 0, 'n_companies_MINING': 0, 'n_companies_WOOD PROD': 0, 'n_companies_NON-METALLIC MINERAL PRODUCTS': 0, 'n_companies_HEALTH': 0, 'n_companies_SERVICES FOR COMPANIES': 0, 'n_companies_PERSONAL SERVICES': 0, 'n_companies_TRANSPORTATION': 0, 'n_companies_GROUND TRANSPORT': 0, 'n_companies_WATER TREATMENT AND DISTRIBUTION': 0, 'n_companies_RETAIL': 0, 'n_companies_COMPUTING': 0, 'n_companies_INSURANCE AND SOCIAL SECURITY': 0, 'n_companies_METALLIC PRODUCTS': 0, 'n_companies_DOMESTIC SERVICES': 0, 'n_companies_FORESTRY': 0, 'n_companies_CLOTHING': 0, 'n_companies_PAPER': 0, 'n_companies_INTERNATIONAL BODIES': 0, 'n_companies_OIL AND GAS': 0, 'n_companies_FISHING AND AQUACULTURE': 0, 'n_companies_CHEMICALS': 0, 'n_companies_WATER-BASED TRANSPORTATION': 0, 'n_companies_REAL ESTATE': 0, 'n_companies_RECYCLING': 0, 'n_companies_LEATHERS AND FOOTWEAR': 0, 'n_companies_RUBBER AND PLASTIC': 0, 'n_companies_TEXTILES': 0, 'n_companies_RESEARCH AND DEVELOPMENT': 0, 'n_companies_AERO TRANSPORT': 0, 'n_companies_SMOKE': 0, 'n_companies_PETROLEUM REFINING': 0, 'n_companies_': 0, 'n_jobs_PUBLIC ADMIN': 0, 'n_jobs_AGRICULTURE': 0, 'n_jobs_FOOD AND DRINKS': 0, 'n_jobs_ACCOMODATION AND FOOD': 0, 'n_jobs_EQUIPMENT RENTAL': 0, 'n_jobs_WHOLESALE': 0, 'n_jobs_ASSOCIATIVE ACTIVITIES': 0, 'n_jobs_AUTOMOBILES AND TRANSPORT': 0, 'n_jobs_FINANCIAL ASSISTANCE': 0, 'n_jobs_TRADE REP VEHICLES': 0, 'n_jobs_CONSTRUCTION': 0, 'n_jobs_MAIL AND TELECOM': 0, 'n_jobs_CULTURE AND SPORT': 0, 'n_jobs_EDITING AND PRINTING': 0, 'n_jobs_EDUCATION': 0, 'n_jobs_ELECTRICITY AND GAS': 0, 'n_jobs_FINANCES': 0, 'n_jobs_CLEANING AND SEWAGE': 0, 'n_jobs_MACHINERY': 0, 'n_jobs_BASIC METALLURGY': 0, 'n_jobs_MINING': 0, 'n_jobs_WOOD PROD': 0, 'n_jobs_NON-METALLIC MINERAL PRODUCTS': 0, 'n_jobs_HEALTH': 0, 'n_jobs_SERVICES FOR COMPANIES': 0, 'n_jobs_PERSONAL SERVICES': 0, 'n_jobs_TRANSPORTATION': 0, 'n_jobs_GROUND TRANSPORT': 0, 'n_jobs_WATER TREATMENT AND DISTRIBUTION': 0, 'n_jobs_RETAIL': 0, 'n_jobs_COMPUTING': 0, 'n_jobs_INSURANCE AND SOCIAL SECURITY': 0, 'n_jobs_METALLIC PRODUCTS': 0, 'n_jobs_DOMESTIC SERVICES': 0, 'n_jobs_FORESTRY': 0, 'n_jobs_CLOTHING': 0, 'n_jobs_PAPER': 0, 'n_jobs_INTERNATIONAL BODIES': 0, 'n_jobs_OIL AND GAS': 0, 'n_jobs_FISHING AND AQUACULTURE': 0, 'n_jobs_CHEMICALS': 0, 'n_jobs_WATER-BASED TRANSPORTATION': 0, 'n_jobs_REAL ESTATE': 0, 'n_jobs_RECYCLING': 0, 'n_jobs_LEATHERS AND FOOTWEAR': 0, 'n_jobs_RUBBER AND PLASTIC': 0, 'n_jobs_TEXTILES': 0, 'n_jobs_RESEARCH AND DEVELOPMENT': 0, 'n_jobs_AERO TRANSPORT': 0, 'n_jobs_SMOKE': 0, 'n_jobs_PETROLEUM REFINING': 0, 'n_jobs_': 0, 'n_jobs_TOTAL INDUSTRIAL': 0, 'n_jobs_TOTAL SERVICE': 0, 'n_companies_TOTAL INDUSTRIAL': 0, 'n_companies_TOTAL SERVICE': 0, 'n_companies_TOTAL': 0, 'n_jobs_TOTAL': 0, 'murder_threats': 0, 'assassination': 0, 'assassination_attempt': 0, 'f_emitted_count': 0, 'expen_agri': 0, 'expen_env_man': 0, 'expen_agr_org': 0, 'expen_mining': 0, 'expen_petrol': 0, 'expen_prom_ani_pro': 0, 'expen_prom_veg_pro': 0, 'expen_other_agr': 0, 'expen_agr_defense': 0, 'expen_min_fuel': 0, 'illegal_mining': 0, 'illegal_other': 0, 'illegal_industry': 0, 'audits': 0, 'emiss_pec_full': 0, 'emiss_agr_full': 0, 'emiss_agropec_full': 0, 'incumbant': 0, 'term_limited_seat': 0, 'special': 0, 'overall_winner_complete_college': 0, 'overall_winner_feminino': 0, 'overall_winner_agriculture_job': 0, 'overall_winner_public_service_job': 0, 'overall_winner_health_job': 0, 'overall_winner_corporate_job': 0, 'overall_winner_law_job': 0, 'overall_winner_technical_job': 0, 'overall_winner_professional_job': 0, 'overall_winner_mining_job': 0, 'overall_winner_partido_PT': 0, 'overall_winner_partido_PMDB_MDB': 0, 'overall_winner_partido_PSDB': 0, 'overall_winner_partido_DEM': 0, 'overall_winner_partido_PL': 0, 'overall_winner_partido_other': 0, 'runnerup_partido_PT': 0, 'runnerup_partido_PMDB_MDB': 0, 'runnerup_partido_PSDB': 0, 'runnerup_partido_DEM': 0, 'runnerup_partido_PL': 0, 'runnerup_partido_other': 0, 'winner_votes_proportion': 0, 'vote_participation_proportion': 0, 'forest_formation': 0, 'savanna': 0, 'mangrove': 0, 'silvicultura': 0, 'pasture': 0, 'sugarcane': 0, 'mosaic_ag': 0, 'urban': 0, 'mining': 0, 'water': 0, 'soybean': 0, 'rice': 0, 'other_crop': 0, 'coffee': 0, 'citrus': 0, 'other_perennial': 0, 'forest_lag': 0, 'geometry': 0}\n"
     ]
    }
   ],
   "source": [
    "# Count null values in each column\n",
    "null_counts = {col: X_train[col].isnull().sum() for col in X_train.columns}\n",
    "\n",
    "# Sort the dictionary in descending order based on the values\n",
    "sorted_null_counts = dict(sorted(null_counts.items(), key=lambda item: item[1], reverse=True))\n",
    "\n",
    "print(sorted_null_counts)"
   ]
  },
  {
   "cell_type": "code",
   "execution_count": 135,
   "metadata": {},
   "outputs": [],
   "source": [
    "X_train = X_train.drop('geometry', axis = 1)\n",
    "X_test = X_test.drop('geometry', axis = 1)"
   ]
  },
  {
   "cell_type": "code",
   "execution_count": 136,
   "metadata": {},
   "outputs": [],
   "source": [
    "with open(FILE_PATH + 'performance.txt', 'w+') as f:\n",
    "        f.write(f'MODEL PERFORMANCES\\n')"
   ]
  },
  {
   "cell_type": "code",
   "execution_count": 137,
   "metadata": {},
   "outputs": [],
   "source": [
    "def generate_results_table(coef_input, key_input, name_input, yhat, normalized = True):\n",
    "    if normalized: \n",
    "        coef_input = coef_input / sum(coef_input)\n",
    "\n",
    "    #write MSE to file \n",
    "    mse = mean_squared_error(Y_test, yhat)\n",
    "    print(f'{name_input} MSE: {mse}')\n",
    "\n",
    "    with open(FILE_PATH + 'performance.txt', 'a') as f:\n",
    "        f.write(f'\\n{name_input} MSE: {mse}')\n",
    "\n",
    "\n",
    "    features_df = pd.DataFrame([key_input, coef_input]).T\n",
    "    features_df.columns = ['Feature', 'Coeff']\n",
    "\n",
    "    features_df = features_df.iloc[features_df['Coeff'].abs().argsort()[::-1]]\n",
    "    features_df.to_csv(f'{FILE_PATH}{name_input}.csv')\n",
    "\n",
    "    return features_df\n",
    "\n",
    "\n"
   ]
  },
  {
   "cell_type": "code",
   "execution_count": 138,
   "metadata": {},
   "outputs": [],
   "source": [
    "base_learners = []\n",
    "\n",
    "yhat_list = []"
   ]
  },
  {
   "cell_type": "markdown",
   "metadata": {},
   "source": [
    "## Random Forest"
   ]
  },
  {
   "cell_type": "code",
   "execution_count": 139,
   "metadata": {},
   "outputs": [],
   "source": [
    "from sklearn.ensemble import RandomForestRegressor\n",
    "from sklearn.pipeline import Pipeline\n",
    "from sklearn.model_selection import GridSearchCV\n",
    "from sklearn.preprocessing import StandardScaler\n",
    "from sklearn.metrics import mean_squared_error\n"
   ]
  },
  {
   "cell_type": "code",
   "execution_count": 140,
   "metadata": {},
   "outputs": [],
   "source": [
    "pipeline = Pipeline([\n",
    "                     ('scaler',StandardScaler()),\n",
    "                     ('model',RandomForestRegressor(n_estimators = 500))\n",
    "])"
   ]
  },
  {
   "cell_type": "code",
   "execution_count": 141,
   "metadata": {},
   "outputs": [],
   "source": [
    "search = GridSearchCV(pipeline,\n",
    "                      {'model__max_depth': np.arange(3,11,8) },\n",
    "                      cv = muni_cv, scoring = \"neg_mean_squared_error\",verbose = 3\n",
    "                      )"
   ]
  },
  {
   "cell_type": "code",
   "execution_count": 142,
   "metadata": {},
   "outputs": [
    {
     "name": "stdout",
     "output_type": "stream",
     "text": [
      "Fitting 5 folds for each of 1 candidates, totalling 5 fits\n",
      "[CV 1/5] END ...............model__max_depth=3;, score=-0.006 total time=   0.7s\n",
      "[CV 2/5] END ...............model__max_depth=3;, score=-0.001 total time=   0.7s\n",
      "[CV 3/5] END ...............model__max_depth=3;, score=-0.001 total time=   0.7s\n",
      "[CV 4/5] END ...............model__max_depth=3;, score=-0.001 total time=   0.7s\n",
      "[CV 5/5] END ...............model__max_depth=3;, score=-0.000 total time=   0.7s\n"
     ]
    },
    {
     "data": {
      "text/html": [
       "<style>#sk-container-id-7 {color: black;background-color: white;}#sk-container-id-7 pre{padding: 0;}#sk-container-id-7 div.sk-toggleable {background-color: white;}#sk-container-id-7 label.sk-toggleable__label {cursor: pointer;display: block;width: 100%;margin-bottom: 0;padding: 0.3em;box-sizing: border-box;text-align: center;}#sk-container-id-7 label.sk-toggleable__label-arrow:before {content: \"▸\";float: left;margin-right: 0.25em;color: #696969;}#sk-container-id-7 label.sk-toggleable__label-arrow:hover:before {color: black;}#sk-container-id-7 div.sk-estimator:hover label.sk-toggleable__label-arrow:before {color: black;}#sk-container-id-7 div.sk-toggleable__content {max-height: 0;max-width: 0;overflow: hidden;text-align: left;background-color: #f0f8ff;}#sk-container-id-7 div.sk-toggleable__content pre {margin: 0.2em;color: black;border-radius: 0.25em;background-color: #f0f8ff;}#sk-container-id-7 input.sk-toggleable__control:checked~div.sk-toggleable__content {max-height: 200px;max-width: 100%;overflow: auto;}#sk-container-id-7 input.sk-toggleable__control:checked~label.sk-toggleable__label-arrow:before {content: \"▾\";}#sk-container-id-7 div.sk-estimator input.sk-toggleable__control:checked~label.sk-toggleable__label {background-color: #d4ebff;}#sk-container-id-7 div.sk-label input.sk-toggleable__control:checked~label.sk-toggleable__label {background-color: #d4ebff;}#sk-container-id-7 input.sk-hidden--visually {border: 0;clip: rect(1px 1px 1px 1px);clip: rect(1px, 1px, 1px, 1px);height: 1px;margin: -1px;overflow: hidden;padding: 0;position: absolute;width: 1px;}#sk-container-id-7 div.sk-estimator {font-family: monospace;background-color: #f0f8ff;border: 1px dotted black;border-radius: 0.25em;box-sizing: border-box;margin-bottom: 0.5em;}#sk-container-id-7 div.sk-estimator:hover {background-color: #d4ebff;}#sk-container-id-7 div.sk-parallel-item::after {content: \"\";width: 100%;border-bottom: 1px solid gray;flex-grow: 1;}#sk-container-id-7 div.sk-label:hover label.sk-toggleable__label {background-color: #d4ebff;}#sk-container-id-7 div.sk-serial::before {content: \"\";position: absolute;border-left: 1px solid gray;box-sizing: border-box;top: 0;bottom: 0;left: 50%;z-index: 0;}#sk-container-id-7 div.sk-serial {display: flex;flex-direction: column;align-items: center;background-color: white;padding-right: 0.2em;padding-left: 0.2em;position: relative;}#sk-container-id-7 div.sk-item {position: relative;z-index: 1;}#sk-container-id-7 div.sk-parallel {display: flex;align-items: stretch;justify-content: center;background-color: white;position: relative;}#sk-container-id-7 div.sk-item::before, #sk-container-id-7 div.sk-parallel-item::before {content: \"\";position: absolute;border-left: 1px solid gray;box-sizing: border-box;top: 0;bottom: 0;left: 50%;z-index: -1;}#sk-container-id-7 div.sk-parallel-item {display: flex;flex-direction: column;z-index: 1;position: relative;background-color: white;}#sk-container-id-7 div.sk-parallel-item:first-child::after {align-self: flex-end;width: 50%;}#sk-container-id-7 div.sk-parallel-item:last-child::after {align-self: flex-start;width: 50%;}#sk-container-id-7 div.sk-parallel-item:only-child::after {width: 0;}#sk-container-id-7 div.sk-dashed-wrapped {border: 1px dashed gray;margin: 0 0.4em 0.5em 0.4em;box-sizing: border-box;padding-bottom: 0.4em;background-color: white;}#sk-container-id-7 div.sk-label label {font-family: monospace;font-weight: bold;display: inline-block;line-height: 1.2em;}#sk-container-id-7 div.sk-label-container {text-align: center;}#sk-container-id-7 div.sk-container {/* jupyter's `normalize.less` sets `[hidden] { display: none; }` but bootstrap.min.css set `[hidden] { display: none !important; }` so we also need the `!important` here to be able to override the default hidden behavior on the sphinx rendered scikit-learn.org. See: https://github.com/scikit-learn/scikit-learn/issues/21755 */display: inline-block !important;position: relative;}#sk-container-id-7 div.sk-text-repr-fallback {display: none;}</style><div id=\"sk-container-id-7\" class=\"sk-top-container\"><div class=\"sk-text-repr-fallback\"><pre>GridSearchCV(cv=[(array([ 2,  3,  4,  6,  7,  8,  9, 10, 11, 12, 13, 14, 15, 18, 21, 22, 23,\n",
       "       24, 26, 27, 30, 31, 32, 33, 34, 35, 36, 37, 38, 39, 40, 42, 43, 44,\n",
       "       45, 46, 47, 48, 49, 50, 51, 52, 53]),\n",
       "                  array([ 0,  1,  5, 16, 17, 19, 20, 25, 28, 29, 41])),\n",
       "                 (array([ 0,  1,  5,  6,  7,  8,  9, 10, 11, 12, 14, 15, 16, 17, 18, 19, 20,\n",
       "       21, 22, 23, 24, 25, 27, 28, 29, 30, 31, 33, 34, 35, 37, 38, 39, 41,\n",
       "       42, 43, 45, 47, 49, 50, 51, 52, 53]),\n",
       "                  array([ 2,  3,  4, 13, 26, 32, 36, 40, 4...\n",
       "                 (array([ 0,  1,  2,  3,  4,  5,  6,  7,  8, 10, 11, 12, 13, 14, 16, 17, 18,\n",
       "       19, 20, 22, 25, 26, 27, 28, 29, 30, 31, 32, 33, 34, 35, 36, 39, 40,\n",
       "       41, 42, 44, 45, 46, 47, 48, 50, 52, 53]),\n",
       "                  array([ 9, 15, 21, 23, 24, 37, 38, 43, 49, 51]))],\n",
       "             estimator=Pipeline(steps=[(&#x27;scaler&#x27;, StandardScaler()),\n",
       "                                       (&#x27;model&#x27;,\n",
       "                                        RandomForestRegressor(n_estimators=500))]),\n",
       "             param_grid={&#x27;model__max_depth&#x27;: array([3])},\n",
       "             scoring=&#x27;neg_mean_squared_error&#x27;, verbose=3)</pre><b>In a Jupyter environment, please rerun this cell to show the HTML representation or trust the notebook. <br />On GitHub, the HTML representation is unable to render, please try loading this page with nbviewer.org.</b></div><div class=\"sk-container\" hidden><div class=\"sk-item sk-dashed-wrapped\"><div class=\"sk-label-container\"><div class=\"sk-label sk-toggleable\"><input class=\"sk-toggleable__control sk-hidden--visually\" id=\"sk-estimator-id-25\" type=\"checkbox\" ><label for=\"sk-estimator-id-25\" class=\"sk-toggleable__label sk-toggleable__label-arrow\">GridSearchCV</label><div class=\"sk-toggleable__content\"><pre>GridSearchCV(cv=[(array([ 2,  3,  4,  6,  7,  8,  9, 10, 11, 12, 13, 14, 15, 18, 21, 22, 23,\n",
       "       24, 26, 27, 30, 31, 32, 33, 34, 35, 36, 37, 38, 39, 40, 42, 43, 44,\n",
       "       45, 46, 47, 48, 49, 50, 51, 52, 53]),\n",
       "                  array([ 0,  1,  5, 16, 17, 19, 20, 25, 28, 29, 41])),\n",
       "                 (array([ 0,  1,  5,  6,  7,  8,  9, 10, 11, 12, 14, 15, 16, 17, 18, 19, 20,\n",
       "       21, 22, 23, 24, 25, 27, 28, 29, 30, 31, 33, 34, 35, 37, 38, 39, 41,\n",
       "       42, 43, 45, 47, 49, 50, 51, 52, 53]),\n",
       "                  array([ 2,  3,  4, 13, 26, 32, 36, 40, 4...\n",
       "                 (array([ 0,  1,  2,  3,  4,  5,  6,  7,  8, 10, 11, 12, 13, 14, 16, 17, 18,\n",
       "       19, 20, 22, 25, 26, 27, 28, 29, 30, 31, 32, 33, 34, 35, 36, 39, 40,\n",
       "       41, 42, 44, 45, 46, 47, 48, 50, 52, 53]),\n",
       "                  array([ 9, 15, 21, 23, 24, 37, 38, 43, 49, 51]))],\n",
       "             estimator=Pipeline(steps=[(&#x27;scaler&#x27;, StandardScaler()),\n",
       "                                       (&#x27;model&#x27;,\n",
       "                                        RandomForestRegressor(n_estimators=500))]),\n",
       "             param_grid={&#x27;model__max_depth&#x27;: array([3])},\n",
       "             scoring=&#x27;neg_mean_squared_error&#x27;, verbose=3)</pre></div></div></div><div class=\"sk-parallel\"><div class=\"sk-parallel-item\"><div class=\"sk-item\"><div class=\"sk-label-container\"><div class=\"sk-label sk-toggleable\"><input class=\"sk-toggleable__control sk-hidden--visually\" id=\"sk-estimator-id-26\" type=\"checkbox\" ><label for=\"sk-estimator-id-26\" class=\"sk-toggleable__label sk-toggleable__label-arrow\">estimator: Pipeline</label><div class=\"sk-toggleable__content\"><pre>Pipeline(steps=[(&#x27;scaler&#x27;, StandardScaler()),\n",
       "                (&#x27;model&#x27;, RandomForestRegressor(n_estimators=500))])</pre></div></div></div><div class=\"sk-serial\"><div class=\"sk-item\"><div class=\"sk-serial\"><div class=\"sk-item\"><div class=\"sk-estimator sk-toggleable\"><input class=\"sk-toggleable__control sk-hidden--visually\" id=\"sk-estimator-id-27\" type=\"checkbox\" ><label for=\"sk-estimator-id-27\" class=\"sk-toggleable__label sk-toggleable__label-arrow\">StandardScaler</label><div class=\"sk-toggleable__content\"><pre>StandardScaler()</pre></div></div></div><div class=\"sk-item\"><div class=\"sk-estimator sk-toggleable\"><input class=\"sk-toggleable__control sk-hidden--visually\" id=\"sk-estimator-id-28\" type=\"checkbox\" ><label for=\"sk-estimator-id-28\" class=\"sk-toggleable__label sk-toggleable__label-arrow\">RandomForestRegressor</label><div class=\"sk-toggleable__content\"><pre>RandomForestRegressor(n_estimators=500)</pre></div></div></div></div></div></div></div></div></div></div></div></div>"
      ],
      "text/plain": [
       "GridSearchCV(cv=[(array([ 2,  3,  4,  6,  7,  8,  9, 10, 11, 12, 13, 14, 15, 18, 21, 22, 23,\n",
       "       24, 26, 27, 30, 31, 32, 33, 34, 35, 36, 37, 38, 39, 40, 42, 43, 44,\n",
       "       45, 46, 47, 48, 49, 50, 51, 52, 53]),\n",
       "                  array([ 0,  1,  5, 16, 17, 19, 20, 25, 28, 29, 41])),\n",
       "                 (array([ 0,  1,  5,  6,  7,  8,  9, 10, 11, 12, 14, 15, 16, 17, 18, 19, 20,\n",
       "       21, 22, 23, 24, 25, 27, 28, 29, 30, 31, 33, 34, 35, 37, 38, 39, 41,\n",
       "       42, 43, 45, 47, 49, 50, 51, 52, 53]),\n",
       "                  array([ 2,  3,  4, 13, 26, 32, 36, 40, 4...\n",
       "                 (array([ 0,  1,  2,  3,  4,  5,  6,  7,  8, 10, 11, 12, 13, 14, 16, 17, 18,\n",
       "       19, 20, 22, 25, 26, 27, 28, 29, 30, 31, 32, 33, 34, 35, 36, 39, 40,\n",
       "       41, 42, 44, 45, 46, 47, 48, 50, 52, 53]),\n",
       "                  array([ 9, 15, 21, 23, 24, 37, 38, 43, 49, 51]))],\n",
       "             estimator=Pipeline(steps=[('scaler', StandardScaler()),\n",
       "                                       ('model',\n",
       "                                        RandomForestRegressor(n_estimators=500))]),\n",
       "             param_grid={'model__max_depth': array([3])},\n",
       "             scoring='neg_mean_squared_error', verbose=3)"
      ]
     },
     "execution_count": 142,
     "metadata": {},
     "output_type": "execute_result"
    }
   ],
   "source": [
    "search.fit(X_train,Y_train)"
   ]
  },
  {
   "cell_type": "code",
   "execution_count": 143,
   "metadata": {},
   "outputs": [],
   "source": [
    "#model = RandomForestRegressor(n_estimators = 500, max_depth = search.best_params_['model__max_depth'])\n",
    "#model.fit(X_train, Y_train)"
   ]
  },
  {
   "cell_type": "code",
   "execution_count": 144,
   "metadata": {},
   "outputs": [],
   "source": [
    "base_learners.append(('randomforest', search.best_estimator_))"
   ]
  },
  {
   "cell_type": "code",
   "execution_count": 145,
   "metadata": {},
   "outputs": [
    {
     "name": "stdout",
     "output_type": "stream",
     "text": [
      "randomforest MSE: 0.005628068508544173\n"
     ]
    },
    {
     "data": {
      "text/plain": [
       "Index(['n_jobs_SERVICES FOR COMPANIES', 'n_jobs_AUTOMOBILES AND TRANSPORT',\n",
       "       'populacao', 'n_companies_WHOLESALE', 'near_mines', 'n_companies_SMOKE',\n",
       "       'n_companies_FINANCIAL ASSISTANCE', 'emiss_pec_full',\n",
       "       'n_jobs_BASIC METALLURGY'],\n",
       "      dtype='object')"
      ]
     },
     "execution_count": 145,
     "metadata": {},
     "output_type": "execute_result"
    }
   ],
   "source": [
    "coefficients = search.best_estimator_._final_estimator.feature_importances_\n",
    "importance = np.abs(coefficients)\n",
    "\n",
    "yhat = search.best_estimator_.predict(X_test)\n",
    "yhat_list.append(yhat)\n",
    "\n",
    "randomforest_features_df = generate_results_table(coefficients, X_train.columns, 'randomforest', yhat)\n",
    "\n",
    "X_train.columns[np.argsort(np.array(abs( importance )))[::-1][0:9]]"
   ]
  },
  {
   "cell_type": "code",
   "execution_count": 146,
   "metadata": {},
   "outputs": [
    {
     "data": {
      "text/html": [
       "<div>\n",
       "<style scoped>\n",
       "    .dataframe tbody tr th:only-of-type {\n",
       "        vertical-align: middle;\n",
       "    }\n",
       "\n",
       "    .dataframe tbody tr th {\n",
       "        vertical-align: top;\n",
       "    }\n",
       "\n",
       "    .dataframe thead th {\n",
       "        text-align: right;\n",
       "    }\n",
       "</style>\n",
       "<table border=\"1\" class=\"dataframe\">\n",
       "  <thead>\n",
       "    <tr style=\"text-align: right;\">\n",
       "      <th></th>\n",
       "      <th>Feature</th>\n",
       "      <th>Coeff</th>\n",
       "    </tr>\n",
       "  </thead>\n",
       "  <tbody>\n",
       "    <tr>\n",
       "      <th>105</th>\n",
       "      <td>n_jobs_SERVICES FOR COMPANIES</td>\n",
       "      <td>0.219844</td>\n",
       "    </tr>\n",
       "    <tr>\n",
       "      <th>88</th>\n",
       "      <td>n_jobs_AUTOMOBILES AND TRANSPORT</td>\n",
       "      <td>0.109166</td>\n",
       "    </tr>\n",
       "    <tr>\n",
       "      <th>16</th>\n",
       "      <td>populacao</td>\n",
       "      <td>0.081454</td>\n",
       "    </tr>\n",
       "    <tr>\n",
       "      <th>34</th>\n",
       "      <td>n_companies_WHOLESALE</td>\n",
       "      <td>0.04637</td>\n",
       "    </tr>\n",
       "    <tr>\n",
       "      <th>5</th>\n",
       "      <td>near_mines</td>\n",
       "      <td>0.03662</td>\n",
       "    </tr>\n",
       "    <tr>\n",
       "      <th>...</th>\n",
       "      <td>...</td>\n",
       "      <td>...</td>\n",
       "    </tr>\n",
       "    <tr>\n",
       "      <th>162</th>\n",
       "      <td>special</td>\n",
       "      <td>0.0</td>\n",
       "    </tr>\n",
       "    <tr>\n",
       "      <th>161</th>\n",
       "      <td>term_limited_seat</td>\n",
       "      <td>0.0</td>\n",
       "    </tr>\n",
       "    <tr>\n",
       "      <th>202</th>\n",
       "      <td>other_perennial</td>\n",
       "      <td>0.0</td>\n",
       "    </tr>\n",
       "    <tr>\n",
       "      <th>156</th>\n",
       "      <td>audits</td>\n",
       "      <td>0.0</td>\n",
       "    </tr>\n",
       "    <tr>\n",
       "      <th>70</th>\n",
       "      <td>n_companies_WATER-BASED TRANSPORTATION</td>\n",
       "      <td>0.0</td>\n",
       "    </tr>\n",
       "  </tbody>\n",
       "</table>\n",
       "<p>204 rows × 2 columns</p>\n",
       "</div>"
      ],
      "text/plain": [
       "                                    Feature     Coeff\n",
       "105           n_jobs_SERVICES FOR COMPANIES  0.219844\n",
       "88         n_jobs_AUTOMOBILES AND TRANSPORT  0.109166\n",
       "16                                populacao  0.081454\n",
       "34                    n_companies_WHOLESALE   0.04637\n",
       "5                                near_mines   0.03662\n",
       "..                                      ...       ...\n",
       "162                                 special       0.0\n",
       "161                       term_limited_seat       0.0\n",
       "202                         other_perennial       0.0\n",
       "156                                  audits       0.0\n",
       "70   n_companies_WATER-BASED TRANSPORTATION       0.0\n",
       "\n",
       "[204 rows x 2 columns]"
      ]
     },
     "execution_count": 146,
     "metadata": {},
     "output_type": "execute_result"
    }
   ],
   "source": [
    "randomforest_features_df"
   ]
  },
  {
   "cell_type": "markdown",
   "metadata": {},
   "source": [
    "## Lasso"
   ]
  },
  {
   "cell_type": "code",
   "execution_count": 147,
   "metadata": {},
   "outputs": [],
   "source": [
    "from sklearn.linear_model import Lasso\n",
    "from sklearn.pipeline import Pipeline\n",
    "from sklearn.model_selection import GridSearchCV\n",
    "from sklearn.preprocessing import StandardScaler"
   ]
  },
  {
   "cell_type": "code",
   "execution_count": 148,
   "metadata": {},
   "outputs": [],
   "source": [
    "pipeline = Pipeline([\n",
    "                     ('scaler',StandardScaler()),\n",
    "                     ('model',Lasso())\n",
    "])"
   ]
  },
  {
   "cell_type": "code",
   "execution_count": 149,
   "metadata": {},
   "outputs": [],
   "source": [
    "search = GridSearchCV(pipeline,\n",
    "                      {'model__alpha':[1e-15,1e-10,1e-8,1e-3,1e-2,1,5,10,20,30,35,40,45,50,55,100]},\n",
    "                      cv = muni_cv, scoring = \"neg_mean_squared_error\",verbose = 3\n",
    "                      )"
   ]
  },
  {
   "cell_type": "code",
   "execution_count": 150,
   "metadata": {},
   "outputs": [
    {
     "name": "stdout",
     "output_type": "stream",
     "text": [
      "Fitting 5 folds for each of 16 candidates, totalling 80 fits\n",
      "[CV 1/5] END ...............model__alpha=1e-15;, score=-0.005 total time=   0.0s\n",
      "[CV 2/5] END ...............model__alpha=1e-15;, score=-0.002 total time=   0.0s\n",
      "[CV 3/5] END ...............model__alpha=1e-15;, score=-0.006 total time=   0.0s\n",
      "[CV 4/5] END ...............model__alpha=1e-15;, score=-0.006 total time=   0.0s\n",
      "[CV 5/5] END ...............model__alpha=1e-15;, score=-0.001 total time=   0.0s\n",
      "[CV 1/5] END ...............model__alpha=1e-10;, score=-0.005 total time=   0.0s\n",
      "[CV 2/5] END ...............model__alpha=1e-10;, score=-0.002 total time=   0.0s\n",
      "[CV 3/5] END ...............model__alpha=1e-10;, score=-0.006 total time=   0.0s\n",
      "[CV 4/5] END ...............model__alpha=1e-10;, score=-0.006 total time=   0.0s\n",
      "[CV 5/5] END ...............model__alpha=1e-10;, score=-0.001 total time=   0.0s\n",
      "[CV 1/5] END ...............model__alpha=1e-08;, score=-0.005 total time=   0.0s\n",
      "[CV 2/5] END ...............model__alpha=1e-08;, score=-0.002 total time=   0.0s\n",
      "[CV 3/5] END ...............model__alpha=1e-08;, score=-0.006 total time=   0.0s\n",
      "[CV 4/5] END ...............model__alpha=1e-08;, score=-0.006 total time=   0.0s\n",
      "[CV 5/5] END ...............model__alpha=1e-08;, score=-0.001 total time=   0.0s\n",
      "[CV 1/5] END ...............model__alpha=0.001;, score=-0.006 total time=   0.0s\n",
      "[CV 2/5] END ...............model__alpha=0.001;, score=-0.000 total time=   0.0s\n",
      "[CV 3/5] END ...............model__alpha=0.001;, score=-0.000 total time=   0.0s\n",
      "[CV 4/5] END ...............model__alpha=0.001;, score=-0.000 total time=   0.0s\n",
      "[CV 5/5] END ...............model__alpha=0.001;, score=-0.000 total time=   0.0s\n",
      "[CV 1/5] END ................model__alpha=0.01;, score=-0.006 total time=   0.0s\n",
      "[CV 2/5] END ................model__alpha=0.01;, score=-0.000 total time=   0.0s\n",
      "[CV 3/5] END ................model__alpha=0.01;, score=-0.000 total time=   0.0s\n",
      "[CV 4/5] END ................model__alpha=0.01;, score=-0.000 total time=   0.0s\n",
      "[CV 5/5] END ................model__alpha=0.01;, score=-0.000 total time=   0.0s\n",
      "[CV 1/5] END ...................model__alpha=1;, score=-0.006 total time=   0.0s\n",
      "[CV 2/5] END ...................model__alpha=1;, score=-0.000 total time=   0.0s\n",
      "[CV 3/5] END ...................model__alpha=1;, score=-0.000 total time=   0.0s\n",
      "[CV 4/5] END ...................model__alpha=1;, score=-0.000 total time=   0.0s\n",
      "[CV 5/5] END ...................model__alpha=1;, score=-0.000 total time=   0.0s\n",
      "[CV 1/5] END ...................model__alpha=5;, score=-0.006 total time=   0.0s\n",
      "[CV 2/5] END ...................model__alpha=5;, score=-0.000 total time=   0.0s\n",
      "[CV 3/5] END ...................model__alpha=5;, score=-0.000 total time=   0.0s\n",
      "[CV 4/5] END ...................model__alpha=5;, score=-0.000 total time=   0.0s\n",
      "[CV 5/5] END ...................model__alpha=5;, score=-0.000 total time=   0.0s\n",
      "[CV 1/5] END ..................model__alpha=10;, score=-0.006 total time=   0.0s\n",
      "[CV 2/5] END ..................model__alpha=10;, score=-0.000 total time=   0.0s\n",
      "[CV 3/5] END ..................model__alpha=10;, score=-0.000 total time=   0.0s\n",
      "[CV 4/5] END ..................model__alpha=10;, score=-0.000 total time=   0.0s\n",
      "[CV 5/5] END ..................model__alpha=10;, score=-0.000 total time=   0.0s\n",
      "[CV 1/5] END ..................model__alpha=20;, score=-0.006 total time=   0.0s\n",
      "[CV 2/5] END ..................model__alpha=20;, score=-0.000 total time=   0.0s\n",
      "[CV 3/5] END ..................model__alpha=20;, score=-0.000 total time=   0.0s\n",
      "[CV 4/5] END ..................model__alpha=20;, score=-0.000 total time=   0.0s\n",
      "[CV 5/5] END ..................model__alpha=20;, score=-0.000 total time=   0.0s\n",
      "[CV 1/5] END ..................model__alpha=30;, score=-0.006 total time=   0.0s\n",
      "[CV 2/5] END ..................model__alpha=30;, score=-0.000 total time=   0.0s\n",
      "[CV 3/5] END ..................model__alpha=30;, score=-0.000 total time=   0.0s\n",
      "[CV 4/5] END ..................model__alpha=30;, score=-0.000 total time=   0.0s\n",
      "[CV 5/5] END ..................model__alpha=30;, score=-0.000 total time=   0.0s\n",
      "[CV 1/5] END ..................model__alpha=35;, score=-0.006 total time=   0.0s\n",
      "[CV 2/5] END ..................model__alpha=35;, score=-0.000 total time=   0.0s\n",
      "[CV 3/5] END ..................model__alpha=35;, score=-0.000 total time=   0.0s\n",
      "[CV 4/5] END ..................model__alpha=35;, score=-0.000 total time=   0.0s\n",
      "[CV 5/5] END ..................model__alpha=35;, score=-0.000 total time=   0.0s\n",
      "[CV 1/5] END ..................model__alpha=40;, score=-0.006 total time=   0.0s\n",
      "[CV 2/5] END ..................model__alpha=40;, score=-0.000 total time=   0.0s\n",
      "[CV 3/5] END ..................model__alpha=40;, score=-0.000 total time=   0.0s\n",
      "[CV 4/5] END ..................model__alpha=40;, score=-0.000 total time=   0.0s\n",
      "[CV 5/5] END ..................model__alpha=40;, score=-0.000 total time=   0.0s\n",
      "[CV 1/5] END ..................model__alpha=45;, score=-0.006 total time=   0.0s\n",
      "[CV 2/5] END ..................model__alpha=45;, score=-0.000 total time=   0.0s\n",
      "[CV 3/5] END ..................model__alpha=45;, score=-0.000 total time=   0.0s\n",
      "[CV 4/5] END ..................model__alpha=45;, score=-0.000 total time=   0.0s\n",
      "[CV 5/5] END ..................model__alpha=45;, score=-0.000 total time=   0.0s\n",
      "[CV 1/5] END ..................model__alpha=50;, score=-0.006 total time=   0.0s\n",
      "[CV 2/5] END ..................model__alpha=50;, score=-0.000 total time=   0.0s\n",
      "[CV 3/5] END ..................model__alpha=50;, score=-0.000 total time=   0.0s\n",
      "[CV 4/5] END ..................model__alpha=50;, score=-0.000 total time=   0.0s\n",
      "[CV 5/5] END ..................model__alpha=50;, score=-0.000 total time=   0.0s\n",
      "[CV 1/5] END ..................model__alpha=55;, score=-0.006 total time=   0.0s\n",
      "[CV 2/5] END ..................model__alpha=55;, score=-0.000 total time=   0.0s\n",
      "[CV 3/5] END ..................model__alpha=55;, score=-0.000 total time=   0.0s\n",
      "[CV 4/5] END ..................model__alpha=55;, score=-0.000 total time=   0.0s\n",
      "[CV 5/5] END ..................model__alpha=55;, score=-0.000 total time=   0.0s\n",
      "[CV 1/5] END .................model__alpha=100;, score=-0.006 total time=   0.0s\n",
      "[CV 2/5] END .................model__alpha=100;, score=-0.000 total time=   0.0s\n",
      "[CV 3/5] END .................model__alpha=100;, score=-0.000 total time=   0.0s\n",
      "[CV 4/5] END .................model__alpha=100;, score=-0.000 total time=   0.0s\n",
      "[CV 5/5] END .................model__alpha=100;, score=-0.000 total time=   0.0s\n"
     ]
    }
   ],
   "source": [
    "search.fit(X_train,Y_train)\n",
    "base_learners.append(('lasso', search.best_estimator_))"
   ]
  },
  {
   "cell_type": "code",
   "execution_count": 151,
   "metadata": {},
   "outputs": [
    {
     "name": "stdout",
     "output_type": "stream",
     "text": [
      "lasso MSE: 0.004986392790875852\n"
     ]
    },
    {
     "data": {
      "text/plain": [
       "Index(['n_jobs_BASIC METALLURGY', 'n_jobs_AUTOMOBILES AND TRANSPORT',\n",
       "       'n_companies_HEALTH', 'n_companies_SERVICES FOR COMPANIES',\n",
       "       'n_companies_LEATHERS AND FOOTWEAR', 'n_companies_RECYCLING',\n",
       "       'n_companies_REAL ESTATE', 'n_companies_WATER-BASED TRANSPORTATION',\n",
       "       'n_companies_CHEMICALS'],\n",
       "      dtype='object')"
      ]
     },
     "execution_count": 151,
     "metadata": {},
     "output_type": "execute_result"
    }
   ],
   "source": [
    "coefficients = search.best_estimator_.named_steps['model'].coef_\n",
    "importance = np.abs(coefficients)\n",
    "\n",
    "yhat = search.best_estimator_.predict(X_test)\n",
    "yhat_list.append(yhat)\n",
    "\n",
    "lasso_features_df = generate_results_table(coefficients, X_train.columns, 'lasso', yhat = yhat)\n",
    "\n",
    "X_train.columns[np.argsort(np.array(abs( importance )))[::-1][0:9]]"
   ]
  },
  {
   "cell_type": "code",
   "execution_count": null,
   "metadata": {},
   "outputs": [],
   "source": []
  },
  {
   "cell_type": "markdown",
   "metadata": {},
   "source": [
    "## Gradient Boosting"
   ]
  },
  {
   "cell_type": "code",
   "execution_count": 152,
   "metadata": {},
   "outputs": [],
   "source": [
    "from sklearn.model_selection import cross_val_score\n",
    "from sklearn.model_selection import RepeatedKFold\n",
    "from sklearn.ensemble import GradientBoostingRegressor"
   ]
  },
  {
   "cell_type": "code",
   "execution_count": 153,
   "metadata": {},
   "outputs": [],
   "source": [
    "pipeline = Pipeline([\n",
    "                     ('scaler',StandardScaler()),\n",
    "                     ('model',GradientBoostingRegressor(learning_rate = 0.1, min_samples_leaf = 2))\n",
    "])"
   ]
  },
  {
   "cell_type": "code",
   "execution_count": 154,
   "metadata": {},
   "outputs": [],
   "source": [
    "search = GridSearchCV(pipeline,\n",
    "                      {'model__n_estimators':np.arange(50, 150, 50), 'model__max_depth':np.arange(3, 5, 1)},\n",
    "                      cv = muni_cv, scoring = \"neg_mean_squared_error\",verbose = 3\n",
    "                      )"
   ]
  },
  {
   "cell_type": "code",
   "execution_count": 155,
   "metadata": {},
   "outputs": [
    {
     "name": "stdout",
     "output_type": "stream",
     "text": [
      "Fitting 5 folds for each of 4 candidates, totalling 20 fits\n",
      "[CV 1/5] END model__max_depth=3, model__n_estimators=50;, score=-0.006 total time=   0.1s\n",
      "[CV 2/5] END model__max_depth=3, model__n_estimators=50;, score=-0.001 total time=   0.1s\n",
      "[CV 3/5] END model__max_depth=3, model__n_estimators=50;, score=-0.002 total time=   0.0s\n",
      "[CV 4/5] END model__max_depth=3, model__n_estimators=50;, score=-0.003 total time=   0.0s\n",
      "[CV 5/5] END model__max_depth=3, model__n_estimators=50;, score=-0.000 total time=   0.1s\n",
      "[CV 1/5] END model__max_depth=3, model__n_estimators=100;, score=-0.006 total time=   0.1s\n",
      "[CV 2/5] END model__max_depth=3, model__n_estimators=100;, score=-0.001 total time=   0.1s\n",
      "[CV 3/5] END model__max_depth=3, model__n_estimators=100;, score=-0.002 total time=   0.1s\n",
      "[CV 4/5] END model__max_depth=3, model__n_estimators=100;, score=-0.003 total time=   0.1s\n",
      "[CV 5/5] END model__max_depth=3, model__n_estimators=100;, score=-0.000 total time=   0.1s\n",
      "[CV 1/5] END model__max_depth=4, model__n_estimators=50;, score=-0.006 total time=   0.1s\n",
      "[CV 2/5] END model__max_depth=4, model__n_estimators=50;, score=-0.001 total time=   0.1s\n",
      "[CV 3/5] END model__max_depth=4, model__n_estimators=50;, score=-0.002 total time=   0.1s\n",
      "[CV 4/5] END model__max_depth=4, model__n_estimators=50;, score=-0.003 total time=   0.1s\n",
      "[CV 5/5] END model__max_depth=4, model__n_estimators=50;, score=-0.000 total time=   0.1s\n",
      "[CV 1/5] END model__max_depth=4, model__n_estimators=100;, score=-0.006 total time=   0.1s\n",
      "[CV 2/5] END model__max_depth=4, model__n_estimators=100;, score=-0.001 total time=   0.1s\n",
      "[CV 3/5] END model__max_depth=4, model__n_estimators=100;, score=-0.002 total time=   0.1s\n",
      "[CV 4/5] END model__max_depth=4, model__n_estimators=100;, score=-0.003 total time=   0.2s\n",
      "[CV 5/5] END model__max_depth=4, model__n_estimators=100;, score=-0.000 total time=   0.1s\n"
     ]
    },
    {
     "data": {
      "text/html": [
       "<style>#sk-container-id-8 {color: black;background-color: white;}#sk-container-id-8 pre{padding: 0;}#sk-container-id-8 div.sk-toggleable {background-color: white;}#sk-container-id-8 label.sk-toggleable__label {cursor: pointer;display: block;width: 100%;margin-bottom: 0;padding: 0.3em;box-sizing: border-box;text-align: center;}#sk-container-id-8 label.sk-toggleable__label-arrow:before {content: \"▸\";float: left;margin-right: 0.25em;color: #696969;}#sk-container-id-8 label.sk-toggleable__label-arrow:hover:before {color: black;}#sk-container-id-8 div.sk-estimator:hover label.sk-toggleable__label-arrow:before {color: black;}#sk-container-id-8 div.sk-toggleable__content {max-height: 0;max-width: 0;overflow: hidden;text-align: left;background-color: #f0f8ff;}#sk-container-id-8 div.sk-toggleable__content pre {margin: 0.2em;color: black;border-radius: 0.25em;background-color: #f0f8ff;}#sk-container-id-8 input.sk-toggleable__control:checked~div.sk-toggleable__content {max-height: 200px;max-width: 100%;overflow: auto;}#sk-container-id-8 input.sk-toggleable__control:checked~label.sk-toggleable__label-arrow:before {content: \"▾\";}#sk-container-id-8 div.sk-estimator input.sk-toggleable__control:checked~label.sk-toggleable__label {background-color: #d4ebff;}#sk-container-id-8 div.sk-label input.sk-toggleable__control:checked~label.sk-toggleable__label {background-color: #d4ebff;}#sk-container-id-8 input.sk-hidden--visually {border: 0;clip: rect(1px 1px 1px 1px);clip: rect(1px, 1px, 1px, 1px);height: 1px;margin: -1px;overflow: hidden;padding: 0;position: absolute;width: 1px;}#sk-container-id-8 div.sk-estimator {font-family: monospace;background-color: #f0f8ff;border: 1px dotted black;border-radius: 0.25em;box-sizing: border-box;margin-bottom: 0.5em;}#sk-container-id-8 div.sk-estimator:hover {background-color: #d4ebff;}#sk-container-id-8 div.sk-parallel-item::after {content: \"\";width: 100%;border-bottom: 1px solid gray;flex-grow: 1;}#sk-container-id-8 div.sk-label:hover label.sk-toggleable__label {background-color: #d4ebff;}#sk-container-id-8 div.sk-serial::before {content: \"\";position: absolute;border-left: 1px solid gray;box-sizing: border-box;top: 0;bottom: 0;left: 50%;z-index: 0;}#sk-container-id-8 div.sk-serial {display: flex;flex-direction: column;align-items: center;background-color: white;padding-right: 0.2em;padding-left: 0.2em;position: relative;}#sk-container-id-8 div.sk-item {position: relative;z-index: 1;}#sk-container-id-8 div.sk-parallel {display: flex;align-items: stretch;justify-content: center;background-color: white;position: relative;}#sk-container-id-8 div.sk-item::before, #sk-container-id-8 div.sk-parallel-item::before {content: \"\";position: absolute;border-left: 1px solid gray;box-sizing: border-box;top: 0;bottom: 0;left: 50%;z-index: -1;}#sk-container-id-8 div.sk-parallel-item {display: flex;flex-direction: column;z-index: 1;position: relative;background-color: white;}#sk-container-id-8 div.sk-parallel-item:first-child::after {align-self: flex-end;width: 50%;}#sk-container-id-8 div.sk-parallel-item:last-child::after {align-self: flex-start;width: 50%;}#sk-container-id-8 div.sk-parallel-item:only-child::after {width: 0;}#sk-container-id-8 div.sk-dashed-wrapped {border: 1px dashed gray;margin: 0 0.4em 0.5em 0.4em;box-sizing: border-box;padding-bottom: 0.4em;background-color: white;}#sk-container-id-8 div.sk-label label {font-family: monospace;font-weight: bold;display: inline-block;line-height: 1.2em;}#sk-container-id-8 div.sk-label-container {text-align: center;}#sk-container-id-8 div.sk-container {/* jupyter's `normalize.less` sets `[hidden] { display: none; }` but bootstrap.min.css set `[hidden] { display: none !important; }` so we also need the `!important` here to be able to override the default hidden behavior on the sphinx rendered scikit-learn.org. See: https://github.com/scikit-learn/scikit-learn/issues/21755 */display: inline-block !important;position: relative;}#sk-container-id-8 div.sk-text-repr-fallback {display: none;}</style><div id=\"sk-container-id-8\" class=\"sk-top-container\"><div class=\"sk-text-repr-fallback\"><pre>GridSearchCV(cv=[(array([ 2,  3,  4,  6,  7,  8,  9, 10, 11, 12, 13, 14, 15, 18, 21, 22, 23,\n",
       "       24, 26, 27, 30, 31, 32, 33, 34, 35, 36, 37, 38, 39, 40, 42, 43, 44,\n",
       "       45, 46, 47, 48, 49, 50, 51, 52, 53]),\n",
       "                  array([ 0,  1,  5, 16, 17, 19, 20, 25, 28, 29, 41])),\n",
       "                 (array([ 0,  1,  5,  6,  7,  8,  9, 10, 11, 12, 14, 15, 16, 17, 18, 19, 20,\n",
       "       21, 22, 23, 24, 25, 27, 28, 29, 30, 31, 33, 34, 35, 37, 38, 39, 41,\n",
       "       42, 43, 45, 47, 49, 50, 51, 52, 53]),\n",
       "                  array([ 2,  3,  4, 13, 26, 32, 36, 40, 4...\n",
       "       19, 20, 22, 25, 26, 27, 28, 29, 30, 31, 32, 33, 34, 35, 36, 39, 40,\n",
       "       41, 42, 44, 45, 46, 47, 48, 50, 52, 53]),\n",
       "                  array([ 9, 15, 21, 23, 24, 37, 38, 43, 49, 51]))],\n",
       "             estimator=Pipeline(steps=[(&#x27;scaler&#x27;, StandardScaler()),\n",
       "                                       (&#x27;model&#x27;,\n",
       "                                        GradientBoostingRegressor(min_samples_leaf=2))]),\n",
       "             param_grid={&#x27;model__max_depth&#x27;: array([3, 4]),\n",
       "                         &#x27;model__n_estimators&#x27;: array([ 50, 100])},\n",
       "             scoring=&#x27;neg_mean_squared_error&#x27;, verbose=3)</pre><b>In a Jupyter environment, please rerun this cell to show the HTML representation or trust the notebook. <br />On GitHub, the HTML representation is unable to render, please try loading this page with nbviewer.org.</b></div><div class=\"sk-container\" hidden><div class=\"sk-item sk-dashed-wrapped\"><div class=\"sk-label-container\"><div class=\"sk-label sk-toggleable\"><input class=\"sk-toggleable__control sk-hidden--visually\" id=\"sk-estimator-id-29\" type=\"checkbox\" ><label for=\"sk-estimator-id-29\" class=\"sk-toggleable__label sk-toggleable__label-arrow\">GridSearchCV</label><div class=\"sk-toggleable__content\"><pre>GridSearchCV(cv=[(array([ 2,  3,  4,  6,  7,  8,  9, 10, 11, 12, 13, 14, 15, 18, 21, 22, 23,\n",
       "       24, 26, 27, 30, 31, 32, 33, 34, 35, 36, 37, 38, 39, 40, 42, 43, 44,\n",
       "       45, 46, 47, 48, 49, 50, 51, 52, 53]),\n",
       "                  array([ 0,  1,  5, 16, 17, 19, 20, 25, 28, 29, 41])),\n",
       "                 (array([ 0,  1,  5,  6,  7,  8,  9, 10, 11, 12, 14, 15, 16, 17, 18, 19, 20,\n",
       "       21, 22, 23, 24, 25, 27, 28, 29, 30, 31, 33, 34, 35, 37, 38, 39, 41,\n",
       "       42, 43, 45, 47, 49, 50, 51, 52, 53]),\n",
       "                  array([ 2,  3,  4, 13, 26, 32, 36, 40, 4...\n",
       "       19, 20, 22, 25, 26, 27, 28, 29, 30, 31, 32, 33, 34, 35, 36, 39, 40,\n",
       "       41, 42, 44, 45, 46, 47, 48, 50, 52, 53]),\n",
       "                  array([ 9, 15, 21, 23, 24, 37, 38, 43, 49, 51]))],\n",
       "             estimator=Pipeline(steps=[(&#x27;scaler&#x27;, StandardScaler()),\n",
       "                                       (&#x27;model&#x27;,\n",
       "                                        GradientBoostingRegressor(min_samples_leaf=2))]),\n",
       "             param_grid={&#x27;model__max_depth&#x27;: array([3, 4]),\n",
       "                         &#x27;model__n_estimators&#x27;: array([ 50, 100])},\n",
       "             scoring=&#x27;neg_mean_squared_error&#x27;, verbose=3)</pre></div></div></div><div class=\"sk-parallel\"><div class=\"sk-parallel-item\"><div class=\"sk-item\"><div class=\"sk-label-container\"><div class=\"sk-label sk-toggleable\"><input class=\"sk-toggleable__control sk-hidden--visually\" id=\"sk-estimator-id-30\" type=\"checkbox\" ><label for=\"sk-estimator-id-30\" class=\"sk-toggleable__label sk-toggleable__label-arrow\">estimator: Pipeline</label><div class=\"sk-toggleable__content\"><pre>Pipeline(steps=[(&#x27;scaler&#x27;, StandardScaler()),\n",
       "                (&#x27;model&#x27;, GradientBoostingRegressor(min_samples_leaf=2))])</pre></div></div></div><div class=\"sk-serial\"><div class=\"sk-item\"><div class=\"sk-serial\"><div class=\"sk-item\"><div class=\"sk-estimator sk-toggleable\"><input class=\"sk-toggleable__control sk-hidden--visually\" id=\"sk-estimator-id-31\" type=\"checkbox\" ><label for=\"sk-estimator-id-31\" class=\"sk-toggleable__label sk-toggleable__label-arrow\">StandardScaler</label><div class=\"sk-toggleable__content\"><pre>StandardScaler()</pre></div></div></div><div class=\"sk-item\"><div class=\"sk-estimator sk-toggleable\"><input class=\"sk-toggleable__control sk-hidden--visually\" id=\"sk-estimator-id-32\" type=\"checkbox\" ><label for=\"sk-estimator-id-32\" class=\"sk-toggleable__label sk-toggleable__label-arrow\">GradientBoostingRegressor</label><div class=\"sk-toggleable__content\"><pre>GradientBoostingRegressor(min_samples_leaf=2)</pre></div></div></div></div></div></div></div></div></div></div></div></div>"
      ],
      "text/plain": [
       "GridSearchCV(cv=[(array([ 2,  3,  4,  6,  7,  8,  9, 10, 11, 12, 13, 14, 15, 18, 21, 22, 23,\n",
       "       24, 26, 27, 30, 31, 32, 33, 34, 35, 36, 37, 38, 39, 40, 42, 43, 44,\n",
       "       45, 46, 47, 48, 49, 50, 51, 52, 53]),\n",
       "                  array([ 0,  1,  5, 16, 17, 19, 20, 25, 28, 29, 41])),\n",
       "                 (array([ 0,  1,  5,  6,  7,  8,  9, 10, 11, 12, 14, 15, 16, 17, 18, 19, 20,\n",
       "       21, 22, 23, 24, 25, 27, 28, 29, 30, 31, 33, 34, 35, 37, 38, 39, 41,\n",
       "       42, 43, 45, 47, 49, 50, 51, 52, 53]),\n",
       "                  array([ 2,  3,  4, 13, 26, 32, 36, 40, 4...\n",
       "       19, 20, 22, 25, 26, 27, 28, 29, 30, 31, 32, 33, 34, 35, 36, 39, 40,\n",
       "       41, 42, 44, 45, 46, 47, 48, 50, 52, 53]),\n",
       "                  array([ 9, 15, 21, 23, 24, 37, 38, 43, 49, 51]))],\n",
       "             estimator=Pipeline(steps=[('scaler', StandardScaler()),\n",
       "                                       ('model',\n",
       "                                        GradientBoostingRegressor(min_samples_leaf=2))]),\n",
       "             param_grid={'model__max_depth': array([3, 4]),\n",
       "                         'model__n_estimators': array([ 50, 100])},\n",
       "             scoring='neg_mean_squared_error', verbose=3)"
      ]
     },
     "execution_count": 155,
     "metadata": {},
     "output_type": "execute_result"
    }
   ],
   "source": [
    "search.fit(X_train,Y_train)"
   ]
  },
  {
   "cell_type": "code",
   "execution_count": 156,
   "metadata": {},
   "outputs": [
    {
     "data": {
      "text/plain": [
       "{'model__max_depth': 3, 'model__n_estimators': 50}"
      ]
     },
     "execution_count": 156,
     "metadata": {},
     "output_type": "execute_result"
    }
   ],
   "source": [
    "search.best_params_"
   ]
  },
  {
   "cell_type": "code",
   "execution_count": 157,
   "metadata": {},
   "outputs": [],
   "source": [
    "base_learners.append(('gradientboosting', search.best_estimator_.named_steps['model']))"
   ]
  },
  {
   "cell_type": "code",
   "execution_count": 158,
   "metadata": {},
   "outputs": [
    {
     "name": "stdout",
     "output_type": "stream",
     "text": [
      "gradientboosting MSE: 0.005372668011874243\n"
     ]
    },
    {
     "data": {
      "text/plain": [
       "Index(['n_jobs_SERVICES FOR COMPANIES', 'emiss_pec_full',\n",
       "       'n_companies_EQUIPMENT RENTAL', 'n_companies_FINANCIAL ASSISTANCE',\n",
       "       'near_mines', 'n_jobs_EQUIPMENT RENTAL',\n",
       "       'n_jobs_AUTOMOBILES AND TRANSPORT', 'expen_env_man', 'expen_agri'],\n",
       "      dtype='object')"
      ]
     },
     "execution_count": 158,
     "metadata": {},
     "output_type": "execute_result"
    }
   ],
   "source": [
    "coefficients = search.best_estimator_.named_steps['model'].feature_importances_\n",
    "importance = np.abs(coefficients)\n",
    "\n",
    "yhat = search.best_estimator_.predict(X_test)\n",
    "yhat_list.append(yhat)\n",
    "\n",
    "gradient_boosting_features_df = generate_results_table(coefficients, X_train.columns, 'gradientboosting', yhat)\n",
    "\n",
    "\n",
    "X.columns[np.argsort(np.array(abs( importance )))[::-1][0:9]]"
   ]
  },
  {
   "cell_type": "markdown",
   "metadata": {},
   "source": [
    "## Neural Network"
   ]
  },
  {
   "cell_type": "code",
   "execution_count": 159,
   "metadata": {},
   "outputs": [],
   "source": [
    "from sklearn.neural_network import MLPRegressor\n",
    "import shap"
   ]
  },
  {
   "cell_type": "code",
   "execution_count": 160,
   "metadata": {},
   "outputs": [],
   "source": [
    "pipeline = Pipeline([\n",
    "                     ('scaler',StandardScaler()),\n",
    "                     ('model', MLPRegressor(activation = 'logistic', random_state=42))\n",
    "])"
   ]
  },
  {
   "cell_type": "code",
   "execution_count": 161,
   "metadata": {},
   "outputs": [],
   "source": [
    "search = GridSearchCV(pipeline,\n",
    "                      {'model__hidden_layer_sizes':[(50,),(100,)], 'model__alpha':np.arange(0.00001, 0.001, 0.001)},\n",
    "                      cv = muni_cv, scoring = \"neg_mean_squared_error\",verbose = 3\n",
    "                      )"
   ]
  },
  {
   "cell_type": "code",
   "execution_count": 162,
   "metadata": {},
   "outputs": [
    {
     "name": "stdout",
     "output_type": "stream",
     "text": [
      "Fitting 5 folds for each of 2 candidates, totalling 10 fits\n",
      "[CV 1/5] END model__alpha=1e-05, model__hidden_layer_sizes=(50,);, score=-0.107 total time=   0.1s\n",
      "[CV 2/5] END model__alpha=1e-05, model__hidden_layer_sizes=(50,);, score=-0.009 total time=   0.0s\n",
      "[CV 3/5] END model__alpha=1e-05, model__hidden_layer_sizes=(50,);, score=-0.034 total time=   0.0s\n",
      "[CV 4/5] END model__alpha=1e-05, model__hidden_layer_sizes=(50,);, score=-0.084 total time=   0.0s\n",
      "[CV 5/5] END model__alpha=1e-05, model__hidden_layer_sizes=(50,);, score=-0.043 total time=   0.0s\n",
      "[CV 1/5] END model__alpha=1e-05, model__hidden_layer_sizes=(100,);, score=-0.029 total time=   0.0s\n",
      "[CV 2/5] END model__alpha=1e-05, model__hidden_layer_sizes=(100,);, score=-0.012 total time=   0.0s\n",
      "[CV 3/5] END model__alpha=1e-05, model__hidden_layer_sizes=(100,);, score=-0.042 total time=   0.0s\n",
      "[CV 4/5] END model__alpha=1e-05, model__hidden_layer_sizes=(100,);, score=-0.021 total time=   0.0s\n",
      "[CV 5/5] END model__alpha=1e-05, model__hidden_layer_sizes=(100,);, score=-0.006 total time=   0.0s\n"
     ]
    },
    {
     "data": {
      "text/html": [
       "<style>#sk-container-id-9 {color: black;background-color: white;}#sk-container-id-9 pre{padding: 0;}#sk-container-id-9 div.sk-toggleable {background-color: white;}#sk-container-id-9 label.sk-toggleable__label {cursor: pointer;display: block;width: 100%;margin-bottom: 0;padding: 0.3em;box-sizing: border-box;text-align: center;}#sk-container-id-9 label.sk-toggleable__label-arrow:before {content: \"▸\";float: left;margin-right: 0.25em;color: #696969;}#sk-container-id-9 label.sk-toggleable__label-arrow:hover:before {color: black;}#sk-container-id-9 div.sk-estimator:hover label.sk-toggleable__label-arrow:before {color: black;}#sk-container-id-9 div.sk-toggleable__content {max-height: 0;max-width: 0;overflow: hidden;text-align: left;background-color: #f0f8ff;}#sk-container-id-9 div.sk-toggleable__content pre {margin: 0.2em;color: black;border-radius: 0.25em;background-color: #f0f8ff;}#sk-container-id-9 input.sk-toggleable__control:checked~div.sk-toggleable__content {max-height: 200px;max-width: 100%;overflow: auto;}#sk-container-id-9 input.sk-toggleable__control:checked~label.sk-toggleable__label-arrow:before {content: \"▾\";}#sk-container-id-9 div.sk-estimator input.sk-toggleable__control:checked~label.sk-toggleable__label {background-color: #d4ebff;}#sk-container-id-9 div.sk-label input.sk-toggleable__control:checked~label.sk-toggleable__label {background-color: #d4ebff;}#sk-container-id-9 input.sk-hidden--visually {border: 0;clip: rect(1px 1px 1px 1px);clip: rect(1px, 1px, 1px, 1px);height: 1px;margin: -1px;overflow: hidden;padding: 0;position: absolute;width: 1px;}#sk-container-id-9 div.sk-estimator {font-family: monospace;background-color: #f0f8ff;border: 1px dotted black;border-radius: 0.25em;box-sizing: border-box;margin-bottom: 0.5em;}#sk-container-id-9 div.sk-estimator:hover {background-color: #d4ebff;}#sk-container-id-9 div.sk-parallel-item::after {content: \"\";width: 100%;border-bottom: 1px solid gray;flex-grow: 1;}#sk-container-id-9 div.sk-label:hover label.sk-toggleable__label {background-color: #d4ebff;}#sk-container-id-9 div.sk-serial::before {content: \"\";position: absolute;border-left: 1px solid gray;box-sizing: border-box;top: 0;bottom: 0;left: 50%;z-index: 0;}#sk-container-id-9 div.sk-serial {display: flex;flex-direction: column;align-items: center;background-color: white;padding-right: 0.2em;padding-left: 0.2em;position: relative;}#sk-container-id-9 div.sk-item {position: relative;z-index: 1;}#sk-container-id-9 div.sk-parallel {display: flex;align-items: stretch;justify-content: center;background-color: white;position: relative;}#sk-container-id-9 div.sk-item::before, #sk-container-id-9 div.sk-parallel-item::before {content: \"\";position: absolute;border-left: 1px solid gray;box-sizing: border-box;top: 0;bottom: 0;left: 50%;z-index: -1;}#sk-container-id-9 div.sk-parallel-item {display: flex;flex-direction: column;z-index: 1;position: relative;background-color: white;}#sk-container-id-9 div.sk-parallel-item:first-child::after {align-self: flex-end;width: 50%;}#sk-container-id-9 div.sk-parallel-item:last-child::after {align-self: flex-start;width: 50%;}#sk-container-id-9 div.sk-parallel-item:only-child::after {width: 0;}#sk-container-id-9 div.sk-dashed-wrapped {border: 1px dashed gray;margin: 0 0.4em 0.5em 0.4em;box-sizing: border-box;padding-bottom: 0.4em;background-color: white;}#sk-container-id-9 div.sk-label label {font-family: monospace;font-weight: bold;display: inline-block;line-height: 1.2em;}#sk-container-id-9 div.sk-label-container {text-align: center;}#sk-container-id-9 div.sk-container {/* jupyter's `normalize.less` sets `[hidden] { display: none; }` but bootstrap.min.css set `[hidden] { display: none !important; }` so we also need the `!important` here to be able to override the default hidden behavior on the sphinx rendered scikit-learn.org. See: https://github.com/scikit-learn/scikit-learn/issues/21755 */display: inline-block !important;position: relative;}#sk-container-id-9 div.sk-text-repr-fallback {display: none;}</style><div id=\"sk-container-id-9\" class=\"sk-top-container\"><div class=\"sk-text-repr-fallback\"><pre>GridSearchCV(cv=[(array([ 2,  3,  4,  6,  7,  8,  9, 10, 11, 12, 13, 14, 15, 18, 21, 22, 23,\n",
       "       24, 26, 27, 30, 31, 32, 33, 34, 35, 36, 37, 38, 39, 40, 42, 43, 44,\n",
       "       45, 46, 47, 48, 49, 50, 51, 52, 53]),\n",
       "                  array([ 0,  1,  5, 16, 17, 19, 20, 25, 28, 29, 41])),\n",
       "                 (array([ 0,  1,  5,  6,  7,  8,  9, 10, 11, 12, 14, 15, 16, 17, 18, 19, 20,\n",
       "       21, 22, 23, 24, 25, 27, 28, 29, 30, 31, 33, 34, 35, 37, 38, 39, 41,\n",
       "       42, 43, 45, 47, 49, 50, 51, 52, 53]),\n",
       "                  array([ 2,  3,  4, 13, 26, 32, 36, 40, 4...\n",
       "       19, 20, 22, 25, 26, 27, 28, 29, 30, 31, 32, 33, 34, 35, 36, 39, 40,\n",
       "       41, 42, 44, 45, 46, 47, 48, 50, 52, 53]),\n",
       "                  array([ 9, 15, 21, 23, 24, 37, 38, 43, 49, 51]))],\n",
       "             estimator=Pipeline(steps=[(&#x27;scaler&#x27;, StandardScaler()),\n",
       "                                       (&#x27;model&#x27;,\n",
       "                                        MLPRegressor(activation=&#x27;logistic&#x27;,\n",
       "                                                     random_state=42))]),\n",
       "             param_grid={&#x27;model__alpha&#x27;: array([1.e-05]),\n",
       "                         &#x27;model__hidden_layer_sizes&#x27;: [(50,), (100,)]},\n",
       "             scoring=&#x27;neg_mean_squared_error&#x27;, verbose=3)</pre><b>In a Jupyter environment, please rerun this cell to show the HTML representation or trust the notebook. <br />On GitHub, the HTML representation is unable to render, please try loading this page with nbviewer.org.</b></div><div class=\"sk-container\" hidden><div class=\"sk-item sk-dashed-wrapped\"><div class=\"sk-label-container\"><div class=\"sk-label sk-toggleable\"><input class=\"sk-toggleable__control sk-hidden--visually\" id=\"sk-estimator-id-33\" type=\"checkbox\" ><label for=\"sk-estimator-id-33\" class=\"sk-toggleable__label sk-toggleable__label-arrow\">GridSearchCV</label><div class=\"sk-toggleable__content\"><pre>GridSearchCV(cv=[(array([ 2,  3,  4,  6,  7,  8,  9, 10, 11, 12, 13, 14, 15, 18, 21, 22, 23,\n",
       "       24, 26, 27, 30, 31, 32, 33, 34, 35, 36, 37, 38, 39, 40, 42, 43, 44,\n",
       "       45, 46, 47, 48, 49, 50, 51, 52, 53]),\n",
       "                  array([ 0,  1,  5, 16, 17, 19, 20, 25, 28, 29, 41])),\n",
       "                 (array([ 0,  1,  5,  6,  7,  8,  9, 10, 11, 12, 14, 15, 16, 17, 18, 19, 20,\n",
       "       21, 22, 23, 24, 25, 27, 28, 29, 30, 31, 33, 34, 35, 37, 38, 39, 41,\n",
       "       42, 43, 45, 47, 49, 50, 51, 52, 53]),\n",
       "                  array([ 2,  3,  4, 13, 26, 32, 36, 40, 4...\n",
       "       19, 20, 22, 25, 26, 27, 28, 29, 30, 31, 32, 33, 34, 35, 36, 39, 40,\n",
       "       41, 42, 44, 45, 46, 47, 48, 50, 52, 53]),\n",
       "                  array([ 9, 15, 21, 23, 24, 37, 38, 43, 49, 51]))],\n",
       "             estimator=Pipeline(steps=[(&#x27;scaler&#x27;, StandardScaler()),\n",
       "                                       (&#x27;model&#x27;,\n",
       "                                        MLPRegressor(activation=&#x27;logistic&#x27;,\n",
       "                                                     random_state=42))]),\n",
       "             param_grid={&#x27;model__alpha&#x27;: array([1.e-05]),\n",
       "                         &#x27;model__hidden_layer_sizes&#x27;: [(50,), (100,)]},\n",
       "             scoring=&#x27;neg_mean_squared_error&#x27;, verbose=3)</pre></div></div></div><div class=\"sk-parallel\"><div class=\"sk-parallel-item\"><div class=\"sk-item\"><div class=\"sk-label-container\"><div class=\"sk-label sk-toggleable\"><input class=\"sk-toggleable__control sk-hidden--visually\" id=\"sk-estimator-id-34\" type=\"checkbox\" ><label for=\"sk-estimator-id-34\" class=\"sk-toggleable__label sk-toggleable__label-arrow\">estimator: Pipeline</label><div class=\"sk-toggleable__content\"><pre>Pipeline(steps=[(&#x27;scaler&#x27;, StandardScaler()),\n",
       "                (&#x27;model&#x27;,\n",
       "                 MLPRegressor(activation=&#x27;logistic&#x27;, random_state=42))])</pre></div></div></div><div class=\"sk-serial\"><div class=\"sk-item\"><div class=\"sk-serial\"><div class=\"sk-item\"><div class=\"sk-estimator sk-toggleable\"><input class=\"sk-toggleable__control sk-hidden--visually\" id=\"sk-estimator-id-35\" type=\"checkbox\" ><label for=\"sk-estimator-id-35\" class=\"sk-toggleable__label sk-toggleable__label-arrow\">StandardScaler</label><div class=\"sk-toggleable__content\"><pre>StandardScaler()</pre></div></div></div><div class=\"sk-item\"><div class=\"sk-estimator sk-toggleable\"><input class=\"sk-toggleable__control sk-hidden--visually\" id=\"sk-estimator-id-36\" type=\"checkbox\" ><label for=\"sk-estimator-id-36\" class=\"sk-toggleable__label sk-toggleable__label-arrow\">MLPRegressor</label><div class=\"sk-toggleable__content\"><pre>MLPRegressor(activation=&#x27;logistic&#x27;, random_state=42)</pre></div></div></div></div></div></div></div></div></div></div></div></div>"
      ],
      "text/plain": [
       "GridSearchCV(cv=[(array([ 2,  3,  4,  6,  7,  8,  9, 10, 11, 12, 13, 14, 15, 18, 21, 22, 23,\n",
       "       24, 26, 27, 30, 31, 32, 33, 34, 35, 36, 37, 38, 39, 40, 42, 43, 44,\n",
       "       45, 46, 47, 48, 49, 50, 51, 52, 53]),\n",
       "                  array([ 0,  1,  5, 16, 17, 19, 20, 25, 28, 29, 41])),\n",
       "                 (array([ 0,  1,  5,  6,  7,  8,  9, 10, 11, 12, 14, 15, 16, 17, 18, 19, 20,\n",
       "       21, 22, 23, 24, 25, 27, 28, 29, 30, 31, 33, 34, 35, 37, 38, 39, 41,\n",
       "       42, 43, 45, 47, 49, 50, 51, 52, 53]),\n",
       "                  array([ 2,  3,  4, 13, 26, 32, 36, 40, 4...\n",
       "       19, 20, 22, 25, 26, 27, 28, 29, 30, 31, 32, 33, 34, 35, 36, 39, 40,\n",
       "       41, 42, 44, 45, 46, 47, 48, 50, 52, 53]),\n",
       "                  array([ 9, 15, 21, 23, 24, 37, 38, 43, 49, 51]))],\n",
       "             estimator=Pipeline(steps=[('scaler', StandardScaler()),\n",
       "                                       ('model',\n",
       "                                        MLPRegressor(activation='logistic',\n",
       "                                                     random_state=42))]),\n",
       "             param_grid={'model__alpha': array([1.e-05]),\n",
       "                         'model__hidden_layer_sizes': [(50,), (100,)]},\n",
       "             scoring='neg_mean_squared_error', verbose=3)"
      ]
     },
     "execution_count": 162,
     "metadata": {},
     "output_type": "execute_result"
    }
   ],
   "source": [
    "search.fit(X_train,Y_train)"
   ]
  },
  {
   "cell_type": "code",
   "execution_count": 163,
   "metadata": {},
   "outputs": [],
   "source": [
    "base_learners.append(('neuralnetwork', search.best_estimator_))"
   ]
  },
  {
   "cell_type": "code",
   "execution_count": 164,
   "metadata": {},
   "outputs": [
    {
     "name": "stderr",
     "output_type": "stream",
     "text": [
      "X does not have valid feature names, but StandardScaler was fitted with feature names\n"
     ]
    }
   ],
   "source": [
    "explainer = shap.KernelExplainer(search.best_estimator_.predict, X_train)"
   ]
  },
  {
   "cell_type": "code",
   "execution_count": 165,
   "metadata": {},
   "outputs": [
    {
     "name": "stderr",
     "output_type": "stream",
     "text": [
      "  0%|          | 0/10 [00:00<?, ?it/s]X does not have valid feature names, but StandardScaler was fitted with feature names\n",
      "X does not have valid feature names, but StandardScaler was fitted with feature names\n",
      "The default of 'normalize' will be set to False in version 1.2 and deprecated in version 1.4.\n",
      "If you wish to scale the data, use Pipeline with a StandardScaler in a preprocessing stage. To reproduce the previous behavior:\n",
      "\n",
      "from sklearn.pipeline import make_pipeline\n",
      "\n",
      "model = make_pipeline(StandardScaler(with_mean=False), LassoLarsIC())\n",
      "\n",
      "If you wish to pass a sample_weight parameter, you need to pass it as a fit parameter to each step of the pipeline as follows:\n",
      "\n",
      "kwargs = {s[0] + '__sample_weight': sample_weight for s in model.steps}\n",
      "model.fit(X, y, **kwargs)\n",
      "\n",
      "Set parameter alpha to: original_alpha * np.sqrt(n_samples). \n",
      " 10%|█         | 1/10 [00:00<00:05,  1.76it/s]X does not have valid feature names, but StandardScaler was fitted with feature names\n",
      "X does not have valid feature names, but StandardScaler was fitted with feature names\n",
      "The default of 'normalize' will be set to False in version 1.2 and deprecated in version 1.4.\n",
      "If you wish to scale the data, use Pipeline with a StandardScaler in a preprocessing stage. To reproduce the previous behavior:\n",
      "\n",
      "from sklearn.pipeline import make_pipeline\n",
      "\n",
      "model = make_pipeline(StandardScaler(with_mean=False), LassoLarsIC())\n",
      "\n",
      "If you wish to pass a sample_weight parameter, you need to pass it as a fit parameter to each step of the pipeline as follows:\n",
      "\n",
      "kwargs = {s[0] + '__sample_weight': sample_weight for s in model.steps}\n",
      "model.fit(X, y, **kwargs)\n",
      "\n",
      "Set parameter alpha to: original_alpha * np.sqrt(n_samples). \n",
      " 20%|██        | 2/10 [00:01<00:04,  1.85it/s]X does not have valid feature names, but StandardScaler was fitted with feature names\n",
      "X does not have valid feature names, but StandardScaler was fitted with feature names\n",
      "The default of 'normalize' will be set to False in version 1.2 and deprecated in version 1.4.\n",
      "If you wish to scale the data, use Pipeline with a StandardScaler in a preprocessing stage. To reproduce the previous behavior:\n",
      "\n",
      "from sklearn.pipeline import make_pipeline\n",
      "\n",
      "model = make_pipeline(StandardScaler(with_mean=False), LassoLarsIC())\n",
      "\n",
      "If you wish to pass a sample_weight parameter, you need to pass it as a fit parameter to each step of the pipeline as follows:\n",
      "\n",
      "kwargs = {s[0] + '__sample_weight': sample_weight for s in model.steps}\n",
      "model.fit(X, y, **kwargs)\n",
      "\n",
      "Set parameter alpha to: original_alpha * np.sqrt(n_samples). \n",
      " 30%|███       | 3/10 [00:01<00:03,  1.97it/s]X does not have valid feature names, but StandardScaler was fitted with feature names\n",
      "X does not have valid feature names, but StandardScaler was fitted with feature names\n",
      "The default of 'normalize' will be set to False in version 1.2 and deprecated in version 1.4.\n",
      "If you wish to scale the data, use Pipeline with a StandardScaler in a preprocessing stage. To reproduce the previous behavior:\n",
      "\n",
      "from sklearn.pipeline import make_pipeline\n",
      "\n",
      "model = make_pipeline(StandardScaler(with_mean=False), LassoLarsIC())\n",
      "\n",
      "If you wish to pass a sample_weight parameter, you need to pass it as a fit parameter to each step of the pipeline as follows:\n",
      "\n",
      "kwargs = {s[0] + '__sample_weight': sample_weight for s in model.steps}\n",
      "model.fit(X, y, **kwargs)\n",
      "\n",
      "Set parameter alpha to: original_alpha * np.sqrt(n_samples). \n",
      " 40%|████      | 4/10 [00:02<00:02,  2.01it/s]X does not have valid feature names, but StandardScaler was fitted with feature names\n",
      "X does not have valid feature names, but StandardScaler was fitted with feature names\n",
      "The default of 'normalize' will be set to False in version 1.2 and deprecated in version 1.4.\n",
      "If you wish to scale the data, use Pipeline with a StandardScaler in a preprocessing stage. To reproduce the previous behavior:\n",
      "\n",
      "from sklearn.pipeline import make_pipeline\n",
      "\n",
      "model = make_pipeline(StandardScaler(with_mean=False), LassoLarsIC())\n",
      "\n",
      "If you wish to pass a sample_weight parameter, you need to pass it as a fit parameter to each step of the pipeline as follows:\n",
      "\n",
      "kwargs = {s[0] + '__sample_weight': sample_weight for s in model.steps}\n",
      "model.fit(X, y, **kwargs)\n",
      "\n",
      "Set parameter alpha to: original_alpha * np.sqrt(n_samples). \n",
      " 50%|█████     | 5/10 [00:02<00:02,  2.05it/s]X does not have valid feature names, but StandardScaler was fitted with feature names\n",
      "X does not have valid feature names, but StandardScaler was fitted with feature names\n",
      "The default of 'normalize' will be set to False in version 1.2 and deprecated in version 1.4.\n",
      "If you wish to scale the data, use Pipeline with a StandardScaler in a preprocessing stage. To reproduce the previous behavior:\n",
      "\n",
      "from sklearn.pipeline import make_pipeline\n",
      "\n",
      "model = make_pipeline(StandardScaler(with_mean=False), LassoLarsIC())\n",
      "\n",
      "If you wish to pass a sample_weight parameter, you need to pass it as a fit parameter to each step of the pipeline as follows:\n",
      "\n",
      "kwargs = {s[0] + '__sample_weight': sample_weight for s in model.steps}\n",
      "model.fit(X, y, **kwargs)\n",
      "\n",
      "Set parameter alpha to: original_alpha * np.sqrt(n_samples). \n",
      " 60%|██████    | 6/10 [00:02<00:01,  2.15it/s]X does not have valid feature names, but StandardScaler was fitted with feature names\n",
      "X does not have valid feature names, but StandardScaler was fitted with feature names\n",
      "The default of 'normalize' will be set to False in version 1.2 and deprecated in version 1.4.\n",
      "If you wish to scale the data, use Pipeline with a StandardScaler in a preprocessing stage. To reproduce the previous behavior:\n",
      "\n",
      "from sklearn.pipeline import make_pipeline\n",
      "\n",
      "model = make_pipeline(StandardScaler(with_mean=False), LassoLarsIC())\n",
      "\n",
      "If you wish to pass a sample_weight parameter, you need to pass it as a fit parameter to each step of the pipeline as follows:\n",
      "\n",
      "kwargs = {s[0] + '__sample_weight': sample_weight for s in model.steps}\n",
      "model.fit(X, y, **kwargs)\n",
      "\n",
      "Set parameter alpha to: original_alpha * np.sqrt(n_samples). \n",
      " 70%|███████   | 7/10 [00:03<00:01,  2.19it/s]X does not have valid feature names, but StandardScaler was fitted with feature names\n",
      "X does not have valid feature names, but StandardScaler was fitted with feature names\n",
      "The default of 'normalize' will be set to False in version 1.2 and deprecated in version 1.4.\n",
      "If you wish to scale the data, use Pipeline with a StandardScaler in a preprocessing stage. To reproduce the previous behavior:\n",
      "\n",
      "from sklearn.pipeline import make_pipeline\n",
      "\n",
      "model = make_pipeline(StandardScaler(with_mean=False), LassoLarsIC())\n",
      "\n",
      "If you wish to pass a sample_weight parameter, you need to pass it as a fit parameter to each step of the pipeline as follows:\n",
      "\n",
      "kwargs = {s[0] + '__sample_weight': sample_weight for s in model.steps}\n",
      "model.fit(X, y, **kwargs)\n",
      "\n",
      "Set parameter alpha to: original_alpha * np.sqrt(n_samples). \n",
      " 80%|████████  | 8/10 [00:03<00:00,  2.21it/s]X does not have valid feature names, but StandardScaler was fitted with feature names\n",
      "X does not have valid feature names, but StandardScaler was fitted with feature names\n",
      "The default of 'normalize' will be set to False in version 1.2 and deprecated in version 1.4.\n",
      "If you wish to scale the data, use Pipeline with a StandardScaler in a preprocessing stage. To reproduce the previous behavior:\n",
      "\n",
      "from sklearn.pipeline import make_pipeline\n",
      "\n",
      "model = make_pipeline(StandardScaler(with_mean=False), LassoLarsIC())\n",
      "\n",
      "If you wish to pass a sample_weight parameter, you need to pass it as a fit parameter to each step of the pipeline as follows:\n",
      "\n",
      "kwargs = {s[0] + '__sample_weight': sample_weight for s in model.steps}\n",
      "model.fit(X, y, **kwargs)\n",
      "\n",
      "Set parameter alpha to: original_alpha * np.sqrt(n_samples). \n",
      " 90%|█████████ | 9/10 [00:04<00:00,  2.34it/s]X does not have valid feature names, but StandardScaler was fitted with feature names\n",
      "X does not have valid feature names, but StandardScaler was fitted with feature names\n",
      "The default of 'normalize' will be set to False in version 1.2 and deprecated in version 1.4.\n",
      "If you wish to scale the data, use Pipeline with a StandardScaler in a preprocessing stage. To reproduce the previous behavior:\n",
      "\n",
      "from sklearn.pipeline import make_pipeline\n",
      "\n",
      "model = make_pipeline(StandardScaler(with_mean=False), LassoLarsIC())\n",
      "\n",
      "If you wish to pass a sample_weight parameter, you need to pass it as a fit parameter to each step of the pipeline as follows:\n",
      "\n",
      "kwargs = {s[0] + '__sample_weight': sample_weight for s in model.steps}\n",
      "model.fit(X, y, **kwargs)\n",
      "\n",
      "Set parameter alpha to: original_alpha * np.sqrt(n_samples). \n",
      "100%|██████████| 10/10 [00:04<00:00,  2.18it/s]\n"
     ]
    }
   ],
   "source": [
    "shap_values = explainer.shap_values(X_test, nsamples=100)"
   ]
  },
  {
   "cell_type": "code",
   "execution_count": 166,
   "metadata": {},
   "outputs": [
    {
     "data": {
      "image/png": "[encoded data removed]",
      "text/plain": [
       "<Figure size 576x684 with 2 Axes>"
      ]
     },
     "metadata": {
      "needs_background": "light"
     },
     "output_type": "display_data"
    }
   ],
   "source": [
    "(shap.summary_plot(shap_values,X_test,feature_names=X_test.columns))"
   ]
  },
  {
   "cell_type": "code",
   "execution_count": 167,
   "metadata": {},
   "outputs": [],
   "source": [
    "feature_names = X_train.columns\n",
    "\n",
    "rf_resultX = pd.DataFrame(shap_values, columns = feature_names)\n",
    "\n",
    "vals = np.abs(rf_resultX.values).mean(0)\n",
    "\n",
    "shap_importance = pd.DataFrame(list(zip(feature_names, vals)),\n",
    "                                  columns=['col_name','feature_importance_vals'])\n",
    "shap_importance.sort_values(by=['feature_importance_vals'],\n",
    "                               ascending=False, inplace=True)\n",
    "\n",
    "#shap_importance.to_csv('FeatureInportanceResults/neuralnetwork.csv')"
   ]
  },
  {
   "cell_type": "code",
   "execution_count": 168,
   "metadata": {},
   "outputs": [],
   "source": [
    "yhat = search.best_estimator_.predict(X_test)\n",
    "yhat_list.append(yhat)"
   ]
  },
  {
   "cell_type": "code",
   "execution_count": 169,
   "metadata": {},
   "outputs": [
    {
     "name": "stdout",
     "output_type": "stream",
     "text": [
      "neuralnetwork MSE: 0.08083084979624809\n"
     ]
    }
   ],
   "source": [
    "nn_features_df = generate_results_table(np.array(shap_importance.feature_importance_vals), np.array(shap_importance.col_name), 'neuralnetwork', yhat)"
   ]
  },
  {
   "cell_type": "code",
   "execution_count": 170,
   "metadata": {},
   "outputs": [
    {
     "data": {
      "text/plain": [
       "1.0000000000000004"
      ]
     },
     "execution_count": 170,
     "metadata": {},
     "output_type": "execute_result"
    }
   ],
   "source": [
    "sum(nn_features_df.Coeff)"
   ]
  },
  {
   "cell_type": "markdown",
   "metadata": {},
   "source": [
    "## Super Learner Ensemble"
   ]
  },
  {
   "cell_type": "code",
   "execution_count": 171,
   "metadata": {},
   "outputs": [],
   "source": [
    "import numpy as np\n",
    "from sklearn.linear_model import LogisticRegression\n",
    "from sklearn.linear_model import Ridge\n",
    "from sklearn.metrics import mean_squared_error\n",
    "from sklearn.model_selection import KFold"
   ]
  },
  {
   "cell_type": "code",
   "execution_count": 172,
   "metadata": {},
   "outputs": [],
   "source": [
    "def get_models():\n",
    "    base_models = []\n",
    "    #Random forest regressor\n",
    "    base_models.append(base_learners[0][1][1])\n",
    "    #Lasso\n",
    "    base_models.append(base_learners[1][1][1])\n",
    "    #Gradient Boosting\n",
    "    base_models.append(base_learners[2][1])\n",
    "    #NeuralNetwork\n",
    "    base_models.append(base_learners[3][1][1])\n",
    "    return base_models\n",
    "\n",
    "def get_out_of_fold_predictions(X_train, Y_train, base_models):\n",
    "    meta_X = []\n",
    "    meta_Y = []\n",
    "\n",
    "    # enumerate splits\n",
    "    for train_ix, test_ix in muni_cv:\n",
    "        fold_yhats = []\n",
    "        meta_train_X, meta_test_X = X_train.iloc[train_ix], X_train.iloc[test_ix]\n",
    "        meta_train_Y, meta_test_Y = Y_train.iloc[train_ix], Y_train.iloc[test_ix]\n",
    "        meta_Y.extend(meta_test_Y)\n",
    "\n",
    "        # fit and make predictions with each sub-model\n",
    "        for model in base_models:\n",
    "            model.fit(meta_train_X, meta_train_Y)\n",
    "            yhat = model.predict(meta_test_X)\n",
    "            # store columns\n",
    "            fold_yhats.append(yhat.reshape(len(yhat),1))\n",
    "       \n",
    "        meta_X.append(np.hstack(fold_yhats))\n",
    "            \n",
    "    return np.vstack(meta_X), np.asarray(meta_Y)\n",
    "\n",
    "def super_learner_predictions(X, models, meta_model):\n",
    "\tmeta_X = []\n",
    "\tfor model in models:\n",
    "\t\tyhat = model.predict(X) \n",
    "\t\tmeta_X.append(yhat)\n",
    "\t# predict\n",
    "\treturn meta_model.predict(pd.DataFrame(meta_X).T)\n",
    "    \n",
    "def fit_base_models(X, y, models):\n",
    "\tfor model in models:\n",
    "\t\tmodel.fit(X, y)\n",
    " \n",
    "\n",
    "def fit_meta_model(X, y):\n",
    "\tmodel = Ridge()\n",
    "\tmodel.fit(X, y)\n",
    "\treturn model\n",
    "\n",
    "def evaluate_models(X, y, models):\n",
    "\tfor model in models:\n",
    "\t\tyhat = model.predict(X)\n",
    "\t\tmse = mean_squared_error(y, yhat)\n",
    "\t\tprint('%s: %.3f' % (model.__class__.__name__, mse))"
   ]
  },
  {
   "cell_type": "code",
   "execution_count": 173,
   "metadata": {},
   "outputs": [
    {
     "name": "stderr",
     "output_type": "stream",
     "text": [
      "Objective did not converge. You might want to increase the number of iterations, check the scale of the features or consider increasing regularisation. Duality gap: 1.297e-03, tolerance: 6.070e-07\n",
      "Objective did not converge. You might want to increase the number of iterations, check the scale of the features or consider increasing regularisation. Duality gap: 6.078e-03, tolerance: 6.402e-06\n",
      "Objective did not converge. You might want to increase the number of iterations, check the scale of the features or consider increasing regularisation. Duality gap: 5.868e-03, tolerance: 6.638e-06\n",
      "Objective did not converge. You might want to increase the number of iterations, check the scale of the features or consider increasing regularisation. Duality gap: 4.958e-03, tolerance: 6.756e-06\n",
      "Objective did not converge. You might want to increase the number of iterations, check the scale of the features or consider increasing regularisation. Duality gap: 6.147e-03, tolerance: 6.783e-06\n"
     ]
    },
    {
     "name": "stdout",
     "output_type": "stream",
     "text": [
      "Meta Data Shape:  (54, 4) (54,)\n"
     ]
    },
    {
     "name": "stderr",
     "output_type": "stream",
     "text": [
      "Objective did not converge. You might want to increase the number of iterations, check the scale of the features or consider increasing regularisation. Duality gap: 8.310e-03, tolerance: 6.842e-06\n"
     ]
    },
    {
     "name": "stdout",
     "output_type": "stream",
     "text": [
      "RandomForestRegressor: 0.006\n",
      "Lasso: 0.854\n",
      "GradientBoostingRegressor: 0.005\n",
      "MLPRegressor: 0.019\n",
      "MSE: 0.004768870082605107\n"
     ]
    }
   ],
   "source": [
    "# get models\n",
    "models = get_models()\n",
    "# get out of fold predictions\n",
    "meta_X, meta_y = get_out_of_fold_predictions(X_train, Y_train, models)\n",
    "print('Meta Data Shape: ', meta_X.shape, meta_y.shape)\n",
    "\n",
    "fit_base_models(X_train, Y_train, models)\n",
    "meta_model = fit_meta_model(meta_X, meta_y)\n",
    "\n",
    "evaluate_models(X_test, Y_test, models)\n",
    "\n",
    "yhat = super_learner_predictions(X_test, models, meta_model)\n",
    "yhat_list.append(yhat)\n",
    "\n",
    "# Evaluate the performance of the model\n",
    "mse = mean_squared_error(Y_test, yhat)\n",
    "print(\"MSE:\", mse)"
   ]
  },
  {
   "cell_type": "code",
   "execution_count": 174,
   "metadata": {},
   "outputs": [
    {
     "name": "stderr",
     "output_type": "stream",
     "text": [
      "X does not have valid feature names, but GradientBoostingRegressor was fitted with feature names\n",
      "  0%|          | 0/10 [00:00<?, ?it/s]X does not have valid feature names, but GradientBoostingRegressor was fitted with feature names\n",
      "X does not have valid feature names, but GradientBoostingRegressor was fitted with feature names\n",
      "The default of 'normalize' will be set to False in version 1.2 and deprecated in version 1.4.\n",
      "If you wish to scale the data, use Pipeline with a StandardScaler in a preprocessing stage. To reproduce the previous behavior:\n",
      "\n",
      "from sklearn.pipeline import make_pipeline\n",
      "\n",
      "model = make_pipeline(StandardScaler(with_mean=False), LassoLarsIC())\n",
      "\n",
      "If you wish to pass a sample_weight parameter, you need to pass it as a fit parameter to each step of the pipeline as follows:\n",
      "\n",
      "kwargs = {s[0] + '__sample_weight': sample_weight for s in model.steps}\n",
      "model.fit(X, y, **kwargs)\n",
      "\n",
      "Set parameter alpha to: original_alpha * np.sqrt(n_samples). \n",
      " 10%|█         | 1/10 [00:00<00:04,  2.13it/s]X does not have valid feature names, but GradientBoostingRegressor was fitted with feature names\n",
      "X does not have valid feature names, but GradientBoostingRegressor was fitted with feature names\n",
      "The default of 'normalize' will be set to False in version 1.2 and deprecated in version 1.4.\n",
      "If you wish to scale the data, use Pipeline with a StandardScaler in a preprocessing stage. To reproduce the previous behavior:\n",
      "\n",
      "from sklearn.pipeline import make_pipeline\n",
      "\n",
      "model = make_pipeline(StandardScaler(with_mean=False), LassoLarsIC())\n",
      "\n",
      "If you wish to pass a sample_weight parameter, you need to pass it as a fit parameter to each step of the pipeline as follows:\n",
      "\n",
      "kwargs = {s[0] + '__sample_weight': sample_weight for s in model.steps}\n",
      "model.fit(X, y, **kwargs)\n",
      "\n",
      "Set parameter alpha to: original_alpha * np.sqrt(n_samples). \n",
      " 20%|██        | 2/10 [00:00<00:03,  2.16it/s]X does not have valid feature names, but GradientBoostingRegressor was fitted with feature names\n",
      "X does not have valid feature names, but GradientBoostingRegressor was fitted with feature names\n",
      "The default of 'normalize' will be set to False in version 1.2 and deprecated in version 1.4.\n",
      "If you wish to scale the data, use Pipeline with a StandardScaler in a preprocessing stage. To reproduce the previous behavior:\n",
      "\n",
      "from sklearn.pipeline import make_pipeline\n",
      "\n",
      "model = make_pipeline(StandardScaler(with_mean=False), LassoLarsIC())\n",
      "\n",
      "If you wish to pass a sample_weight parameter, you need to pass it as a fit parameter to each step of the pipeline as follows:\n",
      "\n",
      "kwargs = {s[0] + '__sample_weight': sample_weight for s in model.steps}\n",
      "model.fit(X, y, **kwargs)\n",
      "\n",
      "Set parameter alpha to: original_alpha * np.sqrt(n_samples). \n",
      " 30%|███       | 3/10 [00:01<00:03,  2.13it/s]X does not have valid feature names, but GradientBoostingRegressor was fitted with feature names\n",
      "X does not have valid feature names, but GradientBoostingRegressor was fitted with feature names\n",
      "The default of 'normalize' will be set to False in version 1.2 and deprecated in version 1.4.\n",
      "If you wish to scale the data, use Pipeline with a StandardScaler in a preprocessing stage. To reproduce the previous behavior:\n",
      "\n",
      "from sklearn.pipeline import make_pipeline\n",
      "\n",
      "model = make_pipeline(StandardScaler(with_mean=False), LassoLarsIC())\n",
      "\n",
      "If you wish to pass a sample_weight parameter, you need to pass it as a fit parameter to each step of the pipeline as follows:\n",
      "\n",
      "kwargs = {s[0] + '__sample_weight': sample_weight for s in model.steps}\n",
      "model.fit(X, y, **kwargs)\n",
      "\n",
      "Set parameter alpha to: original_alpha * np.sqrt(n_samples). \n",
      " 40%|████      | 4/10 [00:01<00:02,  2.20it/s]X does not have valid feature names, but GradientBoostingRegressor was fitted with feature names\n",
      "X does not have valid feature names, but GradientBoostingRegressor was fitted with feature names\n",
      "The default of 'normalize' will be set to False in version 1.2 and deprecated in version 1.4.\n",
      "If you wish to scale the data, use Pipeline with a StandardScaler in a preprocessing stage. To reproduce the previous behavior:\n",
      "\n",
      "from sklearn.pipeline import make_pipeline\n",
      "\n",
      "model = make_pipeline(StandardScaler(with_mean=False), LassoLarsIC())\n",
      "\n",
      "If you wish to pass a sample_weight parameter, you need to pass it as a fit parameter to each step of the pipeline as follows:\n",
      "\n",
      "kwargs = {s[0] + '__sample_weight': sample_weight for s in model.steps}\n",
      "model.fit(X, y, **kwargs)\n",
      "\n",
      "Set parameter alpha to: original_alpha * np.sqrt(n_samples). \n",
      " 50%|█████     | 5/10 [00:02<00:02,  2.06it/s]X does not have valid feature names, but GradientBoostingRegressor was fitted with feature names\n",
      "X does not have valid feature names, but GradientBoostingRegressor was fitted with feature names\n",
      "The default of 'normalize' will be set to False in version 1.2 and deprecated in version 1.4.\n",
      "If you wish to scale the data, use Pipeline with a StandardScaler in a preprocessing stage. To reproduce the previous behavior:\n",
      "\n",
      "from sklearn.pipeline import make_pipeline\n",
      "\n",
      "model = make_pipeline(StandardScaler(with_mean=False), LassoLarsIC())\n",
      "\n",
      "If you wish to pass a sample_weight parameter, you need to pass it as a fit parameter to each step of the pipeline as follows:\n",
      "\n",
      "kwargs = {s[0] + '__sample_weight': sample_weight for s in model.steps}\n",
      "model.fit(X, y, **kwargs)\n",
      "\n",
      "Set parameter alpha to: original_alpha * np.sqrt(n_samples). \n",
      " 60%|██████    | 6/10 [00:02<00:01,  2.02it/s]X does not have valid feature names, but GradientBoostingRegressor was fitted with feature names\n",
      "X does not have valid feature names, but GradientBoostingRegressor was fitted with feature names\n",
      "The default of 'normalize' will be set to False in version 1.2 and deprecated in version 1.4.\n",
      "If you wish to scale the data, use Pipeline with a StandardScaler in a preprocessing stage. To reproduce the previous behavior:\n",
      "\n",
      "from sklearn.pipeline import make_pipeline\n",
      "\n",
      "model = make_pipeline(StandardScaler(with_mean=False), LassoLarsIC())\n",
      "\n",
      "If you wish to pass a sample_weight parameter, you need to pass it as a fit parameter to each step of the pipeline as follows:\n",
      "\n",
      "kwargs = {s[0] + '__sample_weight': sample_weight for s in model.steps}\n",
      "model.fit(X, y, **kwargs)\n",
      "\n",
      "Set parameter alpha to: original_alpha * np.sqrt(n_samples). \n",
      " 70%|███████   | 7/10 [00:03<00:01,  2.04it/s]X does not have valid feature names, but GradientBoostingRegressor was fitted with feature names\n",
      "X does not have valid feature names, but GradientBoostingRegressor was fitted with feature names\n",
      "The default of 'normalize' will be set to False in version 1.2 and deprecated in version 1.4.\n",
      "If you wish to scale the data, use Pipeline with a StandardScaler in a preprocessing stage. To reproduce the previous behavior:\n",
      "\n",
      "from sklearn.pipeline import make_pipeline\n",
      "\n",
      "model = make_pipeline(StandardScaler(with_mean=False), LassoLarsIC())\n",
      "\n",
      "If you wish to pass a sample_weight parameter, you need to pass it as a fit parameter to each step of the pipeline as follows:\n",
      "\n",
      "kwargs = {s[0] + '__sample_weight': sample_weight for s in model.steps}\n",
      "model.fit(X, y, **kwargs)\n",
      "\n",
      "Set parameter alpha to: original_alpha * np.sqrt(n_samples). \n",
      " 80%|████████  | 8/10 [00:03<00:01,  1.97it/s]X does not have valid feature names, but GradientBoostingRegressor was fitted with feature names\n",
      "X does not have valid feature names, but GradientBoostingRegressor was fitted with feature names\n",
      "The default of 'normalize' will be set to False in version 1.2 and deprecated in version 1.4.\n",
      "If you wish to scale the data, use Pipeline with a StandardScaler in a preprocessing stage. To reproduce the previous behavior:\n",
      "\n",
      "from sklearn.pipeline import make_pipeline\n",
      "\n",
      "model = make_pipeline(StandardScaler(with_mean=False), LassoLarsIC())\n",
      "\n",
      "If you wish to pass a sample_weight parameter, you need to pass it as a fit parameter to each step of the pipeline as follows:\n",
      "\n",
      "kwargs = {s[0] + '__sample_weight': sample_weight for s in model.steps}\n",
      "model.fit(X, y, **kwargs)\n",
      "\n",
      "Set parameter alpha to: original_alpha * np.sqrt(n_samples). \n",
      " 90%|█████████ | 9/10 [00:04<00:00,  2.13it/s]X does not have valid feature names, but GradientBoostingRegressor was fitted with feature names\n",
      "X does not have valid feature names, but GradientBoostingRegressor was fitted with feature names\n",
      "The default of 'normalize' will be set to False in version 1.2 and deprecated in version 1.4.\n",
      "If you wish to scale the data, use Pipeline with a StandardScaler in a preprocessing stage. To reproduce the previous behavior:\n",
      "\n",
      "from sklearn.pipeline import make_pipeline\n",
      "\n",
      "model = make_pipeline(StandardScaler(with_mean=False), LassoLarsIC())\n",
      "\n",
      "If you wish to pass a sample_weight parameter, you need to pass it as a fit parameter to each step of the pipeline as follows:\n",
      "\n",
      "kwargs = {s[0] + '__sample_weight': sample_weight for s in model.steps}\n",
      "model.fit(X, y, **kwargs)\n",
      "\n",
      "Set parameter alpha to: original_alpha * np.sqrt(n_samples). \n",
      "100%|██████████| 10/10 [00:04<00:00,  2.08it/s]"
     ]
    },
    {
     "name": "stdout",
     "output_type": "stream",
     "text": [
      "superlearner MSE: 0.004768870082605107\n"
     ]
    },
    {
     "name": "stderr",
     "output_type": "stream",
     "text": [
      "\n"
     ]
    }
   ],
   "source": [
    "#Super Learner Feature Importance\n",
    "\n",
    "#Random forest \n",
    "random_forest_weighted_importance = models[0].feature_importances_ * meta_model.coef_[0]\n",
    "\n",
    "#Lasso \n",
    "lasso_weighted_importance = models[1].coef_ * meta_model.coef_[1]\n",
    "\n",
    "#GradientBoostingRegressor\n",
    "gradient_boosting_weighted_importance = models[2].feature_importances_ * meta_model.coef_[2]\n",
    "\n",
    "#NeuralNetwork\n",
    "explainer = shap.KernelExplainer(models[2].predict, X_train)\n",
    "shap_values = explainer.shap_values(X_test, nsamples=100)\n",
    "\n",
    "feature_names = X_train.columns\n",
    "\n",
    "rf_resultX = pd.DataFrame(shap_values, columns = feature_names)\n",
    "\n",
    "vals = np.abs(rf_resultX.values).mean(0)\n",
    "\n",
    "shap_importance = pd.DataFrame(list(zip(feature_names, vals)),\n",
    "                                  columns=['col_name','feature_importance_vals'])\n",
    "\n",
    "\n",
    "nn_weighted_importance = shap_importance.feature_importance_vals * meta_model.coef_[3]\n",
    "\n",
    "\n",
    "super_learner_feature_importance = np.mean([random_forest_weighted_importance, lasso_weighted_importance, gradient_boosting_weighted_importance, nn_weighted_importance], axis = 0)\n",
    "\n",
    "\n",
    "super_learner_features_df = generate_results_table(super_learner_feature_importance, X_train.columns, 'superlearner', yhat)"
   ]
  },
  {
   "cell_type": "markdown",
   "metadata": {},
   "source": [
    "## Visualize Deforestation Predictions"
   ]
  },
  {
   "cell_type": "code",
   "execution_count": 175,
   "metadata": {},
   "outputs": [],
   "source": [
    "import matplotlib.gridspec as gridspec"
   ]
  },
  {
   "cell_type": "code",
   "execution_count": 176,
   "metadata": {},
   "outputs": [
    {
     "data": {
      "image/png": "[encoded data removed]",
      "text/plain": [
       "<Figure size 720x576 with 2 Axes>"
      ]
     },
     "metadata": {
      "needs_background": "light"
     },
     "output_type": "display_data"
    },
    {
     "data": {
      "image/png": "[encoded data removed]",
      "text/plain": [
       "<Figure size 720x576 with 2 Axes>"
      ]
     },
     "metadata": {
      "needs_background": "light"
     },
     "output_type": "display_data"
    },
    {
     "data": {
      "image/png": "[encoded data removed]",
      "text/plain": [
       "<Figure size 720x576 with 2 Axes>"
      ]
     },
     "metadata": {
      "needs_background": "light"
     },
     "output_type": "display_data"
    },
    {
     "data": {
      "image/png": "[encoded data removed]",
      "text/plain": [
       "<Figure size 720x576 with 2 Axes>"
      ]
     },
     "metadata": {
      "needs_background": "light"
     },
     "output_type": "display_data"
    },
    {
     "data": {
      "image/png": "[encoded data removed]",
      "text/plain": [
       "<Figure size 720x576 with 2 Axes>"
      ]
     },
     "metadata": {
      "needs_background": "light"
     },
     "output_type": "display_data"
    },
    {
     "data": {
      "image/png": "[encoded data removed]",
      "text/plain": [
       "<Figure size 720x576 with 2 Axes>"
      ]
     },
     "metadata": {
      "needs_background": "light"
     },
     "output_type": "display_data"
    }
   ],
   "source": [
    "prediction_df = -pd.DataFrame(yhat_list).T\n",
    "prediction_df.columns = ['randomforest', 'lasso', 'gradientboosting', 'nn', 'superlearner']\n",
    "prediction_df['avg'] = prediction_df.mean(axis=1)\n",
    "prediction_df['x'] = np.array(df_full_test['x'])\n",
    "prediction_df['y'] = np.array(df_full_test['y'])\n",
    "prediction_df['actual']  = -np.array(Y_test)\n",
    "prediction_df.to_csv(FILE_PATH + 'predictions.csv')\n",
    "\n",
    "for col_name in ['randomforest', 'lasso', 'gradientboosting', 'nn', 'superlearner', 'avg']:\n",
    "    gdf_yhat = gpd.GeoDataFrame(prediction_df, geometry = gpd.points_from_xy(prediction_df.x, prediction_df.y))\n",
    "    fig, axs = plt.subplots(1, 1, figsize=(10, 8))\n",
    "    marker_size = 1\n",
    "    gdf_yhat.plot(column = col_name, cmap = 'Reds', ax=axs, markersize = marker_size)\n",
    "\n",
    "    #plt.legend(markerscale=1)\n",
    "    plt.tight_layout()\n",
    "\n",
    "    \n",
    "\n",
    "    # Show the colorbar\n",
    "    sm = plt.cm.ScalarMappable(cmap = 'Reds')\n",
    "    sm.set_array(prediction_df['avg'])\n",
    "    cbar = plt.colorbar(sm)\n",
    "    \n",
    "\n",
    "    # Save the figure\n",
    "    plt.savefig(FILE_PATH + 'DeforestPlot_' + col_name)\n",
    "\n",
    "    plt.show()\n"
   ]
  },
  {
   "cell_type": "code",
   "execution_count": null,
   "metadata": {},
   "outputs": [],
   "source": []
  },
  {
   "cell_type": "markdown",
   "metadata": {},
   "source": [
    "## Data Viz"
   ]
  },
  {
   "cell_type": "code",
   "execution_count": 177,
   "metadata": {},
   "outputs": [
    {
     "name": "stderr",
     "output_type": "stream",
     "text": [
      "[MLENS] backend: threading\n"
     ]
    }
   ],
   "source": [
    "from mlens.visualization import corr_X_y, corrmat"
   ]
  },
  {
   "cell_type": "code",
   "execution_count": 178,
   "metadata": {},
   "outputs": [
    {
     "name": "stderr",
     "output_type": "stream",
     "text": [
      "An input array is constant; the correlation coefficent is not defined.\n"
     ]
    },
    {
     "data": {
      "image/png": "[encoded data removed]",
      "text/plain": [
       "<Figure size 1152x720 with 3 Axes>"
      ]
     },
     "metadata": {
      "needs_background": "light"
     },
     "output_type": "display_data"
    },
    {
     "data": {
      "text/plain": [
       "GridSpec(2, 2)"
      ]
     },
     "execution_count": 178,
     "metadata": {},
     "output_type": "execute_result"
    }
   ],
   "source": [
    "corr_X_y(X_train, Y_train, figsize=(16, 10), label_rotation=80, hspace=1, fontsize=14)"
   ]
  },
  {
   "cell_type": "code",
   "execution_count": null,
   "metadata": {},
   "outputs": [],
   "source": []
  }
 ],
 "metadata": {
  "interpreter": {
   "hash": "d49eb846d9e9e33562e6444db983d5d3192f0621d82336681e003790fb98d6fc"
  },
  "kernelspec": {
   "display_name": "Python 3 (ipykernel)",
   "language": "python",
   "name": "python3"
  },
  "language_info": {
   "codemirror_mode": {
    "name": "ipython",
    "version": 3
   },
   "file_extension": ".py",
   "mimetype": "text/x-python",
   "name": "python",
   "nbconvert_exporter": "python",
   "pygments_lexer": "ipython3",
   "version": "3.11.0"
  }
 },
 "nbformat": 4,
 "nbformat_minor": 2
}
