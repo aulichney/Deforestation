{
 "cells": [
  {
   "cell_type": "code",
   "execution_count": 89,
   "id": "232a312f",
   "metadata": {},
   "outputs": [],
   "source": [
    "import pandas as pd\n",
    "import numpy as np\n",
    "from sklearn.model_selection import train_test_split"
   ]
  },
  {
   "cell_type": "code",
   "execution_count": 90,
   "id": "b07f5948",
   "metadata": {},
   "outputs": [],
   "source": [
    "import warnings\n",
    "warnings.filterwarnings(\"ignore\")"
   ]
  },
  {
   "cell_type": "markdown",
   "id": "136c4964",
   "metadata": {},
   "source": [
    "# Feature Selection with Machine Learning Alrogithms"
   ]
  },
  {
   "cell_type": "markdown",
   "id": "3f3ee310",
   "metadata": {},
   "source": [
    "## Remaining Tasks\n",
    "\n",
    "- Interpretation of results of Neural Network\n",
    "- Super Learner Ensemble: research, figure out specifics of how used in corruption paper, implement\n",
    "- Run each GridSearch 10x and average the final predictors\n",
    "- Finish data cleaning (ironore/silver variables issue, remaining NAs from year_deforest, repeat in jobs from analysis.Rdata and more specific jobs ones, are there too many job categories?)\n",
    "- what are n_jobs_ and n_companies_\n",
    "- once i have the final variable list sorted out, consider model performance score MSE and also covariate groups of variables, see how the paper found the groups and try to replicate\n",
    "\n",
    "- get rid of jobs overlap variables\n",
    "- step ahead forecasting"
   ]
  },
  {
   "cell_type": "markdown",
   "id": "f182d425",
   "metadata": {},
   "source": [
    "- feature importance while holding certain variables constant (e.g. lat/long)"
   ]
  },
  {
   "cell_type": "markdown",
   "id": "f27cbc2f",
   "metadata": {},
   "source": [
    "Methods Used:\n",
    "- Univariate Test\n",
    "- RFE\n",
    "- PCA\n",
    "- Random Forests * use grid search\n",
    "- Extra Trees * use grid search\n",
    "- Lasso Regression ** use grid search\n",
    "- Gradient Boosting Machine ** use grid search\n",
    "- Neural Network\n",
    "- Super Learner Ensemble"
   ]
  },
  {
   "cell_type": "markdown",
   "id": "b7f1f466",
   "metadata": {},
   "source": [
    "Paper Methods\n",
    "- LASSO (Done)\n",
    "- Random Forests (Done)\n",
    "- Gradient Boosting Machine\n",
    "- Neural Network\n",
    "- Super Learner Ensemble"
   ]
  },
  {
   "cell_type": "markdown",
   "id": "da5f842d",
   "metadata": {},
   "source": [
    "## Cross Validation\n",
    "\n",
    "CV is applied to relevant methods with sklearn's GridSearchCV package. GridSearch tests model performance on all possible values of hyperparameters. 5-fold CV is used here as in the paper. \n",
    "- Criterion selected for CV is neg mse instead of their classification-based metric"
   ]
  },
  {
   "cell_type": "markdown",
   "id": "efbfcc81",
   "metadata": {},
   "source": [
    "- What I don't have yet is that they repeat the CV 10 times and use the average of those parameters. Need to write a function and run this. Will probably be better to do this on yale compute"
   ]
  },
  {
   "cell_type": "code",
   "execution_count": null,
   "id": "9b8b53f1",
   "metadata": {},
   "outputs": [],
   "source": []
  },
  {
   "cell_type": "markdown",
   "id": "8fbcba96",
   "metadata": {},
   "source": [
    "## SpatioTemporal CV"
   ]
  },
  {
   "cell_type": "code",
   "execution_count": 257,
   "id": "c4b964c2",
   "metadata": {},
   "outputs": [],
   "source": [
    "import spacv\n",
    "from spacv.grid_builder import *\n",
    "from spacv.utils import *"
   ]
  },
  {
   "cell_type": "code",
   "execution_count": 258,
   "id": "8b49647a",
   "metadata": {},
   "outputs": [],
   "source": [
    "from sklearn.svm import SVC"
   ]
  },
  {
   "cell_type": "markdown",
   "id": "52089683",
   "metadata": {},
   "source": [
    "## Import Data and PreProcess"
   ]
  },
  {
   "cell_type": "code",
   "execution_count": 91,
   "id": "a9bfec85",
   "metadata": {},
   "outputs": [],
   "source": [
    "#path = '/Users/annieulichney/Library/CloudStorage/Box-Box/Deforestation_MachineLearning/Data/full_data_2016.csv'\n",
    "#path = 'TempFullData.csv'\n",
    "path = 'Dec22FullData.csv'\n",
    "df1 = pd.read_csv(path, index_col = [0])"
   ]
  },
  {
   "cell_type": "code",
   "execution_count": 92,
   "id": "3114c783",
   "metadata": {},
   "outputs": [
    {
     "data": {
      "text/plain": [
       "2455930"
      ]
     },
     "execution_count": 92,
     "metadata": {},
     "output_type": "execute_result"
    }
   ],
   "source": [
    "df1.shape[0]"
   ]
  },
  {
   "cell_type": "code",
   "execution_count": 93,
   "id": "55e2e088",
   "metadata": {},
   "outputs": [],
   "source": [
    "#drop nas for now\n",
    "\n",
    "df1 = df1[~df1.expen_other_agr.isna()]"
   ]
  },
  {
   "cell_type": "code",
   "execution_count": 94,
   "id": "82d6d0c5",
   "metadata": {},
   "outputs": [
    {
     "data": {
      "text/plain": [
       "{'ID': 0,\n",
       " 'forest.diff': 0,\n",
       " 'FID': 0,\n",
       " 'x': 0,\n",
       " 'y': 0,\n",
       " 'year': 0,\n",
       " 'forest.l': 0,\n",
       " 'nn_forest.l': 0,\n",
       " 'rain1': 0,\n",
       " 'elevation': 0,\n",
       " 'slope': 0,\n",
       " 'aspect': 0,\n",
       " 'near_mines': 0,\n",
       " 'near_roads': 0,\n",
       " 'near_hidrovia': 0,\n",
       " 'indigenous_homol': 0,\n",
       " 'mun_election_year': 0,\n",
       " 'new_forest_code': 0,\n",
       " 'lula': 0,\n",
       " 'dilma': 0,\n",
       " 'temer': 0,\n",
       " 'bolsonaro': 0,\n",
       " 'fed_election_year': 0,\n",
       " 'populacao': 0,\n",
       " 'pib_pc': 0,\n",
       " 'ironore': 0,\n",
       " 'silver': 0,\n",
       " 'copper': 0,\n",
       " 'gold': 0,\n",
       " 'soy_price': 0,\n",
       " 'beef_price': 0,\n",
       " 'ag_jobs': 0,\n",
       " 'mining_jobs': 0,\n",
       " 'public_jobs': 0,\n",
       " 'construction_jobs': 0,\n",
       " 'PIB': 0,\n",
       " 'n_companies_PUBLIC ADMIN': 0,\n",
       " 'n_companies_AGRICULTURE': 0,\n",
       " 'n_companies_FOOD AND DRINKS': 0,\n",
       " 'n_companies_ACCOMODATION AND FOOD': 0,\n",
       " 'n_companies_EQUIPMENT RENTAL': 0,\n",
       " 'n_companies_WHOLESALE': 0,\n",
       " 'n_companies_ASSOCIATIVE ACTIVITIES': 0,\n",
       " 'n_companies_AUTOMOBILES AND TRANSPORT': 0,\n",
       " 'n_companies_FINANCIAL ASSISTANCE': 0,\n",
       " 'n_companies_TRADE REP VEHICLES': 0,\n",
       " 'n_companies_CONSTRUCTION': 0,\n",
       " 'n_companies_MAIL AND TELECOM': 0,\n",
       " 'n_companies_CULTURE AND SPORT': 0,\n",
       " 'n_companies_EDITING AND PRINTING': 0,\n",
       " 'n_companies_EDUCATION': 0,\n",
       " 'n_companies_ELECTRICITY AND GAS': 0,\n",
       " 'n_companies_FINANCES': 0,\n",
       " 'n_companies_CLEANING AND SEWAGE': 0,\n",
       " 'n_companies_MACHINERY': 0,\n",
       " 'n_companies_BASIC METALLURGY': 0,\n",
       " 'n_companies_MINING': 0,\n",
       " 'n_companies_WOOD PROD': 0,\n",
       " 'n_companies_NON-METALLIC MINERAL PRODUCTS': 0,\n",
       " 'n_companies_HEALTH': 0,\n",
       " 'n_companies_SERVICES FOR COMPANIES': 0,\n",
       " 'n_companies_PERSONAL SERVICES': 0,\n",
       " 'n_companies_TRANSPORTATION': 0,\n",
       " 'n_companies_GROUND TRANSPORT': 0,\n",
       " 'n_companies_WATER TREATMENT AND DISTRIBUTION': 0,\n",
       " 'n_companies_RETAIL': 0,\n",
       " 'n_companies_COMPUTING': 0,\n",
       " 'n_companies_INSURANCE AND SOCIAL SECURITY': 0,\n",
       " 'n_companies_METALLIC PRODUCTS': 0,\n",
       " 'n_companies_DOMESTIC SERVICES': 0,\n",
       " 'n_companies_FORESTRY': 0,\n",
       " 'n_companies_CLOTHING': 0,\n",
       " 'n_companies_PAPER': 0,\n",
       " 'n_companies_INTERNATIONAL BODIES': 0,\n",
       " 'n_companies_OIL AND GAS': 0,\n",
       " 'n_companies_FISHING AND AQUACULTURE': 0,\n",
       " 'n_companies_CHEMICALS': 0,\n",
       " 'n_companies_WATER-BASED TRANSPORTATION': 0,\n",
       " 'n_companies_REAL ESTATE': 0,\n",
       " 'n_companies_RECYCLING': 0,\n",
       " 'n_companies_LEATHERS AND FOOTWEAR': 0,\n",
       " 'n_companies_RUBBER AND PLASTIC': 0,\n",
       " 'n_companies_TEXTILES': 0,\n",
       " 'n_companies_RESEARCH AND DEVELOPMENT': 0,\n",
       " 'n_companies_AERO TRANSPORT': 0,\n",
       " 'n_companies_SMOKE': 0,\n",
       " 'n_companies_PETROLEUM REFINING': 0,\n",
       " 'n_companies_': 0,\n",
       " 'n_jobs_PUBLIC ADMIN': 0,\n",
       " 'n_jobs_AGRICULTURE': 0,\n",
       " 'n_jobs_FOOD AND DRINKS': 0,\n",
       " 'n_jobs_ACCOMODATION AND FOOD': 0,\n",
       " 'n_jobs_EQUIPMENT RENTAL': 0,\n",
       " 'n_jobs_WHOLESALE': 0,\n",
       " 'n_jobs_ASSOCIATIVE ACTIVITIES': 0,\n",
       " 'n_jobs_AUTOMOBILES AND TRANSPORT': 0,\n",
       " 'n_jobs_FINANCIAL ASSISTANCE': 0,\n",
       " 'n_jobs_TRADE REP VEHICLES': 0,\n",
       " 'n_jobs_CONSTRUCTION': 0,\n",
       " 'n_jobs_MAIL AND TELECOM': 0,\n",
       " 'n_jobs_CULTURE AND SPORT': 0,\n",
       " 'n_jobs_EDITING AND PRINTING': 0,\n",
       " 'n_jobs_EDUCATION': 0,\n",
       " 'n_jobs_ELECTRICITY AND GAS': 0,\n",
       " 'n_jobs_FINANCES': 0,\n",
       " 'n_jobs_CLEANING AND SEWAGE': 0,\n",
       " 'n_jobs_MACHINERY': 0,\n",
       " 'n_jobs_BASIC METALLURGY': 0,\n",
       " 'n_jobs_MINING': 0,\n",
       " 'n_jobs_WOOD PROD': 0,\n",
       " 'n_jobs_NON-METALLIC MINERAL PRODUCTS': 0,\n",
       " 'n_jobs_HEALTH': 0,\n",
       " 'n_jobs_SERVICES FOR COMPANIES': 0,\n",
       " 'n_jobs_PERSONAL SERVICES': 0,\n",
       " 'n_jobs_TRANSPORTATION': 0,\n",
       " 'n_jobs_GROUND TRANSPORT': 0,\n",
       " 'n_jobs_WATER TREATMENT AND DISTRIBUTION': 0,\n",
       " 'n_jobs_RETAIL': 0,\n",
       " 'n_jobs_COMPUTING': 0,\n",
       " 'n_jobs_INSURANCE AND SOCIAL SECURITY': 0,\n",
       " 'n_jobs_METALLIC PRODUCTS': 0,\n",
       " 'n_jobs_DOMESTIC SERVICES': 0,\n",
       " 'n_jobs_FORESTRY': 0,\n",
       " 'n_jobs_CLOTHING': 0,\n",
       " 'n_jobs_PAPER': 0,\n",
       " 'n_jobs_INTERNATIONAL BODIES': 0,\n",
       " 'n_jobs_OIL AND GAS': 0,\n",
       " 'n_jobs_FISHING AND AQUACULTURE': 0,\n",
       " 'n_jobs_CHEMICALS': 0,\n",
       " 'n_jobs_WATER-BASED TRANSPORTATION': 0,\n",
       " 'n_jobs_REAL ESTATE': 0,\n",
       " 'n_jobs_RECYCLING': 0,\n",
       " 'n_jobs_LEATHERS AND FOOTWEAR': 0,\n",
       " 'n_jobs_RUBBER AND PLASTIC': 0,\n",
       " 'n_jobs_TEXTILES': 0,\n",
       " 'n_jobs_RESEARCH AND DEVELOPMENT': 0,\n",
       " 'n_jobs_AERO TRANSPORT': 0,\n",
       " 'n_jobs_SMOKE': 0,\n",
       " 'n_jobs_PETROLEUM REFINING': 0,\n",
       " 'n_jobs_': 0,\n",
       " 'n_jobs_TOTAL INDUSTRIAL': 0,\n",
       " 'n_jobs_TOTAL SERVICE': 0,\n",
       " 'n_companies_TOTAL INDUSTRIAL': 0,\n",
       " 'n_companies_TOTAL SERVICE': 0,\n",
       " 'n_companies_TOTAL': 0,\n",
       " 'n_jobs_TOTAL': 0,\n",
       " 'murder_threats': 0,\n",
       " 'assassination': 0,\n",
       " 'assassination_attempt': 0,\n",
       " 'f_emitted_count': 0,\n",
       " 'expen_agri': 0,\n",
       " 'expen_env_man': 0,\n",
       " 'expen_agr_org': 0,\n",
       " 'expen_mining': 0,\n",
       " 'expen_petrol': 0,\n",
       " 'expen_prom_ani_pro': 0,\n",
       " 'expen_prom_veg_pro': 0,\n",
       " 'expen_other_agr': 0,\n",
       " 'expen_agr_defense': 0,\n",
       " 'expen_min_fuel': 0,\n",
       " 'illegal_mining': 0,\n",
       " 'illegal_other': 0,\n",
       " 'illegal_industry': 0,\n",
       " 'audits': 0,\n",
       " 'emiss_pec_full': 0,\n",
       " 'emiss_agr_full': 0,\n",
       " 'emiss_agropec_full': 0}"
      ]
     },
     "execution_count": 94,
     "metadata": {},
     "output_type": "execute_result"
    }
   ],
   "source": [
    "dict(sorted((df1.isna().sum()).to_dict().items(), key=lambda item: item[1]))"
   ]
  },
  {
   "cell_type": "code",
   "execution_count": 95,
   "id": "626ff8b6",
   "metadata": {},
   "outputs": [],
   "source": [
    "#df = df1[df1.year == 2016]\n",
    "df = df1"
   ]
  },
  {
   "cell_type": "code",
   "execution_count": 96,
   "id": "ecaed31a",
   "metadata": {},
   "outputs": [
    {
     "data": {
      "text/plain": [
       "(2455780, 167)"
      ]
     },
     "execution_count": 96,
     "metadata": {},
     "output_type": "execute_result"
    }
   ],
   "source": [
    "df.shape"
   ]
  },
  {
   "cell_type": "code",
   "execution_count": 97,
   "id": "4c4d49dc",
   "metadata": {},
   "outputs": [
    {
     "data": {
      "text/html": [
       "<div>\n",
       "<style scoped>\n",
       "    .dataframe tbody tr th:only-of-type {\n",
       "        vertical-align: middle;\n",
       "    }\n",
       "\n",
       "    .dataframe tbody tr th {\n",
       "        vertical-align: top;\n",
       "    }\n",
       "\n",
       "    .dataframe thead th {\n",
       "        text-align: right;\n",
       "    }\n",
       "</style>\n",
       "<table border=\"1\" class=\"dataframe\">\n",
       "  <thead>\n",
       "    <tr style=\"text-align: right;\">\n",
       "      <th></th>\n",
       "      <th>ID</th>\n",
       "      <th>forest.diff</th>\n",
       "      <th>FID</th>\n",
       "      <th>x</th>\n",
       "      <th>y</th>\n",
       "      <th>year</th>\n",
       "      <th>forest.l</th>\n",
       "      <th>nn_forest.l</th>\n",
       "      <th>rain1</th>\n",
       "      <th>elevation</th>\n",
       "      <th>...</th>\n",
       "      <th>expen_other_agr</th>\n",
       "      <th>expen_agr_defense</th>\n",
       "      <th>expen_min_fuel</th>\n",
       "      <th>illegal_mining</th>\n",
       "      <th>illegal_other</th>\n",
       "      <th>illegal_industry</th>\n",
       "      <th>audits</th>\n",
       "      <th>emiss_pec_full</th>\n",
       "      <th>emiss_agr_full</th>\n",
       "      <th>emiss_agropec_full</th>\n",
       "    </tr>\n",
       "  </thead>\n",
       "  <tbody>\n",
       "    <tr>\n",
       "      <th>0</th>\n",
       "      <td>1100015.0</td>\n",
       "      <td>0.0</td>\n",
       "      <td>8436645</td>\n",
       "      <td>-62.825</td>\n",
       "      <td>-12.925</td>\n",
       "      <td>2002</td>\n",
       "      <td>97.0</td>\n",
       "      <td>85.50</td>\n",
       "      <td>21.81664</td>\n",
       "      <td>154.0</td>\n",
       "      <td>...</td>\n",
       "      <td>0.0</td>\n",
       "      <td>0.0</td>\n",
       "      <td>0.0</td>\n",
       "      <td>0.0</td>\n",
       "      <td>0.0</td>\n",
       "      <td>0.0</td>\n",
       "      <td>0.0</td>\n",
       "      <td>488528.553429</td>\n",
       "      <td>5304.103889</td>\n",
       "      <td>4902816.0</td>\n",
       "    </tr>\n",
       "    <tr>\n",
       "      <th>1</th>\n",
       "      <td>1100015.0</td>\n",
       "      <td>16.0</td>\n",
       "      <td>8436646</td>\n",
       "      <td>-62.825</td>\n",
       "      <td>-12.875</td>\n",
       "      <td>2002</td>\n",
       "      <td>65.0</td>\n",
       "      <td>68.75</td>\n",
       "      <td>22.56391</td>\n",
       "      <td>146.0</td>\n",
       "      <td>...</td>\n",
       "      <td>0.0</td>\n",
       "      <td>0.0</td>\n",
       "      <td>0.0</td>\n",
       "      <td>0.0</td>\n",
       "      <td>0.0</td>\n",
       "      <td>0.0</td>\n",
       "      <td>0.0</td>\n",
       "      <td>488528.553429</td>\n",
       "      <td>5304.103889</td>\n",
       "      <td>4902816.0</td>\n",
       "    </tr>\n",
       "    <tr>\n",
       "      <th>2</th>\n",
       "      <td>1100015.0</td>\n",
       "      <td>5.0</td>\n",
       "      <td>8440244</td>\n",
       "      <td>-62.775</td>\n",
       "      <td>-12.975</td>\n",
       "      <td>2002</td>\n",
       "      <td>92.0</td>\n",
       "      <td>87.75</td>\n",
       "      <td>21.30135</td>\n",
       "      <td>156.0</td>\n",
       "      <td>...</td>\n",
       "      <td>0.0</td>\n",
       "      <td>0.0</td>\n",
       "      <td>0.0</td>\n",
       "      <td>0.0</td>\n",
       "      <td>0.0</td>\n",
       "      <td>0.0</td>\n",
       "      <td>0.0</td>\n",
       "      <td>488528.553429</td>\n",
       "      <td>5304.103889</td>\n",
       "      <td>4902816.0</td>\n",
       "    </tr>\n",
       "    <tr>\n",
       "      <th>3</th>\n",
       "      <td>1100015.0</td>\n",
       "      <td>9.0</td>\n",
       "      <td>8440245</td>\n",
       "      <td>-62.775</td>\n",
       "      <td>-12.925</td>\n",
       "      <td>2002</td>\n",
       "      <td>83.0</td>\n",
       "      <td>73.75</td>\n",
       "      <td>22.10585</td>\n",
       "      <td>156.0</td>\n",
       "      <td>...</td>\n",
       "      <td>0.0</td>\n",
       "      <td>0.0</td>\n",
       "      <td>0.0</td>\n",
       "      <td>0.0</td>\n",
       "      <td>0.0</td>\n",
       "      <td>0.0</td>\n",
       "      <td>0.0</td>\n",
       "      <td>488528.553429</td>\n",
       "      <td>5304.103889</td>\n",
       "      <td>4902816.0</td>\n",
       "    </tr>\n",
       "    <tr>\n",
       "      <th>4</th>\n",
       "      <td>1100015.0</td>\n",
       "      <td>13.0</td>\n",
       "      <td>8443844</td>\n",
       "      <td>-62.725</td>\n",
       "      <td>-12.975</td>\n",
       "      <td>2002</td>\n",
       "      <td>79.0</td>\n",
       "      <td>80.25</td>\n",
       "      <td>20.90614</td>\n",
       "      <td>155.0</td>\n",
       "      <td>...</td>\n",
       "      <td>0.0</td>\n",
       "      <td>0.0</td>\n",
       "      <td>0.0</td>\n",
       "      <td>0.0</td>\n",
       "      <td>0.0</td>\n",
       "      <td>0.0</td>\n",
       "      <td>0.0</td>\n",
       "      <td>488528.553429</td>\n",
       "      <td>5304.103889</td>\n",
       "      <td>4902816.0</td>\n",
       "    </tr>\n",
       "  </tbody>\n",
       "</table>\n",
       "<p>5 rows × 167 columns</p>\n",
       "</div>"
      ],
      "text/plain": [
       "          ID  forest.diff      FID       x       y  year  forest.l  \\\n",
       "0  1100015.0          0.0  8436645 -62.825 -12.925  2002      97.0   \n",
       "1  1100015.0         16.0  8436646 -62.825 -12.875  2002      65.0   \n",
       "2  1100015.0          5.0  8440244 -62.775 -12.975  2002      92.0   \n",
       "3  1100015.0          9.0  8440245 -62.775 -12.925  2002      83.0   \n",
       "4  1100015.0         13.0  8443844 -62.725 -12.975  2002      79.0   \n",
       "\n",
       "   nn_forest.l     rain1  elevation  ...  expen_other_agr  expen_agr_defense  \\\n",
       "0        85.50  21.81664      154.0  ...              0.0                0.0   \n",
       "1        68.75  22.56391      146.0  ...              0.0                0.0   \n",
       "2        87.75  21.30135      156.0  ...              0.0                0.0   \n",
       "3        73.75  22.10585      156.0  ...              0.0                0.0   \n",
       "4        80.25  20.90614      155.0  ...              0.0                0.0   \n",
       "\n",
       "   expen_min_fuel  illegal_mining  illegal_other  illegal_industry  audits  \\\n",
       "0             0.0             0.0            0.0               0.0     0.0   \n",
       "1             0.0             0.0            0.0               0.0     0.0   \n",
       "2             0.0             0.0            0.0               0.0     0.0   \n",
       "3             0.0             0.0            0.0               0.0     0.0   \n",
       "4             0.0             0.0            0.0               0.0     0.0   \n",
       "\n",
       "   emiss_pec_full  emiss_agr_full  emiss_agropec_full  \n",
       "0   488528.553429     5304.103889           4902816.0  \n",
       "1   488528.553429     5304.103889           4902816.0  \n",
       "2   488528.553429     5304.103889           4902816.0  \n",
       "3   488528.553429     5304.103889           4902816.0  \n",
       "4   488528.553429     5304.103889           4902816.0  \n",
       "\n",
       "[5 rows x 167 columns]"
      ]
     },
     "execution_count": 97,
     "metadata": {},
     "output_type": "execute_result"
    }
   ],
   "source": [
    "df.head()"
   ]
  },
  {
   "cell_type": "code",
   "execution_count": 98,
   "id": "82a62b57",
   "metadata": {},
   "outputs": [],
   "source": [
    "df = df[['ID', 'forest.diff', 'FID', 'x', 'y', 'year', 'forest.l', 'rain1', 'elevation', 'slope', 'aspect',\n",
    "       'near_mines', 'near_roads', 'near_hidrovia', 'indigenous_homol',\n",
    "       'mun_election_year', 'new_forest_code', 'lula', 'dilma', 'temer',\n",
    "       'bolsonaro', 'fed_election_year', 'populacao', 'pib_pc', 'ironore',\n",
    "       'silver', 'copper', 'gold', 'soy_price', 'beef_price', 'ag_jobs',\n",
    "       'mining_jobs', 'public_jobs', 'construction_jobs', 'PIB', 'n_companies_AGRICULTURE',\n",
    "       'n_companies_CONSTRUCTION','n_companies_CLEANING AND SEWAGE', 'n_companies_MACHINERY', 'n_companies_MINING',\n",
    "       'n_companies_WOOD PROD',\n",
    "       'n_companies_NON-METALLIC MINERAL PRODUCTS', 'n_companies_HEALTH', 'n_companies_TRANSPORTATION',\n",
    "       'n_companies_GROUND TRANSPORT',\n",
    "       'n_companies_WATER TREATMENT AND DISTRIBUTION',\n",
    "       'n_companies_METALLIC PRODUCTS',\n",
    "       'n_companies_FORESTRY',\n",
    "       'n_companies_PAPER', \n",
    "       'n_companies_OIL AND GAS',\n",
    "       'n_companies_CHEMICALS', \n",
    "       'n_companies_REAL ESTATE', 'n_companies_RECYCLING',\n",
    "       'n_companies_LEATHERS AND FOOTWEAR',\n",
    "       'n_companies_RUBBER AND PLASTIC', 'n_companies_TEXTILES',\n",
    "       'n_companies_AERO TRANSPORT', 'n_companies_SMOKE',\n",
    "       'n_companies_PETROLEUM REFINING', 'n_companies_','n_jobs_AGRICULTURE','n_jobs_CONSTRUCTION','n_jobs_EDUCATION',\n",
    "       'n_jobs_ELECTRICITY AND GAS', \n",
    "       'n_jobs_CLEANING AND SEWAGE', 'n_jobs_MACHINERY',\n",
    "       'n_jobs_BASIC METALLURGY', 'n_jobs_MINING', 'n_jobs_WOOD PROD',\n",
    "       'n_jobs_NON-METALLIC MINERAL PRODUCTS', 'n_jobs_HEALTH',\n",
    "       'n_jobs_TRANSPORTATION', 'n_jobs_GROUND TRANSPORT',\n",
    "       'n_jobs_WATER TREATMENT AND DISTRIBUTION', \n",
    "       'n_jobs_METALLIC PRODUCTS',\n",
    "       'n_jobs_FORESTRY', 'n_jobs_PAPER', 'n_jobs_OIL AND GAS',\n",
    "       'n_jobs_FISHING AND AQUACULTURE', 'n_jobs_CHEMICALS',\n",
    "       'n_jobs_WATER-BASED TRANSPORTATION', 'n_jobs_REAL ESTATE',\n",
    "       'n_jobs_RECYCLING', 'n_jobs_LEATHERS AND FOOTWEAR',\n",
    "       'n_jobs_RUBBER AND PLASTIC', 'n_jobs_TEXTILES','n_jobs_AERO TRANSPORT',\n",
    "       'n_jobs_SMOKE', 'n_jobs_PETROLEUM REFINING', \n",
    "       'n_jobs_TOTAL INDUSTRIAL', 'n_jobs_TOTAL SERVICE',\n",
    "       'n_companies_TOTAL INDUSTRIAL', 'n_companies_TOTAL SERVICE',\n",
    "       'n_companies_TOTAL', 'n_jobs_TOTAL', 'murder_threats',\n",
    "       'assassination', 'assassination_attempt', 'f_emitted_count',\n",
    "       'expen_agri', 'expen_env_man', 'expen_agr_org', 'expen_mining',\n",
    "       'expen_petrol', 'expen_prom_ani_pro', 'expen_prom_veg_pro',\n",
    "       'expen_other_agr', 'expen_agr_defense', 'expen_min_fuel',\n",
    "       'illegal_mining', 'illegal_other', 'illegal_industry', 'audits',\n",
    "       'emiss_pec_full', 'emiss_agr_full', 'emiss_agropec_full']]"
   ]
  },
  {
   "cell_type": "code",
   "execution_count": 99,
   "id": "fb8abc83",
   "metadata": {},
   "outputs": [],
   "source": [
    "#df = df.join(pd.get_dummies(df.genero, prefix = 'gender'))\n",
    "#df = df.join(pd.get_dummies(df.ocupacao, prefix = 'occ'))\n",
    "#df = df.join(pd.get_dummies(df.instrucao, prefix = 'edu'))\n",
    "#df = df.join(pd.get_dummies(df.sigla_partido, prefix = 'party'))"
   ]
  },
  {
   "cell_type": "code",
   "execution_count": 100,
   "id": "ab708c90",
   "metadata": {},
   "outputs": [],
   "source": [
    "#options:\n",
    "#one year to predict the next\n",
    "#one year for its own"
   ]
  },
  {
   "cell_type": "code",
   "execution_count": 720,
   "id": "d3b5a35b",
   "metadata": {},
   "outputs": [],
   "source": [
    "explan_year = 2016\n",
    "response_year = 2003\n",
    "\n",
    "response_temp = df[df.year == response_year][['FID', 'forest.diff']]\n",
    "response_temp.columns = ['FID', 'response_variable']\n",
    "\n",
    "explan_df = pd.merge(df[df.year == explan_year], response_temp, how = 'inner', on = 'FID')"
   ]
  },
  {
   "cell_type": "code",
   "execution_count": 721,
   "id": "8f95792c",
   "metadata": {},
   "outputs": [],
   "source": [
    "#response_df = df[df.year == 2016]\n",
    "\n",
    "#explan_df = df[df.year == 2016]\n",
    "\n",
    "#explan_df = explan_df[~explan_df.duplicated(subset=['FID'], keep = 'last')]\n",
    "#response_df = response_df[~response_df.duplicated(subset=['FID'], keep = 'last')]"
   ]
  },
  {
   "cell_type": "code",
   "execution_count": 722,
   "id": "45850cee",
   "metadata": {},
   "outputs": [
    {
     "name": "stdout",
     "output_type": "stream",
     "text": [
      "160798\n"
     ]
    }
   ],
   "source": [
    "print(explan_df.shape[0])"
   ]
  },
  {
   "cell_type": "code",
   "execution_count": 723,
   "id": "cea0da43",
   "metadata": {},
   "outputs": [],
   "source": [
    "#explan_df = pd.merge(explan_df, response_df[['FID', 'forest.l']], how = 'left', on = 'FID')"
   ]
  },
  {
   "cell_type": "code",
   "execution_count": 724,
   "id": "8ed3ed37",
   "metadata": {},
   "outputs": [
    {
     "data": {
      "text/plain": [
       "160798"
      ]
     },
     "execution_count": 724,
     "metadata": {},
     "output_type": "execute_result"
    }
   ],
   "source": [
    "explan_df.shape[0]"
   ]
  },
  {
   "cell_type": "code",
   "execution_count": 725,
   "id": "5a904f2b",
   "metadata": {},
   "outputs": [
    {
     "data": {
      "text/plain": [
       "array([2002, 2003, 2004, 2005, 2006, 2007, 2008, 2009, 2010, 2011, 2012,\n",
       "       2013, 2014, 2015, 2016])"
      ]
     },
     "execution_count": 725,
     "metadata": {},
     "output_type": "execute_result"
    }
   ],
   "source": [
    "np.unique(df.year)"
   ]
  },
  {
   "cell_type": "code",
   "execution_count": 726,
   "id": "080b189d",
   "metadata": {},
   "outputs": [
    {
     "data": {
      "text/html": [
       "<div>\n",
       "<style scoped>\n",
       "    .dataframe tbody tr th:only-of-type {\n",
       "        vertical-align: middle;\n",
       "    }\n",
       "\n",
       "    .dataframe tbody tr th {\n",
       "        vertical-align: top;\n",
       "    }\n",
       "\n",
       "    .dataframe thead th {\n",
       "        text-align: right;\n",
       "    }\n",
       "</style>\n",
       "<table border=\"1\" class=\"dataframe\">\n",
       "  <thead>\n",
       "    <tr style=\"text-align: right;\">\n",
       "      <th></th>\n",
       "      <th>ID</th>\n",
       "      <th>forest.diff</th>\n",
       "      <th>FID</th>\n",
       "      <th>x</th>\n",
       "      <th>y</th>\n",
       "      <th>year</th>\n",
       "      <th>forest.l</th>\n",
       "      <th>rain1</th>\n",
       "      <th>elevation</th>\n",
       "      <th>slope</th>\n",
       "      <th>...</th>\n",
       "      <th>expen_agr_defense</th>\n",
       "      <th>expen_min_fuel</th>\n",
       "      <th>illegal_mining</th>\n",
       "      <th>illegal_other</th>\n",
       "      <th>illegal_industry</th>\n",
       "      <th>audits</th>\n",
       "      <th>emiss_pec_full</th>\n",
       "      <th>emiss_agr_full</th>\n",
       "      <th>emiss_agropec_full</th>\n",
       "      <th>response_variable</th>\n",
       "    </tr>\n",
       "  </thead>\n",
       "  <tbody>\n",
       "    <tr>\n",
       "      <th>0</th>\n",
       "      <td>1100015.0</td>\n",
       "      <td>0.0</td>\n",
       "      <td>8436645</td>\n",
       "      <td>-62.825</td>\n",
       "      <td>-12.925</td>\n",
       "      <td>2016</td>\n",
       "      <td>87.0</td>\n",
       "      <td>22.84262</td>\n",
       "      <td>154.0</td>\n",
       "      <td>0.0</td>\n",
       "      <td>...</td>\n",
       "      <td>0.0</td>\n",
       "      <td>0.0</td>\n",
       "      <td>0.0</td>\n",
       "      <td>0.0</td>\n",
       "      <td>0.0</td>\n",
       "      <td>1.0</td>\n",
       "      <td>753215.23692</td>\n",
       "      <td>8479.297773</td>\n",
       "      <td>761694.534692</td>\n",
       "      <td>-13.0</td>\n",
       "    </tr>\n",
       "    <tr>\n",
       "      <th>1</th>\n",
       "      <td>1100015.0</td>\n",
       "      <td>16.0</td>\n",
       "      <td>8436646</td>\n",
       "      <td>-62.825</td>\n",
       "      <td>-12.875</td>\n",
       "      <td>2016</td>\n",
       "      <td>75.0</td>\n",
       "      <td>23.28390</td>\n",
       "      <td>146.0</td>\n",
       "      <td>0.0</td>\n",
       "      <td>...</td>\n",
       "      <td>0.0</td>\n",
       "      <td>0.0</td>\n",
       "      <td>0.0</td>\n",
       "      <td>0.0</td>\n",
       "      <td>0.0</td>\n",
       "      <td>1.0</td>\n",
       "      <td>753215.23692</td>\n",
       "      <td>8479.297773</td>\n",
       "      <td>761694.534692</td>\n",
       "      <td>-33.0</td>\n",
       "    </tr>\n",
       "    <tr>\n",
       "      <th>2</th>\n",
       "      <td>1100015.0</td>\n",
       "      <td>0.0</td>\n",
       "      <td>8440244</td>\n",
       "      <td>-62.775</td>\n",
       "      <td>-12.975</td>\n",
       "      <td>2016</td>\n",
       "      <td>84.0</td>\n",
       "      <td>22.99245</td>\n",
       "      <td>156.0</td>\n",
       "      <td>0.0</td>\n",
       "      <td>...</td>\n",
       "      <td>0.0</td>\n",
       "      <td>0.0</td>\n",
       "      <td>0.0</td>\n",
       "      <td>0.0</td>\n",
       "      <td>0.0</td>\n",
       "      <td>1.0</td>\n",
       "      <td>753215.23692</td>\n",
       "      <td>8479.297773</td>\n",
       "      <td>761694.534692</td>\n",
       "      <td>-5.0</td>\n",
       "    </tr>\n",
       "    <tr>\n",
       "      <th>3</th>\n",
       "      <td>1100015.0</td>\n",
       "      <td>0.0</td>\n",
       "      <td>8440245</td>\n",
       "      <td>-62.775</td>\n",
       "      <td>-12.925</td>\n",
       "      <td>2016</td>\n",
       "      <td>97.0</td>\n",
       "      <td>23.08443</td>\n",
       "      <td>156.0</td>\n",
       "      <td>0.0</td>\n",
       "      <td>...</td>\n",
       "      <td>0.0</td>\n",
       "      <td>0.0</td>\n",
       "      <td>0.0</td>\n",
       "      <td>0.0</td>\n",
       "      <td>0.0</td>\n",
       "      <td>1.0</td>\n",
       "      <td>753215.23692</td>\n",
       "      <td>8479.297773</td>\n",
       "      <td>761694.534692</td>\n",
       "      <td>-14.0</td>\n",
       "    </tr>\n",
       "    <tr>\n",
       "      <th>4</th>\n",
       "      <td>1100015.0</td>\n",
       "      <td>-1.0</td>\n",
       "      <td>8443844</td>\n",
       "      <td>-62.725</td>\n",
       "      <td>-12.975</td>\n",
       "      <td>2016</td>\n",
       "      <td>92.0</td>\n",
       "      <td>22.24266</td>\n",
       "      <td>155.0</td>\n",
       "      <td>0.0</td>\n",
       "      <td>...</td>\n",
       "      <td>0.0</td>\n",
       "      <td>0.0</td>\n",
       "      <td>0.0</td>\n",
       "      <td>0.0</td>\n",
       "      <td>0.0</td>\n",
       "      <td>1.0</td>\n",
       "      <td>753215.23692</td>\n",
       "      <td>8479.297773</td>\n",
       "      <td>761694.534692</td>\n",
       "      <td>-15.0</td>\n",
       "    </tr>\n",
       "  </tbody>\n",
       "</table>\n",
       "<p>5 rows × 117 columns</p>\n",
       "</div>"
      ],
      "text/plain": [
       "          ID  forest.diff      FID       x       y  year  forest.l     rain1  \\\n",
       "0  1100015.0          0.0  8436645 -62.825 -12.925  2016      87.0  22.84262   \n",
       "1  1100015.0         16.0  8436646 -62.825 -12.875  2016      75.0  23.28390   \n",
       "2  1100015.0          0.0  8440244 -62.775 -12.975  2016      84.0  22.99245   \n",
       "3  1100015.0          0.0  8440245 -62.775 -12.925  2016      97.0  23.08443   \n",
       "4  1100015.0         -1.0  8443844 -62.725 -12.975  2016      92.0  22.24266   \n",
       "\n",
       "   elevation  slope  ...  expen_agr_defense  expen_min_fuel  illegal_mining  \\\n",
       "0      154.0    0.0  ...                0.0             0.0             0.0   \n",
       "1      146.0    0.0  ...                0.0             0.0             0.0   \n",
       "2      156.0    0.0  ...                0.0             0.0             0.0   \n",
       "3      156.0    0.0  ...                0.0             0.0             0.0   \n",
       "4      155.0    0.0  ...                0.0             0.0             0.0   \n",
       "\n",
       "   illegal_other  illegal_industry  audits  emiss_pec_full  emiss_agr_full  \\\n",
       "0            0.0               0.0     1.0    753215.23692     8479.297773   \n",
       "1            0.0               0.0     1.0    753215.23692     8479.297773   \n",
       "2            0.0               0.0     1.0    753215.23692     8479.297773   \n",
       "3            0.0               0.0     1.0    753215.23692     8479.297773   \n",
       "4            0.0               0.0     1.0    753215.23692     8479.297773   \n",
       "\n",
       "   emiss_agropec_full  response_variable  \n",
       "0       761694.534692              -13.0  \n",
       "1       761694.534692              -33.0  \n",
       "2       761694.534692               -5.0  \n",
       "3       761694.534692              -14.0  \n",
       "4       761694.534692              -15.0  \n",
       "\n",
       "[5 rows x 117 columns]"
      ]
     },
     "execution_count": 726,
     "metadata": {},
     "output_type": "execute_result"
    }
   ],
   "source": [
    "explan_df.head()"
   ]
  },
  {
   "cell_type": "code",
   "execution_count": 727,
   "id": "db6d035a",
   "metadata": {},
   "outputs": [],
   "source": [
    "Y = explan_df['response_variable']\n",
    "\n",
    "X = explan_df[['rain1', 'elevation', 'slope', 'aspect',\n",
    "       'near_mines', 'near_roads', 'near_hidrovia', 'indigenous_homol',\n",
    "       'mun_election_year', 'new_forest_code', 'lula', 'dilma', 'temer',\n",
    "       'bolsonaro', 'fed_election_year', 'populacao', 'pib_pc', 'ironore',\n",
    "       'silver', 'copper', 'gold', 'soy_price', 'beef_price', 'ag_jobs',\n",
    "       'mining_jobs', 'public_jobs', 'construction_jobs', 'PIB', 'n_companies_AGRICULTURE',\n",
    "       'n_companies_CONSTRUCTION','n_companies_CLEANING AND SEWAGE', 'n_companies_MACHINERY', 'n_companies_MINING',\n",
    "       'n_companies_WOOD PROD',\n",
    "       'n_companies_NON-METALLIC MINERAL PRODUCTS', 'n_companies_HEALTH', 'n_companies_TRANSPORTATION',\n",
    "       'n_companies_GROUND TRANSPORT',\n",
    "       'n_companies_WATER TREATMENT AND DISTRIBUTION',\n",
    "       'n_companies_METALLIC PRODUCTS',\n",
    "       'n_companies_FORESTRY',\n",
    "       'n_companies_PAPER', \n",
    "       'n_companies_OIL AND GAS',\n",
    "       'n_companies_CHEMICALS', \n",
    "       'n_companies_REAL ESTATE', 'n_companies_RECYCLING',\n",
    "       'n_companies_LEATHERS AND FOOTWEAR',\n",
    "       'n_companies_RUBBER AND PLASTIC', 'n_companies_TEXTILES',\n",
    "       'n_companies_AERO TRANSPORT', 'n_companies_SMOKE',\n",
    "       'n_companies_PETROLEUM REFINING', 'n_companies_','n_jobs_AGRICULTURE','n_jobs_CONSTRUCTION','n_jobs_EDUCATION',\n",
    "       'n_jobs_ELECTRICITY AND GAS', \n",
    "       'n_jobs_CLEANING AND SEWAGE', 'n_jobs_MACHINERY',\n",
    "       'n_jobs_BASIC METALLURGY', 'n_jobs_MINING', 'n_jobs_WOOD PROD',\n",
    "       'n_jobs_NON-METALLIC MINERAL PRODUCTS', 'n_jobs_HEALTH',\n",
    "       'n_jobs_TRANSPORTATION', 'n_jobs_GROUND TRANSPORT',\n",
    "       'n_jobs_WATER TREATMENT AND DISTRIBUTION', \n",
    "       'n_jobs_METALLIC PRODUCTS',\n",
    "       'n_jobs_FORESTRY', 'n_jobs_PAPER', 'n_jobs_OIL AND GAS',\n",
    "       'n_jobs_FISHING AND AQUACULTURE', 'n_jobs_CHEMICALS',\n",
    "       'n_jobs_WATER-BASED TRANSPORTATION', 'n_jobs_REAL ESTATE',\n",
    "       'n_jobs_RECYCLING', 'n_jobs_LEATHERS AND FOOTWEAR',\n",
    "       'n_jobs_RUBBER AND PLASTIC', 'n_jobs_TEXTILES','n_jobs_AERO TRANSPORT',\n",
    "       'n_jobs_SMOKE', 'n_jobs_PETROLEUM REFINING', \n",
    "       'n_jobs_TOTAL INDUSTRIAL', 'n_jobs_TOTAL SERVICE',\n",
    "       'n_companies_TOTAL INDUSTRIAL', 'n_companies_TOTAL SERVICE',\n",
    "       'n_companies_TOTAL', 'n_jobs_TOTAL', 'murder_threats',\n",
    "       'assassination', 'assassination_attempt', 'f_emitted_count',\n",
    "       'expen_agri', 'expen_env_man', 'expen_agr_org', 'expen_mining',\n",
    "       'expen_petrol', 'expen_prom_ani_pro', 'expen_prom_veg_pro',\n",
    "       'expen_other_agr', 'expen_agr_defense', 'expen_min_fuel',\n",
    "       'illegal_mining', 'illegal_other', 'illegal_industry', 'audits',\n",
    "       'emiss_pec_full', 'emiss_agr_full', 'emiss_agropec_full']]"
   ]
  },
  {
   "cell_type": "code",
   "execution_count": 728,
   "id": "e45bbcc8",
   "metadata": {},
   "outputs": [],
   "source": [
    "#test train split\n",
    "X_train, X_test, Y_train, Y_test = train_test_split(X, Y, test_size = 0.3, random_state=42)"
   ]
  },
  {
   "cell_type": "code",
   "execution_count": 729,
   "id": "adb2c0ba",
   "metadata": {},
   "outputs": [],
   "source": [
    "X_corr = X"
   ]
  },
  {
   "cell_type": "markdown",
   "id": "642a68a2",
   "metadata": {},
   "source": [
    "## Covariance"
   ]
  },
  {
   "cell_type": "code",
   "execution_count": 730,
   "id": "60f5c022",
   "metadata": {},
   "outputs": [],
   "source": [
    "#corr = X.corr()\n",
    "#corr.style.background_gradient(cmap = 'coolwarm')"
   ]
  },
  {
   "cell_type": "code",
   "execution_count": null,
   "id": "4c294408",
   "metadata": {},
   "outputs": [],
   "source": []
  },
  {
   "cell_type": "markdown",
   "id": "aa7a9302",
   "metadata": {},
   "source": [
    "## NMF"
   ]
  },
  {
   "cell_type": "code",
   "execution_count": 731,
   "id": "7a952e62",
   "metadata": {},
   "outputs": [],
   "source": [
    "from sklearn.decomposition import NMF"
   ]
  },
  {
   "cell_type": "code",
   "execution_count": 732,
   "id": "fdc506f2",
   "metadata": {},
   "outputs": [
    {
     "data": {
      "text/plain": [
       "0.0"
      ]
     },
     "execution_count": 732,
     "metadata": {},
     "output_type": "execute_result"
    }
   ],
   "source": [
    "X.min().min()"
   ]
  },
  {
   "cell_type": "code",
   "execution_count": 733,
   "id": "10731037",
   "metadata": {},
   "outputs": [],
   "source": [
    "Y_shift = Y + X.min().min()"
   ]
  },
  {
   "cell_type": "code",
   "execution_count": 734,
   "id": "933cbf90",
   "metadata": {},
   "outputs": [],
   "source": [
    "X_shift = X + abs(X.min().min())"
   ]
  },
  {
   "cell_type": "code",
   "execution_count": 735,
   "id": "cb22783b",
   "metadata": {},
   "outputs": [
    {
     "data": {
      "text/plain": [
       "0.0"
      ]
     },
     "execution_count": 735,
     "metadata": {},
     "output_type": "execute_result"
    }
   ],
   "source": [
    "X.min().min()"
   ]
  },
  {
   "cell_type": "code",
   "execution_count": 736,
   "id": "4dfb8ba8",
   "metadata": {},
   "outputs": [],
   "source": [
    "#instantiate NMF model and fit to our X matrix\n",
    "model = NMF(n_components=4)\n",
    "model.fit(X_shift)\n",
    "\n",
    "#extract W and H from the model that we've just fit\n",
    "W = model.transform(X_shift)\n",
    "H = model.components_"
   ]
  },
  {
   "cell_type": "code",
   "execution_count": null,
   "id": "e009087b",
   "metadata": {},
   "outputs": [],
   "source": []
  },
  {
   "cell_type": "code",
   "execution_count": 737,
   "id": "74de75de",
   "metadata": {},
   "outputs": [
    {
     "data": {
      "text/html": [
       "<div>\n",
       "<style scoped>\n",
       "    .dataframe tbody tr th:only-of-type {\n",
       "        vertical-align: middle;\n",
       "    }\n",
       "\n",
       "    .dataframe tbody tr th {\n",
       "        vertical-align: top;\n",
       "    }\n",
       "\n",
       "    .dataframe thead th {\n",
       "        text-align: right;\n",
       "    }\n",
       "</style>\n",
       "<table border=\"1\" class=\"dataframe\">\n",
       "  <thead>\n",
       "    <tr style=\"text-align: right;\">\n",
       "      <th></th>\n",
       "      <th>rain1</th>\n",
       "      <th>elevation</th>\n",
       "      <th>slope</th>\n",
       "      <th>aspect</th>\n",
       "      <th>near_mines</th>\n",
       "      <th>near_roads</th>\n",
       "      <th>near_hidrovia</th>\n",
       "      <th>indigenous_homol</th>\n",
       "      <th>mun_election_year</th>\n",
       "      <th>new_forest_code</th>\n",
       "      <th>...</th>\n",
       "      <th>expen_other_agr</th>\n",
       "      <th>expen_agr_defense</th>\n",
       "      <th>expen_min_fuel</th>\n",
       "      <th>illegal_mining</th>\n",
       "      <th>illegal_other</th>\n",
       "      <th>illegal_industry</th>\n",
       "      <th>audits</th>\n",
       "      <th>emiss_pec_full</th>\n",
       "      <th>emiss_agr_full</th>\n",
       "      <th>emiss_agropec_full</th>\n",
       "    </tr>\n",
       "  </thead>\n",
       "  <tbody>\n",
       "    <tr>\n",
       "      <th>0</th>\n",
       "      <td>0.000000</td>\n",
       "      <td>0.000000</td>\n",
       "      <td>0.000000</td>\n",
       "      <td>0.000000</td>\n",
       "      <td>0.000000e+00</td>\n",
       "      <td>0.000000</td>\n",
       "      <td>0.000000e+00</td>\n",
       "      <td>0.000000</td>\n",
       "      <td>0.000000</td>\n",
       "      <td>0.000000</td>\n",
       "      <td>...</td>\n",
       "      <td>0.000000</td>\n",
       "      <td>0.000000</td>\n",
       "      <td>0.0</td>\n",
       "      <td>0.000000</td>\n",
       "      <td>0.000000</td>\n",
       "      <td>20.912898</td>\n",
       "      <td>0.000000</td>\n",
       "      <td>0.000000e+00</td>\n",
       "      <td>0.000000</td>\n",
       "      <td>0.000000e+00</td>\n",
       "    </tr>\n",
       "    <tr>\n",
       "      <th>1</th>\n",
       "      <td>0.000000</td>\n",
       "      <td>0.000000</td>\n",
       "      <td>0.000000</td>\n",
       "      <td>0.000000</td>\n",
       "      <td>0.000000e+00</td>\n",
       "      <td>0.000000</td>\n",
       "      <td>0.000000e+00</td>\n",
       "      <td>0.000000</td>\n",
       "      <td>0.000000</td>\n",
       "      <td>0.000000</td>\n",
       "      <td>...</td>\n",
       "      <td>0.000000</td>\n",
       "      <td>0.000000</td>\n",
       "      <td>0.0</td>\n",
       "      <td>0.000000</td>\n",
       "      <td>0.000000</td>\n",
       "      <td>0.646616</td>\n",
       "      <td>0.000000</td>\n",
       "      <td>0.000000e+00</td>\n",
       "      <td>33.252932</td>\n",
       "      <td>0.000000e+00</td>\n",
       "    </tr>\n",
       "    <tr>\n",
       "      <th>2</th>\n",
       "      <td>0.000000</td>\n",
       "      <td>0.000000</td>\n",
       "      <td>0.000000</td>\n",
       "      <td>0.000000</td>\n",
       "      <td>0.000000e+00</td>\n",
       "      <td>0.000000</td>\n",
       "      <td>0.000000e+00</td>\n",
       "      <td>0.000000</td>\n",
       "      <td>0.000000</td>\n",
       "      <td>0.000000</td>\n",
       "      <td>...</td>\n",
       "      <td>0.000000</td>\n",
       "      <td>0.000000</td>\n",
       "      <td>0.0</td>\n",
       "      <td>0.000000</td>\n",
       "      <td>0.000000</td>\n",
       "      <td>0.000000</td>\n",
       "      <td>0.026088</td>\n",
       "      <td>0.000000e+00</td>\n",
       "      <td>307.745374</td>\n",
       "      <td>0.000000e+00</td>\n",
       "    </tr>\n",
       "    <tr>\n",
       "      <th>3</th>\n",
       "      <td>414.814243</td>\n",
       "      <td>3274.155516</td>\n",
       "      <td>11.449276</td>\n",
       "      <td>2521.216184</td>\n",
       "      <td>1.969430e+06</td>\n",
       "      <td>958343.839359</td>\n",
       "      <td>1.001703e+06</td>\n",
       "      <td>3.032938</td>\n",
       "      <td>14.402132</td>\n",
       "      <td>14.402132</td>\n",
       "      <td>...</td>\n",
       "      <td>235754.356991</td>\n",
       "      <td>148441.700511</td>\n",
       "      <td>0.0</td>\n",
       "      <td>17066.745807</td>\n",
       "      <td>0.259736</td>\n",
       "      <td>6439.084911</td>\n",
       "      <td>4.881304</td>\n",
       "      <td>1.050407e+07</td>\n",
       "      <td>509267.537288</td>\n",
       "      <td>1.102014e+07</td>\n",
       "    </tr>\n",
       "  </tbody>\n",
       "</table>\n",
       "<p>4 rows × 109 columns</p>\n",
       "</div>"
      ],
      "text/plain": [
       "        rain1    elevation      slope       aspect    near_mines  \\\n",
       "0    0.000000     0.000000   0.000000     0.000000  0.000000e+00   \n",
       "1    0.000000     0.000000   0.000000     0.000000  0.000000e+00   \n",
       "2    0.000000     0.000000   0.000000     0.000000  0.000000e+00   \n",
       "3  414.814243  3274.155516  11.449276  2521.216184  1.969430e+06   \n",
       "\n",
       "      near_roads  near_hidrovia  indigenous_homol  mun_election_year  \\\n",
       "0       0.000000   0.000000e+00          0.000000           0.000000   \n",
       "1       0.000000   0.000000e+00          0.000000           0.000000   \n",
       "2       0.000000   0.000000e+00          0.000000           0.000000   \n",
       "3  958343.839359   1.001703e+06          3.032938          14.402132   \n",
       "\n",
       "   new_forest_code  ...  expen_other_agr  expen_agr_defense  expen_min_fuel  \\\n",
       "0         0.000000  ...         0.000000           0.000000             0.0   \n",
       "1         0.000000  ...         0.000000           0.000000             0.0   \n",
       "2         0.000000  ...         0.000000           0.000000             0.0   \n",
       "3        14.402132  ...    235754.356991      148441.700511             0.0   \n",
       "\n",
       "   illegal_mining  illegal_other  illegal_industry    audits  emiss_pec_full  \\\n",
       "0        0.000000       0.000000         20.912898  0.000000    0.000000e+00   \n",
       "1        0.000000       0.000000          0.646616  0.000000    0.000000e+00   \n",
       "2        0.000000       0.000000          0.000000  0.026088    0.000000e+00   \n",
       "3    17066.745807       0.259736       6439.084911  4.881304    1.050407e+07   \n",
       "\n",
       "   emiss_agr_full  emiss_agropec_full  \n",
       "0        0.000000        0.000000e+00  \n",
       "1       33.252932        0.000000e+00  \n",
       "2      307.745374        0.000000e+00  \n",
       "3   509267.537288        1.102014e+07  \n",
       "\n",
       "[4 rows x 109 columns]"
      ]
     },
     "execution_count": 737,
     "metadata": {},
     "output_type": "execute_result"
    }
   ],
   "source": [
    "# Create a DataFrame: components_df, this is H, topics are the rows\n",
    "H_df = pd.DataFrame(H, columns = X_shift.columns)\n",
    "H_df"
   ]
  },
  {
   "cell_type": "code",
   "execution_count": 738,
   "id": "a78ccb4b",
   "metadata": {},
   "outputs": [
    {
     "name": "stdout",
     "output_type": "stream",
     "text": [
      "For basis vector 1 the variables with the highest importance are:\n",
      "expen_env_man       2.445691e+06\n",
      "PIB                 1.616115e+06\n",
      "expen_agri          3.966520e+05\n",
      "illegal_industry    2.091290e+01\n",
      "murder_threats      5.121973e-01\n",
      "Name: 0, dtype: float64\n",
      "\n",
      "\n",
      "For basis vector 2 the variables with the highest importance are:\n",
      "PIB                        9.308823e+06\n",
      "expen_agri                 9.291976e+03\n",
      "expen_env_man              7.088111e+03\n",
      "emiss_agr_full             3.325293e+01\n",
      "n_jobs_TOTAL INDUSTRIAL    7.657468e+00\n",
      "Name: 1, dtype: float64\n",
      "\n",
      "\n",
      "For basis vector 3 the variables with the highest importance are:\n",
      "PIB              1.962589e+09\n",
      "expen_agri       2.599691e+05\n",
      "populacao        6.074320e+04\n",
      "expen_env_man    3.181376e+04\n",
      "n_jobs_TOTAL     1.548229e+04\n",
      "Name: 2, dtype: float64\n",
      "\n",
      "\n",
      "For basis vector 4 the variables with the highest importance are:\n",
      "PIB                   1.665115e+10\n",
      "gold                  5.783360e+08\n",
      "expen_env_man         1.548868e+08\n",
      "expen_agri            1.126116e+08\n",
      "emiss_agropec_full    1.102014e+07\n",
      "Name: 3, dtype: float64\n",
      "\n",
      "\n"
     ]
    }
   ],
   "source": [
    "for topic in range(H_df.shape[0]):\n",
    "    tmp = H_df.iloc[topic]\n",
    "    print(f'For basis vector {topic+1} the variables with the highest importance are:')\n",
    "    print(tmp.nlargest(5))\n",
    "    print('\\n')"
   ]
  },
  {
   "cell_type": "markdown",
   "id": "df3f858e",
   "metadata": {},
   "source": [
    "## Random Forests"
   ]
  },
  {
   "cell_type": "markdown",
   "id": "7a606cac",
   "metadata": {},
   "source": [
    "5.1.2. Random Forests. Random Forests are ensembles of many decision trees, where each one of them is a sequence of rules that divides the sample into sub-groups (called leaves) based on certain variable cutoffs. The prediction for each leaf, in the case of a classification task, is the most common outcome for the trained observations on that leaf, and the trees are fit so as to maximize the information gain of the resulting partitions of the data. Each tree in a Random Forest is constructed by sampling a random subset of the training data and a random subset of the predictors. Each of these trees generates a prediction, and the overall prediction of the Random Forest is the average (or the majority) of the predictions among all trees. **In this application, we keep fixed the number of fitted trees (500) and use cross-validation to determine the optimal number of features available in every node.**\n",
    "\n",
    "**Here I tuned max_depth. This isn't exactly what they did, but there's not as much flexiblity in sklearn as far as I can tell**\n",
    "\n",
    "For tree-based models, importance is measured as the information gain, or the homogeneity in the resulting partitions of our set of municipalities, achieved when splitting on each variable."
   ]
  },
  {
   "cell_type": "code",
   "execution_count": 548,
   "id": "9efa7337",
   "metadata": {},
   "outputs": [],
   "source": [
    "from sklearn.ensemble import RandomForestRegressor\n",
    "from sklearn.pipeline import Pipeline\n",
    "from sklearn.model_selection import GridSearchCV\n",
    "from sklearn.preprocessing import StandardScaler\n",
    "\n",
    "\n",
    "#from sklearn.inspection import permutation_importance"
   ]
  },
  {
   "cell_type": "code",
   "execution_count": 549,
   "id": "f55ef058",
   "metadata": {},
   "outputs": [],
   "source": [
    "pipeline = Pipeline([\n",
    "                     ('scaler',StandardScaler()),\n",
    "                     ('model',RandomForestRegressor(n_estimators = 500))\n",
    "])"
   ]
  },
  {
   "cell_type": "code",
   "execution_count": 550,
   "id": "279fa224",
   "metadata": {},
   "outputs": [],
   "source": [
    "search = GridSearchCV(pipeline,\n",
    "                      {'model__max_depth':np.arange(3,11,8) },\n",
    "                      cv = 5, scoring = \"neg_mean_squared_error\",verbose = 3\n",
    "                      )"
   ]
  },
  {
   "cell_type": "code",
   "execution_count": 551,
   "id": "6579b3c1",
   "metadata": {},
   "outputs": [
    {
     "name": "stdout",
     "output_type": "stream",
     "text": [
      "Fitting 5 folds for each of 1 candidates, totalling 5 fits\n",
      "[CV 1/5] END ..............model__max_depth=3;, score=-89.628 total time= 2.3min\n",
      "[CV 2/5] END ..............model__max_depth=3;, score=-88.639 total time= 2.0min\n",
      "[CV 3/5] END ..............model__max_depth=3;, score=-90.383 total time= 2.1min\n",
      "[CV 4/5] END ..............model__max_depth=3;, score=-89.378 total time= 2.2min\n",
      "[CV 5/5] END ..............model__max_depth=3;, score=-88.008 total time= 2.2min\n"
     ]
    },
    {
     "data": {
      "text/html": [
       "<style>#sk-container-id-42 {color: black;background-color: white;}#sk-container-id-42 pre{padding: 0;}#sk-container-id-42 div.sk-toggleable {background-color: white;}#sk-container-id-42 label.sk-toggleable__label {cursor: pointer;display: block;width: 100%;margin-bottom: 0;padding: 0.3em;box-sizing: border-box;text-align: center;}#sk-container-id-42 label.sk-toggleable__label-arrow:before {content: \"▸\";float: left;margin-right: 0.25em;color: #696969;}#sk-container-id-42 label.sk-toggleable__label-arrow:hover:before {color: black;}#sk-container-id-42 div.sk-estimator:hover label.sk-toggleable__label-arrow:before {color: black;}#sk-container-id-42 div.sk-toggleable__content {max-height: 0;max-width: 0;overflow: hidden;text-align: left;background-color: #f0f8ff;}#sk-container-id-42 div.sk-toggleable__content pre {margin: 0.2em;color: black;border-radius: 0.25em;background-color: #f0f8ff;}#sk-container-id-42 input.sk-toggleable__control:checked~div.sk-toggleable__content {max-height: 200px;max-width: 100%;overflow: auto;}#sk-container-id-42 input.sk-toggleable__control:checked~label.sk-toggleable__label-arrow:before {content: \"▾\";}#sk-container-id-42 div.sk-estimator input.sk-toggleable__control:checked~label.sk-toggleable__label {background-color: #d4ebff;}#sk-container-id-42 div.sk-label input.sk-toggleable__control:checked~label.sk-toggleable__label {background-color: #d4ebff;}#sk-container-id-42 input.sk-hidden--visually {border: 0;clip: rect(1px 1px 1px 1px);clip: rect(1px, 1px, 1px, 1px);height: 1px;margin: -1px;overflow: hidden;padding: 0;position: absolute;width: 1px;}#sk-container-id-42 div.sk-estimator {font-family: monospace;background-color: #f0f8ff;border: 1px dotted black;border-radius: 0.25em;box-sizing: border-box;margin-bottom: 0.5em;}#sk-container-id-42 div.sk-estimator:hover {background-color: #d4ebff;}#sk-container-id-42 div.sk-parallel-item::after {content: \"\";width: 100%;border-bottom: 1px solid gray;flex-grow: 1;}#sk-container-id-42 div.sk-label:hover label.sk-toggleable__label {background-color: #d4ebff;}#sk-container-id-42 div.sk-serial::before {content: \"\";position: absolute;border-left: 1px solid gray;box-sizing: border-box;top: 0;bottom: 0;left: 50%;z-index: 0;}#sk-container-id-42 div.sk-serial {display: flex;flex-direction: column;align-items: center;background-color: white;padding-right: 0.2em;padding-left: 0.2em;position: relative;}#sk-container-id-42 div.sk-item {position: relative;z-index: 1;}#sk-container-id-42 div.sk-parallel {display: flex;align-items: stretch;justify-content: center;background-color: white;position: relative;}#sk-container-id-42 div.sk-item::before, #sk-container-id-42 div.sk-parallel-item::before {content: \"\";position: absolute;border-left: 1px solid gray;box-sizing: border-box;top: 0;bottom: 0;left: 50%;z-index: -1;}#sk-container-id-42 div.sk-parallel-item {display: flex;flex-direction: column;z-index: 1;position: relative;background-color: white;}#sk-container-id-42 div.sk-parallel-item:first-child::after {align-self: flex-end;width: 50%;}#sk-container-id-42 div.sk-parallel-item:last-child::after {align-self: flex-start;width: 50%;}#sk-container-id-42 div.sk-parallel-item:only-child::after {width: 0;}#sk-container-id-42 div.sk-dashed-wrapped {border: 1px dashed gray;margin: 0 0.4em 0.5em 0.4em;box-sizing: border-box;padding-bottom: 0.4em;background-color: white;}#sk-container-id-42 div.sk-label label {font-family: monospace;font-weight: bold;display: inline-block;line-height: 1.2em;}#sk-container-id-42 div.sk-label-container {text-align: center;}#sk-container-id-42 div.sk-container {/* jupyter's `normalize.less` sets `[hidden] { display: none; }` but bootstrap.min.css set `[hidden] { display: none !important; }` so we also need the `!important` here to be able to override the default hidden behavior on the sphinx rendered scikit-learn.org. See: https://github.com/scikit-learn/scikit-learn/issues/21755 */display: inline-block !important;position: relative;}#sk-container-id-42 div.sk-text-repr-fallback {display: none;}</style><div id=\"sk-container-id-42\" class=\"sk-top-container\"><div class=\"sk-text-repr-fallback\"><pre>GridSearchCV(cv=5,\n",
       "             estimator=Pipeline(steps=[(&#x27;scaler&#x27;, StandardScaler()),\n",
       "                                       (&#x27;model&#x27;,\n",
       "                                        RandomForestRegressor(n_estimators=500))]),\n",
       "             param_grid={&#x27;model__max_depth&#x27;: array([3])},\n",
       "             scoring=&#x27;neg_mean_squared_error&#x27;, verbose=3)</pre><b>In a Jupyter environment, please rerun this cell to show the HTML representation or trust the notebook. <br />On GitHub, the HTML representation is unable to render, please try loading this page with nbviewer.org.</b></div><div class=\"sk-container\" hidden><div class=\"sk-item sk-dashed-wrapped\"><div class=\"sk-label-container\"><div class=\"sk-label sk-toggleable\"><input class=\"sk-toggleable__control sk-hidden--visually\" id=\"sk-estimator-id-129\" type=\"checkbox\" ><label for=\"sk-estimator-id-129\" class=\"sk-toggleable__label sk-toggleable__label-arrow\">GridSearchCV</label><div class=\"sk-toggleable__content\"><pre>GridSearchCV(cv=5,\n",
       "             estimator=Pipeline(steps=[(&#x27;scaler&#x27;, StandardScaler()),\n",
       "                                       (&#x27;model&#x27;,\n",
       "                                        RandomForestRegressor(n_estimators=500))]),\n",
       "             param_grid={&#x27;model__max_depth&#x27;: array([3])},\n",
       "             scoring=&#x27;neg_mean_squared_error&#x27;, verbose=3)</pre></div></div></div><div class=\"sk-parallel\"><div class=\"sk-parallel-item\"><div class=\"sk-item\"><div class=\"sk-label-container\"><div class=\"sk-label sk-toggleable\"><input class=\"sk-toggleable__control sk-hidden--visually\" id=\"sk-estimator-id-130\" type=\"checkbox\" ><label for=\"sk-estimator-id-130\" class=\"sk-toggleable__label sk-toggleable__label-arrow\">estimator: Pipeline</label><div class=\"sk-toggleable__content\"><pre>Pipeline(steps=[(&#x27;scaler&#x27;, StandardScaler()),\n",
       "                (&#x27;model&#x27;, RandomForestRegressor(n_estimators=500))])</pre></div></div></div><div class=\"sk-serial\"><div class=\"sk-item\"><div class=\"sk-serial\"><div class=\"sk-item\"><div class=\"sk-estimator sk-toggleable\"><input class=\"sk-toggleable__control sk-hidden--visually\" id=\"sk-estimator-id-131\" type=\"checkbox\" ><label for=\"sk-estimator-id-131\" class=\"sk-toggleable__label sk-toggleable__label-arrow\">StandardScaler</label><div class=\"sk-toggleable__content\"><pre>StandardScaler()</pre></div></div></div><div class=\"sk-item\"><div class=\"sk-estimator sk-toggleable\"><input class=\"sk-toggleable__control sk-hidden--visually\" id=\"sk-estimator-id-132\" type=\"checkbox\" ><label for=\"sk-estimator-id-132\" class=\"sk-toggleable__label sk-toggleable__label-arrow\">RandomForestRegressor</label><div class=\"sk-toggleable__content\"><pre>RandomForestRegressor(n_estimators=500)</pre></div></div></div></div></div></div></div></div></div></div></div></div>"
      ],
      "text/plain": [
       "GridSearchCV(cv=5,\n",
       "             estimator=Pipeline(steps=[('scaler', StandardScaler()),\n",
       "                                       ('model',\n",
       "                                        RandomForestRegressor(n_estimators=500))]),\n",
       "             param_grid={'model__max_depth': array([3])},\n",
       "             scoring='neg_mean_squared_error', verbose=3)"
      ]
     },
     "execution_count": 551,
     "metadata": {},
     "output_type": "execute_result"
    }
   ],
   "source": [
    "search.fit(X_train,Y_train)"
   ]
  },
  {
   "cell_type": "code",
   "execution_count": 552,
   "id": "00ef7ad3",
   "metadata": {},
   "outputs": [
    {
     "data": {
      "text/plain": [
       "{'model__max_depth': 3}"
      ]
     },
     "execution_count": 552,
     "metadata": {},
     "output_type": "execute_result"
    }
   ],
   "source": [
    "search.best_params_"
   ]
  },
  {
   "cell_type": "code",
   "execution_count": 553,
   "id": "97d4d158",
   "metadata": {},
   "outputs": [
    {
     "data": {
      "text/html": [
       "<style>#sk-container-id-43 {color: black;background-color: white;}#sk-container-id-43 pre{padding: 0;}#sk-container-id-43 div.sk-toggleable {background-color: white;}#sk-container-id-43 label.sk-toggleable__label {cursor: pointer;display: block;width: 100%;margin-bottom: 0;padding: 0.3em;box-sizing: border-box;text-align: center;}#sk-container-id-43 label.sk-toggleable__label-arrow:before {content: \"▸\";float: left;margin-right: 0.25em;color: #696969;}#sk-container-id-43 label.sk-toggleable__label-arrow:hover:before {color: black;}#sk-container-id-43 div.sk-estimator:hover label.sk-toggleable__label-arrow:before {color: black;}#sk-container-id-43 div.sk-toggleable__content {max-height: 0;max-width: 0;overflow: hidden;text-align: left;background-color: #f0f8ff;}#sk-container-id-43 div.sk-toggleable__content pre {margin: 0.2em;color: black;border-radius: 0.25em;background-color: #f0f8ff;}#sk-container-id-43 input.sk-toggleable__control:checked~div.sk-toggleable__content {max-height: 200px;max-width: 100%;overflow: auto;}#sk-container-id-43 input.sk-toggleable__control:checked~label.sk-toggleable__label-arrow:before {content: \"▾\";}#sk-container-id-43 div.sk-estimator input.sk-toggleable__control:checked~label.sk-toggleable__label {background-color: #d4ebff;}#sk-container-id-43 div.sk-label input.sk-toggleable__control:checked~label.sk-toggleable__label {background-color: #d4ebff;}#sk-container-id-43 input.sk-hidden--visually {border: 0;clip: rect(1px 1px 1px 1px);clip: rect(1px, 1px, 1px, 1px);height: 1px;margin: -1px;overflow: hidden;padding: 0;position: absolute;width: 1px;}#sk-container-id-43 div.sk-estimator {font-family: monospace;background-color: #f0f8ff;border: 1px dotted black;border-radius: 0.25em;box-sizing: border-box;margin-bottom: 0.5em;}#sk-container-id-43 div.sk-estimator:hover {background-color: #d4ebff;}#sk-container-id-43 div.sk-parallel-item::after {content: \"\";width: 100%;border-bottom: 1px solid gray;flex-grow: 1;}#sk-container-id-43 div.sk-label:hover label.sk-toggleable__label {background-color: #d4ebff;}#sk-container-id-43 div.sk-serial::before {content: \"\";position: absolute;border-left: 1px solid gray;box-sizing: border-box;top: 0;bottom: 0;left: 50%;z-index: 0;}#sk-container-id-43 div.sk-serial {display: flex;flex-direction: column;align-items: center;background-color: white;padding-right: 0.2em;padding-left: 0.2em;position: relative;}#sk-container-id-43 div.sk-item {position: relative;z-index: 1;}#sk-container-id-43 div.sk-parallel {display: flex;align-items: stretch;justify-content: center;background-color: white;position: relative;}#sk-container-id-43 div.sk-item::before, #sk-container-id-43 div.sk-parallel-item::before {content: \"\";position: absolute;border-left: 1px solid gray;box-sizing: border-box;top: 0;bottom: 0;left: 50%;z-index: -1;}#sk-container-id-43 div.sk-parallel-item {display: flex;flex-direction: column;z-index: 1;position: relative;background-color: white;}#sk-container-id-43 div.sk-parallel-item:first-child::after {align-self: flex-end;width: 50%;}#sk-container-id-43 div.sk-parallel-item:last-child::after {align-self: flex-start;width: 50%;}#sk-container-id-43 div.sk-parallel-item:only-child::after {width: 0;}#sk-container-id-43 div.sk-dashed-wrapped {border: 1px dashed gray;margin: 0 0.4em 0.5em 0.4em;box-sizing: border-box;padding-bottom: 0.4em;background-color: white;}#sk-container-id-43 div.sk-label label {font-family: monospace;font-weight: bold;display: inline-block;line-height: 1.2em;}#sk-container-id-43 div.sk-label-container {text-align: center;}#sk-container-id-43 div.sk-container {/* jupyter's `normalize.less` sets `[hidden] { display: none; }` but bootstrap.min.css set `[hidden] { display: none !important; }` so we also need the `!important` here to be able to override the default hidden behavior on the sphinx rendered scikit-learn.org. See: https://github.com/scikit-learn/scikit-learn/issues/21755 */display: inline-block !important;position: relative;}#sk-container-id-43 div.sk-text-repr-fallback {display: none;}</style><div id=\"sk-container-id-43\" class=\"sk-top-container\"><div class=\"sk-text-repr-fallback\"><pre>RandomForestRegressor(max_depth=3, n_estimators=500)</pre><b>In a Jupyter environment, please rerun this cell to show the HTML representation or trust the notebook. <br />On GitHub, the HTML representation is unable to render, please try loading this page with nbviewer.org.</b></div><div class=\"sk-container\" hidden><div class=\"sk-item\"><div class=\"sk-estimator sk-toggleable\"><input class=\"sk-toggleable__control sk-hidden--visually\" id=\"sk-estimator-id-133\" type=\"checkbox\" checked><label for=\"sk-estimator-id-133\" class=\"sk-toggleable__label sk-toggleable__label-arrow\">RandomForestRegressor</label><div class=\"sk-toggleable__content\"><pre>RandomForestRegressor(max_depth=3, n_estimators=500)</pre></div></div></div></div></div>"
      ],
      "text/plain": [
       "RandomForestRegressor(max_depth=3, n_estimators=500)"
      ]
     },
     "execution_count": 553,
     "metadata": {},
     "output_type": "execute_result"
    }
   ],
   "source": [
    "model = RandomForestRegressor(n_estimators = 500, max_depth = search.best_params_['model__max_depth'])\n",
    "model.fit(X_train, Y_train)"
   ]
  },
  {
   "cell_type": "code",
   "execution_count": 554,
   "id": "3225d6c1",
   "metadata": {},
   "outputs": [],
   "source": [
    "importances = search.best_estimator_._final_estimator.feature_importances_[np.argsort(np.array(abs(search.best_estimator_._final_estimator.feature_importances_)))[::-1][0:9]]\n",
    "#std = np.std([tree.feature_importances_ for tree in model.estimators_], axis=0)[np.argsort(np.array(abs(model.feature_importances_)))[::-1][0:9]]\n",
    "\n"
   ]
  },
  {
   "cell_type": "code",
   "execution_count": 555,
   "id": "1b04ede3",
   "metadata": {},
   "outputs": [
    {
     "name": "stdout",
     "output_type": "stream",
     "text": [
      "Index(['n_companies_SMOKE', 'emiss_agropec_full', 'rain1',\n",
      "       'n_jobs_TRANSPORTATION', 'n_companies_TRANSPORTATION', 'emiss_agr_full',\n",
      "       'n_jobs_WATER-BASED TRANSPORTATION', 'near_hidrovia', 'n_jobs_SMOKE'],\n",
      "      dtype='object')\n"
     ]
    }
   ],
   "source": [
    "print(X.columns[np.argsort(np.array(abs(search.best_estimator_._final_estimator.feature_importances_)))[::-1][0:9]])"
   ]
  },
  {
   "cell_type": "code",
   "execution_count": 556,
   "id": "34124f19",
   "metadata": {},
   "outputs": [
    {
     "data": {
      "text/plain": [
       "array([0.34433037, 0.29893637, 0.1393934 , 0.05141435, 0.02454278,\n",
       "       0.01834395, 0.01748908, 0.01225182, 0.00898887])"
      ]
     },
     "execution_count": 556,
     "metadata": {},
     "output_type": "execute_result"
    }
   ],
   "source": [
    "np.sort(np.array(abs(search.best_estimator_._final_estimator.feature_importances_)))[::-1][0:9]"
   ]
  },
  {
   "cell_type": "markdown",
   "id": "6d8c8bc1",
   "metadata": {},
   "source": [
    "## Lasso Regression"
   ]
  },
  {
   "cell_type": "markdown",
   "id": "27b66ed4",
   "metadata": {},
   "source": [
    "5.1.1. Lasso. The LASSO regression, first introduced by (Tibshirani, 1996), is similar to a logistic regression, but adds a penalization term based on the sum of the absolute values of the coefficients. This penalization term aims at shrinking the parameters towards zero. Hence this estimator is similar to a logit model, but it is more parsimonious, adding only those variables that are relevant predictors. One of the advantages of this model is that it is simple and less prone to over-fitting. However, it is incapable of identifying complex relationships between the predictors and our outcome variable, i.e., corruption. **The tuning parameter in the cross-validation is the weight of the penalization term in the objective function (λ), which is optimized over a grid of potential values.**\n",
    "\n",
    "For the LASSO model the importance is determined by the estimated co- efficients of the regression, where larger parameters (in absolute value) correspond to higher importance."
   ]
  },
  {
   "cell_type": "code",
   "execution_count": 557,
   "id": "9bcac69f",
   "metadata": {},
   "outputs": [],
   "source": [
    "from sklearn.linear_model import Lasso"
   ]
  },
  {
   "cell_type": "code",
   "execution_count": 558,
   "id": "428c3ddb",
   "metadata": {},
   "outputs": [],
   "source": [
    "pipeline = Pipeline([\n",
    "                     ('scaler',StandardScaler()),\n",
    "                     ('model',Lasso())\n",
    "])"
   ]
  },
  {
   "cell_type": "code",
   "execution_count": 559,
   "id": "5c5e326f",
   "metadata": {},
   "outputs": [],
   "source": [
    "search = GridSearchCV(pipeline,\n",
    "                      {'model__alpha':np.arange(0.1,10,0.1)},\n",
    "                      cv = 5, scoring = \"neg_mean_squared_error\",verbose = 3\n",
    "                      )"
   ]
  },
  {
   "cell_type": "code",
   "execution_count": 560,
   "id": "0ff6c8cd",
   "metadata": {},
   "outputs": [
    {
     "name": "stdout",
     "output_type": "stream",
     "text": [
      "Fitting 5 folds for each of 99 candidates, totalling 495 fits\n",
      "[CV 1/5] END ................model__alpha=0.1;, score=-90.979 total time=   0.4s\n",
      "[CV 2/5] END ................model__alpha=0.1;, score=-90.077 total time=   0.4s\n",
      "[CV 3/5] END ................model__alpha=0.1;, score=-91.623 total time=   0.4s\n",
      "[CV 4/5] END ................model__alpha=0.1;, score=-90.658 total time=   0.4s\n",
      "[CV 5/5] END ................model__alpha=0.1;, score=-89.123 total time=   0.4s\n",
      "[CV 1/5] END ................model__alpha=0.2;, score=-91.445 total time=   0.4s\n",
      "[CV 2/5] END ................model__alpha=0.2;, score=-90.573 total time=   0.4s\n",
      "[CV 3/5] END ................model__alpha=0.2;, score=-92.081 total time=   0.4s\n",
      "[CV 4/5] END ................model__alpha=0.2;, score=-91.068 total time=   0.4s\n",
      "[CV 5/5] END ................model__alpha=0.2;, score=-89.567 total time=   0.3s\n",
      "[CV 1/5] END model__alpha=0.30000000000000004;, score=-91.755 total time=   0.3s\n",
      "[CV 2/5] END model__alpha=0.30000000000000004;, score=-90.905 total time=   0.4s\n",
      "[CV 3/5] END model__alpha=0.30000000000000004;, score=-92.359 total time=   0.4s\n",
      "[CV 4/5] END model__alpha=0.30000000000000004;, score=-91.337 total time=   0.4s\n",
      "[CV 5/5] END model__alpha=0.30000000000000004;, score=-89.855 total time=   0.4s\n",
      "[CV 1/5] END ................model__alpha=0.4;, score=-92.090 total time=   0.3s\n",
      "[CV 2/5] END ................model__alpha=0.4;, score=-91.263 total time=   0.3s\n",
      "[CV 3/5] END ................model__alpha=0.4;, score=-92.684 total time=   0.3s\n",
      "[CV 4/5] END ................model__alpha=0.4;, score=-91.651 total time=   0.3s\n",
      "[CV 5/5] END ................model__alpha=0.4;, score=-90.162 total time=   0.3s\n",
      "[CV 1/5] END ................model__alpha=0.5;, score=-92.352 total time=   0.3s\n",
      "[CV 2/5] END ................model__alpha=0.5;, score=-91.556 total time=   0.3s\n",
      "[CV 3/5] END ................model__alpha=0.5;, score=-92.972 total time=   0.3s\n",
      "[CV 4/5] END ................model__alpha=0.5;, score=-91.932 total time=   0.3s\n",
      "[CV 5/5] END ................model__alpha=0.5;, score=-90.402 total time=   0.3s\n",
      "[CV 1/5] END ................model__alpha=0.6;, score=-92.626 total time=   0.3s\n",
      "[CV 2/5] END ................model__alpha=0.6;, score=-91.855 total time=   0.3s\n",
      "[CV 3/5] END ................model__alpha=0.6;, score=-93.284 total time=   0.3s\n",
      "[CV 4/5] END ................model__alpha=0.6;, score=-92.240 total time=   0.3s\n",
      "[CV 5/5] END ................model__alpha=0.6;, score=-90.695 total time=   0.3s\n",
      "[CV 1/5] END .model__alpha=0.7000000000000001;, score=-92.875 total time=   0.3s\n",
      "[CV 2/5] END .model__alpha=0.7000000000000001;, score=-92.076 total time=   0.3s\n",
      "[CV 3/5] END .model__alpha=0.7000000000000001;, score=-93.537 total time=   0.3s\n",
      "[CV 4/5] END .model__alpha=0.7000000000000001;, score=-92.456 total time=   0.3s\n",
      "[CV 5/5] END .model__alpha=0.7000000000000001;, score=-90.950 total time=   0.3s\n",
      "[CV 1/5] END ................model__alpha=0.8;, score=-93.024 total time=   0.3s\n",
      "[CV 2/5] END ................model__alpha=0.8;, score=-92.220 total time=   0.3s\n",
      "[CV 3/5] END ................model__alpha=0.8;, score=-93.706 total time=   0.3s\n",
      "[CV 4/5] END ................model__alpha=0.8;, score=-92.591 total time=   0.3s\n",
      "[CV 5/5] END ................model__alpha=0.8;, score=-91.103 total time=   0.3s\n",
      "[CV 1/5] END ................model__alpha=0.9;, score=-93.126 total time=   0.3s\n",
      "[CV 2/5] END ................model__alpha=0.9;, score=-92.333 total time=   0.3s\n",
      "[CV 3/5] END ................model__alpha=0.9;, score=-93.796 total time=   0.3s\n",
      "[CV 4/5] END ................model__alpha=0.9;, score=-92.701 total time=   0.3s\n",
      "[CV 5/5] END ................model__alpha=0.9;, score=-91.205 total time=   0.3s\n",
      "[CV 1/5] END ................model__alpha=1.0;, score=-93.126 total time=   0.3s\n",
      "[CV 2/5] END ................model__alpha=1.0;, score=-92.333 total time=   0.3s\n",
      "[CV 3/5] END ................model__alpha=1.0;, score=-93.796 total time=   0.3s\n",
      "[CV 4/5] END ................model__alpha=1.0;, score=-92.701 total time=   0.3s\n",
      "[CV 5/5] END ................model__alpha=1.0;, score=-91.205 total time=   0.3s\n",
      "[CV 1/5] END ................model__alpha=1.1;, score=-93.126 total time=   0.3s\n",
      "[CV 2/5] END ................model__alpha=1.1;, score=-92.333 total time=   0.3s\n",
      "[CV 3/5] END ................model__alpha=1.1;, score=-93.796 total time=   0.3s\n",
      "[CV 4/5] END ................model__alpha=1.1;, score=-92.701 total time=   0.3s\n",
      "[CV 5/5] END ................model__alpha=1.1;, score=-91.205 total time=   0.3s\n",
      "[CV 1/5] END .model__alpha=1.2000000000000002;, score=-93.126 total time=   0.3s\n",
      "[CV 2/5] END .model__alpha=1.2000000000000002;, score=-92.333 total time=   0.3s\n",
      "[CV 3/5] END .model__alpha=1.2000000000000002;, score=-93.796 total time=   0.3s\n",
      "[CV 4/5] END .model__alpha=1.2000000000000002;, score=-92.701 total time=   0.4s\n",
      "[CV 5/5] END .model__alpha=1.2000000000000002;, score=-91.205 total time=   0.3s\n",
      "[CV 1/5] END .model__alpha=1.3000000000000003;, score=-93.126 total time=   0.3s\n",
      "[CV 2/5] END .model__alpha=1.3000000000000003;, score=-92.333 total time=   0.3s\n",
      "[CV 3/5] END .model__alpha=1.3000000000000003;, score=-93.796 total time=   0.3s\n",
      "[CV 4/5] END .model__alpha=1.3000000000000003;, score=-92.701 total time=   0.3s\n",
      "[CV 5/5] END .model__alpha=1.3000000000000003;, score=-91.205 total time=   0.3s\n",
      "[CV 1/5] END .model__alpha=1.4000000000000001;, score=-93.126 total time=   0.3s\n",
      "[CV 2/5] END .model__alpha=1.4000000000000001;, score=-92.333 total time=   0.3s\n",
      "[CV 3/5] END .model__alpha=1.4000000000000001;, score=-93.796 total time=   0.3s\n",
      "[CV 4/5] END .model__alpha=1.4000000000000001;, score=-92.701 total time=   0.3s\n",
      "[CV 5/5] END .model__alpha=1.4000000000000001;, score=-91.205 total time=   0.3s\n",
      "[CV 1/5] END .model__alpha=1.5000000000000002;, score=-93.126 total time=   0.3s\n",
      "[CV 2/5] END .model__alpha=1.5000000000000002;, score=-92.333 total time=   0.3s\n",
      "[CV 3/5] END .model__alpha=1.5000000000000002;, score=-93.796 total time=   0.3s\n",
      "[CV 4/5] END .model__alpha=1.5000000000000002;, score=-92.701 total time=   0.3s\n",
      "[CV 5/5] END .model__alpha=1.5000000000000002;, score=-91.205 total time=   0.3s\n",
      "[CV 1/5] END ................model__alpha=1.6;, score=-93.126 total time=   0.3s\n",
      "[CV 2/5] END ................model__alpha=1.6;, score=-92.333 total time=   0.3s\n",
      "[CV 3/5] END ................model__alpha=1.6;, score=-93.796 total time=   0.3s\n",
      "[CV 4/5] END ................model__alpha=1.6;, score=-92.701 total time=   0.3s\n",
      "[CV 5/5] END ................model__alpha=1.6;, score=-91.205 total time=   0.3s\n",
      "[CV 1/5] END .model__alpha=1.7000000000000002;, score=-93.126 total time=   0.3s\n",
      "[CV 2/5] END .model__alpha=1.7000000000000002;, score=-92.333 total time=   0.3s\n",
      "[CV 3/5] END .model__alpha=1.7000000000000002;, score=-93.796 total time=   0.3s\n",
      "[CV 4/5] END .model__alpha=1.7000000000000002;, score=-92.701 total time=   0.3s\n",
      "[CV 5/5] END .model__alpha=1.7000000000000002;, score=-91.205 total time=   0.3s\n",
      "[CV 1/5] END .model__alpha=1.8000000000000003;, score=-93.126 total time=   0.3s\n",
      "[CV 2/5] END .model__alpha=1.8000000000000003;, score=-92.333 total time=   0.3s\n",
      "[CV 3/5] END .model__alpha=1.8000000000000003;, score=-93.796 total time=   0.3s\n",
      "[CV 4/5] END .model__alpha=1.8000000000000003;, score=-92.701 total time=   0.3s\n",
      "[CV 5/5] END .model__alpha=1.8000000000000003;, score=-91.205 total time=   0.3s\n",
      "[CV 1/5] END .model__alpha=1.9000000000000001;, score=-93.126 total time=   0.3s\n",
      "[CV 2/5] END .model__alpha=1.9000000000000001;, score=-92.333 total time=   0.3s\n",
      "[CV 3/5] END .model__alpha=1.9000000000000001;, score=-93.796 total time=   0.3s\n",
      "[CV 4/5] END .model__alpha=1.9000000000000001;, score=-92.701 total time=   0.3s\n",
      "[CV 5/5] END .model__alpha=1.9000000000000001;, score=-91.205 total time=   0.3s\n",
      "[CV 1/5] END ................model__alpha=2.0;, score=-93.126 total time=   0.4s\n",
      "[CV 2/5] END ................model__alpha=2.0;, score=-92.333 total time=   0.3s\n",
      "[CV 3/5] END ................model__alpha=2.0;, score=-93.796 total time=   0.3s\n",
      "[CV 4/5] END ................model__alpha=2.0;, score=-92.701 total time=   0.3s\n",
      "[CV 5/5] END ................model__alpha=2.0;, score=-91.205 total time=   0.3s\n",
      "[CV 1/5] END ................model__alpha=2.1;, score=-93.126 total time=   0.3s\n",
      "[CV 2/5] END ................model__alpha=2.1;, score=-92.333 total time=   0.3s\n",
      "[CV 3/5] END ................model__alpha=2.1;, score=-93.796 total time=   0.3s\n",
      "[CV 4/5] END ................model__alpha=2.1;, score=-92.701 total time=   0.3s\n",
      "[CV 5/5] END ................model__alpha=2.1;, score=-91.205 total time=   0.3s\n",
      "[CV 1/5] END ................model__alpha=2.2;, score=-93.126 total time=   0.3s\n",
      "[CV 2/5] END ................model__alpha=2.2;, score=-92.333 total time=   0.3s\n",
      "[CV 3/5] END ................model__alpha=2.2;, score=-93.796 total time=   0.3s\n",
      "[CV 4/5] END ................model__alpha=2.2;, score=-92.701 total time=   0.3s\n",
      "[CV 5/5] END ................model__alpha=2.2;, score=-91.205 total time=   0.3s\n",
      "[CV 1/5] END .model__alpha=2.3000000000000003;, score=-93.126 total time=   0.3s\n",
      "[CV 2/5] END .model__alpha=2.3000000000000003;, score=-92.333 total time=   0.3s\n",
      "[CV 3/5] END .model__alpha=2.3000000000000003;, score=-93.796 total time=   0.3s\n",
      "[CV 4/5] END .model__alpha=2.3000000000000003;, score=-92.701 total time=   0.3s\n",
      "[CV 5/5] END .model__alpha=2.3000000000000003;, score=-91.205 total time=   0.3s\n",
      "[CV 1/5] END .model__alpha=2.4000000000000004;, score=-93.126 total time=   0.3s\n",
      "[CV 2/5] END .model__alpha=2.4000000000000004;, score=-92.333 total time=   0.3s\n",
      "[CV 3/5] END .model__alpha=2.4000000000000004;, score=-93.796 total time=   0.3s\n",
      "[CV 4/5] END .model__alpha=2.4000000000000004;, score=-92.701 total time=   0.3s\n",
      "[CV 5/5] END .model__alpha=2.4000000000000004;, score=-91.205 total time=   0.3s\n",
      "[CV 1/5] END .model__alpha=2.5000000000000004;, score=-93.126 total time=   0.3s\n",
      "[CV 2/5] END .model__alpha=2.5000000000000004;, score=-92.333 total time=   0.3s\n",
      "[CV 3/5] END .model__alpha=2.5000000000000004;, score=-93.796 total time=   0.3s\n",
      "[CV 4/5] END .model__alpha=2.5000000000000004;, score=-92.701 total time=   0.3s\n",
      "[CV 5/5] END .model__alpha=2.5000000000000004;, score=-91.205 total time=   0.3s\n",
      "[CV 1/5] END ................model__alpha=2.6;, score=-93.126 total time=   0.3s\n",
      "[CV 2/5] END ................model__alpha=2.6;, score=-92.333 total time=   0.3s\n",
      "[CV 3/5] END ................model__alpha=2.6;, score=-93.796 total time=   0.3s\n",
      "[CV 4/5] END ................model__alpha=2.6;, score=-92.701 total time=   0.3s\n",
      "[CV 5/5] END ................model__alpha=2.6;, score=-91.205 total time=   0.3s\n",
      "[CV 1/5] END ................model__alpha=2.7;, score=-93.126 total time=   0.3s\n",
      "[CV 2/5] END ................model__alpha=2.7;, score=-92.333 total time=   0.3s\n",
      "[CV 3/5] END ................model__alpha=2.7;, score=-93.796 total time=   0.3s\n",
      "[CV 4/5] END ................model__alpha=2.7;, score=-92.701 total time=   0.3s\n",
      "[CV 5/5] END ................model__alpha=2.7;, score=-91.205 total time=   0.3s\n",
      "[CV 1/5] END .model__alpha=2.8000000000000003;, score=-93.126 total time=   0.3s\n",
      "[CV 2/5] END .model__alpha=2.8000000000000003;, score=-92.333 total time=   0.3s\n",
      "[CV 3/5] END .model__alpha=2.8000000000000003;, score=-93.796 total time=   0.3s\n",
      "[CV 4/5] END .model__alpha=2.8000000000000003;, score=-92.701 total time=   0.3s\n",
      "[CV 5/5] END .model__alpha=2.8000000000000003;, score=-91.205 total time=   0.3s\n",
      "[CV 1/5] END .model__alpha=2.9000000000000004;, score=-93.126 total time=   0.3s\n",
      "[CV 2/5] END .model__alpha=2.9000000000000004;, score=-92.333 total time=   0.3s\n",
      "[CV 3/5] END .model__alpha=2.9000000000000004;, score=-93.796 total time=   0.3s\n",
      "[CV 4/5] END .model__alpha=2.9000000000000004;, score=-92.701 total time=   0.3s\n",
      "[CV 5/5] END .model__alpha=2.9000000000000004;, score=-91.205 total time=   0.3s\n",
      "[CV 1/5] END .model__alpha=3.0000000000000004;, score=-93.126 total time=   0.3s\n",
      "[CV 2/5] END .model__alpha=3.0000000000000004;, score=-92.333 total time=   0.3s\n",
      "[CV 3/5] END .model__alpha=3.0000000000000004;, score=-93.796 total time=   0.3s\n",
      "[CV 4/5] END .model__alpha=3.0000000000000004;, score=-92.701 total time=   0.3s\n",
      "[CV 5/5] END .model__alpha=3.0000000000000004;, score=-91.205 total time=   0.3s\n",
      "[CV 1/5] END ................model__alpha=3.1;, score=-93.126 total time=   0.3s\n",
      "[CV 2/5] END ................model__alpha=3.1;, score=-92.333 total time=   0.3s\n",
      "[CV 3/5] END ................model__alpha=3.1;, score=-93.796 total time=   0.3s\n",
      "[CV 4/5] END ................model__alpha=3.1;, score=-92.701 total time=   0.3s\n",
      "[CV 5/5] END ................model__alpha=3.1;, score=-91.205 total time=   0.3s\n",
      "[CV 1/5] END ................model__alpha=3.2;, score=-93.126 total time=   0.3s\n",
      "[CV 2/5] END ................model__alpha=3.2;, score=-92.333 total time=   0.3s\n",
      "[CV 3/5] END ................model__alpha=3.2;, score=-93.796 total time=   0.3s\n",
      "[CV 4/5] END ................model__alpha=3.2;, score=-92.701 total time=   0.3s\n",
      "[CV 5/5] END ................model__alpha=3.2;, score=-91.205 total time=   0.3s\n",
      "[CV 1/5] END .model__alpha=3.3000000000000003;, score=-93.126 total time=   0.3s\n",
      "[CV 2/5] END .model__alpha=3.3000000000000003;, score=-92.333 total time=   0.3s\n",
      "[CV 3/5] END .model__alpha=3.3000000000000003;, score=-93.796 total time=   0.3s\n",
      "[CV 4/5] END .model__alpha=3.3000000000000003;, score=-92.701 total time=   0.3s\n",
      "[CV 5/5] END .model__alpha=3.3000000000000003;, score=-91.205 total time=   0.3s\n",
      "[CV 1/5] END .model__alpha=3.4000000000000004;, score=-93.126 total time=   0.3s\n",
      "[CV 2/5] END .model__alpha=3.4000000000000004;, score=-92.333 total time=   0.3s\n",
      "[CV 3/5] END .model__alpha=3.4000000000000004;, score=-93.796 total time=   0.3s\n",
      "[CV 4/5] END .model__alpha=3.4000000000000004;, score=-92.701 total time=   0.3s\n",
      "[CV 5/5] END .model__alpha=3.4000000000000004;, score=-91.205 total time=   0.3s\n",
      "[CV 1/5] END .model__alpha=3.5000000000000004;, score=-93.126 total time=   0.3s\n",
      "[CV 2/5] END .model__alpha=3.5000000000000004;, score=-92.333 total time=   0.3s\n",
      "[CV 3/5] END .model__alpha=3.5000000000000004;, score=-93.796 total time=   0.3s\n",
      "[CV 4/5] END .model__alpha=3.5000000000000004;, score=-92.701 total time=   0.3s\n",
      "[CV 5/5] END .model__alpha=3.5000000000000004;, score=-91.205 total time=   0.3s\n",
      "[CV 1/5] END ................model__alpha=3.6;, score=-93.126 total time=   0.3s\n",
      "[CV 2/5] END ................model__alpha=3.6;, score=-92.333 total time=   0.3s\n",
      "[CV 3/5] END ................model__alpha=3.6;, score=-93.796 total time=   0.3s\n",
      "[CV 4/5] END ................model__alpha=3.6;, score=-92.701 total time=   0.3s\n",
      "[CV 5/5] END ................model__alpha=3.6;, score=-91.205 total time=   0.3s\n",
      "[CV 1/5] END ................model__alpha=3.7;, score=-93.126 total time=   0.3s\n",
      "[CV 2/5] END ................model__alpha=3.7;, score=-92.333 total time=   0.3s\n",
      "[CV 3/5] END ................model__alpha=3.7;, score=-93.796 total time=   0.3s\n",
      "[CV 4/5] END ................model__alpha=3.7;, score=-92.701 total time=   0.3s\n",
      "[CV 5/5] END ................model__alpha=3.7;, score=-91.205 total time=   0.3s\n",
      "[CV 1/5] END .model__alpha=3.8000000000000003;, score=-93.126 total time=   0.3s\n",
      "[CV 2/5] END .model__alpha=3.8000000000000003;, score=-92.333 total time=   0.3s\n",
      "[CV 3/5] END .model__alpha=3.8000000000000003;, score=-93.796 total time=   0.3s\n",
      "[CV 4/5] END .model__alpha=3.8000000000000003;, score=-92.701 total time=   0.3s\n",
      "[CV 5/5] END .model__alpha=3.8000000000000003;, score=-91.205 total time=   0.3s\n",
      "[CV 1/5] END .model__alpha=3.9000000000000004;, score=-93.126 total time=   0.3s\n",
      "[CV 2/5] END .model__alpha=3.9000000000000004;, score=-92.333 total time=   0.3s\n",
      "[CV 3/5] END .model__alpha=3.9000000000000004;, score=-93.796 total time=   0.4s\n",
      "[CV 4/5] END .model__alpha=3.9000000000000004;, score=-92.701 total time=   0.3s\n",
      "[CV 5/5] END .model__alpha=3.9000000000000004;, score=-91.205 total time=   0.3s\n",
      "[CV 1/5] END ................model__alpha=4.0;, score=-93.126 total time=   0.3s\n",
      "[CV 2/5] END ................model__alpha=4.0;, score=-92.333 total time=   0.3s\n",
      "[CV 3/5] END ................model__alpha=4.0;, score=-93.796 total time=   0.3s\n",
      "[CV 4/5] END ................model__alpha=4.0;, score=-92.701 total time=   0.3s\n",
      "[CV 5/5] END ................model__alpha=4.0;, score=-91.205 total time=   0.3s\n",
      "[CV 1/5] END ................model__alpha=4.1;, score=-93.126 total time=   0.3s\n",
      "[CV 2/5] END ................model__alpha=4.1;, score=-92.333 total time=   0.3s\n",
      "[CV 3/5] END ................model__alpha=4.1;, score=-93.796 total time=   0.3s\n",
      "[CV 4/5] END ................model__alpha=4.1;, score=-92.701 total time=   0.3s\n",
      "[CV 5/5] END ................model__alpha=4.1;, score=-91.205 total time=   0.3s\n",
      "[CV 1/5] END ................model__alpha=4.2;, score=-93.126 total time=   0.3s\n",
      "[CV 2/5] END ................model__alpha=4.2;, score=-92.333 total time=   0.3s\n",
      "[CV 3/5] END ................model__alpha=4.2;, score=-93.796 total time=   0.3s\n",
      "[CV 4/5] END ................model__alpha=4.2;, score=-92.701 total time=   0.3s\n",
      "[CV 5/5] END ................model__alpha=4.2;, score=-91.205 total time=   0.3s\n",
      "[CV 1/5] END ................model__alpha=4.3;, score=-93.126 total time=   0.3s\n",
      "[CV 2/5] END ................model__alpha=4.3;, score=-92.333 total time=   0.3s\n",
      "[CV 3/5] END ................model__alpha=4.3;, score=-93.796 total time=   0.3s\n",
      "[CV 4/5] END ................model__alpha=4.3;, score=-92.701 total time=   0.3s\n",
      "[CV 5/5] END ................model__alpha=4.3;, score=-91.205 total time=   0.3s\n",
      "[CV 1/5] END .model__alpha=4.3999999999999995;, score=-93.126 total time=   0.3s\n",
      "[CV 2/5] END .model__alpha=4.3999999999999995;, score=-92.333 total time=   0.3s\n",
      "[CV 3/5] END .model__alpha=4.3999999999999995;, score=-93.796 total time=   0.3s\n",
      "[CV 4/5] END .model__alpha=4.3999999999999995;, score=-92.701 total time=   0.3s\n",
      "[CV 5/5] END .model__alpha=4.3999999999999995;, score=-91.205 total time=   0.3s\n",
      "[CV 1/5] END ................model__alpha=4.5;, score=-93.126 total time=   0.3s\n",
      "[CV 2/5] END ................model__alpha=4.5;, score=-92.333 total time=   0.3s\n",
      "[CV 3/5] END ................model__alpha=4.5;, score=-93.796 total time=   0.3s\n",
      "[CV 4/5] END ................model__alpha=4.5;, score=-92.701 total time=   0.3s\n",
      "[CV 5/5] END ................model__alpha=4.5;, score=-91.205 total time=   0.3s\n",
      "[CV 1/5] END ................model__alpha=4.6;, score=-93.126 total time=   0.3s\n",
      "[CV 2/5] END ................model__alpha=4.6;, score=-92.333 total time=   0.3s\n",
      "[CV 3/5] END ................model__alpha=4.6;, score=-93.796 total time=   0.3s\n",
      "[CV 4/5] END ................model__alpha=4.6;, score=-92.701 total time=   0.3s\n",
      "[CV 5/5] END ................model__alpha=4.6;, score=-91.205 total time=   0.3s\n",
      "[CV 1/5] END ................model__alpha=4.7;, score=-93.126 total time=   0.3s\n",
      "[CV 2/5] END ................model__alpha=4.7;, score=-92.333 total time=   0.3s\n",
      "[CV 3/5] END ................model__alpha=4.7;, score=-93.796 total time=   0.3s\n",
      "[CV 4/5] END ................model__alpha=4.7;, score=-92.701 total time=   0.3s\n",
      "[CV 5/5] END ................model__alpha=4.7;, score=-91.205 total time=   0.3s\n",
      "[CV 1/5] END ................model__alpha=4.8;, score=-93.126 total time=   0.3s\n",
      "[CV 2/5] END ................model__alpha=4.8;, score=-92.333 total time=   0.3s\n",
      "[CV 3/5] END ................model__alpha=4.8;, score=-93.796 total time=   0.3s\n",
      "[CV 4/5] END ................model__alpha=4.8;, score=-92.701 total time=   0.3s\n",
      "[CV 5/5] END ................model__alpha=4.8;, score=-91.205 total time=   0.3s\n",
      "[CV 1/5] END ................model__alpha=4.9;, score=-93.126 total time=   0.3s\n",
      "[CV 2/5] END ................model__alpha=4.9;, score=-92.333 total time=   0.3s\n",
      "[CV 3/5] END ................model__alpha=4.9;, score=-93.796 total time=   0.3s\n",
      "[CV 4/5] END ................model__alpha=4.9;, score=-92.701 total time=   0.3s\n",
      "[CV 5/5] END ................model__alpha=4.9;, score=-91.205 total time=   0.3s\n",
      "[CV 1/5] END ................model__alpha=5.0;, score=-93.126 total time=   0.3s\n",
      "[CV 2/5] END ................model__alpha=5.0;, score=-92.333 total time=   0.3s\n",
      "[CV 3/5] END ................model__alpha=5.0;, score=-93.796 total time=   0.3s\n",
      "[CV 4/5] END ................model__alpha=5.0;, score=-92.701 total time=   0.3s\n",
      "[CV 5/5] END ................model__alpha=5.0;, score=-91.205 total time=   0.3s\n",
      "[CV 1/5] END ................model__alpha=5.1;, score=-93.126 total time=   0.3s\n",
      "[CV 2/5] END ................model__alpha=5.1;, score=-92.333 total time=   0.3s\n",
      "[CV 3/5] END ................model__alpha=5.1;, score=-93.796 total time=   0.3s\n",
      "[CV 4/5] END ................model__alpha=5.1;, score=-92.701 total time=   0.3s\n",
      "[CV 5/5] END ................model__alpha=5.1;, score=-91.205 total time=   0.3s\n",
      "[CV 1/5] END ................model__alpha=5.2;, score=-93.126 total time=   0.3s\n",
      "[CV 2/5] END ................model__alpha=5.2;, score=-92.333 total time=   0.3s\n",
      "[CV 3/5] END ................model__alpha=5.2;, score=-93.796 total time=   0.3s\n",
      "[CV 4/5] END ................model__alpha=5.2;, score=-92.701 total time=   0.3s\n",
      "[CV 5/5] END ................model__alpha=5.2;, score=-91.205 total time=   0.4s\n",
      "[CV 1/5] END ................model__alpha=5.3;, score=-93.126 total time=   0.3s\n",
      "[CV 2/5] END ................model__alpha=5.3;, score=-92.333 total time=   0.3s\n",
      "[CV 3/5] END ................model__alpha=5.3;, score=-93.796 total time=   0.3s\n",
      "[CV 4/5] END ................model__alpha=5.3;, score=-92.701 total time=   0.3s\n",
      "[CV 5/5] END ................model__alpha=5.3;, score=-91.205 total time=   0.3s\n",
      "[CV 1/5] END ................model__alpha=5.4;, score=-93.126 total time=   0.3s\n",
      "[CV 2/5] END ................model__alpha=5.4;, score=-92.333 total time=   0.3s\n",
      "[CV 3/5] END ................model__alpha=5.4;, score=-93.796 total time=   0.3s\n",
      "[CV 4/5] END ................model__alpha=5.4;, score=-92.701 total time=   0.3s\n",
      "[CV 5/5] END ................model__alpha=5.4;, score=-91.205 total time=   0.3s\n",
      "[CV 1/5] END ................model__alpha=5.5;, score=-93.126 total time=   0.3s\n",
      "[CV 2/5] END ................model__alpha=5.5;, score=-92.333 total time=   0.3s\n",
      "[CV 3/5] END ................model__alpha=5.5;, score=-93.796 total time=   0.3s\n",
      "[CV 4/5] END ................model__alpha=5.5;, score=-92.701 total time=   0.3s\n",
      "[CV 5/5] END ................model__alpha=5.5;, score=-91.205 total time=   0.3s\n",
      "[CV 1/5] END ................model__alpha=5.6;, score=-93.126 total time=   0.3s\n",
      "[CV 2/5] END ................model__alpha=5.6;, score=-92.333 total time=   0.3s\n",
      "[CV 3/5] END ................model__alpha=5.6;, score=-93.796 total time=   0.3s\n",
      "[CV 4/5] END ................model__alpha=5.6;, score=-92.701 total time=   0.3s\n",
      "[CV 5/5] END ................model__alpha=5.6;, score=-91.205 total time=   0.3s\n",
      "[CV 1/5] END ................model__alpha=5.7;, score=-93.126 total time=   0.3s\n",
      "[CV 2/5] END ................model__alpha=5.7;, score=-92.333 total time=   0.3s\n",
      "[CV 3/5] END ................model__alpha=5.7;, score=-93.796 total time=   0.3s\n",
      "[CV 4/5] END ................model__alpha=5.7;, score=-92.701 total time=   0.3s\n",
      "[CV 5/5] END ................model__alpha=5.7;, score=-91.205 total time=   0.3s\n",
      "[CV 1/5] END ................model__alpha=5.8;, score=-93.126 total time=   0.3s\n",
      "[CV 2/5] END ................model__alpha=5.8;, score=-92.333 total time=   0.3s\n",
      "[CV 3/5] END ................model__alpha=5.8;, score=-93.796 total time=   0.3s\n",
      "[CV 4/5] END ................model__alpha=5.8;, score=-92.701 total time=   0.3s\n",
      "[CV 5/5] END ................model__alpha=5.8;, score=-91.205 total time=   0.3s\n",
      "[CV 1/5] END ................model__alpha=5.9;, score=-93.126 total time=   0.3s\n",
      "[CV 2/5] END ................model__alpha=5.9;, score=-92.333 total time=   0.3s\n",
      "[CV 3/5] END ................model__alpha=5.9;, score=-93.796 total time=   0.3s\n",
      "[CV 4/5] END ................model__alpha=5.9;, score=-92.701 total time=   0.3s\n",
      "[CV 5/5] END ................model__alpha=5.9;, score=-91.205 total time=   0.3s\n",
      "[CV 1/5] END ................model__alpha=6.0;, score=-93.126 total time=   0.3s\n",
      "[CV 2/5] END ................model__alpha=6.0;, score=-92.333 total time=   0.3s\n",
      "[CV 3/5] END ................model__alpha=6.0;, score=-93.796 total time=   0.3s\n",
      "[CV 4/5] END ................model__alpha=6.0;, score=-92.701 total time=   0.3s\n",
      "[CV 5/5] END ................model__alpha=6.0;, score=-91.205 total time=   0.3s\n",
      "[CV 1/5] END ................model__alpha=6.1;, score=-93.126 total time=   0.3s\n",
      "[CV 2/5] END ................model__alpha=6.1;, score=-92.333 total time=   0.3s\n",
      "[CV 3/5] END ................model__alpha=6.1;, score=-93.796 total time=   0.3s\n",
      "[CV 4/5] END ................model__alpha=6.1;, score=-92.701 total time=   0.3s\n",
      "[CV 5/5] END ................model__alpha=6.1;, score=-91.205 total time=   0.3s\n",
      "[CV 1/5] END ................model__alpha=6.2;, score=-93.126 total time=   0.3s\n",
      "[CV 2/5] END ................model__alpha=6.2;, score=-92.333 total time=   0.3s\n",
      "[CV 3/5] END ................model__alpha=6.2;, score=-93.796 total time=   0.3s\n",
      "[CV 4/5] END ................model__alpha=6.2;, score=-92.701 total time=   0.3s\n",
      "[CV 5/5] END ................model__alpha=6.2;, score=-91.205 total time=   0.3s\n",
      "[CV 1/5] END ................model__alpha=6.3;, score=-93.126 total time=   0.4s\n",
      "[CV 2/5] END ................model__alpha=6.3;, score=-92.333 total time=   0.3s\n",
      "[CV 3/5] END ................model__alpha=6.3;, score=-93.796 total time=   0.3s\n",
      "[CV 4/5] END ................model__alpha=6.3;, score=-92.701 total time=   0.3s\n",
      "[CV 5/5] END ................model__alpha=6.3;, score=-91.205 total time=   0.3s\n",
      "[CV 1/5] END ................model__alpha=6.4;, score=-93.126 total time=   0.3s\n",
      "[CV 2/5] END ................model__alpha=6.4;, score=-92.333 total time=   0.3s\n",
      "[CV 3/5] END ................model__alpha=6.4;, score=-93.796 total time=   0.3s\n",
      "[CV 4/5] END ................model__alpha=6.4;, score=-92.701 total time=   0.3s\n",
      "[CV 5/5] END ................model__alpha=6.4;, score=-91.205 total time=   0.3s\n",
      "[CV 1/5] END ................model__alpha=6.5;, score=-93.126 total time=   0.3s\n",
      "[CV 2/5] END ................model__alpha=6.5;, score=-92.333 total time=   0.3s\n",
      "[CV 3/5] END ................model__alpha=6.5;, score=-93.796 total time=   0.3s\n",
      "[CV 4/5] END ................model__alpha=6.5;, score=-92.701 total time=   0.3s\n",
      "[CV 5/5] END ................model__alpha=6.5;, score=-91.205 total time=   0.3s\n",
      "[CV 1/5] END ................model__alpha=6.6;, score=-93.126 total time=   0.3s\n",
      "[CV 2/5] END ................model__alpha=6.6;, score=-92.333 total time=   0.3s\n",
      "[CV 3/5] END ................model__alpha=6.6;, score=-93.796 total time=   0.3s\n",
      "[CV 4/5] END ................model__alpha=6.6;, score=-92.701 total time=   0.3s\n",
      "[CV 5/5] END ................model__alpha=6.6;, score=-91.205 total time=   0.3s\n",
      "[CV 1/5] END ................model__alpha=6.7;, score=-93.126 total time=   0.3s\n",
      "[CV 2/5] END ................model__alpha=6.7;, score=-92.333 total time=   0.3s\n",
      "[CV 3/5] END ................model__alpha=6.7;, score=-93.796 total time=   0.3s\n",
      "[CV 4/5] END ................model__alpha=6.7;, score=-92.701 total time=   0.3s\n",
      "[CV 5/5] END ................model__alpha=6.7;, score=-91.205 total time=   0.3s\n",
      "[CV 1/5] END ................model__alpha=6.8;, score=-93.126 total time=   0.3s\n",
      "[CV 2/5] END ................model__alpha=6.8;, score=-92.333 total time=   0.3s\n",
      "[CV 3/5] END ................model__alpha=6.8;, score=-93.796 total time=   0.3s\n",
      "[CV 4/5] END ................model__alpha=6.8;, score=-92.701 total time=   0.3s\n",
      "[CV 5/5] END ................model__alpha=6.8;, score=-91.205 total time=   0.3s\n",
      "[CV 1/5] END ................model__alpha=6.9;, score=-93.126 total time=   0.3s\n",
      "[CV 2/5] END ................model__alpha=6.9;, score=-92.333 total time=   0.3s\n",
      "[CV 3/5] END ................model__alpha=6.9;, score=-93.796 total time=   0.3s\n",
      "[CV 4/5] END ................model__alpha=6.9;, score=-92.701 total time=   0.3s\n",
      "[CV 5/5] END ................model__alpha=6.9;, score=-91.205 total time=   0.3s\n",
      "[CV 1/5] END ................model__alpha=7.0;, score=-93.126 total time=   0.3s\n",
      "[CV 2/5] END ................model__alpha=7.0;, score=-92.333 total time=   0.3s\n",
      "[CV 3/5] END ................model__alpha=7.0;, score=-93.796 total time=   0.3s\n",
      "[CV 4/5] END ................model__alpha=7.0;, score=-92.701 total time=   0.3s\n",
      "[CV 5/5] END ................model__alpha=7.0;, score=-91.205 total time=   0.3s\n",
      "[CV 1/5] END ................model__alpha=7.1;, score=-93.126 total time=   0.3s\n",
      "[CV 2/5] END ................model__alpha=7.1;, score=-92.333 total time=   0.3s\n",
      "[CV 3/5] END ................model__alpha=7.1;, score=-93.796 total time=   0.3s\n",
      "[CV 4/5] END ................model__alpha=7.1;, score=-92.701 total time=   0.3s\n",
      "[CV 5/5] END ................model__alpha=7.1;, score=-91.205 total time=   0.3s\n",
      "[CV 1/5] END ................model__alpha=7.2;, score=-93.126 total time=   0.3s\n",
      "[CV 2/5] END ................model__alpha=7.2;, score=-92.333 total time=   0.3s\n",
      "[CV 3/5] END ................model__alpha=7.2;, score=-93.796 total time=   0.3s\n",
      "[CV 4/5] END ................model__alpha=7.2;, score=-92.701 total time=   0.3s\n",
      "[CV 5/5] END ................model__alpha=7.2;, score=-91.205 total time=   0.3s\n",
      "[CV 1/5] END ................model__alpha=7.3;, score=-93.126 total time=   0.3s\n",
      "[CV 2/5] END ................model__alpha=7.3;, score=-92.333 total time=   0.3s\n",
      "[CV 3/5] END ................model__alpha=7.3;, score=-93.796 total time=   0.3s\n",
      "[CV 4/5] END ................model__alpha=7.3;, score=-92.701 total time=   0.3s\n",
      "[CV 5/5] END ................model__alpha=7.3;, score=-91.205 total time=   0.3s\n",
      "[CV 1/5] END ................model__alpha=7.4;, score=-93.126 total time=   0.3s\n",
      "[CV 2/5] END ................model__alpha=7.4;, score=-92.333 total time=   0.3s\n",
      "[CV 3/5] END ................model__alpha=7.4;, score=-93.796 total time=   0.3s\n",
      "[CV 4/5] END ................model__alpha=7.4;, score=-92.701 total time=   0.3s\n",
      "[CV 5/5] END ................model__alpha=7.4;, score=-91.205 total time=   0.3s\n",
      "[CV 1/5] END ................model__alpha=7.5;, score=-93.126 total time=   0.3s\n",
      "[CV 2/5] END ................model__alpha=7.5;, score=-92.333 total time=   0.3s\n",
      "[CV 3/5] END ................model__alpha=7.5;, score=-93.796 total time=   0.3s\n",
      "[CV 4/5] END ................model__alpha=7.5;, score=-92.701 total time=   0.3s\n",
      "[CV 5/5] END ................model__alpha=7.5;, score=-91.205 total time=   0.3s\n",
      "[CV 1/5] END ................model__alpha=7.6;, score=-93.126 total time=   0.3s\n",
      "[CV 2/5] END ................model__alpha=7.6;, score=-92.333 total time=   0.3s\n",
      "[CV 3/5] END ................model__alpha=7.6;, score=-93.796 total time=   0.3s\n",
      "[CV 4/5] END ................model__alpha=7.6;, score=-92.701 total time=   0.3s\n",
      "[CV 5/5] END ................model__alpha=7.6;, score=-91.205 total time=   0.3s\n",
      "[CV 1/5] END ................model__alpha=7.7;, score=-93.126 total time=   0.3s\n",
      "[CV 2/5] END ................model__alpha=7.7;, score=-92.333 total time=   0.3s\n",
      "[CV 3/5] END ................model__alpha=7.7;, score=-93.796 total time=   0.3s\n",
      "[CV 4/5] END ................model__alpha=7.7;, score=-92.701 total time=   0.3s\n",
      "[CV 5/5] END ................model__alpha=7.7;, score=-91.205 total time=   0.3s\n",
      "[CV 1/5] END ................model__alpha=7.8;, score=-93.126 total time=   0.3s\n",
      "[CV 2/5] END ................model__alpha=7.8;, score=-92.333 total time=   0.3s\n",
      "[CV 3/5] END ................model__alpha=7.8;, score=-93.796 total time=   0.3s\n",
      "[CV 4/5] END ................model__alpha=7.8;, score=-92.701 total time=   0.3s\n",
      "[CV 5/5] END ................model__alpha=7.8;, score=-91.205 total time=   0.3s\n",
      "[CV 1/5] END ................model__alpha=7.9;, score=-93.126 total time=   0.3s\n",
      "[CV 2/5] END ................model__alpha=7.9;, score=-92.333 total time=   0.3s\n",
      "[CV 3/5] END ................model__alpha=7.9;, score=-93.796 total time=   0.3s\n",
      "[CV 4/5] END ................model__alpha=7.9;, score=-92.701 total time=   0.3s\n",
      "[CV 5/5] END ................model__alpha=7.9;, score=-91.205 total time=   0.3s\n",
      "[CV 1/5] END ................model__alpha=8.0;, score=-93.126 total time=   0.3s\n",
      "[CV 2/5] END ................model__alpha=8.0;, score=-92.333 total time=   0.3s\n",
      "[CV 3/5] END ................model__alpha=8.0;, score=-93.796 total time=   0.3s\n",
      "[CV 4/5] END ................model__alpha=8.0;, score=-92.701 total time=   0.3s\n",
      "[CV 5/5] END ................model__alpha=8.0;, score=-91.205 total time=   0.3s\n",
      "[CV 1/5] END ................model__alpha=8.1;, score=-93.126 total time=   0.3s\n",
      "[CV 2/5] END ................model__alpha=8.1;, score=-92.333 total time=   0.3s\n",
      "[CV 3/5] END ................model__alpha=8.1;, score=-93.796 total time=   0.3s\n",
      "[CV 4/5] END ................model__alpha=8.1;, score=-92.701 total time=   0.3s\n",
      "[CV 5/5] END ................model__alpha=8.1;, score=-91.205 total time=   0.3s\n",
      "[CV 1/5] END ................model__alpha=8.2;, score=-93.126 total time=   0.3s\n",
      "[CV 2/5] END ................model__alpha=8.2;, score=-92.333 total time=   0.3s\n",
      "[CV 3/5] END ................model__alpha=8.2;, score=-93.796 total time=   0.3s\n",
      "[CV 4/5] END ................model__alpha=8.2;, score=-92.701 total time=   0.3s\n",
      "[CV 5/5] END ................model__alpha=8.2;, score=-91.205 total time=   0.3s\n",
      "[CV 1/5] END ................model__alpha=8.3;, score=-93.126 total time=   0.3s\n",
      "[CV 2/5] END ................model__alpha=8.3;, score=-92.333 total time=   0.3s\n",
      "[CV 3/5] END ................model__alpha=8.3;, score=-93.796 total time=   0.3s\n",
      "[CV 4/5] END ................model__alpha=8.3;, score=-92.701 total time=   0.3s\n",
      "[CV 5/5] END ................model__alpha=8.3;, score=-91.205 total time=   0.3s\n",
      "[CV 1/5] END ................model__alpha=8.4;, score=-93.126 total time=   0.3s\n",
      "[CV 2/5] END ................model__alpha=8.4;, score=-92.333 total time=   0.3s\n",
      "[CV 3/5] END ................model__alpha=8.4;, score=-93.796 total time=   0.3s\n",
      "[CV 4/5] END ................model__alpha=8.4;, score=-92.701 total time=   0.3s\n",
      "[CV 5/5] END ................model__alpha=8.4;, score=-91.205 total time=   0.3s\n",
      "[CV 1/5] END ................model__alpha=8.5;, score=-93.126 total time=   0.3s\n",
      "[CV 2/5] END ................model__alpha=8.5;, score=-92.333 total time=   0.3s\n",
      "[CV 3/5] END ................model__alpha=8.5;, score=-93.796 total time=   0.3s\n",
      "[CV 4/5] END ................model__alpha=8.5;, score=-92.701 total time=   0.3s\n",
      "[CV 5/5] END ................model__alpha=8.5;, score=-91.205 total time=   0.3s\n",
      "[CV 1/5] END ................model__alpha=8.6;, score=-93.126 total time=   0.3s\n",
      "[CV 2/5] END ................model__alpha=8.6;, score=-92.333 total time=   0.3s\n",
      "[CV 3/5] END ................model__alpha=8.6;, score=-93.796 total time=   0.3s\n",
      "[CV 4/5] END ................model__alpha=8.6;, score=-92.701 total time=   0.3s\n",
      "[CV 5/5] END ................model__alpha=8.6;, score=-91.205 total time=   0.3s\n",
      "[CV 1/5] END ................model__alpha=8.7;, score=-93.126 total time=   0.3s\n",
      "[CV 2/5] END ................model__alpha=8.7;, score=-92.333 total time=   0.3s\n",
      "[CV 3/5] END ................model__alpha=8.7;, score=-93.796 total time=   0.3s\n",
      "[CV 4/5] END ................model__alpha=8.7;, score=-92.701 total time=   0.3s\n",
      "[CV 5/5] END ................model__alpha=8.7;, score=-91.205 total time=   0.3s\n",
      "[CV 1/5] END ................model__alpha=8.8;, score=-93.126 total time=   0.3s\n",
      "[CV 2/5] END ................model__alpha=8.8;, score=-92.333 total time=   0.3s\n",
      "[CV 3/5] END ................model__alpha=8.8;, score=-93.796 total time=   0.3s\n",
      "[CV 4/5] END ................model__alpha=8.8;, score=-92.701 total time=   0.3s\n",
      "[CV 5/5] END ................model__alpha=8.8;, score=-91.205 total time=   0.3s\n",
      "[CV 1/5] END ................model__alpha=8.9;, score=-93.126 total time=   0.3s\n",
      "[CV 2/5] END ................model__alpha=8.9;, score=-92.333 total time=   0.3s\n",
      "[CV 3/5] END ................model__alpha=8.9;, score=-93.796 total time=   0.3s\n",
      "[CV 4/5] END ................model__alpha=8.9;, score=-92.701 total time=   0.3s\n",
      "[CV 5/5] END ................model__alpha=8.9;, score=-91.205 total time=   0.3s\n",
      "[CV 1/5] END ................model__alpha=9.0;, score=-93.126 total time=   0.3s\n",
      "[CV 2/5] END ................model__alpha=9.0;, score=-92.333 total time=   0.3s\n",
      "[CV 3/5] END ................model__alpha=9.0;, score=-93.796 total time=   0.3s\n",
      "[CV 4/5] END ................model__alpha=9.0;, score=-92.701 total time=   0.3s\n",
      "[CV 5/5] END ................model__alpha=9.0;, score=-91.205 total time=   0.3s\n",
      "[CV 1/5] END ................model__alpha=9.1;, score=-93.126 total time=   0.3s\n",
      "[CV 2/5] END ................model__alpha=9.1;, score=-92.333 total time=   0.3s\n",
      "[CV 3/5] END ................model__alpha=9.1;, score=-93.796 total time=   0.3s\n",
      "[CV 4/5] END ................model__alpha=9.1;, score=-92.701 total time=   0.3s\n",
      "[CV 5/5] END ................model__alpha=9.1;, score=-91.205 total time=   0.4s\n",
      "[CV 1/5] END ................model__alpha=9.2;, score=-93.126 total time=   0.3s\n",
      "[CV 2/5] END ................model__alpha=9.2;, score=-92.333 total time=   0.3s\n",
      "[CV 3/5] END ................model__alpha=9.2;, score=-93.796 total time=   0.3s\n",
      "[CV 4/5] END ................model__alpha=9.2;, score=-92.701 total time=   0.3s\n",
      "[CV 5/5] END ................model__alpha=9.2;, score=-91.205 total time=   0.3s\n",
      "[CV 1/5] END ................model__alpha=9.3;, score=-93.126 total time=   0.3s\n",
      "[CV 2/5] END ................model__alpha=9.3;, score=-92.333 total time=   0.3s\n",
      "[CV 3/5] END ................model__alpha=9.3;, score=-93.796 total time=   0.3s\n",
      "[CV 4/5] END ................model__alpha=9.3;, score=-92.701 total time=   0.3s\n",
      "[CV 5/5] END ................model__alpha=9.3;, score=-91.205 total time=   0.3s\n",
      "[CV 1/5] END ................model__alpha=9.4;, score=-93.126 total time=   0.3s\n",
      "[CV 2/5] END ................model__alpha=9.4;, score=-92.333 total time=   0.3s\n",
      "[CV 3/5] END ................model__alpha=9.4;, score=-93.796 total time=   0.3s\n",
      "[CV 4/5] END ................model__alpha=9.4;, score=-92.701 total time=   0.3s\n",
      "[CV 5/5] END ................model__alpha=9.4;, score=-91.205 total time=   0.3s\n",
      "[CV 1/5] END ................model__alpha=9.5;, score=-93.126 total time=   0.3s\n",
      "[CV 2/5] END ................model__alpha=9.5;, score=-92.333 total time=   0.3s\n",
      "[CV 3/5] END ................model__alpha=9.5;, score=-93.796 total time=   0.3s\n",
      "[CV 4/5] END ................model__alpha=9.5;, score=-92.701 total time=   0.3s\n",
      "[CV 5/5] END ................model__alpha=9.5;, score=-91.205 total time=   0.3s\n",
      "[CV 1/5] END ................model__alpha=9.6;, score=-93.126 total time=   0.3s\n",
      "[CV 2/5] END ................model__alpha=9.6;, score=-92.333 total time=   0.3s\n",
      "[CV 3/5] END ................model__alpha=9.6;, score=-93.796 total time=   0.3s\n",
      "[CV 4/5] END ................model__alpha=9.6;, score=-92.701 total time=   0.3s\n",
      "[CV 5/5] END ................model__alpha=9.6;, score=-91.205 total time=   0.3s\n",
      "[CV 1/5] END ..model__alpha=9.700000000000001;, score=-93.126 total time=   0.3s\n",
      "[CV 2/5] END ..model__alpha=9.700000000000001;, score=-92.333 total time=   0.3s\n",
      "[CV 3/5] END ..model__alpha=9.700000000000001;, score=-93.796 total time=   0.3s\n",
      "[CV 4/5] END ..model__alpha=9.700000000000001;, score=-92.701 total time=   0.3s\n",
      "[CV 5/5] END ..model__alpha=9.700000000000001;, score=-91.205 total time=   0.3s\n",
      "[CV 1/5] END ................model__alpha=9.8;, score=-93.126 total time=   0.3s\n",
      "[CV 2/5] END ................model__alpha=9.8;, score=-92.333 total time=   0.3s\n",
      "[CV 3/5] END ................model__alpha=9.8;, score=-93.796 total time=   0.3s\n",
      "[CV 4/5] END ................model__alpha=9.8;, score=-92.701 total time=   0.3s\n",
      "[CV 5/5] END ................model__alpha=9.8;, score=-91.205 total time=   0.3s\n",
      "[CV 1/5] END ................model__alpha=9.9;, score=-93.126 total time=   0.3s\n",
      "[CV 2/5] END ................model__alpha=9.9;, score=-92.333 total time=   0.3s\n",
      "[CV 3/5] END ................model__alpha=9.9;, score=-93.796 total time=   0.3s\n",
      "[CV 4/5] END ................model__alpha=9.9;, score=-92.701 total time=   0.3s\n",
      "[CV 5/5] END ................model__alpha=9.9;, score=-91.205 total time=   0.3s\n"
     ]
    },
    {
     "data": {
      "text/html": [
       "<style>#sk-container-id-44 {color: black;background-color: white;}#sk-container-id-44 pre{padding: 0;}#sk-container-id-44 div.sk-toggleable {background-color: white;}#sk-container-id-44 label.sk-toggleable__label {cursor: pointer;display: block;width: 100%;margin-bottom: 0;padding: 0.3em;box-sizing: border-box;text-align: center;}#sk-container-id-44 label.sk-toggleable__label-arrow:before {content: \"▸\";float: left;margin-right: 0.25em;color: #696969;}#sk-container-id-44 label.sk-toggleable__label-arrow:hover:before {color: black;}#sk-container-id-44 div.sk-estimator:hover label.sk-toggleable__label-arrow:before {color: black;}#sk-container-id-44 div.sk-toggleable__content {max-height: 0;max-width: 0;overflow: hidden;text-align: left;background-color: #f0f8ff;}#sk-container-id-44 div.sk-toggleable__content pre {margin: 0.2em;color: black;border-radius: 0.25em;background-color: #f0f8ff;}#sk-container-id-44 input.sk-toggleable__control:checked~div.sk-toggleable__content {max-height: 200px;max-width: 100%;overflow: auto;}#sk-container-id-44 input.sk-toggleable__control:checked~label.sk-toggleable__label-arrow:before {content: \"▾\";}#sk-container-id-44 div.sk-estimator input.sk-toggleable__control:checked~label.sk-toggleable__label {background-color: #d4ebff;}#sk-container-id-44 div.sk-label input.sk-toggleable__control:checked~label.sk-toggleable__label {background-color: #d4ebff;}#sk-container-id-44 input.sk-hidden--visually {border: 0;clip: rect(1px 1px 1px 1px);clip: rect(1px, 1px, 1px, 1px);height: 1px;margin: -1px;overflow: hidden;padding: 0;position: absolute;width: 1px;}#sk-container-id-44 div.sk-estimator {font-family: monospace;background-color: #f0f8ff;border: 1px dotted black;border-radius: 0.25em;box-sizing: border-box;margin-bottom: 0.5em;}#sk-container-id-44 div.sk-estimator:hover {background-color: #d4ebff;}#sk-container-id-44 div.sk-parallel-item::after {content: \"\";width: 100%;border-bottom: 1px solid gray;flex-grow: 1;}#sk-container-id-44 div.sk-label:hover label.sk-toggleable__label {background-color: #d4ebff;}#sk-container-id-44 div.sk-serial::before {content: \"\";position: absolute;border-left: 1px solid gray;box-sizing: border-box;top: 0;bottom: 0;left: 50%;z-index: 0;}#sk-container-id-44 div.sk-serial {display: flex;flex-direction: column;align-items: center;background-color: white;padding-right: 0.2em;padding-left: 0.2em;position: relative;}#sk-container-id-44 div.sk-item {position: relative;z-index: 1;}#sk-container-id-44 div.sk-parallel {display: flex;align-items: stretch;justify-content: center;background-color: white;position: relative;}#sk-container-id-44 div.sk-item::before, #sk-container-id-44 div.sk-parallel-item::before {content: \"\";position: absolute;border-left: 1px solid gray;box-sizing: border-box;top: 0;bottom: 0;left: 50%;z-index: -1;}#sk-container-id-44 div.sk-parallel-item {display: flex;flex-direction: column;z-index: 1;position: relative;background-color: white;}#sk-container-id-44 div.sk-parallel-item:first-child::after {align-self: flex-end;width: 50%;}#sk-container-id-44 div.sk-parallel-item:last-child::after {align-self: flex-start;width: 50%;}#sk-container-id-44 div.sk-parallel-item:only-child::after {width: 0;}#sk-container-id-44 div.sk-dashed-wrapped {border: 1px dashed gray;margin: 0 0.4em 0.5em 0.4em;box-sizing: border-box;padding-bottom: 0.4em;background-color: white;}#sk-container-id-44 div.sk-label label {font-family: monospace;font-weight: bold;display: inline-block;line-height: 1.2em;}#sk-container-id-44 div.sk-label-container {text-align: center;}#sk-container-id-44 div.sk-container {/* jupyter's `normalize.less` sets `[hidden] { display: none; }` but bootstrap.min.css set `[hidden] { display: none !important; }` so we also need the `!important` here to be able to override the default hidden behavior on the sphinx rendered scikit-learn.org. See: https://github.com/scikit-learn/scikit-learn/issues/21755 */display: inline-block !important;position: relative;}#sk-container-id-44 div.sk-text-repr-fallback {display: none;}</style><div id=\"sk-container-id-44\" class=\"sk-top-container\"><div class=\"sk-text-repr-fallback\"><pre>GridSearchCV(cv=5,\n",
       "             estimator=Pipeline(steps=[(&#x27;scaler&#x27;, StandardScaler()),\n",
       "                                       (&#x27;model&#x27;, Lasso())]),\n",
       "             param_grid={&#x27;model__alpha&#x27;: array([0.1, 0.2, 0.3, 0.4, 0.5, 0.6, 0.7, 0.8, 0.9, 1. , 1.1, 1.2, 1.3,\n",
       "       1.4, 1.5, 1.6, 1.7, 1.8, 1.9, 2. , 2.1, 2.2, 2.3, 2.4, 2.5, 2.6,\n",
       "       2.7, 2.8, 2.9, 3. , 3.1, 3.2, 3.3, 3.4, 3.5, 3.6, 3.7, 3.8, 3.9,\n",
       "       4. , 4.1, 4.2, 4.3, 4.4, 4.5, 4.6, 4.7, 4.8, 4.9, 5. , 5.1, 5.2,\n",
       "       5.3, 5.4, 5.5, 5.6, 5.7, 5.8, 5.9, 6. , 6.1, 6.2, 6.3, 6.4, 6.5,\n",
       "       6.6, 6.7, 6.8, 6.9, 7. , 7.1, 7.2, 7.3, 7.4, 7.5, 7.6, 7.7, 7.8,\n",
       "       7.9, 8. , 8.1, 8.2, 8.3, 8.4, 8.5, 8.6, 8.7, 8.8, 8.9, 9. , 9.1,\n",
       "       9.2, 9.3, 9.4, 9.5, 9.6, 9.7, 9.8, 9.9])},\n",
       "             scoring=&#x27;neg_mean_squared_error&#x27;, verbose=3)</pre><b>In a Jupyter environment, please rerun this cell to show the HTML representation or trust the notebook. <br />On GitHub, the HTML representation is unable to render, please try loading this page with nbviewer.org.</b></div><div class=\"sk-container\" hidden><div class=\"sk-item sk-dashed-wrapped\"><div class=\"sk-label-container\"><div class=\"sk-label sk-toggleable\"><input class=\"sk-toggleable__control sk-hidden--visually\" id=\"sk-estimator-id-134\" type=\"checkbox\" ><label for=\"sk-estimator-id-134\" class=\"sk-toggleable__label sk-toggleable__label-arrow\">GridSearchCV</label><div class=\"sk-toggleable__content\"><pre>GridSearchCV(cv=5,\n",
       "             estimator=Pipeline(steps=[(&#x27;scaler&#x27;, StandardScaler()),\n",
       "                                       (&#x27;model&#x27;, Lasso())]),\n",
       "             param_grid={&#x27;model__alpha&#x27;: array([0.1, 0.2, 0.3, 0.4, 0.5, 0.6, 0.7, 0.8, 0.9, 1. , 1.1, 1.2, 1.3,\n",
       "       1.4, 1.5, 1.6, 1.7, 1.8, 1.9, 2. , 2.1, 2.2, 2.3, 2.4, 2.5, 2.6,\n",
       "       2.7, 2.8, 2.9, 3. , 3.1, 3.2, 3.3, 3.4, 3.5, 3.6, 3.7, 3.8, 3.9,\n",
       "       4. , 4.1, 4.2, 4.3, 4.4, 4.5, 4.6, 4.7, 4.8, 4.9, 5. , 5.1, 5.2,\n",
       "       5.3, 5.4, 5.5, 5.6, 5.7, 5.8, 5.9, 6. , 6.1, 6.2, 6.3, 6.4, 6.5,\n",
       "       6.6, 6.7, 6.8, 6.9, 7. , 7.1, 7.2, 7.3, 7.4, 7.5, 7.6, 7.7, 7.8,\n",
       "       7.9, 8. , 8.1, 8.2, 8.3, 8.4, 8.5, 8.6, 8.7, 8.8, 8.9, 9. , 9.1,\n",
       "       9.2, 9.3, 9.4, 9.5, 9.6, 9.7, 9.8, 9.9])},\n",
       "             scoring=&#x27;neg_mean_squared_error&#x27;, verbose=3)</pre></div></div></div><div class=\"sk-parallel\"><div class=\"sk-parallel-item\"><div class=\"sk-item\"><div class=\"sk-label-container\"><div class=\"sk-label sk-toggleable\"><input class=\"sk-toggleable__control sk-hidden--visually\" id=\"sk-estimator-id-135\" type=\"checkbox\" ><label for=\"sk-estimator-id-135\" class=\"sk-toggleable__label sk-toggleable__label-arrow\">estimator: Pipeline</label><div class=\"sk-toggleable__content\"><pre>Pipeline(steps=[(&#x27;scaler&#x27;, StandardScaler()), (&#x27;model&#x27;, Lasso())])</pre></div></div></div><div class=\"sk-serial\"><div class=\"sk-item\"><div class=\"sk-serial\"><div class=\"sk-item\"><div class=\"sk-estimator sk-toggleable\"><input class=\"sk-toggleable__control sk-hidden--visually\" id=\"sk-estimator-id-136\" type=\"checkbox\" ><label for=\"sk-estimator-id-136\" class=\"sk-toggleable__label sk-toggleable__label-arrow\">StandardScaler</label><div class=\"sk-toggleable__content\"><pre>StandardScaler()</pre></div></div></div><div class=\"sk-item\"><div class=\"sk-estimator sk-toggleable\"><input class=\"sk-toggleable__control sk-hidden--visually\" id=\"sk-estimator-id-137\" type=\"checkbox\" ><label for=\"sk-estimator-id-137\" class=\"sk-toggleable__label sk-toggleable__label-arrow\">Lasso</label><div class=\"sk-toggleable__content\"><pre>Lasso()</pre></div></div></div></div></div></div></div></div></div></div></div></div>"
      ],
      "text/plain": [
       "GridSearchCV(cv=5,\n",
       "             estimator=Pipeline(steps=[('scaler', StandardScaler()),\n",
       "                                       ('model', Lasso())]),\n",
       "             param_grid={'model__alpha': array([0.1, 0.2, 0.3, 0.4, 0.5, 0.6, 0.7, 0.8, 0.9, 1. , 1.1, 1.2, 1.3,\n",
       "       1.4, 1.5, 1.6, 1.7, 1.8, 1.9, 2. , 2.1, 2.2, 2.3, 2.4, 2.5, 2.6,\n",
       "       2.7, 2.8, 2.9, 3. , 3.1, 3.2, 3.3, 3.4, 3.5, 3.6, 3.7, 3.8, 3.9,\n",
       "       4. , 4.1, 4.2, 4.3, 4.4, 4.5, 4.6, 4.7, 4.8, 4.9, 5. , 5.1, 5.2,\n",
       "       5.3, 5.4, 5.5, 5.6, 5.7, 5.8, 5.9, 6. , 6.1, 6.2, 6.3, 6.4, 6.5,\n",
       "       6.6, 6.7, 6.8, 6.9, 7. , 7.1, 7.2, 7.3, 7.4, 7.5, 7.6, 7.7, 7.8,\n",
       "       7.9, 8. , 8.1, 8.2, 8.3, 8.4, 8.5, 8.6, 8.7, 8.8, 8.9, 9. , 9.1,\n",
       "       9.2, 9.3, 9.4, 9.5, 9.6, 9.7, 9.8, 9.9])},\n",
       "             scoring='neg_mean_squared_error', verbose=3)"
      ]
     },
     "execution_count": 560,
     "metadata": {},
     "output_type": "execute_result"
    }
   ],
   "source": [
    "search.fit(X_train,Y_train)"
   ]
  },
  {
   "cell_type": "code",
   "execution_count": 561,
   "id": "b9f03d1e",
   "metadata": {},
   "outputs": [
    {
     "data": {
      "text/plain": [
       "{'model__alpha': 0.1}"
      ]
     },
     "execution_count": 561,
     "metadata": {},
     "output_type": "execute_result"
    }
   ],
   "source": [
    "search.best_params_"
   ]
  },
  {
   "cell_type": "code",
   "execution_count": 562,
   "id": "9e7346ea",
   "metadata": {},
   "outputs": [],
   "source": [
    "coefficients = search.best_estimator_.named_steps['model'].coef_\n",
    "importance = np.abs(coefficients)\n"
   ]
  },
  {
   "cell_type": "code",
   "execution_count": 563,
   "id": "d0f01b15",
   "metadata": {},
   "outputs": [
    {
     "data": {
      "text/plain": [
       "Index(['illegal_industry', 'emiss_agropec_full', 'n_jobs_MACHINERY',\n",
       "       'n_companies_SMOKE', 'n_companies_WOOD PROD', 'rain1', 'near_roads',\n",
       "       'n_jobs_AGRICULTURE', 'n_jobs_MINING'],\n",
       "      dtype='object')"
      ]
     },
     "execution_count": 563,
     "metadata": {},
     "output_type": "execute_result"
    }
   ],
   "source": [
    "X.columns[np.argsort(np.array(abs( importance )))[::-1][0:9]]"
   ]
  },
  {
   "cell_type": "code",
   "execution_count": 564,
   "id": "9638dfe1",
   "metadata": {},
   "outputs": [
    {
     "data": {
      "text/plain": [
       "array([0.52234651, 0.44754617, 0.35420192, 0.35114794, 0.28636581,\n",
       "       0.27489086, 0.23303574, 0.15230478, 0.14259647])"
      ]
     },
     "execution_count": 564,
     "metadata": {},
     "output_type": "execute_result"
    }
   ],
   "source": [
    "np.sort(np.array(abs(importance)))[::-1][0:9]"
   ]
  },
  {
   "cell_type": "code",
   "execution_count": 565,
   "id": "f8bdc3dd",
   "metadata": {},
   "outputs": [],
   "source": [
    "#np.array(X.columns)[importance > 0]\n"
   ]
  },
  {
   "cell_type": "code",
   "execution_count": 566,
   "id": "2d67b2f4",
   "metadata": {},
   "outputs": [],
   "source": [
    "#np.array(X.columns)[importance == 0]"
   ]
  },
  {
   "cell_type": "markdown",
   "id": "d4967e36",
   "metadata": {},
   "source": [
    "## Gradient Boosting Machine"
   ]
  },
  {
   "cell_type": "markdown",
   "id": "87e33576",
   "metadata": {},
   "source": [
    "5.1.3. Gradient Boosting Machine. Gradient Boosting Machines (GBM) are ensembles of weak learners, in this case, decision trees. Under boosting, classification algorithms are sequentially applied to a reweighted version of the training data (Friedman et al., 2000). GBM is a variant of Random Forests, in which trees are not fitted randomly nor independently. Instead, each tree is fitted sequentially to the full dataset, in such a way that the weaknesses of trees are identified by using gradients in the loss function, allowing subsequent predictors to learn from the mistakes of the previous ones. In other words, a gradient descent procedure is used to minimize the loss when adding new trees. Consequently, as opposed to Random Forests, observations are not selected via bootstraping, but as a function of past errors. In this way, the addition of each tree offers a slight improvement in the model (Freund et al., 1999). **In our models, we keep fixed the learning rate (shrinkage parameter) and the minimum number of observations in the terminal nodes to avoid overfitting, and use cross-validation to determine the optimal number of trees and the interaction depth.**\n",
    "\n",
    "- figure out what learning rate they used, I did 0.1\n",
    "- figure out what they used for min_samples_leaf"
   ]
  },
  {
   "cell_type": "code",
   "execution_count": 567,
   "id": "d82730dc",
   "metadata": {},
   "outputs": [],
   "source": [
    "from sklearn.model_selection import cross_val_score\n",
    "from sklearn.model_selection import RepeatedKFold\n",
    "from sklearn.ensemble import GradientBoostingRegressor"
   ]
  },
  {
   "cell_type": "code",
   "execution_count": null,
   "id": "53b70999",
   "metadata": {},
   "outputs": [],
   "source": []
  },
  {
   "cell_type": "code",
   "execution_count": 568,
   "id": "6267d9d4",
   "metadata": {},
   "outputs": [],
   "source": [
    "pipeline = Pipeline([\n",
    "                     ('scaler',StandardScaler()),\n",
    "                     ('model',GradientBoostingRegressor(learning_rate = 0.1, min_samples_leaf = 2))\n",
    "])"
   ]
  },
  {
   "cell_type": "code",
   "execution_count": null,
   "id": "d74c26b1",
   "metadata": {},
   "outputs": [],
   "source": []
  },
  {
   "cell_type": "code",
   "execution_count": 569,
   "id": "3161c647",
   "metadata": {},
   "outputs": [],
   "source": [
    "search = GridSearchCV(pipeline,\n",
    "                      {'model__n_estimators':np.arange(50, 150, 50), 'model__max_depth':np.arange(3, 5, 1)},\n",
    "                      cv = 5, scoring = \"neg_mean_squared_error\",verbose = 3\n",
    "                      )"
   ]
  },
  {
   "cell_type": "code",
   "execution_count": 570,
   "id": "4bf5d847",
   "metadata": {},
   "outputs": [
    {
     "name": "stdout",
     "output_type": "stream",
     "text": [
      "Fitting 5 folds for each of 4 candidates, totalling 20 fits\n",
      "[CV 1/5] END model__max_depth=3, model__n_estimators=50;, score=-87.412 total time=  20.5s\n",
      "[CV 2/5] END model__max_depth=3, model__n_estimators=50;, score=-86.713 total time=  21.3s\n",
      "[CV 3/5] END model__max_depth=3, model__n_estimators=50;, score=-88.475 total time=  20.9s\n",
      "[CV 4/5] END model__max_depth=3, model__n_estimators=50;, score=-87.253 total time=  20.5s\n",
      "[CV 5/5] END model__max_depth=3, model__n_estimators=50;, score=-85.908 total time=  20.4s\n",
      "[CV 1/5] END model__max_depth=3, model__n_estimators=100;, score=-86.167 total time=  40.4s\n",
      "[CV 2/5] END model__max_depth=3, model__n_estimators=100;, score=-85.901 total time=  40.7s\n",
      "[CV 3/5] END model__max_depth=3, model__n_estimators=100;, score=-87.609 total time=  40.7s\n",
      "[CV 4/5] END model__max_depth=3, model__n_estimators=100;, score=-86.183 total time=  40.1s\n",
      "[CV 5/5] END model__max_depth=3, model__n_estimators=100;, score=-84.978 total time=  40.7s\n",
      "[CV 1/5] END model__max_depth=4, model__n_estimators=50;, score=-86.228 total time=  26.6s\n",
      "[CV 2/5] END model__max_depth=4, model__n_estimators=50;, score=-85.695 total time=  27.4s\n",
      "[CV 3/5] END model__max_depth=4, model__n_estimators=50;, score=-87.551 total time=  26.7s\n",
      "[CV 4/5] END model__max_depth=4, model__n_estimators=50;, score=-86.243 total time=  26.8s\n",
      "[CV 5/5] END model__max_depth=4, model__n_estimators=50;, score=-84.869 total time=  26.9s\n",
      "[CV 1/5] END model__max_depth=4, model__n_estimators=100;, score=-85.218 total time=  53.2s\n",
      "[CV 2/5] END model__max_depth=4, model__n_estimators=100;, score=-84.983 total time=  53.2s\n",
      "[CV 3/5] END model__max_depth=4, model__n_estimators=100;, score=-86.721 total time=  53.1s\n",
      "[CV 4/5] END model__max_depth=4, model__n_estimators=100;, score=-85.338 total time=  53.5s\n",
      "[CV 5/5] END model__max_depth=4, model__n_estimators=100;, score=-83.991 total time=  53.6s\n"
     ]
    },
    {
     "data": {
      "text/html": [
       "<style>#sk-container-id-45 {color: black;background-color: white;}#sk-container-id-45 pre{padding: 0;}#sk-container-id-45 div.sk-toggleable {background-color: white;}#sk-container-id-45 label.sk-toggleable__label {cursor: pointer;display: block;width: 100%;margin-bottom: 0;padding: 0.3em;box-sizing: border-box;text-align: center;}#sk-container-id-45 label.sk-toggleable__label-arrow:before {content: \"▸\";float: left;margin-right: 0.25em;color: #696969;}#sk-container-id-45 label.sk-toggleable__label-arrow:hover:before {color: black;}#sk-container-id-45 div.sk-estimator:hover label.sk-toggleable__label-arrow:before {color: black;}#sk-container-id-45 div.sk-toggleable__content {max-height: 0;max-width: 0;overflow: hidden;text-align: left;background-color: #f0f8ff;}#sk-container-id-45 div.sk-toggleable__content pre {margin: 0.2em;color: black;border-radius: 0.25em;background-color: #f0f8ff;}#sk-container-id-45 input.sk-toggleable__control:checked~div.sk-toggleable__content {max-height: 200px;max-width: 100%;overflow: auto;}#sk-container-id-45 input.sk-toggleable__control:checked~label.sk-toggleable__label-arrow:before {content: \"▾\";}#sk-container-id-45 div.sk-estimator input.sk-toggleable__control:checked~label.sk-toggleable__label {background-color: #d4ebff;}#sk-container-id-45 div.sk-label input.sk-toggleable__control:checked~label.sk-toggleable__label {background-color: #d4ebff;}#sk-container-id-45 input.sk-hidden--visually {border: 0;clip: rect(1px 1px 1px 1px);clip: rect(1px, 1px, 1px, 1px);height: 1px;margin: -1px;overflow: hidden;padding: 0;position: absolute;width: 1px;}#sk-container-id-45 div.sk-estimator {font-family: monospace;background-color: #f0f8ff;border: 1px dotted black;border-radius: 0.25em;box-sizing: border-box;margin-bottom: 0.5em;}#sk-container-id-45 div.sk-estimator:hover {background-color: #d4ebff;}#sk-container-id-45 div.sk-parallel-item::after {content: \"\";width: 100%;border-bottom: 1px solid gray;flex-grow: 1;}#sk-container-id-45 div.sk-label:hover label.sk-toggleable__label {background-color: #d4ebff;}#sk-container-id-45 div.sk-serial::before {content: \"\";position: absolute;border-left: 1px solid gray;box-sizing: border-box;top: 0;bottom: 0;left: 50%;z-index: 0;}#sk-container-id-45 div.sk-serial {display: flex;flex-direction: column;align-items: center;background-color: white;padding-right: 0.2em;padding-left: 0.2em;position: relative;}#sk-container-id-45 div.sk-item {position: relative;z-index: 1;}#sk-container-id-45 div.sk-parallel {display: flex;align-items: stretch;justify-content: center;background-color: white;position: relative;}#sk-container-id-45 div.sk-item::before, #sk-container-id-45 div.sk-parallel-item::before {content: \"\";position: absolute;border-left: 1px solid gray;box-sizing: border-box;top: 0;bottom: 0;left: 50%;z-index: -1;}#sk-container-id-45 div.sk-parallel-item {display: flex;flex-direction: column;z-index: 1;position: relative;background-color: white;}#sk-container-id-45 div.sk-parallel-item:first-child::after {align-self: flex-end;width: 50%;}#sk-container-id-45 div.sk-parallel-item:last-child::after {align-self: flex-start;width: 50%;}#sk-container-id-45 div.sk-parallel-item:only-child::after {width: 0;}#sk-container-id-45 div.sk-dashed-wrapped {border: 1px dashed gray;margin: 0 0.4em 0.5em 0.4em;box-sizing: border-box;padding-bottom: 0.4em;background-color: white;}#sk-container-id-45 div.sk-label label {font-family: monospace;font-weight: bold;display: inline-block;line-height: 1.2em;}#sk-container-id-45 div.sk-label-container {text-align: center;}#sk-container-id-45 div.sk-container {/* jupyter's `normalize.less` sets `[hidden] { display: none; }` but bootstrap.min.css set `[hidden] { display: none !important; }` so we also need the `!important` here to be able to override the default hidden behavior on the sphinx rendered scikit-learn.org. See: https://github.com/scikit-learn/scikit-learn/issues/21755 */display: inline-block !important;position: relative;}#sk-container-id-45 div.sk-text-repr-fallback {display: none;}</style><div id=\"sk-container-id-45\" class=\"sk-top-container\"><div class=\"sk-text-repr-fallback\"><pre>GridSearchCV(cv=5,\n",
       "             estimator=Pipeline(steps=[(&#x27;scaler&#x27;, StandardScaler()),\n",
       "                                       (&#x27;model&#x27;,\n",
       "                                        GradientBoostingRegressor(min_samples_leaf=2))]),\n",
       "             param_grid={&#x27;model__max_depth&#x27;: array([3, 4]),\n",
       "                         &#x27;model__n_estimators&#x27;: array([ 50, 100])},\n",
       "             scoring=&#x27;neg_mean_squared_error&#x27;, verbose=3)</pre><b>In a Jupyter environment, please rerun this cell to show the HTML representation or trust the notebook. <br />On GitHub, the HTML representation is unable to render, please try loading this page with nbviewer.org.</b></div><div class=\"sk-container\" hidden><div class=\"sk-item sk-dashed-wrapped\"><div class=\"sk-label-container\"><div class=\"sk-label sk-toggleable\"><input class=\"sk-toggleable__control sk-hidden--visually\" id=\"sk-estimator-id-138\" type=\"checkbox\" ><label for=\"sk-estimator-id-138\" class=\"sk-toggleable__label sk-toggleable__label-arrow\">GridSearchCV</label><div class=\"sk-toggleable__content\"><pre>GridSearchCV(cv=5,\n",
       "             estimator=Pipeline(steps=[(&#x27;scaler&#x27;, StandardScaler()),\n",
       "                                       (&#x27;model&#x27;,\n",
       "                                        GradientBoostingRegressor(min_samples_leaf=2))]),\n",
       "             param_grid={&#x27;model__max_depth&#x27;: array([3, 4]),\n",
       "                         &#x27;model__n_estimators&#x27;: array([ 50, 100])},\n",
       "             scoring=&#x27;neg_mean_squared_error&#x27;, verbose=3)</pre></div></div></div><div class=\"sk-parallel\"><div class=\"sk-parallel-item\"><div class=\"sk-item\"><div class=\"sk-label-container\"><div class=\"sk-label sk-toggleable\"><input class=\"sk-toggleable__control sk-hidden--visually\" id=\"sk-estimator-id-139\" type=\"checkbox\" ><label for=\"sk-estimator-id-139\" class=\"sk-toggleable__label sk-toggleable__label-arrow\">estimator: Pipeline</label><div class=\"sk-toggleable__content\"><pre>Pipeline(steps=[(&#x27;scaler&#x27;, StandardScaler()),\n",
       "                (&#x27;model&#x27;, GradientBoostingRegressor(min_samples_leaf=2))])</pre></div></div></div><div class=\"sk-serial\"><div class=\"sk-item\"><div class=\"sk-serial\"><div class=\"sk-item\"><div class=\"sk-estimator sk-toggleable\"><input class=\"sk-toggleable__control sk-hidden--visually\" id=\"sk-estimator-id-140\" type=\"checkbox\" ><label for=\"sk-estimator-id-140\" class=\"sk-toggleable__label sk-toggleable__label-arrow\">StandardScaler</label><div class=\"sk-toggleable__content\"><pre>StandardScaler()</pre></div></div></div><div class=\"sk-item\"><div class=\"sk-estimator sk-toggleable\"><input class=\"sk-toggleable__control sk-hidden--visually\" id=\"sk-estimator-id-141\" type=\"checkbox\" ><label for=\"sk-estimator-id-141\" class=\"sk-toggleable__label sk-toggleable__label-arrow\">GradientBoostingRegressor</label><div class=\"sk-toggleable__content\"><pre>GradientBoostingRegressor(min_samples_leaf=2)</pre></div></div></div></div></div></div></div></div></div></div></div></div>"
      ],
      "text/plain": [
       "GridSearchCV(cv=5,\n",
       "             estimator=Pipeline(steps=[('scaler', StandardScaler()),\n",
       "                                       ('model',\n",
       "                                        GradientBoostingRegressor(min_samples_leaf=2))]),\n",
       "             param_grid={'model__max_depth': array([3, 4]),\n",
       "                         'model__n_estimators': array([ 50, 100])},\n",
       "             scoring='neg_mean_squared_error', verbose=3)"
      ]
     },
     "execution_count": 570,
     "metadata": {},
     "output_type": "execute_result"
    }
   ],
   "source": [
    "search.fit(X_train,Y_train)"
   ]
  },
  {
   "cell_type": "code",
   "execution_count": 571,
   "id": "00e925ab",
   "metadata": {},
   "outputs": [
    {
     "data": {
      "text/plain": [
       "{'model__max_depth': 4, 'model__n_estimators': 100}"
      ]
     },
     "execution_count": 571,
     "metadata": {},
     "output_type": "execute_result"
    }
   ],
   "source": [
    "search.best_params_"
   ]
  },
  {
   "cell_type": "code",
   "execution_count": 572,
   "id": "ec6a85f2",
   "metadata": {},
   "outputs": [],
   "source": [
    "coefficients = search.best_estimator_.named_steps['model'].feature_importances_\n",
    "importance = np.abs(coefficients)\n",
    "\n"
   ]
  },
  {
   "cell_type": "code",
   "execution_count": 573,
   "id": "97097e21",
   "metadata": {},
   "outputs": [
    {
     "data": {
      "text/plain": [
       "Index(['emiss_agropec_full', 'rain1', 'n_companies_SMOKE', 'near_roads',\n",
       "       'near_mines', 'near_hidrovia', 'elevation', 'emiss_agr_full',\n",
       "       'n_companies_TRANSPORTATION'],\n",
       "      dtype='object')"
      ]
     },
     "execution_count": 573,
     "metadata": {},
     "output_type": "execute_result"
    }
   ],
   "source": [
    "X.columns[np.argsort(np.array(abs( importance )))[::-1][0:9]]"
   ]
  },
  {
   "cell_type": "code",
   "execution_count": 574,
   "id": "a2229995",
   "metadata": {},
   "outputs": [
    {
     "data": {
      "text/plain": [
       "array([0.10818899, 0.10558344, 0.10314049, 0.05996834, 0.05936298,\n",
       "       0.04117405, 0.04045005, 0.03792972, 0.0282134 ])"
      ]
     },
     "execution_count": 574,
     "metadata": {},
     "output_type": "execute_result"
    }
   ],
   "source": [
    "np.sort(np.array(abs(importance)))[::-1][0:9]"
   ]
  },
  {
   "cell_type": "markdown",
   "id": "f4d98f72",
   "metadata": {},
   "source": [
    "## Neural Network\n",
    "\n",
    "5.1.4. Neural Networks. Neural networks model the relationship between input and output signals through models that mimic the way biological brains work. In particular, neural networks are composed of three basic elements: an activation function, that for each neuron, transforms the weighted average of input signals (predictors) into an output signal; a network topology, which is composed by the number of neurons, layers, and connections used by the model; and a training algorithm, which determines the way in which connection weights are set with the task of activating or not neurons as a function of the input signals. This process determines the final prediction of the model. The most common activation functions include the logistic sigmoid, linear, saturated linear, hyperbolic tangent, and Gaussian (Radial Basis) functions. In the end, the process entails an optimization problem in which the optimal weights of the input signals are determined for each node. **In this analysis, we keep fixed a logistic activation function and use cross-validation to determine the optimal number of units in the hidden layer (size) and the regularization parameter (decay).**\n",
    "\n",
    "\n",
    "In the case of neural networks, importance is determined by the weights that connect neurons within the network."
   ]
  },
  {
   "cell_type": "code",
   "execution_count": 114,
   "id": "fddbf554",
   "metadata": {},
   "outputs": [],
   "source": [
    "from sklearn.neural_network import MLPRegressor"
   ]
  },
  {
   "cell_type": "code",
   "execution_count": 115,
   "id": "d055d99a",
   "metadata": {},
   "outputs": [],
   "source": [
    "pipeline = Pipeline([\n",
    "                     ('scaler',StandardScaler()),\n",
    "                     ('model', MLPRegressor(activation = 'logistic', random_state=42))\n",
    "])"
   ]
  },
  {
   "cell_type": "code",
   "execution_count": 116,
   "id": "eb6bfd85",
   "metadata": {},
   "outputs": [],
   "source": [
    "#search = GridSearchCV(pipeline,\n",
    "#                      {'model__hidden_layer_sizes':[(50,),(100,),(150, )], 'model__alpha':np.arange(0.00001, 0.001, 0.0001)},\n",
    "#                      cv = 5, scoring = \"neg_mean_squared_error\",verbose = 3\n",
    "#                      )"
   ]
  },
  {
   "cell_type": "code",
   "execution_count": 117,
   "id": "f5aa874f",
   "metadata": {},
   "outputs": [],
   "source": [
    "search = GridSearchCV(pipeline,\n",
    "                      {'model__hidden_layer_sizes':[(50,),(100,)], 'model__alpha':np.arange(0.00001, 0.001, 0.001)},\n",
    "                      cv = 5, scoring = \"neg_mean_squared_error\",verbose = 3\n",
    "                      )"
   ]
  },
  {
   "cell_type": "code",
   "execution_count": 118,
   "id": "46856577",
   "metadata": {},
   "outputs": [
    {
     "name": "stdout",
     "output_type": "stream",
     "text": [
      "Fitting 5 folds for each of 2 candidates, totalling 10 fits\n",
      "[CV] model__alpha=1e-05, model__hidden_layer_sizes=(50,) .............\n",
      "[CV]  model__alpha=1e-05, model__hidden_layer_sizes=(50,), score=-191.6413519048654, total=  50.7s\n",
      "[CV] model__alpha=1e-05, model__hidden_layer_sizes=(50,) .............\n"
     ]
    },
    {
     "name": "stderr",
     "output_type": "stream",
     "text": [
      "[Parallel(n_jobs=1)]: Done   1 out of   1 | elapsed:   50.9s remaining:    0.0s\n"
     ]
    },
    {
     "name": "stdout",
     "output_type": "stream",
     "text": [
      "[CV]  model__alpha=1e-05, model__hidden_layer_sizes=(50,), score=-195.51521274117843, total=  48.1s\n",
      "[CV] model__alpha=1e-05, model__hidden_layer_sizes=(50,) .............\n"
     ]
    },
    {
     "name": "stderr",
     "output_type": "stream",
     "text": [
      "[Parallel(n_jobs=1)]: Done   2 out of   2 | elapsed:  1.7min remaining:    0.0s\n"
     ]
    },
    {
     "name": "stdout",
     "output_type": "stream",
     "text": [
      "[CV]  model__alpha=1e-05, model__hidden_layer_sizes=(50,), score=-190.1157574529073, total=  44.0s\n",
      "[CV] model__alpha=1e-05, model__hidden_layer_sizes=(50,) .............\n",
      "[CV]  model__alpha=1e-05, model__hidden_layer_sizes=(50,), score=-190.8627666256797, total=  45.8s\n",
      "[CV] model__alpha=1e-05, model__hidden_layer_sizes=(50,) .............\n",
      "[CV]  model__alpha=1e-05, model__hidden_layer_sizes=(50,), score=-190.98240897085142, total=  45.6s\n",
      "[CV] model__alpha=1e-05, model__hidden_layer_sizes=(100,) ............\n",
      "[CV]  model__alpha=1e-05, model__hidden_layer_sizes=(100,), score=-181.08384632539477, total= 1.2min\n",
      "[CV] model__alpha=1e-05, model__hidden_layer_sizes=(100,) ............\n",
      "[CV]  model__alpha=1e-05, model__hidden_layer_sizes=(100,), score=-178.5521569859331, total= 1.2min\n",
      "[CV] model__alpha=1e-05, model__hidden_layer_sizes=(100,) ............\n",
      "[CV]  model__alpha=1e-05, model__hidden_layer_sizes=(100,), score=-176.8844953217453, total= 1.2min\n",
      "[CV] model__alpha=1e-05, model__hidden_layer_sizes=(100,) ............\n",
      "[CV]  model__alpha=1e-05, model__hidden_layer_sizes=(100,), score=-173.84623459690542, total= 1.1min\n",
      "[CV] model__alpha=1e-05, model__hidden_layer_sizes=(100,) ............\n",
      "[CV]  model__alpha=1e-05, model__hidden_layer_sizes=(100,), score=-176.33534733862325, total= 1.1min\n"
     ]
    },
    {
     "name": "stderr",
     "output_type": "stream",
     "text": [
      "[Parallel(n_jobs=1)]: Done  10 out of  10 | elapsed:  9.7min finished\n"
     ]
    },
    {
     "data": {
      "text/plain": [
       "GridSearchCV(cv=5, error_score='raise',\n",
       "       estimator=Pipeline(memory=None,\n",
       "     steps=[('scaler', StandardScaler(copy=True, with_mean=True, with_std=True)), ('model', MLPRegressor(activation='logistic', alpha=0.0001, batch_size='auto',\n",
       "       beta_1=0.9, beta_2=0.999, early_stopping=False, epsilon=1e-08,\n",
       "       hidden_layer_sizes=(100,), learning_rate='constant',\n",
       "       learnin...       solver='adam', tol=0.0001, validation_fraction=0.1, verbose=False,\n",
       "       warm_start=False))]),\n",
       "       fit_params=None, iid=True, n_jobs=1,\n",
       "       param_grid={'model__hidden_layer_sizes': [(50,), (100,)], 'model__alpha': array([1.e-05])},\n",
       "       pre_dispatch='2*n_jobs', refit=True, return_train_score='warn',\n",
       "       scoring='neg_mean_squared_error', verbose=3)"
      ]
     },
     "execution_count": 118,
     "metadata": {},
     "output_type": "execute_result"
    }
   ],
   "source": [
    "search.fit(X_train,Y_train)"
   ]
  },
  {
   "cell_type": "code",
   "execution_count": 119,
   "id": "add5a7e3",
   "metadata": {},
   "outputs": [
    {
     "data": {
      "text/plain": [
       "[array([[ 0.75548786,  1.06596312, -0.04782517, ..., -0.15874169,\n",
       "          2.19734343,  3.24239091],\n",
       "        [-5.57644112, -0.59442137, -5.88787021, ..., -6.45570742,\n",
       "         -1.72369361,  1.71062616],\n",
       "        [ 1.27235407,  0.12020897,  0.46485571, ..., -0.13080582,\n",
       "          0.87692592,  0.09162285],\n",
       "        ...,\n",
       "        [-1.4719489 , -0.24169463,  4.40726754, ...,  2.4545995 ,\n",
       "          1.23165105,  3.11205949],\n",
       "        [ 0.64712573, -3.86211834, -1.39325665, ...,  0.35964505,\n",
       "          0.28438471, -3.70023438],\n",
       "        [ 0.06914469,  2.98590669,  1.95811988, ..., -1.58893357,\n",
       "         -1.57679135,  6.85888204]]), array([[  1.14687716],\n",
       "        [-12.0034341 ],\n",
       "        [  3.18520091],\n",
       "        [  0.90896262],\n",
       "        [  3.48539061],\n",
       "        [  2.82077576],\n",
       "        [-13.41527625],\n",
       "        [  4.17703654],\n",
       "        [  3.56005133],\n",
       "        [  2.59546558],\n",
       "        [  0.62445709],\n",
       "        [  1.57678856],\n",
       "        [  2.3545209 ],\n",
       "        [  2.37885124],\n",
       "        [  3.5759784 ],\n",
       "        [  1.43732129],\n",
       "        [  3.41825734],\n",
       "        [  0.63947911],\n",
       "        [  1.80576508],\n",
       "        [  0.80834936],\n",
       "        [  3.54656244],\n",
       "        [  1.04107187],\n",
       "        [  0.95792439],\n",
       "        [  2.87279586],\n",
       "        [  3.22717531],\n",
       "        [  1.8906753 ],\n",
       "        [  2.86027548],\n",
       "        [  3.44797171],\n",
       "        [  2.29134967],\n",
       "        [  2.72362239],\n",
       "        [  0.39682543],\n",
       "        [  4.00221948],\n",
       "        [  1.11778413],\n",
       "        [  2.50478741],\n",
       "        [  1.22843966],\n",
       "        [  1.63323963],\n",
       "        [  3.8213355 ],\n",
       "        [  0.66920613],\n",
       "        [  1.55690629],\n",
       "        [  1.94621751],\n",
       "        [  3.05721554],\n",
       "        [-12.15607658],\n",
       "        [  3.51008826],\n",
       "        [  1.49126971],\n",
       "        [ -8.24596619],\n",
       "        [  0.34165525],\n",
       "        [  1.81350307],\n",
       "        [  3.07882942],\n",
       "        [  2.96031509],\n",
       "        [  2.50820758],\n",
       "        [  2.74018197],\n",
       "        [  1.97138053],\n",
       "        [  2.00696313],\n",
       "        [  0.79048013],\n",
       "        [  1.33765645],\n",
       "        [  1.23371754],\n",
       "        [  1.22665166],\n",
       "        [  0.2249446 ],\n",
       "        [  3.14283032],\n",
       "        [  2.57019257],\n",
       "        [  1.65751706],\n",
       "        [  1.12284037],\n",
       "        [  1.46128259],\n",
       "        [  0.92347296],\n",
       "        [  4.48976527],\n",
       "        [  3.3339034 ],\n",
       "        [  3.0159701 ],\n",
       "        [  3.38435874],\n",
       "        [  3.84595486],\n",
       "        [  1.9058039 ],\n",
       "        [  0.7572994 ],\n",
       "        [  3.0087535 ],\n",
       "        [  0.42400616],\n",
       "        [  2.0508454 ],\n",
       "        [  4.09313785],\n",
       "        [  1.31088599],\n",
       "        [  0.76782363],\n",
       "        [  2.65926941],\n",
       "        [  2.48254417],\n",
       "        [  0.19584079],\n",
       "        [  3.17632461],\n",
       "        [  2.53907268],\n",
       "        [  0.91346966],\n",
       "        [  1.46830284],\n",
       "        [  2.94905223],\n",
       "        [-12.69969437],\n",
       "        [  1.64487023],\n",
       "        [  1.7711516 ],\n",
       "        [  2.77340793],\n",
       "        [  4.38297444],\n",
       "        [  1.51741037],\n",
       "        [  0.24986783],\n",
       "        [  4.64561697],\n",
       "        [  3.30591701],\n",
       "        [  2.21571991],\n",
       "        [  3.11868416],\n",
       "        [  2.20350735],\n",
       "        [  3.9547937 ],\n",
       "        [  1.52987723],\n",
       "        [  4.38804814]])]"
      ]
     },
     "execution_count": 119,
     "metadata": {},
     "output_type": "execute_result"
    }
   ],
   "source": [
    "search.best_estimator_.named_steps['model'].coefs_"
   ]
  },
  {
   "cell_type": "code",
   "execution_count": 120,
   "id": "36ec464d",
   "metadata": {},
   "outputs": [],
   "source": [
    "coefficients = search.best_estimator_.named_steps['model'].coefs_\n",
    "importance = np.abs(coefficients)\n",
    "\n"
   ]
  },
  {
   "cell_type": "code",
   "execution_count": 2,
   "id": "ff40effe",
   "metadata": {},
   "outputs": [],
   "source": [
    "import eli5"
   ]
  },
  {
   "cell_type": "code",
   "execution_count": 3,
   "id": "2077eb27",
   "metadata": {},
   "outputs": [
    {
     "ename": "NameError",
     "evalue": "name 'search' is not defined",
     "output_type": "error",
     "traceback": [
      "\u001b[0;31m---------------------------------------------------------------------------\u001b[0m",
      "\u001b[0;31mNameError\u001b[0m                                 Traceback (most recent call last)",
      "\u001b[0;32m<ipython-input-3-bce20bdfabed>\u001b[0m in \u001b[0;36m<module>\u001b[0;34m\u001b[0m\n\u001b[1;32m      2\u001b[0m \u001b[0;32mfrom\u001b[0m \u001b[0meli5\u001b[0m\u001b[0;34m.\u001b[0m\u001b[0msklearn\u001b[0m \u001b[0;32mimport\u001b[0m \u001b[0mPermutationImportance\u001b[0m\u001b[0;34m\u001b[0m\u001b[0;34m\u001b[0m\u001b[0m\n\u001b[1;32m      3\u001b[0m \u001b[0;34m\u001b[0m\u001b[0m\n\u001b[0;32m----> 4\u001b[0;31m \u001b[0mperm\u001b[0m \u001b[0;34m=\u001b[0m \u001b[0mPermutationImportance\u001b[0m\u001b[0;34m(\u001b[0m\u001b[0msearch\u001b[0m\u001b[0;34m.\u001b[0m\u001b[0mbest_estimator_\u001b[0m\u001b[0;34m.\u001b[0m\u001b[0mnamed_steps\u001b[0m\u001b[0;34m[\u001b[0m\u001b[0;34m'model'\u001b[0m\u001b[0;34m]\u001b[0m\u001b[0;34m,\u001b[0m \u001b[0mrandom_state\u001b[0m\u001b[0;34m=\u001b[0m\u001b[0;36m1\u001b[0m\u001b[0;34m)\u001b[0m\u001b[0;34m.\u001b[0m\u001b[0mfit\u001b[0m\u001b[0;34m(\u001b[0m\u001b[0mX_test\u001b[0m\u001b[0;34m,\u001b[0m \u001b[0mY_test\u001b[0m\u001b[0;34m)\u001b[0m\u001b[0;34m\u001b[0m\u001b[0;34m\u001b[0m\u001b[0m\n\u001b[0m\u001b[1;32m      5\u001b[0m \u001b[0meli5\u001b[0m\u001b[0;34m.\u001b[0m\u001b[0mshow_weights\u001b[0m\u001b[0;34m(\u001b[0m\u001b[0mperm\u001b[0m\u001b[0;34m,\u001b[0m \u001b[0mfeature_names\u001b[0m \u001b[0;34m=\u001b[0m \u001b[0mX_test\u001b[0m\u001b[0;34m.\u001b[0m\u001b[0mcolumns\u001b[0m\u001b[0;34m.\u001b[0m\u001b[0mtolist\u001b[0m\u001b[0;34m(\u001b[0m\u001b[0;34m)\u001b[0m\u001b[0;34m)\u001b[0m\u001b[0;34m\u001b[0m\u001b[0;34m\u001b[0m\u001b[0m\n",
      "\u001b[0;31mNameError\u001b[0m: name 'search' is not defined"
     ]
    }
   ],
   "source": [
    "\n",
    "import eli5\n",
    "from eli5.sklearn import PermutationImportance\n",
    "\n",
    "perm = PermutationImportance(search.best_estimator_.named_steps['model'], random_state=1).fit(X_test, Y_test)\n",
    "eli5.show_weights(perm, feature_names = X_test.columns.tolist())"
   ]
  },
  {
   "cell_type": "code",
   "execution_count": 179,
   "id": "bf74175d",
   "metadata": {},
   "outputs": [],
   "source": [
    "#import shap\n",
    "\n",
    "#explainer = shap.KernelExplainer(model.predict,X_train)"
   ]
  },
  {
   "cell_type": "code",
   "execution_count": 180,
   "id": "cb6562f1",
   "metadata": {},
   "outputs": [],
   "source": [
    "#from sklearn.inspection import permutation_importance\n",
    "\n",
    "#r = permutation_importance(search.best_estimator_.named_steps['model'], X_test, Y_test,n_repeats=30, random_state=0)"
   ]
  },
  {
   "cell_type": "code",
   "execution_count": null,
   "id": "24ca08c8",
   "metadata": {},
   "outputs": [],
   "source": [
    "\n",
    "\n",
    "#for i in r.importances_mean.argsort()[::-1]:\n",
    "#     if r.importances_mean[i] - 2 * r.importances_std[i] > 0:\n",
    "#         print(f\"{diabetes.feature_names[i]:<8}\"\n",
    "#              f\"{r.importances_mean[i]:.3f}\"\n",
    "#                             f\" +/- {r.importances_std[i]:.3f}\")"
   ]
  },
  {
   "cell_type": "code",
   "execution_count": 132,
   "id": "3f56cbf1",
   "metadata": {},
   "outputs": [],
   "source": [
    "#X.columns[np.argsort(np.array(abs( importance )))[::-1][0:9]]"
   ]
  },
  {
   "cell_type": "markdown",
   "id": "2b014671",
   "metadata": {},
   "source": [
    "## Super Learner Ensemble"
   ]
  },
  {
   "cell_type": "markdown",
   "id": "d13d0be7",
   "metadata": {},
   "source": [
    "5.1.5. Super Learner Ensemble. Ensembles are collections of predictors which are grouped to each other in order to give a final prediction. It is usually the case that ensembles— as they result from the combination of different models—perform better than their individual components. For our analysis, we use the Super Learner ensemble method developed by Polley et al. (2011), which finds an optimal combination of individual prediction models by minimizing the cross-validated out-of-bag risk of these predictions. It has been shown that the Super Learner performs asymptotically as well as the best possible weighted combination of its constituent algorithms (Van der Laan et al., 2007). We use the Super Learner models not only to stack the individual predictions, but also to test for the relative importance of different groups of variables to predict corruption."
   ]
  },
  {
   "cell_type": "code",
   "execution_count": 181,
   "id": "11e481df",
   "metadata": {},
   "outputs": [
    {
     "name": "stderr",
     "output_type": "stream",
     "text": [
      "[MLENS] backend: threading\n"
     ]
    }
   ],
   "source": [
    "from mlens.ensemble import SuperLearner"
   ]
  },
  {
   "cell_type": "code",
   "execution_count": 182,
   "id": "9ebbdaf9",
   "metadata": {},
   "outputs": [],
   "source": [
    "#feed in the predictions for forest loss from each of the methods used above\n",
    "#do I feed in the best parameters of each one? probably but double check"
   ]
  },
  {
   "cell_type": "code",
   "execution_count": 183,
   "id": "cac1bcea",
   "metadata": {},
   "outputs": [],
   "source": [
    "def get_models():\n",
    "    models = list()\n",
    "    models.append(Lasso())\n",
    "    models.append(RandomForestRegressor(n_estimators=10))\n",
    "    models.append(GradientBoostingRegressor(learning_rate = 0.1, min_samples_leaf = 2))\n",
    "    models.append(MLPRegressor(activation = 'logistic', random_state=42))\n",
    "    return models"
   ]
  },
  {
   "cell_type": "code",
   "execution_count": null,
   "id": "ac3fb9c1",
   "metadata": {},
   "outputs": [],
   "source": [
    "def get_out_of_fold_predictions(X, y, models):\n",
    "    meta_X, meta_y = list(), list()\n",
    "    \n",
    "    # define split of data\n",
    "    kfold = KFold(n_splits=5, shuffle=True)\n",
    "    \n",
    "    # enumerate splits\n",
    "    for train_ix, test_ix in kfold.split(X):\n",
    "        fold_yhats = list()\n",
    "        # get data\n",
    "        train_X, test_X = X[train_ix], X[test_ix]\n",
    "        train_y, test_y = y[train_ix], y[test_ix]\n",
    "        meta_y.extend(test_y)\n",
    "        \n",
    "        # fit and make predictions with each sub-model\n",
    "        for model in models:\n",
    "            model.fit(train_X, train_y)\n",
    "            yhat = model.predict(test_X)\n",
    "            # store columns\n",
    "            fold_yhats.append(yhat.reshape(len(yhat),1))\n",
    "        # store fold yhats as columns\n",
    "        meta_X.append(hstack(fold_yhats))\n",
    "    return vstack(meta_X), asarray(meta_y)"
   ]
  }
 ],
 "metadata": {
  "kernelspec": {
   "display_name": "Python 3",
   "language": "python",
   "name": "python3"
  },
  "language_info": {
   "codemirror_mode": {
    "name": "ipython",
    "version": 3
   },
   "file_extension": ".py",
   "mimetype": "text/x-python",
   "name": "python",
   "nbconvert_exporter": "python",
   "pygments_lexer": "ipython3",
   "version": "3.8.8"
  }
 },
 "nbformat": 4,
 "nbformat_minor": 5
}
