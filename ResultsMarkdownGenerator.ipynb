{
 "cells": [
  {
   "cell_type": "code",
   "execution_count": 219,
   "metadata": {},
   "outputs": [],
   "source": [
    "from mdutils.mdutils import MdUtils"
   ]
  },
  {
   "cell_type": "code",
   "execution_count": 220,
   "metadata": {},
   "outputs": [],
   "source": [
    "mdFile = MdUtils(file_name='Results',title='Results')\n",
    "\n",
    "\n",
    "\n"
   ]
  },
  {
   "cell_type": "code",
   "execution_count": 221,
   "metadata": {},
   "outputs": [],
   "source": [
    "mdFile.new_header(level=1, title=\"Questions we're answering\")\n",
    "\n",
    "items = ['What are important features in explaining variance in deforestation?', \n",
    "         'How do the features change across the time interval 2004-2016?', \n",
    "         'How much information leakage occurrs if spatial dependence is not considered?', \n",
    "         'Do important feature vary accross the region?']\n",
    "\n",
    "mdFile.new_list(items=items)"
   ]
  },
  {
   "cell_type": "code",
   "execution_count": 222,
   "metadata": {},
   "outputs": [
    {
     "data": {
      "text/plain": [
       "\"\\n# Questions we're answering\\n\\n- What are important features in explaining variance in deforestation?\\n- How do the features change across the time interval 2004-2016?\\n- How much information leakage occurrs if spatial dependence is not considered?\\n- Do important feature vary accross the region?\\n\\n# Test Train Split\\n\\n\\nData split 70/30 between Train and Test data sets by municipality where municipalities are selected at random. Splitting by municipality is done to account for the spatial dependence of the data.  \\n![Test/Train split plot](FeatureImportanceResults/2004_2005_2006_PREDICT_2007/EntirePlot.png)  \\nNote that I use this same split for each panel of the sliding window and for each method within each panel.\""
      ]
     },
     "execution_count": 222,
     "metadata": {},
     "output_type": "execute_result"
    }
   ],
   "source": [
    "mdFile.new_header(level=1, title='Test Train Split')\n",
    "\n",
    "mdFile.new_paragraph(\"Data split 70/30 between Train and Test data sets by municipality where municipalities are selected at random. \" + \n",
    "                \"Splitting by municipality is done to account for the spatial dependence of the data.\")\n",
    "\n",
    "mdFile.new_line(mdFile.new_inline_image(text='Test/Train split plot', path='FeatureImportanceResults/2004_2005_2006_PREDICT_2007/EntirePlot.png'))\n",
    "\n",
    "mdFile.new_line(\"Note that I use this same split for each panel of the sliding window and for each method within each panel.\")"
   ]
  },
  {
   "cell_type": "code",
   "execution_count": 223,
   "metadata": {},
   "outputs": [
    {
     "data": {
      "text/plain": [
       "'\\n## Models Fit\\n'"
      ]
     },
     "execution_count": 223,
     "metadata": {},
     "output_type": "execute_result"
    }
   ],
   "source": [
    "mdFile.new_header(level=1, title='Procedure')\n",
    "\n",
    "\n",
    "mdFile.new_header(level=2, title='Models Fit')\n"
   ]
  },
  {
   "cell_type": "code",
   "execution_count": 224,
   "metadata": {},
   "outputs": [
    {
     "data": {
      "text/plain": [
       "\"\\n# Questions we're answering\\n\\n- What are important features in explaining variance in deforestation?\\n- How do the features change across the time interval 2004-2016?\\n- How much information leakage occurrs if spatial dependence is not considered?\\n- Do important feature vary accross the region?\\n\\n# Test Train Split\\n\\n\\nData split 70/30 between Train and Test data sets by municipality where municipalities are selected at random. Splitting by municipality is done to account for the spatial dependence of the data.  \\n![Test/Train split plot](FeatureImportanceResults/2004_2005_2006_PREDICT_2007/EntirePlot.png)  \\nNote that I use this same split for each panel of the sliding window and for each method within each panel.\\n# Procedure\\n\\n## Models Fit\\n\\n# Sliding Window Subsets\\n  \\nI use 3 years of data to predict the  following year's **deforest_diff** variable.\""
      ]
     },
     "execution_count": 224,
     "metadata": {},
     "output_type": "execute_result"
    }
   ],
   "source": [
    "mdFile.new_header(level=1, title='Sliding Window Subsets')\n",
    "mdFile.new_line(\"I use 3 years of data to predict the  following year's **deforest_diff** variable.\")"
   ]
  },
  {
   "cell_type": "code",
   "execution_count": 225,
   "metadata": {},
   "outputs": [
    {
     "data": {
      "text/plain": [
       "\"\\n# Questions we're answering\\n\\n- What are important features in explaining variance in deforestation?\\n- How do the features change across the time interval 2004-2016?\\n- How much information leakage occurrs if spatial dependence is not considered?\\n- Do important feature vary accross the region?\\n\\n# Test Train Split\\n\\n\\nData split 70/30 between Train and Test data sets by municipality where municipalities are selected at random. Splitting by municipality is done to account for the spatial dependence of the data.  \\n![Test/Train split plot](FeatureImportanceResults/2004_2005_2006_PREDICT_2007/EntirePlot.png)  \\nNote that I use this same split for each panel of the sliding window and for each method within each panel.\\n# Procedure\\n\\n## Models Fit\\n\\n# Sliding Window Subsets\\n  \\nI use 3 years of data to predict the  following year's **deforest_diff** variable.\\n# Feature Importance\\n  \\nFeature importance scores for each method are normalized to sum to 1 here to understand their relative differences. Absolute vals are taken when necessary since some methods return signed feature importance and some don't.\""
      ]
     },
     "execution_count": 225,
     "metadata": {},
     "output_type": "execute_result"
    }
   ],
   "source": [
    "mdFile.new_header(level=1, title='Feature Importance')\n",
    "\n",
    "mdFile.new_line(\"Feature importance scores for each method are normalized to sum to 1 here to understand their relative differences. Absolute vals are taken when necessary since some methods return signed feature importance and some don't.\")\n",
    "\n",
    "\n",
    "\n"
   ]
  },
  {
   "cell_type": "code",
   "execution_count": 226,
   "metadata": {},
   "outputs": [],
   "source": [
    "for i, this_start_year in enumerate([2004, 2005, 2006, 2007, 2008, 2009, 2010, 2011, 2012, 2013]):\n",
    "\tSTART_YEAR_TRAIN = this_start_year\n",
    "\tNUMBER_YEARS_TRAIN = 3\n",
    "\tYEARS_TO_TRAIN = [START_YEAR_TRAIN + i  for i in range(NUMBER_YEARS_TRAIN + 1)]\n",
    "\tPREDICT_YEAR = START_YEAR_TRAIN + NUMBER_YEARS_TRAIN\n",
    "\tFOLDER_NAME = ''.join([f'{START_YEAR_TRAIN + i}_' for i in list(range(NUMBER_YEARS_TRAIN))]) + f'PREDICT_{PREDICT_YEAR}'\n",
    "\tmdFile.new_line(mdFile.new_inline_image(text='', path=f'FeatureImportanceResults/{FOLDER_NAME}/FeatureImportance/features_all.png'))\n",
    "\n",
    "        \n",
    "mdFile.new_header(level=2, title='Feature Importance without the **forest** variables.')\n",
    "mdFile.new_line(\"'''forest_lag''' and '''forest_formation''' are both directly proportional to the response variable forest_diff, so it was expected that they would dominate the important features consistently.\")\n",
    "mdFile.new_line('I repeat the above plots but exclude forest vars so others are visible.')\n",
    "\n",
    "for this_start_year in [2004, 2005, 2006, 2007, 2008, 2009, 2010, 2011, 2012, 2013]:\n",
    "\tSTART_YEAR_TRAIN = this_start_year\n",
    "\tNUMBER_YEARS_TRAIN = 3\n",
    "\tYEARS_TO_TRAIN = [START_YEAR_TRAIN + i  for i in range(NUMBER_YEARS_TRAIN + 1)]\n",
    "\tPREDICT_YEAR = START_YEAR_TRAIN + NUMBER_YEARS_TRAIN\n",
    "\tFOLDER_NAME = ''.join([f'{START_YEAR_TRAIN + i}_' for i in list(range(NUMBER_YEARS_TRAIN))]) + f'PREDICT_{PREDICT_YEAR}'\n",
    "\tmdFile.new_line(mdFile.new_inline_image(text='', path=f'FeatureImportanceResults/{FOLDER_NAME}/FeatureImportance/features_all_forest_exclude.png'))\n",
    "\t"
   ]
  },
  {
   "cell_type": "code",
   "execution_count": 227,
   "metadata": {},
   "outputs": [],
   "source": [
    "mdFile.new_header(level=1, title='Predicted Deforestation')\n",
    "\n",
    "\n",
    "for this_start_year in [2004, 2005, 2006, 2007, 2008, 2009, 2010, 2011, 2012, 2013]:\n",
    "\tSTART_YEAR_TRAIN = this_start_year\n",
    "\tNUMBER_YEARS_TRAIN = 3\n",
    "\tYEARS_TO_TRAIN = [START_YEAR_TRAIN + i  for i in range(NUMBER_YEARS_TRAIN + 1)]\n",
    "\tPREDICT_YEAR = START_YEAR_TRAIN + NUMBER_YEARS_TRAIN\n",
    "\tFOLDER_NAME = ''.join([f'{START_YEAR_TRAIN + i}_' for i in list(range(NUMBER_YEARS_TRAIN))]) + f'PREDICT_{PREDICT_YEAR}'\n",
    "\tmdFile.new_line(mdFile.new_inline_image(text='', path=f'FeatureImportanceResults/{FOLDER_NAME}/DeforestPlot_all.png'))\n"
   ]
  },
  {
   "cell_type": "code",
   "execution_count": 228,
   "metadata": {},
   "outputs": [
    {
     "data": {
      "text/plain": [
       "\"\\n# Questions we're answering\\n\\n- What are important features in explaining variance in deforestation?\\n- How do the features change across the time interval 2004-2016?\\n- How much information leakage occurrs if spatial dependence is not considered?\\n- Do important feature vary accross the region?\\n\\n# Test Train Split\\n\\n\\nData split 70/30 between Train and Test data sets by municipality where municipalities are selected at random. Splitting by municipality is done to account for the spatial dependence of the data.  \\n![Test/Train split plot](FeatureImportanceResults/2004_2005_2006_PREDICT_2007/EntirePlot.png)  \\nNote that I use this same split for each panel of the sliding window and for each method within each panel.\\n# Procedure\\n\\n## Models Fit\\n\\n# Sliding Window Subsets\\n  \\nI use 3 years of data to predict the  following year's **deforest_diff** variable.\\n# Feature Importance\\n  \\nFeature importance scores for each method are normalized to sum to 1 here to understand their relative differences. Absolute vals are taken when necessary since some methods return signed feature importance and some don't.  \\n![](FeatureImportanceResults/2004_2005_2006_PREDICT_2007/FeatureImportance/features_all.png)  \\n![](FeatureImportanceResults/2005_2006_2007_PREDICT_2008/FeatureImportance/features_all.png)  \\n![](FeatureImportanceResults/2006_2007_2008_PREDICT_2009/FeatureImportance/features_all.png)  \\n![](FeatureImportanceResults/2007_2008_2009_PREDICT_2010/FeatureImportance/features_all.png)  \\n![](FeatureImportanceResults/2008_2009_2010_PREDICT_2011/FeatureImportance/features_all.png)  \\n![](FeatureImportanceResults/2009_2010_2011_PREDICT_2012/FeatureImportance/features_all.png)  \\n![](FeatureImportanceResults/2010_2011_2012_PREDICT_2013/FeatureImportance/features_all.png)  \\n![](FeatureImportanceResults/2011_2012_2013_PREDICT_2014/FeatureImportance/features_all.png)  \\n![](FeatureImportanceResults/2012_2013_2014_PREDICT_2015/FeatureImportance/features_all.png)  \\n![](FeatureImportanceResults/2013_2014_2015_PREDICT_2016/FeatureImportance/features_all.png)\\n## Feature Importance without the **forest** variables.\\n  \\n'''forest_lag''' and '''forest_formation''' are both directly proportional to the response variable forest_diff, so it was expected that they would dominate the important features consistently.  \\nI repeat the above plots but exclude forest vars so others are visible.  \\n![](FeatureImportanceResults/2004_2005_2006_PREDICT_2007/FeatureImportance/features_all_forest_exclude.png)  \\n![](FeatureImportanceResults/2005_2006_2007_PREDICT_2008/FeatureImportance/features_all_forest_exclude.png)  \\n![](FeatureImportanceResults/2006_2007_2008_PREDICT_2009/FeatureImportance/features_all_forest_exclude.png)  \\n![](FeatureImportanceResults/2007_2008_2009_PREDICT_2010/FeatureImportance/features_all_forest_exclude.png)  \\n![](FeatureImportanceResults/2008_2009_2010_PREDICT_2011/FeatureImportance/features_all_forest_exclude.png)  \\n![](FeatureImportanceResults/2009_2010_2011_PREDICT_2012/FeatureImportance/features_all_forest_exclude.png)  \\n![](FeatureImportanceResults/2010_2011_2012_PREDICT_2013/FeatureImportance/features_all_forest_exclude.png)  \\n![](FeatureImportanceResults/2011_2012_2013_PREDICT_2014/FeatureImportance/features_all_forest_exclude.png)  \\n![](FeatureImportanceResults/2012_2013_2014_PREDICT_2015/FeatureImportance/features_all_forest_exclude.png)  \\n![](FeatureImportanceResults/2013_2014_2015_PREDICT_2016/FeatureImportance/features_all_forest_exclude.png)\\n# Predicted Deforestation\\n  \\n![](FeatureImportanceResults/2004_2005_2006_PREDICT_2007/DeforestPlot_all.png)  \\n![](FeatureImportanceResults/2005_2006_2007_PREDICT_2008/DeforestPlot_all.png)  \\n![](FeatureImportanceResults/2006_2007_2008_PREDICT_2009/DeforestPlot_all.png)  \\n![](FeatureImportanceResults/2007_2008_2009_PREDICT_2010/DeforestPlot_all.png)  \\n![](FeatureImportanceResults/2008_2009_2010_PREDICT_2011/DeforestPlot_all.png)  \\n![](FeatureImportanceResults/2009_2010_2011_PREDICT_2012/DeforestPlot_all.png)  \\n![](FeatureImportanceResults/2010_2011_2012_PREDICT_2013/DeforestPlot_all.png)  \\n![](FeatureImportanceResults/2011_2012_2013_PREDICT_2014/DeforestPlot_all.png)  \\n![](FeatureImportanceResults/2012_2013_2014_PREDICT_2015/DeforestPlot_all.png)  \\n![](FeatureImportanceResults/2013_2014_2015_PREDICT_2016/DeforestPlot_all.png)\\n# Feature Importance Changing in Time\\n  \\n![Average of all methods](FeatureImportanceResults/Evolution/evolution_exclude_forest_avg.png)  \\n![Random Forest](FeatureImportanceResults/Evolution/evolution_exclude_forest_randomforest.png)  \\n![Lasso](FeatureImportanceResults/Evolution/evolution_exclude_forest_lasso.png)  \\n![Gradient Boosting](FeatureImportanceResults/Evolution/evolution_exclude_forest_gradientboosting.png)  \\n![Neural Network](FeatureImportanceResults/Evolution/evolution_exclude_forest_neuralnetwork.png)  \\n![Superlearner](FeatureImportanceResults/Evolution/evolution_exclude_forest_superlearner.png)\""
      ]
     },
     "execution_count": 228,
     "metadata": {},
     "output_type": "execute_result"
    }
   ],
   "source": [
    "mdFile.new_header(level=1, title='Feature Importance Changing in Time')\n",
    "\n",
    "mdFile.new_line(mdFile.new_inline_image(text='Average of all methods', path='FeatureImportanceResults/Evolution/evolution_exclude_forest_avg.png'))\n",
    "mdFile.new_line(mdFile.new_inline_image(text='Random Forest', path='FeatureImportanceResults/Evolution/evolution_exclude_forest_randomforest.png'))\n",
    "mdFile.new_line(mdFile.new_inline_image(text='Lasso', path='FeatureImportanceResults/Evolution/evolution_exclude_forest_lasso.png'))\n",
    "mdFile.new_line(mdFile.new_inline_image(text='Gradient Boosting', path='FeatureImportanceResults/Evolution/evolution_exclude_forest_gradientboosting.png'))\n",
    "mdFile.new_line(mdFile.new_inline_image(text='Neural Network', path='FeatureImportanceResults/Evolution/evolution_exclude_forest_neuralnetwork.png'))\n",
    "mdFile.new_line(mdFile.new_inline_image(text='Superlearner', path='FeatureImportanceResults/Evolution/evolution_exclude_forest_superlearner.png'))"
   ]
  },
  {
   "cell_type": "code",
   "execution_count": null,
   "metadata": {},
   "outputs": [],
   "source": [
    "mdFile.new_header(level=1, title=\"Remaining Questions\")\n",
    "\n",
    "items = ['Should I keep the deforest variables in? ', \n",
    "         'Should I run again with random cross validation and see if the mse changes?', \n",
    "         'Should I do the same analysis with a sliding window to see if important features change over the area?', \n",
    "         'Should I exclude year?']\n",
    "\n",
    "mdFile.new_list(items=items)"
   ]
  },
  {
   "cell_type": "code",
   "execution_count": null,
   "metadata": {},
   "outputs": [],
   "source": []
  },
  {
   "cell_type": "code",
   "execution_count": 229,
   "metadata": {},
   "outputs": [
    {
     "data": {
      "text/plain": [
       "\"\\n# Questions we're answering\\n\\n- What are important features in explaining variance in deforestation?\\n- How do the features change across the time interval 2004-2016?\\n- How much information leakage occurrs if spatial dependence is not considered?\\n- Do important feature vary accross the region?\\n\\n# Test Train Split\\n\\n\\nData split 70/30 between Train and Test data sets by municipality where municipalities are selected at random. Splitting by municipality is done to account for the spatial dependence of the data.  \\n![Test/Train split plot](FeatureImportanceResults/2004_2005_2006_PREDICT_2007/EntirePlot.png)  \\nNote that I use this same split for each panel of the sliding window and for each method within each panel.\\n# Procedure\\n\\n## Models Fit\\n\\n# Sliding Window Subsets\\n  \\nI use 3 years of data to predict the  following year's **deforest_diff** variable.\\n# Feature Importance\\n  \\nFeature importance scores for each method are normalized to sum to 1 here to understand their relative differences. Absolute vals are taken when necessary since some methods return signed feature importance and some don't.  \\n![](FeatureImportanceResults/2004_2005_2006_PREDICT_2007/FeatureImportance/features_all.png)  \\n![](FeatureImportanceResults/2005_2006_2007_PREDICT_2008/FeatureImportance/features_all.png)  \\n![](FeatureImportanceResults/2006_2007_2008_PREDICT_2009/FeatureImportance/features_all.png)  \\n![](FeatureImportanceResults/2007_2008_2009_PREDICT_2010/FeatureImportance/features_all.png)  \\n![](FeatureImportanceResults/2008_2009_2010_PREDICT_2011/FeatureImportance/features_all.png)  \\n![](FeatureImportanceResults/2009_2010_2011_PREDICT_2012/FeatureImportance/features_all.png)  \\n![](FeatureImportanceResults/2010_2011_2012_PREDICT_2013/FeatureImportance/features_all.png)  \\n![](FeatureImportanceResults/2011_2012_2013_PREDICT_2014/FeatureImportance/features_all.png)  \\n![](FeatureImportanceResults/2012_2013_2014_PREDICT_2015/FeatureImportance/features_all.png)  \\n![](FeatureImportanceResults/2013_2014_2015_PREDICT_2016/FeatureImportance/features_all.png)\\n## Feature Importance without the **forest** variables.\\n  \\n'''forest_lag''' and '''forest_formation''' are both directly proportional to the response variable forest_diff, so it was expected that they would dominate the important features consistently.  \\nI repeat the above plots but exclude forest vars so others are visible.  \\n![](FeatureImportanceResults/2004_2005_2006_PREDICT_2007/FeatureImportance/features_all_forest_exclude.png)  \\n![](FeatureImportanceResults/2005_2006_2007_PREDICT_2008/FeatureImportance/features_all_forest_exclude.png)  \\n![](FeatureImportanceResults/2006_2007_2008_PREDICT_2009/FeatureImportance/features_all_forest_exclude.png)  \\n![](FeatureImportanceResults/2007_2008_2009_PREDICT_2010/FeatureImportance/features_all_forest_exclude.png)  \\n![](FeatureImportanceResults/2008_2009_2010_PREDICT_2011/FeatureImportance/features_all_forest_exclude.png)  \\n![](FeatureImportanceResults/2009_2010_2011_PREDICT_2012/FeatureImportance/features_all_forest_exclude.png)  \\n![](FeatureImportanceResults/2010_2011_2012_PREDICT_2013/FeatureImportance/features_all_forest_exclude.png)  \\n![](FeatureImportanceResults/2011_2012_2013_PREDICT_2014/FeatureImportance/features_all_forest_exclude.png)  \\n![](FeatureImportanceResults/2012_2013_2014_PREDICT_2015/FeatureImportance/features_all_forest_exclude.png)  \\n![](FeatureImportanceResults/2013_2014_2015_PREDICT_2016/FeatureImportance/features_all_forest_exclude.png)\\n# Predicted Deforestation\\n  \\n![](FeatureImportanceResults/2004_2005_2006_PREDICT_2007/DeforestPlot_all.png)  \\n![](FeatureImportanceResults/2005_2006_2007_PREDICT_2008/DeforestPlot_all.png)  \\n![](FeatureImportanceResults/2006_2007_2008_PREDICT_2009/DeforestPlot_all.png)  \\n![](FeatureImportanceResults/2007_2008_2009_PREDICT_2010/DeforestPlot_all.png)  \\n![](FeatureImportanceResults/2008_2009_2010_PREDICT_2011/DeforestPlot_all.png)  \\n![](FeatureImportanceResults/2009_2010_2011_PREDICT_2012/DeforestPlot_all.png)  \\n![](FeatureImportanceResults/2010_2011_2012_PREDICT_2013/DeforestPlot_all.png)  \\n![](FeatureImportanceResults/2011_2012_2013_PREDICT_2014/DeforestPlot_all.png)  \\n![](FeatureImportanceResults/2012_2013_2014_PREDICT_2015/DeforestPlot_all.png)  \\n![](FeatureImportanceResults/2013_2014_2015_PREDICT_2016/DeforestPlot_all.png)\\n# Feature Importance Changing in Time\\n  \\n![Average of all methods](FeatureImportanceResults/Evolution/evolution_exclude_forest_avg.png)  \\n![Random Forest](FeatureImportanceResults/Evolution/evolution_exclude_forest_randomforest.png)  \\n![Lasso](FeatureImportanceResults/Evolution/evolution_exclude_forest_lasso.png)  \\n![Gradient Boosting](FeatureImportanceResults/Evolution/evolution_exclude_forest_gradientboosting.png)  \\n![Neural Network](FeatureImportanceResults/Evolution/evolution_exclude_forest_neuralnetwork.png)  \\n![Superlearner](FeatureImportanceResults/Evolution/evolution_exclude_forest_superlearner.png)\\n# Feature Importance\\n\\n## 2004_2005_2006 predict 2007 feature importances\\n  \\n![Random Forest](FeatureImportanceResults/2004_2005_2006_PREDICT_2007/FeatureImportance/features_lasso.png)  \\n![Random Forest](FeatureImportanceResults/2004_2005_2006_PREDICT_2007/FeatureImportance/features_randomforest.png)  \\n![Random Forest](FeatureImportanceResults/2004_2005_2006_PREDICT_2007/FeatureImportance/features_gradientboosting.png)  \\n![Random Forest](FeatureImportanceResults/2004_2005_2006_PREDICT_2007/FeatureImportance/features_neuralnetwork.png)  \\n![Random Forest](FeatureImportanceResults/2004_2005_2006_PREDICT_2007/FeatureImportance/features_superlearner.png)\""
      ]
     },
     "execution_count": 229,
     "metadata": {},
     "output_type": "execute_result"
    }
   ],
   "source": [
    "mdFile.new_header(level=1, title='Feature Importance')\n",
    "\n",
    "mdFile.new_header(level=2, title='2004_2005_2006 predict 2007 feature importances')\n",
    "mdFile.new_line(mdFile.new_inline_image(text='Random Forest', path='FeatureImportanceResults/2004_2005_2006_PREDICT_2007/FeatureImportance/features_lasso.png'))\n",
    "mdFile.new_line(mdFile.new_inline_image(text='Random Forest', path='FeatureImportanceResults/2004_2005_2006_PREDICT_2007/FeatureImportance/features_randomforest.png'))\n",
    "mdFile.new_line(mdFile.new_inline_image(text='Random Forest', path='FeatureImportanceResults/2004_2005_2006_PREDICT_2007/FeatureImportance/features_gradientboosting.png'))\n",
    "mdFile.new_line(mdFile.new_inline_image(text='Random Forest', path='FeatureImportanceResults/2004_2005_2006_PREDICT_2007/FeatureImportance/features_neuralnetwork.png'))\n",
    "mdFile.new_line(mdFile.new_inline_image(text='Random Forest', path='FeatureImportanceResults/2004_2005_2006_PREDICT_2007/FeatureImportance/features_superlearner.png'))\n"
   ]
  },
  {
   "cell_type": "code",
   "execution_count": 230,
   "metadata": {},
   "outputs": [
    {
     "data": {
      "text/plain": [
       "<mdutils.fileutils.fileutils.MarkDownFile at 0x10251d040>"
      ]
     },
     "execution_count": 230,
     "metadata": {},
     "output_type": "execute_result"
    }
   ],
   "source": [
    "mdFile.create_md_file()"
   ]
  }
 ],
 "metadata": {
  "kernelspec": {
   "display_name": "annieulichney-xxpO7m7Z",
   "language": "python",
   "name": "python3"
  },
  "language_info": {
   "codemirror_mode": {
    "name": "ipython",
    "version": 3
   },
   "file_extension": ".py",
   "mimetype": "text/x-python",
   "name": "python",
   "nbconvert_exporter": "python",
   "pygments_lexer": "ipython3",
   "version": "3.8.9"
  },
  "orig_nbformat": 4
 },
 "nbformat": 4,
 "nbformat_minor": 2
}
