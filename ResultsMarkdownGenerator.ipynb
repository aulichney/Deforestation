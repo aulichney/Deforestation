{
 "cells": [
  {
   "cell_type": "code",
   "execution_count": 105,
   "metadata": {},
   "outputs": [],
   "source": [
    "from mdutils.mdutils import MdUtils"
   ]
  },
  {
   "cell_type": "code",
   "execution_count": 106,
   "metadata": {},
   "outputs": [],
   "source": [
    "mdFile = MdUtils(file_name='Results',title='Results')\n",
    "\n",
    "\n",
    "\n"
   ]
  },
  {
   "cell_type": "code",
   "execution_count": 107,
   "metadata": {},
   "outputs": [
    {
     "data": {
      "text/plain": [
       "'\\n# Test Train Split\\n  \\nData split 70/30 between Train and Test data sets by municipality where municipalities are selected at random. Splitting by municipality is done to account for the spatial dependence of the data.  \\n![Test/Train split plot](FeatureImportanceResults/2004_2005_2006_PREDICT_2007/EntirePlot.png)  \\nNote that I use this same split for each panel of the sliding window and for each method within each panel.'"
      ]
     },
     "execution_count": 107,
     "metadata": {},
     "output_type": "execute_result"
    }
   ],
   "source": [
    "mdFile.new_header(level=1, title='Test Train Split')\n",
    "\n",
    "mdFile.new_line(\"Data split 70/30 between Train and Test data sets by municipality where municipalities are selected at random. \" + \n",
    "                \"Splitting by municipality is done to account for the spatial dependence of the data.\")\n",
    "\n",
    "mdFile.new_line(mdFile.new_inline_image(text='Test/Train split plot', path='FeatureImportanceResults/2004_2005_2006_PREDICT_2007/EntirePlot.png'))\n",
    "\n",
    "mdFile.new_line(\"Note that I use this same split for each panel of the sliding window and for each method within each panel.\")"
   ]
  },
  {
   "cell_type": "code",
   "execution_count": null,
   "metadata": {},
   "outputs": [],
   "source": []
  },
  {
   "cell_type": "code",
   "execution_count": 108,
   "metadata": {},
   "outputs": [
    {
     "data": {
      "text/plain": [
       "'\\n# Test Train Split\\n  \\nData split 70/30 between Train and Test data sets by municipality where municipalities are selected at random. Splitting by municipality is done to account for the spatial dependence of the data.  \\n![Test/Train split plot](FeatureImportanceResults/2004_2005_2006_PREDICT_2007/EntirePlot.png)  \\nNote that I use this same split for each panel of the sliding window and for each method within each panel.\\n# Sliding Window Subsets\\n  \\nI use 3 years of features as the '"
      ]
     },
     "execution_count": 108,
     "metadata": {},
     "output_type": "execute_result"
    }
   ],
   "source": [
    "mdFile.new_header(level=1, title='Sliding Window Subsets')\n",
    "mdFile.new_line(\"I use 3 years of features as the \")"
   ]
  },
  {
   "cell_type": "code",
   "execution_count": 109,
   "metadata": {},
   "outputs": [
    {
     "data": {
      "text/plain": [
       "'\\n# Test Train Split\\n  \\nData split 70/30 between Train and Test data sets by municipality where municipalities are selected at random. Splitting by municipality is done to account for the spatial dependence of the data.  \\n![Test/Train split plot](FeatureImportanceResults/2004_2005_2006_PREDICT_2007/EntirePlot.png)  \\nNote that I use this same split for each panel of the sliding window and for each method within each panel.\\n# Sliding Window Subsets\\n  \\nI use 3 years of features as the \\n# Feature Importance\\n  \\nFeature importance scores for each method are '"
      ]
     },
     "execution_count": 109,
     "metadata": {},
     "output_type": "execute_result"
    }
   ],
   "source": [
    "mdFile.new_header(level=1, title='Feature Importance')\n",
    "\n",
    "mdFile.new_line(\"Feature importance scores for each method are \")\n",
    "\n"
   ]
  },
  {
   "cell_type": "code",
   "execution_count": 119,
   "metadata": {},
   "outputs": [],
   "source": [
    "#include: \n",
    "\n",
    "#"
   ]
  },
  {
   "cell_type": "code",
   "execution_count": 111,
   "metadata": {},
   "outputs": [],
   "source": [
    "# mdFile.new_line()\n",
    "# for i in range(1, 6):\n",
    "#     mdFile.write('<img src=\"FeatureImportanceResults/2004_2005_2006_PREDICT_2007/FeatureImportance/features_gradientboosting.png\" alt=\"Photo {}\" width=\"200\" />'.format(i, i))\n",
    "\n",
    "for i, this_start_year in enumerate([2004, 2005, 2006, 2007, 2008]):\n",
    "\tSTART_YEAR_TRAIN = this_start_year\n",
    "\tNUMBER_YEARS_TRAIN = 3\n",
    "\tYEARS_TO_TRAIN = [START_YEAR_TRAIN + i  for i in range(NUMBER_YEARS_TRAIN + 1)]\n",
    "\tPREDICT_YEAR = START_YEAR_TRAIN + NUMBER_YEARS_TRAIN\n",
    "\tFOLDER_NAME = ''.join([f'{START_YEAR_TRAIN + i}_' for i in list(range(NUMBER_YEARS_TRAIN))]) + f'PREDICT_{PREDICT_YEAR}'\n",
    "\tmdFile.new_line(mdFile.new_inline_image(text='', path=f'FeatureImportanceResults/{FOLDER_NAME}/FeatureImportance/features_all.png'))\n",
    "    #mdFile.write(f'<img src=\"FeatureImportanceResults/{FOLDER_NAME}/FeatureImportance/features_all.png\" alt=\"Photo {this_start_year}\" width=\"200\" />'.format(i, i))\n",
    "\n",
    "        "
   ]
  },
  {
   "cell_type": "code",
   "execution_count": 112,
   "metadata": {},
   "outputs": [],
   "source": [
    "mdFile.new_header(level=1, title='Predicted Deforestation')\n",
    "\n",
    "#mdFile.new_line(mdFile.new_inline_image(text='', path='FeatureImportanceResults/2004_2005_2006_PREDICT_2007/DeforestPlot_all.png'))\n",
    "\n",
    "for this_start_year in [2004, 2005, 2006, 2007, 2008, 2009, 2010, 2011, 2012, 2013]:\n",
    "\tSTART_YEAR_TRAIN = this_start_year\n",
    "\tNUMBER_YEARS_TRAIN = 3\n",
    "\tYEARS_TO_TRAIN = [START_YEAR_TRAIN + i  for i in range(NUMBER_YEARS_TRAIN + 1)]\n",
    "\tPREDICT_YEAR = START_YEAR_TRAIN + NUMBER_YEARS_TRAIN\n",
    "\tFOLDER_NAME = ''.join([f'{START_YEAR_TRAIN + i}_' for i in list(range(NUMBER_YEARS_TRAIN))]) + f'PREDICT_{PREDICT_YEAR}'\n",
    "\tmdFile.new_line(mdFile.new_inline_image(text='', path=f'FeatureImportanceResults/{FOLDER_NAME}/DeforestPlot_all.png'))\n"
   ]
  },
  {
   "cell_type": "code",
   "execution_count": null,
   "metadata": {},
   "outputs": [],
   "source": [
    "\n",
    "\t"
   ]
  },
  {
   "cell_type": "code",
   "execution_count": 113,
   "metadata": {},
   "outputs": [],
   "source": [
    "\n",
    "# list_of_strings = [\"year\", \"  randomforest  \", \"     lasso      \", \"gradientboosting\", \"       nn       \", \"  superlearner  \"]\n",
    "# table_list = []\n",
    "# table_list.extend(list_of_strings)\n",
    "\n",
    "# for this_start_year in [2004, 2005, 2006, 2007, 2008]:\n",
    "# \tSTART_YEAR_TRAIN = this_start_year\n",
    "# \tNUMBER_YEARS_TRAIN = 3\n",
    "# \tYEARS_TO_TRAIN = [START_YEAR_TRAIN + i  for i in range(NUMBER_YEARS_TRAIN + 1)]\n",
    "# \tPREDICT_YEAR = START_YEAR_TRAIN + NUMBER_YEARS_TRAIN\n",
    "# \tFOLDER_NAME = ''.join([f'{START_YEAR_TRAIN + i}_' for i in list(range(NUMBER_YEARS_TRAIN))]) + f'PREDICT_{PREDICT_YEAR}'\n",
    "\t\n",
    "# \tlist_of_paths = [FOLDER_NAME]\n",
    "# \tlist_of_paths += [f'![Image](FeatureImportanceResults/{FOLDER_NAME}/DeforestPlot_{method.strip()}.png)' for method in list_of_strings[1:]]\n",
    "# \ttable_list.extend(list_of_paths)\n",
    "\n",
    "\n",
    "\n",
    "# mdFile.new_line()\n",
    "# mdFile.new_table(columns=len(list_of_strings), rows=int(len(table_list)/len(list_of_strings)), text=table_list, text_align='center')"
   ]
  },
  {
   "cell_type": "code",
   "execution_count": null,
   "metadata": {},
   "outputs": [],
   "source": []
  },
  {
   "cell_type": "code",
   "execution_count": 114,
   "metadata": {},
   "outputs": [
    {
     "data": {
      "text/plain": [
       "['year',\n",
       " '  randomforest  ',\n",
       " '     lasso      ',\n",
       " 'gradientboosting',\n",
       " '       nn       ',\n",
       " '  superlearner  ',\n",
       " '2004_2005_2006_PREDICT_2007',\n",
       " '![Image](FeatureImportanceResults/2004_2005_2006_PREDICT_2007/DeforestPlot_randomforest.png)',\n",
       " '![Image](FeatureImportanceResults/2004_2005_2006_PREDICT_2007/DeforestPlot_lasso.png)',\n",
       " '![Image](FeatureImportanceResults/2004_2005_2006_PREDICT_2007/DeforestPlot_gradientboosting.png)',\n",
       " '![Image](FeatureImportanceResults/2004_2005_2006_PREDICT_2007/DeforestPlot_nn.png)',\n",
       " '![Image](FeatureImportanceResults/2004_2005_2006_PREDICT_2007/DeforestPlot_superlearner.png)',\n",
       " '2005_2006_2007_PREDICT_2008',\n",
       " '![Image](FeatureImportanceResults/2005_2006_2007_PREDICT_2008/DeforestPlot_randomforest.png)',\n",
       " '![Image](FeatureImportanceResults/2005_2006_2007_PREDICT_2008/DeforestPlot_lasso.png)',\n",
       " '![Image](FeatureImportanceResults/2005_2006_2007_PREDICT_2008/DeforestPlot_gradientboosting.png)',\n",
       " '![Image](FeatureImportanceResults/2005_2006_2007_PREDICT_2008/DeforestPlot_nn.png)',\n",
       " '![Image](FeatureImportanceResults/2005_2006_2007_PREDICT_2008/DeforestPlot_superlearner.png)',\n",
       " '2006_2007_2008_PREDICT_2009',\n",
       " '![Image](FeatureImportanceResults/2006_2007_2008_PREDICT_2009/DeforestPlot_randomforest.png)',\n",
       " '![Image](FeatureImportanceResults/2006_2007_2008_PREDICT_2009/DeforestPlot_lasso.png)',\n",
       " '![Image](FeatureImportanceResults/2006_2007_2008_PREDICT_2009/DeforestPlot_gradientboosting.png)',\n",
       " '![Image](FeatureImportanceResults/2006_2007_2008_PREDICT_2009/DeforestPlot_nn.png)',\n",
       " '![Image](FeatureImportanceResults/2006_2007_2008_PREDICT_2009/DeforestPlot_superlearner.png)',\n",
       " '2007_2008_2009_PREDICT_2010',\n",
       " '![Image](FeatureImportanceResults/2007_2008_2009_PREDICT_2010/DeforestPlot_randomforest.png)',\n",
       " '![Image](FeatureImportanceResults/2007_2008_2009_PREDICT_2010/DeforestPlot_lasso.png)',\n",
       " '![Image](FeatureImportanceResults/2007_2008_2009_PREDICT_2010/DeforestPlot_gradientboosting.png)',\n",
       " '![Image](FeatureImportanceResults/2007_2008_2009_PREDICT_2010/DeforestPlot_nn.png)',\n",
       " '![Image](FeatureImportanceResults/2007_2008_2009_PREDICT_2010/DeforestPlot_superlearner.png)',\n",
       " '2008_2009_2010_PREDICT_2011',\n",
       " '![Image](FeatureImportanceResults/2008_2009_2010_PREDICT_2011/DeforestPlot_randomforest.png)',\n",
       " '![Image](FeatureImportanceResults/2008_2009_2010_PREDICT_2011/DeforestPlot_lasso.png)',\n",
       " '![Image](FeatureImportanceResults/2008_2009_2010_PREDICT_2011/DeforestPlot_gradientboosting.png)',\n",
       " '![Image](FeatureImportanceResults/2008_2009_2010_PREDICT_2011/DeforestPlot_nn.png)',\n",
       " '![Image](FeatureImportanceResults/2008_2009_2010_PREDICT_2011/DeforestPlot_superlearner.png)']"
      ]
     },
     "execution_count": 114,
     "metadata": {},
     "output_type": "execute_result"
    }
   ],
   "source": [
    "table_list"
   ]
  },
  {
   "cell_type": "code",
   "execution_count": null,
   "metadata": {},
   "outputs": [],
   "source": []
  },
  {
   "cell_type": "code",
   "execution_count": 115,
   "metadata": {},
   "outputs": [
    {
     "data": {
      "text/plain": [
       "'\\n# Test Train Split\\n  \\nData split 70/30 between Train and Test data sets by municipality where municipalities are selected at random. Splitting by municipality is done to account for the spatial dependence of the data.  \\n![Test/Train split plot](FeatureImportanceResults/2004_2005_2006_PREDICT_2007/EntirePlot.png)  \\nNote that I use this same split for each panel of the sliding window and for each method within each panel.\\n# Sliding Window Subsets\\n  \\nI use 3 years of features as the \\n# Feature Importance\\n  \\nFeature importance scores for each method are   \\n<img src=\"FeatureImportanceResults/2004_2005_2006_PREDICT_2007/FeatureImportance/features_gradientboosting.png\" alt=\"Photo 1\" width=\"200\" /><img src=\"FeatureImportanceResults/2004_2005_2006_PREDICT_2007/FeatureImportance/features_gradientboosting.png\" alt=\"Photo 2\" width=\"200\" /><img src=\"FeatureImportanceResults/2004_2005_2006_PREDICT_2007/FeatureImportance/features_gradientboosting.png\" alt=\"Photo 3\" width=\"200\" /><img src=\"FeatureImportanceResults/2004_2005_2006_PREDICT_2007/FeatureImportance/features_gradientboosting.png\" alt=\"Photo 4\" width=\"200\" /><img src=\"FeatureImportanceResults/2004_2005_2006_PREDICT_2007/FeatureImportance/features_gradientboosting.png\" alt=\"Photo 5\" width=\"200\" />\\n# Predicted Deforestation\\n  \\n![](FeatureImportanceResults/2004_2005_2006_PREDICT_2007/DeforestPlot_all.png)  \\n![](FeatureImportanceResults/2005_2006_2007_PREDICT_2008/DeforestPlot_all.png)  \\n![](FeatureImportanceResults/2006_2007_2008_PREDICT_2009/DeforestPlot_all.png)  \\n![](FeatureImportanceResults/2007_2008_2009_PREDICT_2010/DeforestPlot_all.png)  \\n![](FeatureImportanceResults/2008_2009_2010_PREDICT_2011/DeforestPlot_all.png)\\n# Feature Importance\\n\\n## 2004_2005_2006 predict 2007 feature importances\\n  \\n![Random Forest](FeatureImportanceResults/2004_2005_2006_PREDICT_2007/FeatureImportance/features_lasso.png)  \\n![Random Forest](FeatureImportanceResults/2004_2005_2006_PREDICT_2007/FeatureImportance/features_randomforest.png)  \\n![Random Forest](FeatureImportanceResults/2004_2005_2006_PREDICT_2007/FeatureImportance/features_gradientboosting.png)  \\n![Random Forest](FeatureImportanceResults/2004_2005_2006_PREDICT_2007/FeatureImportance/features_neuralnetwork.png)  \\n![Random Forest](FeatureImportanceResults/2004_2005_2006_PREDICT_2007/FeatureImportance/features_superlearner.png)'"
      ]
     },
     "execution_count": 115,
     "metadata": {},
     "output_type": "execute_result"
    }
   ],
   "source": [
    "mdFile.new_header(level=1, title='Feature Importance')\n",
    "\n",
    "mdFile.new_header(level=2, title='2004_2005_2006 predict 2007 feature importances')\n",
    "\n",
    "mdFile.new_line(mdFile.new_inline_image(text='Random Forest', path='FeatureImportanceResults/2004_2005_2006_PREDICT_2007/FeatureImportance/features_lasso.png'))\n",
    "mdFile.new_line(mdFile.new_inline_image(text='Random Forest', path='FeatureImportanceResults/2004_2005_2006_PREDICT_2007/FeatureImportance/features_randomforest.png'))\n",
    "mdFile.new_line(mdFile.new_inline_image(text='Random Forest', path='FeatureImportanceResults/2004_2005_2006_PREDICT_2007/FeatureImportance/features_gradientboosting.png'))\n",
    "mdFile.new_line(mdFile.new_inline_image(text='Random Forest', path='FeatureImportanceResults/2004_2005_2006_PREDICT_2007/FeatureImportance/features_neuralnetwork.png'))\n",
    "mdFile.new_line(mdFile.new_inline_image(text='Random Forest', path='FeatureImportanceResults/2004_2005_2006_PREDICT_2007/FeatureImportance/features_superlearner.png'))\n"
   ]
  },
  {
   "cell_type": "code",
   "execution_count": 116,
   "metadata": {},
   "outputs": [
    {
     "data": {
      "text/plain": [
       "<mdutils.fileutils.fileutils.MarkDownFile at 0x105a21700>"
      ]
     },
     "execution_count": 116,
     "metadata": {},
     "output_type": "execute_result"
    }
   ],
   "source": [
    "mdFile.create_md_file()"
   ]
  },
  {
   "cell_type": "code",
   "execution_count": 117,
   "metadata": {},
   "outputs": [
    {
     "data": {
      "text/plain": [
       "'\\n# Predicted Deforestation\\n'"
      ]
     },
     "execution_count": 117,
     "metadata": {},
     "output_type": "execute_result"
    }
   ],
   "source": [
    "mdFile.new_header(level=1, title='Predicted Deforestation')"
   ]
  },
  {
   "cell_type": "code",
   "execution_count": 118,
   "metadata": {},
   "outputs": [],
   "source": [
    "# todo\n",
    "# add average feature importance\n"
   ]
  }
 ],
 "metadata": {
  "kernelspec": {
   "display_name": "annieulichney-xxpO7m7Z",
   "language": "python",
   "name": "python3"
  },
  "language_info": {
   "codemirror_mode": {
    "name": "ipython",
    "version": 3
   },
   "file_extension": ".py",
   "mimetype": "text/x-python",
   "name": "python",
   "nbconvert_exporter": "python",
   "pygments_lexer": "ipython3",
   "version": "3.8.9"
  },
  "orig_nbformat": 4
 },
 "nbformat": 4,
 "nbformat_minor": 2
}
