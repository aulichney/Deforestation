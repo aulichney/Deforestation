{
 "cells": [
  {
   "cell_type": "code",
   "execution_count": 2,
   "metadata": {},
   "outputs": [],
   "source": [
    "from mdutils.mdutils import MdUtils"
   ]
  },
  {
   "cell_type": "code",
   "execution_count": 3,
   "metadata": {},
   "outputs": [],
   "source": [
    "mdFile = MdUtils(file_name='TestTrainFolds',title='TestTrainFolds')"
   ]
  },
  {
   "cell_type": "code",
   "execution_count": 4,
   "metadata": {},
   "outputs": [
    {
     "data": {
      "text/plain": [
       "'\\n# Random Fold Assignment, spatial dependence is ignored\\n  \\n![Test/Train split plot](FeatureImportanceResults/2004_2005_2006_PREDICT_2007/random_FoldPlot.png)'"
      ]
     },
     "execution_count": 4,
     "metadata": {},
     "output_type": "execute_result"
    }
   ],
   "source": [
    "mdFile.new_header(level=1, title=\"Random Fold Assignment\")\n",
    "mdFile.new_line(\"Points split at random, spatial dependence is ignored\")\n",
    "mdFile.new_line(mdFile.new_inline_image(text='Test/Train split plot', path=f'FeatureImportanceResults/2004_2005_2006_PREDICT_2007/random_FoldPlot.png'))"
   ]
  },
  {
   "cell_type": "code",
   "execution_count": 5,
   "metadata": {},
   "outputs": [
    {
     "data": {
      "text/plain": [
       "'\\n# Random Fold Assignment, spatial dependence is ignored\\n  \\n![Test/Train split plot](FeatureImportanceResults/2004_2005_2006_PREDICT_2007/random_FoldPlot.png)\\n# Municipality\\n  \\nPoints assigned to test and train sets randomly, most conservative since no municipality in train set is seen in test set.  \\n![Test/Train split plot](FeatureImportanceResults/2004_2005_2006_PREDICT_2007/municipality_FoldPlot.png)'"
      ]
     },
     "execution_count": 5,
     "metadata": {},
     "output_type": "execute_result"
    }
   ],
   "source": [
    "mdFile.new_header(level=1, title=\"Municipality\")\n",
    "mdFile.new_line(\"Entire municipalities split at random, most conservative since no municipality in train set is seen in test set.\")\n",
    "mdFile.new_line(mdFile.new_inline_image(text='Test/Train split plot', path=f'FeatureImportanceResults/2004_2005_2006_PREDICT_2007/municipality_FoldPlot.png'))"
   ]
  },
  {
   "cell_type": "code",
   "execution_count": 6,
   "metadata": {},
   "outputs": [
    {
     "data": {
      "text/plain": [
       "'\\n# Random Fold Assignment, spatial dependence is ignored\\n  \\n![Test/Train split plot](FeatureImportanceResults/2004_2005_2006_PREDICT_2007/random_FoldPlot.png)\\n# Municipality\\n  \\nPoints assigned to test and train sets randomly, most conservative since no municipality in train set is seen in test set.  \\n![Test/Train split plot](FeatureImportanceResults/2004_2005_2006_PREDICT_2007/municipality_FoldPlot.png)\\n# Spatial K Fold\\n  \\nspatial structure is preserved when assigning data points to each fold, neighboring points tend to be in the same fold so that when evaluating we test model on one fold while training on rest, ensures that the model is tested on spatially different regions  \\n![Test/Train split plot](FeatureImportanceResults/2004_2005_2006_PREDICT_2007/spatialkfold_FoldPlot.png)'"
      ]
     },
     "execution_count": 6,
     "metadata": {},
     "output_type": "execute_result"
    }
   ],
   "source": [
    "mdFile.new_header(level=1, title=\"Spatial K Fold\")\n",
    "mdFile.new_line(\"spatial structure is preserved when assigning data points to each fold, neighboring points tend to be in the same fold so that when evaluating we test model on one fold while training on rest, ensures that the model is tested on spatially different regions\")\n",
    "mdFile.new_line(mdFile.new_inline_image(text='Test/Train split plot', path=f'FeatureImportanceResults/2004_2005_2006_PREDICT_2007/spatialkfold_FoldPlot.png'))"
   ]
  },
  {
   "cell_type": "code",
   "execution_count": 7,
   "metadata": {},
   "outputs": [
    {
     "data": {
      "text/plain": [
       "\"\\n# Random Fold Assignment, spatial dependence is ignored\\n  \\n![Test/Train split plot](FeatureImportanceResults/2004_2005_2006_PREDICT_2007/random_FoldPlot.png)\\n# Municipality\\n  \\nPoints assigned to test and train sets randomly, most conservative since no municipality in train set is seen in test set.  \\n![Test/Train split plot](FeatureImportanceResults/2004_2005_2006_PREDICT_2007/municipality_FoldPlot.png)\\n# Spatial K Fold\\n  \\nspatial structure is preserved when assigning data points to each fold, neighboring points tend to be in the same fold so that when evaluating we test model on one fold while training on rest, ensures that the model is tested on spatially different regions  \\n![Test/Train split plot](FeatureImportanceResults/2004_2005_2006_PREDICT_2007/spatialkfold_FoldPlot.png)\\n# H Block\\n  \\ndivide our data into non-consecutive blocks of a fixed size, let's say h. Each block consists of a group of consecutive data points. The purpose is to capture the correlation or dependence structure within each block, ensures that the training and validation sets have neighboring data points  \\n![Test/Train split plot](FeatureImportanceResults/2004_2005_2006_PREDICT_2007/hblock_FoldPlot.png)\""
      ]
     },
     "execution_count": 7,
     "metadata": {},
     "output_type": "execute_result"
    }
   ],
   "source": [
    "mdFile.new_header(level=1, title=\"H Block\")\n",
    "mdFile.new_line(\"divide our data into non-consecutive blocks of a fixed size, let's say h. Each block consists of a group of consecutive data points. The purpose is to capture the correlation or dependence structure within each block, ensures that the training and validation sets have neighboring data points\")\n",
    "mdFile.new_line(mdFile.new_inline_image(text='Test/Train split plot', path=f'FeatureImportanceResults/2004_2005_2006_PREDICT_2007/hblock_FoldPlot.png'))"
   ]
  },
  {
   "cell_type": "code",
   "execution_count": 8,
   "metadata": {},
   "outputs": [],
   "source": [
    "mdFile.new_header(level=1, title=\"Picking between these options:\")\n",
    "items = ['Calculate MSE for each of these CV methods', \n",
    "         'Plot MSE in space for each of these CV methods']\n",
    "\n",
    "mdFile.new_list(items=items)"
   ]
  },
  {
   "cell_type": "code",
   "execution_count": 9,
   "metadata": {},
   "outputs": [
    {
     "data": {
      "text/plain": [
       "<mdutils.fileutils.fileutils.MarkDownFile at 0x1040a42b0>"
      ]
     },
     "execution_count": 9,
     "metadata": {},
     "output_type": "execute_result"
    }
   ],
   "source": [
    "\n",
    "mdFile.create_md_file()"
   ]
  }
 ],
 "metadata": {
  "kernelspec": {
   "display_name": "annieulichney-xxpO7m7Z",
   "language": "python",
   "name": "python3"
  },
  "language_info": {
   "codemirror_mode": {
    "name": "ipython",
    "version": 3
   },
   "file_extension": ".py",
   "mimetype": "text/x-python",
   "name": "python",
   "nbconvert_exporter": "python",
   "pygments_lexer": "ipython3",
   "version": "3.8.9"
  },
  "orig_nbformat": 4
 },
 "nbformat": 4,
 "nbformat_minor": 2
}
